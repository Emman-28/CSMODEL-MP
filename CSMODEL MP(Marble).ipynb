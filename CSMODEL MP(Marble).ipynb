{
  "cells": [
    {
      "cell_type": "markdown",
      "id": "de097fbe",
      "metadata": {},
      "source": [
        "# CSMODEL Machine Project (Phase 1) ☕✨\n",
        "This Jupyter Notebook was made in compliance with the requirements set by the course Statistical Modelling and Simulation (CSMODEL). \n",
        "\n",
        "This machine project was prepared by the following students from section S16:\n",
        "- Filipino, Eunice Marble R.\n",
        "- Lazaro, Heisel Janine C.\n",
        "- Punsalan, Emmanuel Gerald G.\n",
        "- Wee, Justine Erika D.\n"
      ]
    },
    {
      "cell_type": "markdown",
      "id": "7bb6eb79",
      "metadata": {},
      "source": [
        "# Import Libraries ⬇️\n",
        "\n",
        "The following libraries are imported to provide essential functionalities for data processing, analysis, and visualization throughout this project:"
      ]
    },
    {
      "cell_type": "code",
      "execution_count": 2,
      "id": "f500af11",
      "metadata": {
        "trusted": true
      },
      "outputs": [
        {
          "name": "stdout",
          "output_type": "stream",
          "text": [
            "Defaulting to user installation because normal site-packages is not writeable\n",
            "Requirement already satisfied: openpyxl in /Users/justinewee/Library/Python/3.9/lib/python/site-packages (3.1.5)\n",
            "Requirement already satisfied: et-xmlfile in /Users/justinewee/Library/Python/3.9/lib/python/site-packages (from openpyxl) (2.0.0)\n",
            "\u001b[33mWARNING: You are using pip version 21.2.4; however, version 25.1.1 is available.\n",
            "You should consider upgrading via the '/Library/Developer/CommandLineTools/usr/bin/python3 -m pip install --upgrade pip' command.\u001b[0m\n",
            "Note: you may need to restart the kernel to use updated packages.\n",
            "Defaulting to user installation because normal site-packages is not writeable\n",
            "Requirement already satisfied: seaborn in /Users/justinewee/Library/Python/3.9/lib/python/site-packages (0.13.2)\n",
            "Requirement already satisfied: numpy!=1.24.0,>=1.20 in /Users/justinewee/Library/Python/3.9/lib/python/site-packages (from seaborn) (2.0.2)\n",
            "Requirement already satisfied: pandas>=1.2 in /Users/justinewee/Library/Python/3.9/lib/python/site-packages (from seaborn) (2.2.3)\n",
            "Requirement already satisfied: matplotlib!=3.6.1,>=3.4 in /Users/justinewee/Library/Python/3.9/lib/python/site-packages (from seaborn) (3.9.4)\n",
            "Requirement already satisfied: pillow>=8 in /Users/justinewee/Library/Python/3.9/lib/python/site-packages (from matplotlib!=3.6.1,>=3.4->seaborn) (11.2.1)\n",
            "Requirement already satisfied: packaging>=20.0 in /Users/justinewee/Library/Python/3.9/lib/python/site-packages (from matplotlib!=3.6.1,>=3.4->seaborn) (25.0)\n",
            "Requirement already satisfied: python-dateutil>=2.7 in /Users/justinewee/Library/Python/3.9/lib/python/site-packages (from matplotlib!=3.6.1,>=3.4->seaborn) (2.9.0.post0)\n",
            "Requirement already satisfied: kiwisolver>=1.3.1 in /Users/justinewee/Library/Python/3.9/lib/python/site-packages (from matplotlib!=3.6.1,>=3.4->seaborn) (1.4.7)\n",
            "Requirement already satisfied: fonttools>=4.22.0 in /Users/justinewee/Library/Python/3.9/lib/python/site-packages (from matplotlib!=3.6.1,>=3.4->seaborn) (4.58.0)\n",
            "Requirement already satisfied: pyparsing>=2.3.1 in /Users/justinewee/Library/Python/3.9/lib/python/site-packages (from matplotlib!=3.6.1,>=3.4->seaborn) (3.2.3)\n",
            "Requirement already satisfied: contourpy>=1.0.1 in /Users/justinewee/Library/Python/3.9/lib/python/site-packages (from matplotlib!=3.6.1,>=3.4->seaborn) (1.3.0)\n",
            "Requirement already satisfied: importlib-resources>=3.2.0 in /Users/justinewee/Library/Python/3.9/lib/python/site-packages (from matplotlib!=3.6.1,>=3.4->seaborn) (6.5.2)\n",
            "Requirement already satisfied: cycler>=0.10 in /Users/justinewee/Library/Python/3.9/lib/python/site-packages (from matplotlib!=3.6.1,>=3.4->seaborn) (0.12.1)\n",
            "Requirement already satisfied: zipp>=3.1.0 in /Users/justinewee/Library/Python/3.9/lib/python/site-packages (from importlib-resources>=3.2.0->matplotlib!=3.6.1,>=3.4->seaborn) (3.21.0)\n",
            "Requirement already satisfied: tzdata>=2022.7 in /Users/justinewee/Library/Python/3.9/lib/python/site-packages (from pandas>=1.2->seaborn) (2025.2)\n",
            "Requirement already satisfied: pytz>=2020.1 in /Users/justinewee/Library/Python/3.9/lib/python/site-packages (from pandas>=1.2->seaborn) (2025.2)\n",
            "Requirement already satisfied: six>=1.5 in /Library/Developer/CommandLineTools/Library/Frameworks/Python3.framework/Versions/3.9/lib/python3.9/site-packages (from python-dateutil>=2.7->matplotlib!=3.6.1,>=3.4->seaborn) (1.15.0)\n",
            "\u001b[33mWARNING: You are using pip version 21.2.4; however, version 25.1.1 is available.\n",
            "You should consider upgrading via the '/Library/Developer/CommandLineTools/usr/bin/python3 -m pip install --upgrade pip' command.\u001b[0m\n",
            "Note: you may need to restart the kernel to use updated packages.\n"
          ]
        }
      ],
      "source": [
        "%pip install openpyxl\n",
        "%pip install seaborn\n",
        "\n",
        "import numpy as np\n",
        "import pandas as pd\n",
        "import matplotlib.pyplot as plt\n",
        "import seaborn as sns\n",
        "from scipy.stats import pearsonr"
      ]
    },
    {
      "cell_type": "markdown",
      "id": "e697f317",
      "metadata": {},
      "source": [
        "# Data Description ℹ️✨\n",
        "The [Coffee Bean Sales Dataset](https://www.kaggle.com/datasets/saadharoon27/coffee-bean-sales-raw-dataset/data) provides comprehensive insights into the coffee industry. It contains detailed information on coffee orders, customer profiles and product details. The dataset is divided into three worksheets, providing specific information about orders, customers and products. The orders worksheet reflects the coffee transactions made by customers. The customers worksheet contains specific details on the customers. Lastly, the products worksheet details each coffee product."
      ]
    },
    {
      "cell_type": "markdown",
      "id": "ddbf49a7",
      "metadata": {},
      "source": [
        "### How the data was collected\n",
        "\n",
        "The dataset was acquired from [Kaggle](https://www.kaggle.com) which houses datasets that may be from open sources, web scraping, or simulations. It is not outwardly stated how the coffee bean sales dataset was gathered, but it can be assumed that it was artificially generated for educational purposes due to the lack of details and metadata surrounding the orders."
      ]
    },
    {
      "cell_type": "markdown",
      "id": "8f7a6890",
      "metadata": {},
      "source": [
        "### Potential Implications\n",
        "\n",
        "As the data was collected through unknown sources, there are potential implications on how information was recorded. The lack of standardization across dataset fields may lead to discrepancies, inconsistencies, or misleading conclusions during data analysis. Additionally, the lack of metadata challenges to determine the scope of the dataset—increasing the risk of sampling bias. It also imposes constraints in preprocessing since the dataset was provided in a pre-cleaned format; hence, further restricting the accuracy and relevance of the insights that will be generated."
      ]
    },
    {
      "cell_type": "markdown",
      "id": "1981d246",
      "metadata": {},
      "source": [
        "### Dataset Overview (Structure and Attributes)\n",
        "\n",
        "The dataset is divided into three worksheets, which are the following:\n",
        "\n",
        "**Orders:** Consists of **1,000 observations** and **9 variables**, where each observation represents an order. The attributes of which include:\n",
        "\n",
        "| **Attribute** | **Description**                              |\n",
        "|---------------|----------------------------------------------|\n",
        "| **Order ID**  | A unique identifier for each order           |\n",
        "| **Order Date**| The date the order was placed                |\n",
        "| **Customer ID** | A reference to the customer who placed the order |\n",
        "| **Product ID** | A reference to the product ordered          |\n",
        "| **Quantity**  | The number of units ordered                  |\n",
        "\n",
        "**Customers:** Consists of **1,000 observations** and **9 variables**, where each observation represents a distinct customer. The attributes of which include:\n",
        "\n",
        "| **Attribute**     | **Description**                        |\n",
        "|-------------------|----------------------------------------|\n",
        "| **Customer ID**   | A unique identifier for each customer  |\n",
        "| **Customer Name** | The full name of the customer          |\n",
        "| **Email Address** | Contact email of the customer          |\n",
        "| **Phone Number**  | Customer’s phone contact               |\n",
        "| **Address Line 1**  | Primary street address of the customer |\n",
        "| **City**            | City of the customer’s address         |\n",
        "| **Country**         | Country of residence                   |\n",
        "| **Postcode**        | Postal/ZIP code of the customer’s address |\n",
        "| **Loyalty Card**    | Indicates whether the customer has a loyalty card (Yes/No) |\n",
        "\n",
        "**Products:** Consists of **48 observations** and **7 variables**, where each observation represents a unique coffee product. The attributes of which include:\n",
        "\n",
        "| **Attribute**     | **Description**                                     |\n",
        "|-------------------|--------------------------------------------------- |\n",
        "| **Product ID**    | A unique identifier for each product                |\n",
        "| **Coffee Type**   | The blend or type of coffee (e.g., Arabica, Robusta)|\n",
        "| **Roast Type**    | The level of roast (e.g., light, medium, dark)      |\n",
        "| **Size**          | Packaging size of the product                      |\n",
        "| **Unit Price**    | Retail price per unit                              |\n",
        "| **Price per 100g**| Standardized pricing for comparison                |\n",
        "| **Profit**        | Profitability of each product                      |"
      ]
    },
    {
      "cell_type": "markdown",
      "id": "95fc7aa1",
      "metadata": {},
      "source": [
        "# Reading the Dataset 📝\n",
        "\n",
        "With all that in mind, let's load in the dataset!"
      ]
    },
    {
      "cell_type": "code",
      "execution_count": 3,
      "id": "eef40947",
      "metadata": {
        "trusted": true
      },
      "outputs": [],
      "source": [
        "# Reading the Excel file\n",
        "file_path = 'Coffee Bean Dataset.xlsx'\n",
        "\n",
        "# Loading each worksheet into a separate DataFrame\n",
        "orders = pd.read_excel(file_path, sheet_name = 'orders')\n",
        "customers = pd.read_excel(file_path, sheet_name = 'customers')\n",
        "products = pd.read_excel(file_path, sheet_name = 'products')"
      ]
    },
    {
      "cell_type": "markdown",
      "id": "a60be8cd",
      "metadata": {},
      "source": [
        "We should take a peek into the three worksheets to confirm our loading worked..."
      ]
    },
    {
      "cell_type": "code",
      "execution_count": 4,
      "id": "caaaaf6f",
      "metadata": {
        "trusted": true
      },
      "outputs": [
        {
          "data": {
            "text/html": [
              "<div>\n",
              "<style scoped>\n",
              "    .dataframe tbody tr th:only-of-type {\n",
              "        vertical-align: middle;\n",
              "    }\n",
              "\n",
              "    .dataframe tbody tr th {\n",
              "        vertical-align: top;\n",
              "    }\n",
              "\n",
              "    .dataframe thead th {\n",
              "        text-align: right;\n",
              "    }\n",
              "</style>\n",
              "<table border=\"1\" class=\"dataframe\">\n",
              "  <thead>\n",
              "    <tr style=\"text-align: right;\">\n",
              "      <th></th>\n",
              "      <th>Order ID</th>\n",
              "      <th>Order Date</th>\n",
              "      <th>Customer ID</th>\n",
              "      <th>Product ID</th>\n",
              "      <th>Quantity</th>\n",
              "      <th>Customer Name</th>\n",
              "      <th>Email</th>\n",
              "      <th>Country</th>\n",
              "      <th>Coffee Type</th>\n",
              "      <th>Roast Type</th>\n",
              "      <th>Size</th>\n",
              "      <th>Unit Price</th>\n",
              "      <th>Sales</th>\n",
              "    </tr>\n",
              "  </thead>\n",
              "  <tbody>\n",
              "    <tr>\n",
              "      <th>0</th>\n",
              "      <td>QEV-37451-860</td>\n",
              "      <td>2019-09-05</td>\n",
              "      <td>17670-51384-MA</td>\n",
              "      <td>R-M-1</td>\n",
              "      <td>2</td>\n",
              "      <td>NaN</td>\n",
              "      <td>NaN</td>\n",
              "      <td>NaN</td>\n",
              "      <td>NaN</td>\n",
              "      <td>NaN</td>\n",
              "      <td>NaN</td>\n",
              "      <td>NaN</td>\n",
              "      <td>NaN</td>\n",
              "    </tr>\n",
              "    <tr>\n",
              "      <th>1</th>\n",
              "      <td>QEV-37451-860</td>\n",
              "      <td>2019-09-05</td>\n",
              "      <td>17670-51384-MA</td>\n",
              "      <td>E-M-0.5</td>\n",
              "      <td>5</td>\n",
              "      <td>NaN</td>\n",
              "      <td>NaN</td>\n",
              "      <td>NaN</td>\n",
              "      <td>NaN</td>\n",
              "      <td>NaN</td>\n",
              "      <td>NaN</td>\n",
              "      <td>NaN</td>\n",
              "      <td>NaN</td>\n",
              "    </tr>\n",
              "    <tr>\n",
              "      <th>2</th>\n",
              "      <td>FAA-43335-268</td>\n",
              "      <td>2021-06-17</td>\n",
              "      <td>21125-22134-PX</td>\n",
              "      <td>A-L-1</td>\n",
              "      <td>1</td>\n",
              "      <td>NaN</td>\n",
              "      <td>NaN</td>\n",
              "      <td>NaN</td>\n",
              "      <td>NaN</td>\n",
              "      <td>NaN</td>\n",
              "      <td>NaN</td>\n",
              "      <td>NaN</td>\n",
              "      <td>NaN</td>\n",
              "    </tr>\n",
              "    <tr>\n",
              "      <th>3</th>\n",
              "      <td>KAC-83089-793</td>\n",
              "      <td>2021-07-15</td>\n",
              "      <td>23806-46781-OU</td>\n",
              "      <td>E-M-1</td>\n",
              "      <td>2</td>\n",
              "      <td>NaN</td>\n",
              "      <td>NaN</td>\n",
              "      <td>NaN</td>\n",
              "      <td>NaN</td>\n",
              "      <td>NaN</td>\n",
              "      <td>NaN</td>\n",
              "      <td>NaN</td>\n",
              "      <td>NaN</td>\n",
              "    </tr>\n",
              "    <tr>\n",
              "      <th>4</th>\n",
              "      <td>KAC-83089-793</td>\n",
              "      <td>2021-07-15</td>\n",
              "      <td>23806-46781-OU</td>\n",
              "      <td>R-L-2.5</td>\n",
              "      <td>2</td>\n",
              "      <td>NaN</td>\n",
              "      <td>NaN</td>\n",
              "      <td>NaN</td>\n",
              "      <td>NaN</td>\n",
              "      <td>NaN</td>\n",
              "      <td>NaN</td>\n",
              "      <td>NaN</td>\n",
              "      <td>NaN</td>\n",
              "    </tr>\n",
              "  </tbody>\n",
              "</table>\n",
              "</div>"
            ],
            "text/plain": [
              "        Order ID Order Date     Customer ID Product ID  Quantity  \\\n",
              "0  QEV-37451-860 2019-09-05  17670-51384-MA      R-M-1         2   \n",
              "1  QEV-37451-860 2019-09-05  17670-51384-MA    E-M-0.5         5   \n",
              "2  FAA-43335-268 2021-06-17  21125-22134-PX      A-L-1         1   \n",
              "3  KAC-83089-793 2021-07-15  23806-46781-OU      E-M-1         2   \n",
              "4  KAC-83089-793 2021-07-15  23806-46781-OU    R-L-2.5         2   \n",
              "\n",
              "   Customer Name  Email  Country  Coffee Type  Roast Type  Size  Unit Price  \\\n",
              "0            NaN    NaN      NaN          NaN         NaN   NaN         NaN   \n",
              "1            NaN    NaN      NaN          NaN         NaN   NaN         NaN   \n",
              "2            NaN    NaN      NaN          NaN         NaN   NaN         NaN   \n",
              "3            NaN    NaN      NaN          NaN         NaN   NaN         NaN   \n",
              "4            NaN    NaN      NaN          NaN         NaN   NaN         NaN   \n",
              "\n",
              "   Sales  \n",
              "0    NaN  \n",
              "1    NaN  \n",
              "2    NaN  \n",
              "3    NaN  \n",
              "4    NaN  "
            ]
          },
          "execution_count": 4,
          "metadata": {},
          "output_type": "execute_result"
        }
      ],
      "source": [
        "orders.head()"
      ]
    },
    {
      "cell_type": "code",
      "execution_count": 5,
      "id": "60b247b9",
      "metadata": {
        "trusted": true
      },
      "outputs": [
        {
          "data": {
            "text/html": [
              "<div>\n",
              "<style scoped>\n",
              "    .dataframe tbody tr th:only-of-type {\n",
              "        vertical-align: middle;\n",
              "    }\n",
              "\n",
              "    .dataframe tbody tr th {\n",
              "        vertical-align: top;\n",
              "    }\n",
              "\n",
              "    .dataframe thead th {\n",
              "        text-align: right;\n",
              "    }\n",
              "</style>\n",
              "<table border=\"1\" class=\"dataframe\">\n",
              "  <thead>\n",
              "    <tr style=\"text-align: right;\">\n",
              "      <th></th>\n",
              "      <th>Customer ID</th>\n",
              "      <th>Customer Name</th>\n",
              "      <th>Email</th>\n",
              "      <th>Phone Number</th>\n",
              "      <th>Address Line 1</th>\n",
              "      <th>City</th>\n",
              "      <th>Country</th>\n",
              "      <th>Postcode</th>\n",
              "      <th>Loyalty Card</th>\n",
              "    </tr>\n",
              "  </thead>\n",
              "  <tbody>\n",
              "    <tr>\n",
              "      <th>0</th>\n",
              "      <td>17670-51384-MA</td>\n",
              "      <td>Aloisia Allner</td>\n",
              "      <td>aallner0@lulu.com</td>\n",
              "      <td>+1 (862) 817-0124</td>\n",
              "      <td>57999 Pepper Wood Alley</td>\n",
              "      <td>Paterson</td>\n",
              "      <td>United States</td>\n",
              "      <td>7505</td>\n",
              "      <td>Yes</td>\n",
              "    </tr>\n",
              "    <tr>\n",
              "      <th>1</th>\n",
              "      <td>73342-18763-UW</td>\n",
              "      <td>Piotr Bote</td>\n",
              "      <td>pbote1@yelp.com</td>\n",
              "      <td>+353 (913) 396-4653</td>\n",
              "      <td>2112 Ridgeway Hill</td>\n",
              "      <td>Crumlin</td>\n",
              "      <td>Ireland</td>\n",
              "      <td>D6W</td>\n",
              "      <td>No</td>\n",
              "    </tr>\n",
              "    <tr>\n",
              "      <th>2</th>\n",
              "      <td>21125-22134-PX</td>\n",
              "      <td>Jami Redholes</td>\n",
              "      <td>jredholes2@tmall.com</td>\n",
              "      <td>+1 (210) 986-6806</td>\n",
              "      <td>5214 Bartillon Park</td>\n",
              "      <td>San Antonio</td>\n",
              "      <td>United States</td>\n",
              "      <td>78205</td>\n",
              "      <td>Yes</td>\n",
              "    </tr>\n",
              "    <tr>\n",
              "      <th>3</th>\n",
              "      <td>71253-00052-RN</td>\n",
              "      <td>Dene Azema</td>\n",
              "      <td>dazema3@facebook.com</td>\n",
              "      <td>+1 (217) 418-0714</td>\n",
              "      <td>27 Maywood Place</td>\n",
              "      <td>Springfield</td>\n",
              "      <td>United States</td>\n",
              "      <td>62711</td>\n",
              "      <td>Yes</td>\n",
              "    </tr>\n",
              "    <tr>\n",
              "      <th>4</th>\n",
              "      <td>23806-46781-OU</td>\n",
              "      <td>Christoffer O' Shea</td>\n",
              "      <td>NaN</td>\n",
              "      <td>+353 (698) 362-9201</td>\n",
              "      <td>38980 Manitowish Junction</td>\n",
              "      <td>Cill Airne</td>\n",
              "      <td>Ireland</td>\n",
              "      <td>N41</td>\n",
              "      <td>No</td>\n",
              "    </tr>\n",
              "  </tbody>\n",
              "</table>\n",
              "</div>"
            ],
            "text/plain": [
              "      Customer ID        Customer Name                 Email  \\\n",
              "0  17670-51384-MA       Aloisia Allner     aallner0@lulu.com   \n",
              "1  73342-18763-UW           Piotr Bote       pbote1@yelp.com   \n",
              "2  21125-22134-PX        Jami Redholes  jredholes2@tmall.com   \n",
              "3  71253-00052-RN           Dene Azema  dazema3@facebook.com   \n",
              "4  23806-46781-OU  Christoffer O' Shea                   NaN   \n",
              "\n",
              "          Phone Number             Address Line 1         City        Country  \\\n",
              "0    +1 (862) 817-0124    57999 Pepper Wood Alley     Paterson  United States   \n",
              "1  +353 (913) 396-4653         2112 Ridgeway Hill      Crumlin        Ireland   \n",
              "2    +1 (210) 986-6806        5214 Bartillon Park  San Antonio  United States   \n",
              "3    +1 (217) 418-0714           27 Maywood Place  Springfield  United States   \n",
              "4  +353 (698) 362-9201  38980 Manitowish Junction   Cill Airne        Ireland   \n",
              "\n",
              "  Postcode Loyalty Card  \n",
              "0     7505          Yes  \n",
              "1      D6W           No  \n",
              "2    78205          Yes  \n",
              "3    62711          Yes  \n",
              "4      N41           No  "
            ]
          },
          "execution_count": 5,
          "metadata": {},
          "output_type": "execute_result"
        }
      ],
      "source": [
        "customers.head()"
      ]
    },
    {
      "cell_type": "code",
      "execution_count": 6,
      "id": "dbb36ed8",
      "metadata": {
        "trusted": true
      },
      "outputs": [
        {
          "data": {
            "text/html": [
              "<div>\n",
              "<style scoped>\n",
              "    .dataframe tbody tr th:only-of-type {\n",
              "        vertical-align: middle;\n",
              "    }\n",
              "\n",
              "    .dataframe tbody tr th {\n",
              "        vertical-align: top;\n",
              "    }\n",
              "\n",
              "    .dataframe thead th {\n",
              "        text-align: right;\n",
              "    }\n",
              "</style>\n",
              "<table border=\"1\" class=\"dataframe\">\n",
              "  <thead>\n",
              "    <tr style=\"text-align: right;\">\n",
              "      <th></th>\n",
              "      <th>Product ID</th>\n",
              "      <th>Coffee Type</th>\n",
              "      <th>Roast Type</th>\n",
              "      <th>Size</th>\n",
              "      <th>Unit Price</th>\n",
              "      <th>Price per 100g</th>\n",
              "      <th>Profit</th>\n",
              "    </tr>\n",
              "  </thead>\n",
              "  <tbody>\n",
              "    <tr>\n",
              "      <th>0</th>\n",
              "      <td>A-L-0.2</td>\n",
              "      <td>Ara</td>\n",
              "      <td>L</td>\n",
              "      <td>0.2</td>\n",
              "      <td>3.885</td>\n",
              "      <td>1.9425</td>\n",
              "      <td>0.34965</td>\n",
              "    </tr>\n",
              "    <tr>\n",
              "      <th>1</th>\n",
              "      <td>A-L-0.5</td>\n",
              "      <td>Ara</td>\n",
              "      <td>L</td>\n",
              "      <td>0.5</td>\n",
              "      <td>7.770</td>\n",
              "      <td>1.5540</td>\n",
              "      <td>0.69930</td>\n",
              "    </tr>\n",
              "    <tr>\n",
              "      <th>2</th>\n",
              "      <td>A-L-1</td>\n",
              "      <td>Ara</td>\n",
              "      <td>L</td>\n",
              "      <td>1.0</td>\n",
              "      <td>12.950</td>\n",
              "      <td>1.2950</td>\n",
              "      <td>1.16550</td>\n",
              "    </tr>\n",
              "    <tr>\n",
              "      <th>3</th>\n",
              "      <td>A-L-2.5</td>\n",
              "      <td>Ara</td>\n",
              "      <td>L</td>\n",
              "      <td>2.5</td>\n",
              "      <td>29.785</td>\n",
              "      <td>1.1914</td>\n",
              "      <td>2.68065</td>\n",
              "    </tr>\n",
              "    <tr>\n",
              "      <th>4</th>\n",
              "      <td>A-M-0.2</td>\n",
              "      <td>Ara</td>\n",
              "      <td>M</td>\n",
              "      <td>0.2</td>\n",
              "      <td>3.375</td>\n",
              "      <td>1.6875</td>\n",
              "      <td>0.30375</td>\n",
              "    </tr>\n",
              "  </tbody>\n",
              "</table>\n",
              "</div>"
            ],
            "text/plain": [
              "  Product ID Coffee Type Roast Type  Size  Unit Price  Price per 100g   Profit\n",
              "0    A-L-0.2         Ara          L   0.2       3.885          1.9425  0.34965\n",
              "1    A-L-0.5         Ara          L   0.5       7.770          1.5540  0.69930\n",
              "2      A-L-1         Ara          L   1.0      12.950          1.2950  1.16550\n",
              "3    A-L-2.5         Ara          L   2.5      29.785          1.1914  2.68065\n",
              "4    A-M-0.2         Ara          M   0.2       3.375          1.6875  0.30375"
            ]
          },
          "execution_count": 6,
          "metadata": {},
          "output_type": "execute_result"
        }
      ],
      "source": [
        "products.head()"
      ]
    },
    {
      "cell_type": "markdown",
      "id": "e09a449d",
      "metadata": {},
      "source": [
        "Eureka! The Coffee Bean Dataset has loaded into our Notebook."
      ]
    },
    {
      "cell_type": "markdown",
      "id": "164d3aa6",
      "metadata": {},
      "source": [
        "But each worksheet only gives us partial information about the data... So, let's join the worksheets together to gain more insights!"
      ]
    },
    {
      "cell_type": "code",
      "execution_count": 7,
      "id": "1cdd17b8",
      "metadata": {
        "trusted": true
      },
      "outputs": [],
      "source": [
        "# Merging Orders with Customers on 'Customer ID'\n",
        "orders_customers = pd.merge(orders, customers, on = 'Customer ID', how = 'left')\n",
        "\n",
        "# Merging the result with Products on 'Product ID'\n",
        "coffee_df = pd.merge(orders_customers, products, on = 'Product ID', how = 'left')"
      ]
    },
    {
      "cell_type": "markdown",
      "id": "b3e6dc56",
      "metadata": {},
      "source": [
        "Let's take another peek but now into the merged dataset."
      ]
    },
    {
      "cell_type": "code",
      "execution_count": 8,
      "id": "3bfae213",
      "metadata": {
        "trusted": true
      },
      "outputs": [
        {
          "data": {
            "text/html": [
              "<div>\n",
              "<style scoped>\n",
              "    .dataframe tbody tr th:only-of-type {\n",
              "        vertical-align: middle;\n",
              "    }\n",
              "\n",
              "    .dataframe tbody tr th {\n",
              "        vertical-align: top;\n",
              "    }\n",
              "\n",
              "    .dataframe thead th {\n",
              "        text-align: right;\n",
              "    }\n",
              "</style>\n",
              "<table border=\"1\" class=\"dataframe\">\n",
              "  <thead>\n",
              "    <tr style=\"text-align: right;\">\n",
              "      <th></th>\n",
              "      <th>Order ID</th>\n",
              "      <th>Order Date</th>\n",
              "      <th>Customer ID</th>\n",
              "      <th>Product ID</th>\n",
              "      <th>Quantity</th>\n",
              "      <th>Customer Name_x</th>\n",
              "      <th>Email_x</th>\n",
              "      <th>Country_x</th>\n",
              "      <th>Coffee Type_x</th>\n",
              "      <th>Roast Type_x</th>\n",
              "      <th>...</th>\n",
              "      <th>City</th>\n",
              "      <th>Country_y</th>\n",
              "      <th>Postcode</th>\n",
              "      <th>Loyalty Card</th>\n",
              "      <th>Coffee Type_y</th>\n",
              "      <th>Roast Type_y</th>\n",
              "      <th>Size_y</th>\n",
              "      <th>Unit Price_y</th>\n",
              "      <th>Price per 100g</th>\n",
              "      <th>Profit</th>\n",
              "    </tr>\n",
              "  </thead>\n",
              "  <tbody>\n",
              "    <tr>\n",
              "      <th>0</th>\n",
              "      <td>QEV-37451-860</td>\n",
              "      <td>2019-09-05</td>\n",
              "      <td>17670-51384-MA</td>\n",
              "      <td>R-M-1</td>\n",
              "      <td>2</td>\n",
              "      <td>NaN</td>\n",
              "      <td>NaN</td>\n",
              "      <td>NaN</td>\n",
              "      <td>NaN</td>\n",
              "      <td>NaN</td>\n",
              "      <td>...</td>\n",
              "      <td>Paterson</td>\n",
              "      <td>United States</td>\n",
              "      <td>7505</td>\n",
              "      <td>Yes</td>\n",
              "      <td>Rob</td>\n",
              "      <td>M</td>\n",
              "      <td>1.0</td>\n",
              "      <td>9.950</td>\n",
              "      <td>0.9950</td>\n",
              "      <td>0.5970</td>\n",
              "    </tr>\n",
              "    <tr>\n",
              "      <th>1</th>\n",
              "      <td>QEV-37451-860</td>\n",
              "      <td>2019-09-05</td>\n",
              "      <td>17670-51384-MA</td>\n",
              "      <td>E-M-0.5</td>\n",
              "      <td>5</td>\n",
              "      <td>NaN</td>\n",
              "      <td>NaN</td>\n",
              "      <td>NaN</td>\n",
              "      <td>NaN</td>\n",
              "      <td>NaN</td>\n",
              "      <td>...</td>\n",
              "      <td>Paterson</td>\n",
              "      <td>United States</td>\n",
              "      <td>7505</td>\n",
              "      <td>Yes</td>\n",
              "      <td>Exc</td>\n",
              "      <td>M</td>\n",
              "      <td>0.5</td>\n",
              "      <td>8.250</td>\n",
              "      <td>1.6500</td>\n",
              "      <td>0.9075</td>\n",
              "    </tr>\n",
              "    <tr>\n",
              "      <th>2</th>\n",
              "      <td>FAA-43335-268</td>\n",
              "      <td>2021-06-17</td>\n",
              "      <td>21125-22134-PX</td>\n",
              "      <td>A-L-1</td>\n",
              "      <td>1</td>\n",
              "      <td>NaN</td>\n",
              "      <td>NaN</td>\n",
              "      <td>NaN</td>\n",
              "      <td>NaN</td>\n",
              "      <td>NaN</td>\n",
              "      <td>...</td>\n",
              "      <td>San Antonio</td>\n",
              "      <td>United States</td>\n",
              "      <td>78205</td>\n",
              "      <td>Yes</td>\n",
              "      <td>Ara</td>\n",
              "      <td>L</td>\n",
              "      <td>1.0</td>\n",
              "      <td>12.950</td>\n",
              "      <td>1.2950</td>\n",
              "      <td>1.1655</td>\n",
              "    </tr>\n",
              "    <tr>\n",
              "      <th>3</th>\n",
              "      <td>KAC-83089-793</td>\n",
              "      <td>2021-07-15</td>\n",
              "      <td>23806-46781-OU</td>\n",
              "      <td>E-M-1</td>\n",
              "      <td>2</td>\n",
              "      <td>NaN</td>\n",
              "      <td>NaN</td>\n",
              "      <td>NaN</td>\n",
              "      <td>NaN</td>\n",
              "      <td>NaN</td>\n",
              "      <td>...</td>\n",
              "      <td>Cill Airne</td>\n",
              "      <td>Ireland</td>\n",
              "      <td>N41</td>\n",
              "      <td>No</td>\n",
              "      <td>Exc</td>\n",
              "      <td>M</td>\n",
              "      <td>1.0</td>\n",
              "      <td>13.750</td>\n",
              "      <td>1.3750</td>\n",
              "      <td>1.5125</td>\n",
              "    </tr>\n",
              "    <tr>\n",
              "      <th>4</th>\n",
              "      <td>KAC-83089-793</td>\n",
              "      <td>2021-07-15</td>\n",
              "      <td>23806-46781-OU</td>\n",
              "      <td>R-L-2.5</td>\n",
              "      <td>2</td>\n",
              "      <td>NaN</td>\n",
              "      <td>NaN</td>\n",
              "      <td>NaN</td>\n",
              "      <td>NaN</td>\n",
              "      <td>NaN</td>\n",
              "      <td>...</td>\n",
              "      <td>Cill Airne</td>\n",
              "      <td>Ireland</td>\n",
              "      <td>N41</td>\n",
              "      <td>No</td>\n",
              "      <td>Rob</td>\n",
              "      <td>L</td>\n",
              "      <td>2.5</td>\n",
              "      <td>27.485</td>\n",
              "      <td>1.0994</td>\n",
              "      <td>1.6491</td>\n",
              "    </tr>\n",
              "  </tbody>\n",
              "</table>\n",
              "<p>5 rows × 27 columns</p>\n",
              "</div>"
            ],
            "text/plain": [
              "        Order ID Order Date     Customer ID Product ID  Quantity  \\\n",
              "0  QEV-37451-860 2019-09-05  17670-51384-MA      R-M-1         2   \n",
              "1  QEV-37451-860 2019-09-05  17670-51384-MA    E-M-0.5         5   \n",
              "2  FAA-43335-268 2021-06-17  21125-22134-PX      A-L-1         1   \n",
              "3  KAC-83089-793 2021-07-15  23806-46781-OU      E-M-1         2   \n",
              "4  KAC-83089-793 2021-07-15  23806-46781-OU    R-L-2.5         2   \n",
              "\n",
              "   Customer Name_x  Email_x  Country_x  Coffee Type_x  Roast Type_x  ...  \\\n",
              "0              NaN      NaN        NaN            NaN           NaN  ...   \n",
              "1              NaN      NaN        NaN            NaN           NaN  ...   \n",
              "2              NaN      NaN        NaN            NaN           NaN  ...   \n",
              "3              NaN      NaN        NaN            NaN           NaN  ...   \n",
              "4              NaN      NaN        NaN            NaN           NaN  ...   \n",
              "\n",
              "          City      Country_y  Postcode Loyalty Card Coffee Type_y  \\\n",
              "0     Paterson  United States      7505          Yes           Rob   \n",
              "1     Paterson  United States      7505          Yes           Exc   \n",
              "2  San Antonio  United States     78205          Yes           Ara   \n",
              "3   Cill Airne        Ireland       N41           No           Exc   \n",
              "4   Cill Airne        Ireland       N41           No           Rob   \n",
              "\n",
              "  Roast Type_y Size_y Unit Price_y Price per 100g  Profit  \n",
              "0            M    1.0        9.950         0.9950  0.5970  \n",
              "1            M    0.5        8.250         1.6500  0.9075  \n",
              "2            L    1.0       12.950         1.2950  1.1655  \n",
              "3            M    1.0       13.750         1.3750  1.5125  \n",
              "4            L    2.5       27.485         1.0994  1.6491  \n",
              "\n",
              "[5 rows x 27 columns]"
            ]
          },
          "execution_count": 8,
          "metadata": {},
          "output_type": "execute_result"
        }
      ],
      "source": [
        "coffee_df.head()"
      ]
    },
    {
      "cell_type": "markdown",
      "id": "f33faddc",
      "metadata": {},
      "source": [
        "We're all set! We can now proceed to cleaning the dataset."
      ]
    },
    {
      "cell_type": "markdown",
      "id": "0bec60b5",
      "metadata": {},
      "source": [
        "# Data Cleaning 🧹✨ \n",
        "\n",
        "Before performing analysis, it is essential to clean the dataset so we ensure accuracy and reliability of results. We'll be handling variables and values with **multiple representations**, **incorrect datatypes**, **missing data**, **duplicate data**, **inconsistent formatting**, and **outliers**."
      ]
    },
    {
      "cell_type": "markdown",
      "id": "d6b7e0e3",
      "metadata": {},
      "source": [
        "### Multiple Representations"
      ]
    },
    {
      "cell_type": "code",
      "execution_count": 9,
      "id": "29c301cf",
      "metadata": {
        "trusted": true
      },
      "outputs": [
        {
          "data": {
            "text/html": [
              "<div>\n",
              "<style scoped>\n",
              "    .dataframe tbody tr th:only-of-type {\n",
              "        vertical-align: middle;\n",
              "    }\n",
              "\n",
              "    .dataframe tbody tr th {\n",
              "        vertical-align: top;\n",
              "    }\n",
              "\n",
              "    .dataframe thead th {\n",
              "        text-align: right;\n",
              "    }\n",
              "</style>\n",
              "<table border=\"1\" class=\"dataframe\">\n",
              "  <thead>\n",
              "    <tr style=\"text-align: right;\">\n",
              "      <th></th>\n",
              "      <th>Order ID</th>\n",
              "      <th>Order Date</th>\n",
              "      <th>Customer ID</th>\n",
              "      <th>Product ID</th>\n",
              "      <th>Quantity</th>\n",
              "      <th>Customer Name_x</th>\n",
              "      <th>Email_x</th>\n",
              "      <th>Country_x</th>\n",
              "      <th>Sales</th>\n",
              "      <th>Customer Name_y</th>\n",
              "      <th>...</th>\n",
              "      <th>City</th>\n",
              "      <th>Country_y</th>\n",
              "      <th>Postcode</th>\n",
              "      <th>Loyalty Card</th>\n",
              "      <th>Coffee Type</th>\n",
              "      <th>Roast Type</th>\n",
              "      <th>Size</th>\n",
              "      <th>Unit Price</th>\n",
              "      <th>Price per 100g</th>\n",
              "      <th>Profit</th>\n",
              "    </tr>\n",
              "  </thead>\n",
              "  <tbody>\n",
              "    <tr>\n",
              "      <th>0</th>\n",
              "      <td>QEV-37451-860</td>\n",
              "      <td>2019-09-05</td>\n",
              "      <td>17670-51384-MA</td>\n",
              "      <td>R-M-1</td>\n",
              "      <td>2</td>\n",
              "      <td>NaN</td>\n",
              "      <td>NaN</td>\n",
              "      <td>NaN</td>\n",
              "      <td>NaN</td>\n",
              "      <td>Aloisia Allner</td>\n",
              "      <td>...</td>\n",
              "      <td>Paterson</td>\n",
              "      <td>United States</td>\n",
              "      <td>7505</td>\n",
              "      <td>Yes</td>\n",
              "      <td>Rob</td>\n",
              "      <td>M</td>\n",
              "      <td>1.0</td>\n",
              "      <td>9.950</td>\n",
              "      <td>0.9950</td>\n",
              "      <td>0.5970</td>\n",
              "    </tr>\n",
              "    <tr>\n",
              "      <th>1</th>\n",
              "      <td>QEV-37451-860</td>\n",
              "      <td>2019-09-05</td>\n",
              "      <td>17670-51384-MA</td>\n",
              "      <td>E-M-0.5</td>\n",
              "      <td>5</td>\n",
              "      <td>NaN</td>\n",
              "      <td>NaN</td>\n",
              "      <td>NaN</td>\n",
              "      <td>NaN</td>\n",
              "      <td>Aloisia Allner</td>\n",
              "      <td>...</td>\n",
              "      <td>Paterson</td>\n",
              "      <td>United States</td>\n",
              "      <td>7505</td>\n",
              "      <td>Yes</td>\n",
              "      <td>Exc</td>\n",
              "      <td>M</td>\n",
              "      <td>0.5</td>\n",
              "      <td>8.250</td>\n",
              "      <td>1.6500</td>\n",
              "      <td>0.9075</td>\n",
              "    </tr>\n",
              "    <tr>\n",
              "      <th>2</th>\n",
              "      <td>FAA-43335-268</td>\n",
              "      <td>2021-06-17</td>\n",
              "      <td>21125-22134-PX</td>\n",
              "      <td>A-L-1</td>\n",
              "      <td>1</td>\n",
              "      <td>NaN</td>\n",
              "      <td>NaN</td>\n",
              "      <td>NaN</td>\n",
              "      <td>NaN</td>\n",
              "      <td>Jami Redholes</td>\n",
              "      <td>...</td>\n",
              "      <td>San Antonio</td>\n",
              "      <td>United States</td>\n",
              "      <td>78205</td>\n",
              "      <td>Yes</td>\n",
              "      <td>Ara</td>\n",
              "      <td>L</td>\n",
              "      <td>1.0</td>\n",
              "      <td>12.950</td>\n",
              "      <td>1.2950</td>\n",
              "      <td>1.1655</td>\n",
              "    </tr>\n",
              "    <tr>\n",
              "      <th>3</th>\n",
              "      <td>KAC-83089-793</td>\n",
              "      <td>2021-07-15</td>\n",
              "      <td>23806-46781-OU</td>\n",
              "      <td>E-M-1</td>\n",
              "      <td>2</td>\n",
              "      <td>NaN</td>\n",
              "      <td>NaN</td>\n",
              "      <td>NaN</td>\n",
              "      <td>NaN</td>\n",
              "      <td>Christoffer O' Shea</td>\n",
              "      <td>...</td>\n",
              "      <td>Cill Airne</td>\n",
              "      <td>Ireland</td>\n",
              "      <td>N41</td>\n",
              "      <td>No</td>\n",
              "      <td>Exc</td>\n",
              "      <td>M</td>\n",
              "      <td>1.0</td>\n",
              "      <td>13.750</td>\n",
              "      <td>1.3750</td>\n",
              "      <td>1.5125</td>\n",
              "    </tr>\n",
              "    <tr>\n",
              "      <th>4</th>\n",
              "      <td>KAC-83089-793</td>\n",
              "      <td>2021-07-15</td>\n",
              "      <td>23806-46781-OU</td>\n",
              "      <td>R-L-2.5</td>\n",
              "      <td>2</td>\n",
              "      <td>NaN</td>\n",
              "      <td>NaN</td>\n",
              "      <td>NaN</td>\n",
              "      <td>NaN</td>\n",
              "      <td>Christoffer O' Shea</td>\n",
              "      <td>...</td>\n",
              "      <td>Cill Airne</td>\n",
              "      <td>Ireland</td>\n",
              "      <td>N41</td>\n",
              "      <td>No</td>\n",
              "      <td>Rob</td>\n",
              "      <td>L</td>\n",
              "      <td>2.5</td>\n",
              "      <td>27.485</td>\n",
              "      <td>1.0994</td>\n",
              "      <td>1.6491</td>\n",
              "    </tr>\n",
              "  </tbody>\n",
              "</table>\n",
              "<p>5 rows × 23 columns</p>\n",
              "</div>"
            ],
            "text/plain": [
              "        Order ID Order Date     Customer ID Product ID  Quantity  \\\n",
              "0  QEV-37451-860 2019-09-05  17670-51384-MA      R-M-1         2   \n",
              "1  QEV-37451-860 2019-09-05  17670-51384-MA    E-M-0.5         5   \n",
              "2  FAA-43335-268 2021-06-17  21125-22134-PX      A-L-1         1   \n",
              "3  KAC-83089-793 2021-07-15  23806-46781-OU      E-M-1         2   \n",
              "4  KAC-83089-793 2021-07-15  23806-46781-OU    R-L-2.5         2   \n",
              "\n",
              "   Customer Name_x  Email_x  Country_x  Sales      Customer Name_y  ...  \\\n",
              "0              NaN      NaN        NaN    NaN       Aloisia Allner  ...   \n",
              "1              NaN      NaN        NaN    NaN       Aloisia Allner  ...   \n",
              "2              NaN      NaN        NaN    NaN        Jami Redholes  ...   \n",
              "3              NaN      NaN        NaN    NaN  Christoffer O' Shea  ...   \n",
              "4              NaN      NaN        NaN    NaN  Christoffer O' Shea  ...   \n",
              "\n",
              "          City      Country_y Postcode Loyalty Card Coffee Type Roast Type  \\\n",
              "0     Paterson  United States     7505          Yes         Rob          M   \n",
              "1     Paterson  United States     7505          Yes         Exc          M   \n",
              "2  San Antonio  United States    78205          Yes         Ara          L   \n",
              "3   Cill Airne        Ireland      N41           No         Exc          M   \n",
              "4   Cill Airne        Ireland      N41           No         Rob          L   \n",
              "\n",
              "  Size Unit Price Price per 100g  Profit  \n",
              "0  1.0      9.950         0.9950  0.5970  \n",
              "1  0.5      8.250         1.6500  0.9075  \n",
              "2  1.0     12.950         1.2950  1.1655  \n",
              "3  1.0     13.750         1.3750  1.5125  \n",
              "4  2.5     27.485         1.0994  1.6491  \n",
              "\n",
              "[5 rows x 23 columns]"
            ]
          },
          "execution_count": 9,
          "metadata": {},
          "output_type": "execute_result"
        }
      ],
      "source": [
        "columns_to_drop = ['Coffee Type_x', 'Roast Type_x', 'Size_x', 'Unit Price_x']\n",
        "clean_coffee_df = coffee_df.drop(columns=columns_to_drop)\n",
        "clean_coffee_df = clean_coffee_df.rename(columns={\n",
        "    'Coffee Type_y': 'Coffee Type',\n",
        "    'Roast Type_y': 'Roast Type',\n",
        "    'Size_y': 'Size',\n",
        "    'Unit Price_y': 'Unit Price'\n",
        "})\n",
        "clean_coffee_df.head()"
      ]
    },
    {
      "cell_type": "markdown",
      "id": "81705efa",
      "metadata": {},
      "source": [
        "### Incorrect Datatypes"
      ]
    },
    {
      "cell_type": "code",
      "execution_count": null,
      "id": "a8e2d908",
      "metadata": {
        "trusted": true
      },
      "outputs": [],
      "source": []
    },
    {
      "cell_type": "markdown",
      "id": "a7e84d2f",
      "metadata": {},
      "source": [
        "### Missing Data"
      ]
    },
    {
      "cell_type": "code",
      "execution_count": null,
      "id": "494d0c4d",
      "metadata": {
        "trusted": true
      },
      "outputs": [],
      "source": []
    },
    {
      "cell_type": "markdown",
      "id": "fee77ca7",
      "metadata": {},
      "source": [
        "### Duplicate Data"
      ]
    },
    {
      "cell_type": "code",
      "execution_count": null,
      "id": "6c032239",
      "metadata": {
        "trusted": true
      },
      "outputs": [],
      "source": []
    },
    {
      "cell_type": "markdown",
      "id": "350e6aa6",
      "metadata": {},
      "source": [
        "### Inconsistent Formatting"
      ]
    },
    {
      "cell_type": "code",
      "execution_count": null,
      "id": "0f0887ba",
      "metadata": {
        "trusted": true
      },
      "outputs": [],
      "source": []
    },
    {
      "cell_type": "markdown",
      "id": "6b63a340",
      "metadata": {},
      "source": [
        "### Outliers"
      ]
    },
    {
      "cell_type": "code",
      "execution_count": null,
      "id": "5db4efee",
      "metadata": {
        "trusted": true
      },
      "outputs": [],
      "source": []
    },
    {
      "cell_type": "markdown",
      "id": "e1b4b17e",
      "metadata": {},
      "source": [
        "Our dataset is now squeaky clean! We can now proceed with analysis!"
      ]
    },
    {
      "cell_type": "markdown",
      "id": "a2439fc6",
      "metadata": {},
      "source": [
        "# Target Research Question 🔬✨\n",
        "\n",
        "#### _`\"How can we optimize business strategies by understanding the factors that affect sales?\"`_\n",
        "\n",
        "In order to provide scope, purpose, and clarity, the above question will serve as the main foundation of data analysis upon the Coffee Bean Sale Dataset. It will guide in identifying patterns, relationships, and key insights that can inform business decision-making to hopefully draw insights on the coffee bean industry."
      ]
    },
    {
      "cell_type": "markdown",
      "id": "01fba408",
      "metadata": {},
      "source": [
        "# Exploratory Data Analysis 🔍✨\n",
        "\n",
        "Now that the dataset has been cleaned, we can start exploring it to better understand its structure, contents, and patterns."
      ]
    },
    {
      "cell_type": "markdown",
      "id": "46d42d84",
      "metadata": {},
      "source": [
        "People tend to prefer certain flavors of coffee depending on the season like how Pumpkin Spice Lattes take over Autumn. By knowing which coffee beans and roasts are most profitable, we can make smarter decisions about stocks and promotions. This begs the question...\n",
        "\n",
        "#### _`\"Which coffee bean and roast type is the most profitable per season?\"`_ ⛅📈✨"
      ]
    },
    {
      "cell_type": "markdown",
      "id": "bfc170e2",
      "metadata": {},
      "source": [
        "To answer this question, the variables of interest are:\n",
        "- **`Order Date`**: the date a order was placed\n",
        "- **`Coffee Type`**: the blend or type of coffee (e.g., Arabica, Robusta, Liberica, Excelsa)\n",
        "- **`Roast Type`**: the level of roast (e.g., light, medium, dark)\n",
        "- **`Profit`**: the amount of profit from a sale\n",
        "- **`Quantity`**: the number of units ordered"
      ]
    },
    {
      "cell_type": "markdown",
      "id": "0856bf45",
      "metadata": {},
      "source": [
        "### Seasons"
      ]
    },
    {
      "cell_type": "markdown",
      "id": "c95197e5",
      "metadata": {},
      "source": [
        "Since the customers from the dataset are mostly from the the United States of America, we will be using the seasons from that country. The seasons are specifically **winter**, **spring**, **summer** and **fall** and they will be derived from the `Order Date`."
      ]
    },
    {
      "cell_type": "code",
      "execution_count": 10,
      "id": "94f59e9a",
      "metadata": {},
      "outputs": [
        {
          "data": {
            "text/html": [
              "<div>\n",
              "<style scoped>\n",
              "    .dataframe tbody tr th:only-of-type {\n",
              "        vertical-align: middle;\n",
              "    }\n",
              "\n",
              "    .dataframe tbody tr th {\n",
              "        vertical-align: top;\n",
              "    }\n",
              "\n",
              "    .dataframe thead th {\n",
              "        text-align: right;\n",
              "    }\n",
              "</style>\n",
              "<table border=\"1\" class=\"dataframe\">\n",
              "  <thead>\n",
              "    <tr style=\"text-align: right;\">\n",
              "      <th></th>\n",
              "      <th>Order Date</th>\n",
              "      <th>Season</th>\n",
              "    </tr>\n",
              "  </thead>\n",
              "  <tbody>\n",
              "    <tr>\n",
              "      <th>0</th>\n",
              "      <td>2019-09-05</td>\n",
              "      <td>Fall</td>\n",
              "    </tr>\n",
              "    <tr>\n",
              "      <th>1</th>\n",
              "      <td>2019-09-05</td>\n",
              "      <td>Fall</td>\n",
              "    </tr>\n",
              "    <tr>\n",
              "      <th>2</th>\n",
              "      <td>2021-06-17</td>\n",
              "      <td>Summer</td>\n",
              "    </tr>\n",
              "    <tr>\n",
              "      <th>3</th>\n",
              "      <td>2021-07-15</td>\n",
              "      <td>Summer</td>\n",
              "    </tr>\n",
              "    <tr>\n",
              "      <th>4</th>\n",
              "      <td>2021-07-15</td>\n",
              "      <td>Summer</td>\n",
              "    </tr>\n",
              "  </tbody>\n",
              "</table>\n",
              "</div>"
            ],
            "text/plain": [
              "  Order Date  Season\n",
              "0 2019-09-05    Fall\n",
              "1 2019-09-05    Fall\n",
              "2 2021-06-17  Summer\n",
              "3 2021-07-15  Summer\n",
              "4 2021-07-15  Summer"
            ]
          },
          "execution_count": 10,
          "metadata": {},
          "output_type": "execute_result"
        }
      ],
      "source": [
        "# Converting the order date to the proper datetime format\n",
        "coffee_df['Order Date'] = pd.to_datetime(coffee_df['Order Date'])\n",
        "\n",
        "# Assigning the seasons based on the month\n",
        "def get_season(date) :\n",
        "    month = date.month\n",
        "    if month in [3, 4, 5] : return 'Spring'\n",
        "    elif month in [6, 7, 8] : return 'Summer'\n",
        "    elif month in [9, 10, 11] : return 'Fall'\n",
        "    else: return 'Winter'\n",
        "\n",
        "coffee_df['Season'] = coffee_df['Order Date'].apply(get_season)\n",
        "coffee_df[['Order Date', 'Season']].head()"
      ]
    },
    {
      "cell_type": "markdown",
      "id": "f86c9842",
      "metadata": {},
      "source": [
        "### **Total Quantity Sold For Each Coffee Type per Season**"
      ]
    },
    {
      "cell_type": "markdown",
      "id": "a5d44662",
      "metadata": {},
      "source": [
        "In order to understand the seasonal demands per coffee type (e.g., Arabica, Robusta), we will compute the total quantity sold for each coffee type per season. This will help us identify the coffee type that is most preferred during each season."
      ]
    },
    {
      "cell_type": "code",
      "execution_count": null,
      "id": "14ed3a2e",
      "metadata": {},
      "outputs": [
        {
          "name": "stdout",
          "output_type": "stream",
          "text": [
            "Total Quantity Sold For Each Coffee Type per Season:\n",
            "    Season Coffee Type_y  Quantity\n",
            "0     Fall           Ara       233\n",
            "2     Fall           Lib       222\n",
            "3     Fall           Rob       191\n",
            "1     Fall           Exc       163\n",
            "7   Spring           Rob       254\n",
            "5   Spring           Exc       250\n",
            "6   Spring           Lib       234\n",
            "4   Spring           Ara       233\n",
            "8   Summer           Ara       247\n",
            "11  Summer           Rob       247\n",
            "9   Summer           Exc       227\n",
            "10  Summer           Lib       151\n",
            "14  Winter           Lib       247\n",
            "12  Winter           Ara       234\n",
            "13  Winter           Exc       232\n",
            "15  Winter           Rob       186\n"
          ]
        }
      ],
      "source": [
        "# Grouping by season and coffee type and summing up the quantity\n",
        "coffee_total_quantity = coffee_df.groupby(['Season', 'Coffee Type_y'])['Quantity'].sum().reset_index()\n",
        "\n",
        "# Sorting the seasons in ascending order and quantity in descending order\n",
        "coffee_total_quantity = coffee_total_quantity.sort_values(['Season', 'Quantity'], ascending=[True, False])\n",
        "\n",
        "print(\"Total Quantity Sold For Each Coffee Type per Season:\\n\")\n",
        "print(coffee_total_quantity)"
      ]
    },
    {
      "cell_type": "markdown",
      "id": "b4fcd1e7",
      "metadata": {},
      "source": [
        "During the **Fall** and **Summer**, the most sold coffee type for both seasons is **Arabica**, with a quantity of **233** and **247** units sold, respectively. During the **Spring**, the most sold coffee type is **Robusta**, with a quantity of **254** units sold. Lastly, during the **Winter**, the most sold coffee type is **Liberica**, with a quantity of **247** units sold. "
      ]
    },
    {
      "cell_type": "markdown",
      "id": "680cf405",
      "metadata": {},
      "source": [
        "### **Total Quantity Sold For Each Roast Type per Season**"
      ]
    },
    {
      "cell_type": "markdown",
      "id": "c45ec746",
      "metadata": {},
      "source": [
        "In order to understand the seasonal demands per roast type (e.g., light, medium, dark), we will compute the total quantity sold for each roast type per season. This will help us identify the roast type that is most preferred during each season."
      ]
    },
    {
      "cell_type": "code",
      "execution_count": 22,
      "id": "f2495dc4",
      "metadata": {},
      "outputs": [
        {
          "name": "stdout",
          "output_type": "stream",
          "text": [
            "Total Quantity Sold For Each Roast Type per Season:\n",
            "\n",
            "    Season Roast Type_y  Quantity\n",
            "2     Fall            M       309\n",
            "0     Fall            D       250\n",
            "1     Fall            L       250\n",
            "4   Spring            L       364\n",
            "5   Spring            M       328\n",
            "3   Spring            D       279\n",
            "6   Summer            D       311\n",
            "7   Summer            L       301\n",
            "8   Summer            M       260\n",
            "9   Winter            D       316\n",
            "10  Winter            L       315\n",
            "11  Winter            M       268\n"
          ]
        }
      ],
      "source": [
        "# Grouping by season and roast type and summing up the quantity\n",
        "roast_total_quantity = coffee_df.groupby(['Season', 'Roast Type_y'])['Quantity'].sum().reset_index()\n",
        "\n",
        "# Sorting the seasons in ascending order and quantity in descending order\n",
        "roast_total_quantity = roast_total_quantity.sort_values(['Season', 'Quantity'], ascending=[True, False])\n",
        "\n",
        "print(\"Total Quantity Sold For Each Roast Type per Season:\\n\")\n",
        "print(roast_total_quantity)"
      ]
    },
    {
      "cell_type": "markdown",
      "id": "db16c4f2",
      "metadata": {},
      "source": [
        "During the **Winter** and **Summer**, the most sold roast type for both seasons is **dark**, with a quantity of **316** and **311** units sold, respectively. During the **Fall**, the most sold roast type is **medium**, with a quantity of **309** units sold. Lastly, during the **Spring**, the most sold roast type is **light**, with a quantity of **364** units sold. "
      ]
    },
    {
      "cell_type": "markdown",
      "id": "72ddfff9",
      "metadata": {},
      "source": [
        "### **Top Quantity Sold For Each Coffee and Roast Type Combination per Season**"
      ]
    },
    {
      "cell_type": "markdown",
      "id": "c8bf8ddd",
      "metadata": {},
      "source": [
        "In order to be a step closer to identifying what coffee and roast type is the most profitable per season, we will compute for the most quantity sold coffee and roast type combination per season. This will help us compare which coffee and roast type combination is the most sold and the most profitable during each season."
      ]
    },
    {
      "cell_type": "code",
      "execution_count": 21,
      "id": "bb1b8130",
      "metadata": {},
      "outputs": [
        {
          "name": "stdout",
          "output_type": "stream",
          "text": [
            "Top Quantity Sold for Each Coffee and Roast Type per Season:\n",
            "\n",
            "   Season Coffee Type_y Roast Type_y  Quantity\n",
            "0    Fall           Ara            M        98\n",
            "1  Spring           Exc            L       106\n",
            "2  Summer           Rob            D       110\n",
            "3  Winter           Ara            M        98\n"
          ]
        }
      ],
      "source": [
        "# Grouping by season, coffee type, and roast type and summing up the quantity\n",
        "combination_quantity = coffee_df.groupby(['Season', 'Coffee Type_y', 'Roast Type_y'])['Quantity'].sum().reset_index()\n",
        "\n",
        "# Sorting and retrieving the top selling combination per season\n",
        "top_combination_quantity = combination_quantity.sort_values(['Season', 'Quantity'], ascending=[True, False]) \\\n",
        "                                   .groupby('Season').first().reset_index()\n",
        "\n",
        "print(\"Top Quantity Sold for Each Coffee and Roast Type per Season:\\n\")\n",
        "print(top_combination_quantity)\n"
      ]
    },
    {
      "cell_type": "markdown",
      "id": "3dc01dbb",
      "metadata": {},
      "source": [
        "During both the **Fall** and **Winter**, the most sold combination is **Arabica Medium Roast**, both having a quantity of **98** units sold. During the **Spring**, the most sold combination is **Excelsa Light Roast**, with a quantity of **106** units sold. During the **Summer**, the most sold combination is **Robusta Dark Roast**, with a quantity of **110** units sold."
      ]
    },
    {
      "cell_type": "markdown",
      "id": "c8397eec",
      "metadata": {},
      "source": [
        "### **Most Profitable Coffee and Roast Type per Season**"
      ]
    },
    {
      "cell_type": "markdown",
      "id": "572ced20",
      "metadata": {},
      "source": [
        "In order to answer our main EDA question of determining which coffee bean and roast type is the most profitable per season is, we will get the total profit of each season, coffee and roast type group and retreieve the combinations with the highest total profit."
      ]
    },
    {
      "cell_type": "code",
      "execution_count": 19,
      "id": "bfad3668",
      "metadata": {},
      "outputs": [
        {
          "name": "stdout",
          "output_type": "stream",
          "text": [
            "   Season Coffee Type_y Roast Type_y  Total Profit\n",
            "0    Fall           Lib            D      168.6867\n",
            "1  Spring           Lib            L      202.3411\n",
            "2  Summer           Exc            M      167.8875\n",
            "3  Winter           Lib            D      158.2490\n"
          ]
        }
      ],
      "source": [
        "# Getting the total profit by multiplying quantity and profit\n",
        "coffee_df['Total Profit'] = coffee_df['Quantity'] * coffee_df['Profit']\n",
        "\n",
        "# Grouping by season, coffee type, and roast type and then summing up the total profit for each group\n",
        "combination_season_profit = coffee_df.groupby(['Season', 'Coffee Type_y', 'Roast Type_y'])['Total Profit'].sum().reset_index()\n",
        "\n",
        "# the coffee and roast type combination with the highest total profit appears first\n",
        "top_combination_per_season = combination_season_profit.sort_values(['Season', 'Total Profit'], ascending=[True, False]).groupby('Season').first().reset_index()\n",
        "\n",
        "print(top_combination_per_season)"
      ]
    },
    {
      "cell_type": "markdown",
      "id": "895fe0a5",
      "metadata": {},
      "source": [
        "The most profitable coffee and roast type combination during the **Fall** is **Liberica Dark Roast** in contrast to **Arabica Medium Roast** having the most quantity sold. The most profitable combination during **Spring** is **Liberica Light Roast** in contrast to **Excelsa Light Roast** having the most quantity sold. The most profitable combination during **Summer** is **Excelsa Medium Roast** in contrast to **Robusta Dark Roast** having the most quantity sold. Lastly, the most profitable combination during **Winter** is **Liberica Dark Roast** in contrast to **Arabica Medium Roast** having the most quantity sold."
      ]
    },
    {
      "cell_type": "markdown",
      "id": "b27ff1de",
      "metadata": {},
      "source": [
        "### **Which season has the highest overall coffee sales profit?**"
      ]
    },
    {
      "cell_type": "markdown",
      "id": "fef5b581",
      "metadata": {},
      "source": [
        "Identifying the season with the highest overall coffee sales profit will help us understand which season generates the most coffee sales. By analyzing seasonal trends, businesses can better anticipate coffee demand and maximize profitability."
      ]
    },
    {
      "cell_type": "code",
      "execution_count": null,
      "id": "4a78f2dc",
      "metadata": {},
      "outputs": [
        {
          "name": "stdout",
          "output_type": "stream",
          "text": [
            "Total Profit per Season:\n",
            "Spring: $1252.69\n",
            "Fall: $1103.51\n",
            "Winter: $1096.77\n",
            "Summer: $1067.24\n",
            "\n",
            "Season with the highest profit: Spring\n"
          ]
        }
      ],
      "source": [
        "# Grouping by season and summing up total profit\n",
        "season_profit = coffee_df.groupby('Season')['Total Profit'].sum()\n",
        "\n",
        "# Sorting the profit per season in descending order\n",
        "season_profit_sorted = season_profit.sort_values(ascending=False)\n",
        "\n",
        "print(\"Total Profit per Season:\")\n",
        "for season, profit in season_profit_sorted.items():\n",
        "    print(f\"{season}: ${'{:.2f}'.format(profit)}\")\n",
        "\n",
        "top_season = season_profit_sorted.idxmax()\n",
        "\n",
        "print(f\"\\nSeason with the highest profit: {top_season}\")"
      ]
    },
    {
      "cell_type": "markdown",
      "id": "68216386",
      "metadata": {},
      "source": [
        "### **Visualization**"
      ]
    },
    {
      "cell_type": "code",
      "execution_count": 23,
      "id": "d202f981",
      "metadata": {},
      "outputs": [
        {
          "data": {
            "image/png": "[encoded data removed]",
            "text/plain": [
              "<Figure size 1000x600 with 1 Axes>"
            ]
          },
          "metadata": {},
          "output_type": "display_data"
        }
      ],
      "source": [
        "# Aggregating data for plotting\n",
        "profit_per_type = coffee_df.groupby(['Season', 'Coffee Type_y'])['Total Profit'].sum().reset_index()\n",
        "\n",
        "pivot_df = profit_per_type.pivot(index='Season', columns='Coffee Type_y', values='Total Profit')\n",
        "\n",
        "pivot_df.plot(kind='line', marker='o', figsize=(10,6))\n",
        "plt.title(\"Seasonal Profit Trends by Coffee Type\")\n",
        "plt.xlabel(\"Season\")\n",
        "plt.ylabel(\"Total Profit ($)\")\n",
        "plt.grid(True)\n",
        "plt.legend(title=\"Coffee Type\")\n",
        "plt.tight_layout()\n",
        "plt.show()"
      ]
    },
    {
      "cell_type": "code",
      "execution_count": 24,
      "id": "e9164005",
      "metadata": {},
      "outputs": [
        {
          "data": {
            "image/png": "[encoded data removed]",
            "text/plain": [
              "<Figure size 1200x600 with 1 Axes>"
            ]
          },
          "metadata": {},
          "output_type": "display_data"
        }
      ],
      "source": [
        "# Grouping by Season, Coffee Type, and Roast Type to get total profit\n",
        "profit_per_combo = coffee_df.groupby(['Season', 'Coffee Type_y', 'Roast Type_y'])['Total Profit'].sum().reset_index()\n",
        "\n",
        "# Create a new column to combine Coffee Type and Roast Type for clearer labels\n",
        "profit_per_combo['CoffeeRoast'] = profit_per_combo['Coffee Type_y'] + ' - ' + profit_per_combo['Roast Type_y']\n",
        "\n",
        "# Pivot for plotting\n",
        "pivot_df = profit_per_combo.pivot(index='Season', columns='CoffeeRoast', values='Total Profit')\n",
        "\n",
        "# Plotting\n",
        "pivot_df.plot(kind='line', marker='o', figsize=(12, 6))\n",
        "plt.title(\"Seasonal Profit Trends by Coffee and Roast Type\")\n",
        "plt.xlabel(\"Season\")\n",
        "plt.ylabel(\"Total Profit ($)\")\n",
        "plt.grid(True)\n",
        "plt.legend(title=\"Coffee - Roast Type\", bbox_to_anchor=(1.05, 1), loc='upper left')\n",
        "plt.tight_layout()\n",
        "plt.show()"
      ]
    },
    {
      "cell_type": "markdown",
      "id": "e98509ee",
      "metadata": {},
      "source": [
        "#"
      ]
    },
    {
      "cell_type": "markdown",
      "id": "b3e6d572",
      "metadata": {},
      "source": [
        "// INSERT TRANSITIONAL STATEMENT HERE\n",
        "\n",
        "#### _`\"How does loyalty card ownership influence customer purchasing behavior?\"`_ 🧑💳✨"
      ]
    },
    {
      "cell_type": "markdown",
      "id": "064fd948",
      "metadata": {},
      "source": [
        "// T TEST\n",
        "\n",
        "// DOT PLOT\n",
        "\n",
        "// Do loyalty card owners order in bigger quantities of coffee beans compared to non-owners?"
      ]
    },
    {
      "cell_type": "markdown",
      "id": "648df10e",
      "metadata": {},
      "source": [
        "// INSERT TRANSITIONAL STATEMENT HERE\n",
        "\n",
        "#### _`\"Do the coffee products with higher unit prices generate more profit?\"`_ ☕💰✨"
      ]
    },
    {
      "cell_type": "markdown",
      "id": "02917289-f087-404b-bd80-420de51fa067",
      "metadata": {},
      "source": [
        "In this analysis, we aim to determine whether there is a statistical relationship between the **unit price** of coffee products and their **total profit**. Specifically, we want to know if products with higher prices tend to generate more profit."
      ]
    },
    {
      "cell_type": "markdown",
      "id": "fa609891-5751-4581-bcde-48764705ec8d",
      "metadata": {},
      "source": [
        "To answer this question, we focus on the following variables from the `products` dataset:\n",
        "\n",
        "- **Unit Price**: The retail price per unit of each coffee product.\n",
        "- **Profit**: The total profit associated with each product."
      ]
    },
    {
      "cell_type": "markdown",
      "id": "63354294-d920-4a4d-bb4e-83f3e8e20b32",
      "metadata": {},
      "source": [
        "To assess this, we will use the **Pearson correlation coefficient**, which measures the strength and direction of a linear relationship between two continuous variables."
      ]
    },
    {
      "cell_type": "markdown",
      "id": "2e4465f9-2cb0-492a-ae27-f922bd44bc13",
      "metadata": {},
      "source": [
        "Before conducting the test, we define our hypotheses:"
      ]
    },
    {
      "cell_type": "markdown",
      "id": "2a6a7d0a-9f20-4b16-8ed9-74fb5a44f6ea",
      "metadata": {},
      "source": [
        "**Null Hypothesis (H₀)**: There is no linear correlation between unit price and profit.  \n",
        "**Alternative Hypothesis (Hₐ)**: There is a significant linear correlation between unit price and profit.\n",
        "\n",
        "We will calculate the Pearson correlation coefficient and interpret both the correlation value and the associated p-value to determine if the result is statistically significant."
      ]
    },
    {
      "cell_type": "code",
      "execution_count": null,
      "id": "90426f0b-0ae2-4822-9b14-82b5ab765504",
      "metadata": {
        "trusted": true
      },
      "outputs": [
        {
          "name": "stdout",
          "output_type": "stream",
          "text": [
            "Pearson correlation: 0.939\n",
            "P-value: 0.0000\n"
          ]
        }
      ],
      "source": [
        "corr, p_value = pearsonr(products['Unit Price'], products['Profit'])\n",
        "\n",
        "print(f\"Pearson correlation: {corr:.3f}\")\n",
        "print(f\"P-value: {p_value:.4f}\")"
      ]
    },
    {
      "cell_type": "markdown",
      "id": "cae825d9-643b-4171-909e-47cb8b36714b",
      "metadata": {},
      "source": [
        "The Pearson correlation coefficient between **Unit Price** and **Profit** is **0.939**, indicating a **very strong positive linear relationship**. \n",
        "\n",
        "Additionally, the **p-value is less than 0.05** (p = 0.0000), which means the result is **statistically significant**. Therefore, we **reject the null hypothesis**."
      ]
    },
    {
      "cell_type": "markdown",
      "id": "ec07bf91-77e1-493c-87f0-1a4d2d68d207",
      "metadata": {},
      "source": [
        "The following scatterplot further illustrates this relationship."
      ]
    },
    {
      "cell_type": "code",
      "execution_count": null,
      "id": "31599682-51d7-48d6-b833-6dca9d906dcc",
      "metadata": {
        "trusted": true
      },
      "outputs": [
        {
          "data": {
            "image/png": "[encoded data removed]",
            "text/plain": [
              "<Figure size 800x600 with 1 Axes>"
            ]
          },
          "metadata": {},
          "output_type": "display_data"
        }
      ],
      "source": [
        "plt.figure(figsize=(8, 6))\n",
        "sns.regplot(data=products, x='Unit Price', y='Profit', color='teal', line_kws={\"color\": \"red\"})\n",
        "\n",
        "plt.title('Scatterplot of Unit Price vs Profit')\n",
        "plt.xlabel('Unit Price')\n",
        "plt.ylabel('Profit')\n",
        "plt.grid(True)\n",
        "plt.tight_layout()\n",
        "plt.show()"
      ]
    },
    {
      "cell_type": "markdown",
      "id": "8d51a4c5-a0f6-41ea-ac97-e202d89ccfa9",
      "metadata": {},
      "source": [
        "**Figure 1.**  \n",
        "The scatterplot displays the relationship between **Unit Price** and **Profit** for each coffee product in the dataset. Each teal point represents a product, with its unit price on the x-axis and the corresponding profit on the y-axis.\n",
        "\n",
        "The red regression line illustrates the overall linear trend. As shown, products with higher unit prices tend to generate higher profits, confirming the positive relationship observed in the Pearson correlation analysis (r = 0.939, p < 0.001)."
      ]
    },
    {
      "cell_type": "markdown",
      "id": "2813a9c2-4fd2-405a-a1c1-c169e6dd2e40",
      "metadata": {},
      "source": [
        "📌 **Conclusion**: There exists a statistically significant linear correlation between unit price and profit among coffee products."
      ]
    },
    {
      "cell_type": "markdown",
      "id": "92495300-ce4e-461b-be54-6a0f3e9db7db",
      "metadata": {},
      "source": []
    },
    {
      "cell_type": "markdown",
      "id": "090502e3-6d88-4402-ac1a-a4938c011568",
      "metadata": {},
      "source": [
        "While our initial analysis shows a strong positive correlation between unit price and profit, this does not account for how well each product actually sells. High-priced items may yield high per-unit profits, but low sales volumes could limit their total profitability. To explore this further, we now ask:"
      ]
    },
    {
      "cell_type": "markdown",
      "id": "5642f194-4cc2-4d37-bf00-5eaaf9a35280",
      "metadata": {},
      "source": [
        "**Do sales volumes influence total profit for higher-priced coffee products?**"
      ]
    },
    {
      "cell_type": "markdown",
      "id": "916ecf96-a70a-4444-93ae-15447069c1b3",
      "metadata": {},
      "source": [
        "To answer this question, we focus on the following variables:\n",
        "\n",
        "- From the `products` dataset:\n",
        "  - **Unit Price**: The retail price per unit of each coffee product.\n",
        "  - **Profit**: The total profit associated with each product.\n",
        "- From the `orders` dataset:\n",
        "  - **Quantity**: The number of units ordered per product."
      ]
    },
    {
      "cell_type": "markdown",
      "id": "2d0a9905-7d78-4404-bed2-7b607c0f4ba2",
      "metadata": {},
      "source": [
        "This analysis will help determine whether limited demand for expensive products affects their overall contribution to profit."
      ]
    },
    {
      "cell_type": "markdown",
      "id": "c3519172-b3b4-441d-84ba-1ec1ab93723d",
      "metadata": {},
      "source": [
        "Before conducting the test, we define our hypotheses:"
      ]
    },
    {
      "cell_type": "markdown",
      "id": "b412c5c2-ee32-4622-b024-a2db7bf52ae1",
      "metadata": {},
      "source": [
        "**Null Hypothesis (H₀)**: There is no significant linear correlation between sales volume (Quantity) and total profit for higher-priced coffee products.  \n",
        "**Alternative Hypothesis (Hₐ)**: There is a significant linear correlation between sales volume (Quantity) and total profit for higher-priced coffee products.\n",
        "\n",
        "We will calculate the Pearson correlation coefficient and evaluate the associated p-value. This will allow us to determine both the strength of the linear relationship and whether the result is statistically significant at the conventional 0.05 significance level."
      ]
    },
    {
      "cell_type": "markdown",
      "id": "6887db46-f44a-448e-b711-9a4fa37747c2",
      "metadata": {},
      "source": [
        "We will use `clean_coffee_df`, a merged and cleaned dataset combining product and order details needed to compute total profit per product."
      ]
    },
    {
      "cell_type": "markdown",
      "id": "90a140c5-38bd-4f31-a78c-6ec1a92aa2c4",
      "metadata": {},
      "source": [
        "### Step 1: Group by Product\n",
        "\n",
        "We group the merged data by each product to calculate:\n",
        "- Total quantity sold\n",
        "- Per-unit profit and unit price (from `products`)\n",
        "- Total profit = Quantity × Profit"
      ]
    },
    {
      "cell_type": "code",
      "execution_count": null,
      "id": "9eec1bd0-bb54-480e-b60a-aac586fa0bd8",
      "metadata": {
        "trusted": true
      },
      "outputs": [
        {
          "data": {
            "text/html": [
              "<div>\n",
              "<style scoped>\n",
              "    .dataframe tbody tr th:only-of-type {\n",
              "        vertical-align: middle;\n",
              "    }\n",
              "\n",
              "    .dataframe tbody tr th {\n",
              "        vertical-align: top;\n",
              "    }\n",
              "\n",
              "    .dataframe thead th {\n",
              "        text-align: right;\n",
              "    }\n",
              "</style>\n",
              "<table border=\"1\" class=\"dataframe\">\n",
              "  <thead>\n",
              "    <tr style=\"text-align: right;\">\n",
              "      <th></th>\n",
              "      <th>Product ID</th>\n",
              "      <th>Coffee Type</th>\n",
              "      <th>Roast Type</th>\n",
              "      <th>Quantity</th>\n",
              "      <th>Profit</th>\n",
              "      <th>Unit Price</th>\n",
              "      <th>Total Profit</th>\n",
              "    </tr>\n",
              "  </thead>\n",
              "  <tbody>\n",
              "    <tr>\n",
              "      <th>0</th>\n",
              "      <td>A-D-0.2</td>\n",
              "      <td>Ara</td>\n",
              "      <td>D</td>\n",
              "      <td>97</td>\n",
              "      <td>0.26865</td>\n",
              "      <td>2.985</td>\n",
              "      <td>26.05905</td>\n",
              "    </tr>\n",
              "    <tr>\n",
              "      <th>1</th>\n",
              "      <td>A-D-0.5</td>\n",
              "      <td>Ara</td>\n",
              "      <td>D</td>\n",
              "      <td>89</td>\n",
              "      <td>0.53730</td>\n",
              "      <td>5.970</td>\n",
              "      <td>47.81970</td>\n",
              "    </tr>\n",
              "    <tr>\n",
              "      <th>2</th>\n",
              "      <td>A-D-1</td>\n",
              "      <td>Ara</td>\n",
              "      <td>D</td>\n",
              "      <td>49</td>\n",
              "      <td>0.89550</td>\n",
              "      <td>9.950</td>\n",
              "      <td>43.87950</td>\n",
              "    </tr>\n",
              "    <tr>\n",
              "      <th>3</th>\n",
              "      <td>A-D-2.5</td>\n",
              "      <td>Ara</td>\n",
              "      <td>D</td>\n",
              "      <td>76</td>\n",
              "      <td>2.05965</td>\n",
              "      <td>22.885</td>\n",
              "      <td>156.53340</td>\n",
              "    </tr>\n",
              "    <tr>\n",
              "      <th>4</th>\n",
              "      <td>A-L-0.2</td>\n",
              "      <td>Ara</td>\n",
              "      <td>L</td>\n",
              "      <td>50</td>\n",
              "      <td>0.34965</td>\n",
              "      <td>3.885</td>\n",
              "      <td>17.48250</td>\n",
              "    </tr>\n",
              "  </tbody>\n",
              "</table>\n",
              "</div>"
            ],
            "text/plain": [
              "  Product ID Coffee Type Roast Type  Quantity   Profit  Unit Price  \\\n",
              "0    A-D-0.2         Ara          D        97  0.26865       2.985   \n",
              "1    A-D-0.5         Ara          D        89  0.53730       5.970   \n",
              "2      A-D-1         Ara          D        49  0.89550       9.950   \n",
              "3    A-D-2.5         Ara          D        76  2.05965      22.885   \n",
              "4    A-L-0.2         Ara          L        50  0.34965       3.885   \n",
              "\n",
              "   Total Profit  \n",
              "0      26.05905  \n",
              "1      47.81970  \n",
              "2      43.87950  \n",
              "3     156.53340  \n",
              "4      17.48250  "
            ]
          },
          "execution_count": 28,
          "metadata": {},
          "output_type": "execute_result"
        }
      ],
      "source": [
        "grouped = clean_coffee_df.groupby(['Product ID', 'Coffee Type', 'Roast Type']) \\\n",
        "    .agg({\n",
        "        'Quantity': 'sum',\n",
        "        'Profit': 'first',\n",
        "        'Unit Price': 'first'\n",
        "    }).reset_index()\n",
        "\n",
        "grouped['Total Profit'] = grouped['Quantity'] * grouped['Profit']\n",
        "grouped.head()"
      ]
    },
    {
      "cell_type": "markdown",
      "id": "81d020b3-1f1d-4464-8ee1-ddda22abf956",
      "metadata": {},
      "source": [
        "### Step 2: Focus on High-Priced Products\n",
        "\n",
        "We define \"high-priced\" as products whose unit price falls in the top 25% of all products."
      ]
    },
    {
      "cell_type": "code",
      "execution_count": null,
      "id": "2369b10d-edda-4743-9fa2-0cb2e19505d7",
      "metadata": {
        "trusted": true
      },
      "outputs": [
        {
          "data": {
            "text/html": [
              "<div>\n",
              "<style scoped>\n",
              "    .dataframe tbody tr th:only-of-type {\n",
              "        vertical-align: middle;\n",
              "    }\n",
              "\n",
              "    .dataframe tbody tr th {\n",
              "        vertical-align: top;\n",
              "    }\n",
              "\n",
              "    .dataframe thead th {\n",
              "        text-align: right;\n",
              "    }\n",
              "</style>\n",
              "<table border=\"1\" class=\"dataframe\">\n",
              "  <thead>\n",
              "    <tr style=\"text-align: right;\">\n",
              "      <th></th>\n",
              "      <th>Product ID</th>\n",
              "      <th>Coffee Type</th>\n",
              "      <th>Roast Type</th>\n",
              "      <th>Quantity</th>\n",
              "      <th>Profit</th>\n",
              "      <th>Unit Price</th>\n",
              "      <th>Total Profit</th>\n",
              "    </tr>\n",
              "  </thead>\n",
              "  <tbody>\n",
              "    <tr>\n",
              "      <th>3</th>\n",
              "      <td>A-D-2.5</td>\n",
              "      <td>Ara</td>\n",
              "      <td>D</td>\n",
              "      <td>76</td>\n",
              "      <td>2.05965</td>\n",
              "      <td>22.885</td>\n",
              "      <td>156.53340</td>\n",
              "    </tr>\n",
              "    <tr>\n",
              "      <th>7</th>\n",
              "      <td>A-L-2.5</td>\n",
              "      <td>Ara</td>\n",
              "      <td>L</td>\n",
              "      <td>86</td>\n",
              "      <td>2.68065</td>\n",
              "      <td>29.785</td>\n",
              "      <td>230.53590</td>\n",
              "    </tr>\n",
              "    <tr>\n",
              "      <th>11</th>\n",
              "      <td>A-M-2.5</td>\n",
              "      <td>Ara</td>\n",
              "      <td>M</td>\n",
              "      <td>97</td>\n",
              "      <td>2.32875</td>\n",
              "      <td>25.875</td>\n",
              "      <td>225.88875</td>\n",
              "    </tr>\n",
              "    <tr>\n",
              "      <th>15</th>\n",
              "      <td>E-D-2.5</td>\n",
              "      <td>Exc</td>\n",
              "      <td>D</td>\n",
              "      <td>66</td>\n",
              "      <td>3.07395</td>\n",
              "      <td>27.945</td>\n",
              "      <td>202.88070</td>\n",
              "    </tr>\n",
              "    <tr>\n",
              "      <th>19</th>\n",
              "      <td>E-L-2.5</td>\n",
              "      <td>Exc</td>\n",
              "      <td>L</td>\n",
              "      <td>72</td>\n",
              "      <td>3.75705</td>\n",
              "      <td>34.155</td>\n",
              "      <td>270.50760</td>\n",
              "    </tr>\n",
              "  </tbody>\n",
              "</table>\n",
              "</div>"
            ],
            "text/plain": [
              "   Product ID Coffee Type Roast Type  Quantity   Profit  Unit Price  \\\n",
              "3     A-D-2.5         Ara          D        76  2.05965      22.885   \n",
              "7     A-L-2.5         Ara          L        86  2.68065      29.785   \n",
              "11    A-M-2.5         Ara          M        97  2.32875      25.875   \n",
              "15    E-D-2.5         Exc          D        66  3.07395      27.945   \n",
              "19    E-L-2.5         Exc          L        72  3.75705      34.155   \n",
              "\n",
              "    Total Profit  \n",
              "3      156.53340  \n",
              "7      230.53590  \n",
              "11     225.88875  \n",
              "15     202.88070  \n",
              "19     270.50760  "
            ]
          },
          "execution_count": 29,
          "metadata": {},
          "output_type": "execute_result"
        }
      ],
      "source": [
        "q3_price = grouped['Unit Price'].quantile(0.75)\n",
        "high_priced = grouped[grouped['Unit Price'] >= q3_price]\n",
        "high_priced.head()"
      ]
    },
    {
      "cell_type": "markdown",
      "id": "247fe02a-4d29-4245-a032-552ca785497a",
      "metadata": {},
      "source": [
        "### Step 3: Correlation Analysis\n",
        "\n",
        "We calculate the Pearson correlation coefficient to assess the linear relationship between **quantity sold** and **total profit** for high-priced products."
      ]
    },
    {
      "cell_type": "code",
      "execution_count": null,
      "id": "9380764c-712c-4a87-98d1-a68ce016ea15",
      "metadata": {
        "trusted": true
      },
      "outputs": [
        {
          "name": "stdout",
          "output_type": "stream",
          "text": [
            "Pearson correlation: 0.301\n",
            "P-value: 0.3418\n"
          ]
        }
      ],
      "source": [
        "corr, pval = pearsonr(high_priced['Quantity'], high_priced['Total Profit'])\n",
        "\n",
        "print(f\"Pearson correlation: {corr:.3f}\")\n",
        "print(f\"P-value: {pval:.4f}\")"
      ]
    },
    {
      "cell_type": "markdown",
      "id": "b6d1c4c2-f3d2-4090-bb77-8fcdfa9005f6",
      "metadata": {},
      "source": [
        "The Pearson correlation coefficient between **Quantity** and **Total Profit** for higher-priced products is **0.301**, indicating a **weak positive linear relationship**. \n",
        "\n",
        "However, the **p-value is greater than 0.05** (p = 0.3418), so the result is **not statistically significant**. Therefore, we **fail to reject the null hypothesis**."
      ]
    },
    {
      "cell_type": "markdown",
      "id": "5e0e2e2f-70be-4e98-b7b8-90af2bc318d1",
      "metadata": {},
      "source": [
        "#### Step 4: Visualization\n",
        "\n",
        "To visually support the correlation result, we generate a scatterplot with a regression line showing how quantity sold relates to total profit for high-priced products."
      ]
    },
    {
      "cell_type": "code",
      "execution_count": null,
      "id": "783e2a21-2633-41c1-91fd-b52452fcbb3d",
      "metadata": {
        "trusted": true
      },
      "outputs": [
        {
          "data": {
            "image/png": "[encoded data removed]",
            "text/plain": [
              "<Figure size 800x600 with 1 Axes>"
            ]
          },
          "metadata": {},
          "output_type": "display_data"
        }
      ],
      "source": [
        "plt.figure(figsize=(8, 6))\n",
        "sns.regplot(\n",
        "    data=high_priced,\n",
        "    x='Quantity',\n",
        "    y='Total Profit',\n",
        "    color='teal',\n",
        "    line_kws={\"color\": \"red\"}\n",
        ")\n",
        "\n",
        "plt.title('Quantity Sold vs Total Profit (High-Priced Products)')\n",
        "plt.xlabel('Total Quantity Sold')\n",
        "plt.ylabel('Total Profit')\n",
        "plt.grid(True)\n",
        "plt.tight_layout()\n",
        "plt.show()"
      ]
    },
    {
      "cell_type": "markdown",
      "id": "755ff175-e1e5-4d10-990a-5e453af902f2",
      "metadata": {},
      "source": [
        "**Figure 2.**  \n",
        "The scatterplot illustrates the relationship between **quantity sold** and **total profit** for high-priced coffee products. Each teal point represents a product, where the x-axis shows the total number of units sold and the y-axis displays the corresponding total profit.\n",
        "\n",
        "The red regression line represents the overall linear trend based on Pearson correlation analysis. While there is a slight upward trend, the distribution of points appears scattered, and no strong linear relationship is visually evident.\n",
        "\n",
        "This aligns with the earlier statistical result (r = 0.301, p = 0.3418), suggesting that the correlation between sales volume and total profit among high-priced items is weak and not statistically significant. This indicates that simply pricing products higher does not guarantee greater overall profit if the products do not sell in large volumes."
      ]
    },
    {
      "cell_type": "markdown",
      "id": "933cf16a-aecf-40b0-9578-70bb2ef80bb5",
      "metadata": {},
      "source": [
        "📌 **Conclusion**: There is no statistically significant linear correlation between sales volume and total profit for high-priced coffee products."
      ]
    },
    {
      "cell_type": "markdown",
      "id": "14a6c5eb",
      "metadata": {},
      "source": [
        "// PEARSON CORRELATION\n",
        "\n",
        "// Do sales volumes influence total profit for higher-priced products?"
      ]
    },
    {
      "cell_type": "markdown",
      "id": "ff6007c8",
      "metadata": {},
      "source": [
        "# Conclusion ✅\n",
        "\n",
        "// INSERT CONCLUSION HERE"
      ]
    }
  ],
  "metadata": {
    "kernelspec": {
      "display_name": "Python 3",
      "language": "python",
      "name": "python3"
    },
    "language_info": {
      "codemirror_mode": {
        "name": "ipython",
        "version": 3
      },
      "file_extension": ".py",
      "mimetype": "text/x-python",
      "name": "python",
      "nbconvert_exporter": "python",
      "pygments_lexer": "ipython3",
      "version": "3.9.6"
    }
  },
  "nbformat": 4,
  "nbformat_minor": 5
}
