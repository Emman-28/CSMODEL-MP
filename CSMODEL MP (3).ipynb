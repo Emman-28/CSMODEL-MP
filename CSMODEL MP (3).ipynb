{
 "cells": [
  {
   "cell_type": "markdown",
   "id": "de097fbe",
   "metadata": {},
   "source": [
    "# CSMODEL Machine Project (Phase 1) ☕✨\n",
    "\n",
    "This Jupyter Notebook was made in compliance with the requirements set by the course Statistical Modelling and Simulation (CSMODEL).\n",
    "\n",
    "This machine project was prepared by the following students from section S16:\n",
    "\n",
    "- Filipino, Eunice Marble R.\n",
    "- Lazaro, Heisel Janine C.\n",
    "- Punsalan, Emmanuel Gerald G.\n",
    "- Wee, Justine Erika D.\n"
   ]
  },
  {
   "cell_type": "markdown",
   "id": "7bb6eb79",
   "metadata": {},
   "source": [
    "# Import Libraries ⬇️\n",
    "\n",
    "The following libraries are imported to provide essential functionalities for data processing, analysis, and visualization throughout this project:\n"
   ]
  },
  {
   "cell_type": "code",
   "execution_count": 84,
   "id": "f500af11",
   "metadata": {},
   "outputs": [
    {
     "name": "stdout",
     "output_type": "stream",
     "text": [
      "Requirement already satisfied: openpyxl in c:\\users\\marble\\appdata\\local\\programs\\python\\python313\\lib\\site-packages (3.1.5)\n",
      "Requirement already satisfied: et-xmlfile in c:\\users\\marble\\appdata\\local\\programs\\python\\python313\\lib\\site-packages (from openpyxl) (2.0.0)\n",
      "Note: you may need to restart the kernel to use updated packages.\n",
      "Requirement already satisfied: scipy in c:\\users\\marble\\appdata\\local\\programs\\python\\python313\\lib\\site-packages (1.16.0)\n",
      "Requirement already satisfied: numpy<2.6,>=1.25.2 in c:\\users\\marble\\appdata\\local\\programs\\python\\python313\\lib\\site-packages (from scipy) (2.3.1)\n",
      "Note: you may need to restart the kernel to use updated packages.\n",
      "Requirement already satisfied: seaborn in c:\\users\\marble\\appdata\\local\\programs\\python\\python313\\lib\\site-packages (0.13.2)\n",
      "Requirement already satisfied: numpy!=1.24.0,>=1.20 in c:\\users\\marble\\appdata\\local\\programs\\python\\python313\\lib\\site-packages (from seaborn) (2.3.1)\n",
      "Requirement already satisfied: pandas>=1.2 in c:\\users\\marble\\appdata\\local\\programs\\python\\python313\\lib\\site-packages (from seaborn) (2.3.1)\n",
      "Requirement already satisfied: matplotlib!=3.6.1,>=3.4 in c:\\users\\marble\\appdata\\local\\programs\\python\\python313\\lib\\site-packages (from seaborn) (3.10.3)\n",
      "Requirement already satisfied: contourpy>=1.0.1 in c:\\users\\marble\\appdata\\local\\programs\\python\\python313\\lib\\site-packages (from matplotlib!=3.6.1,>=3.4->seaborn) (1.3.2)\n",
      "Requirement already satisfied: cycler>=0.10 in c:\\users\\marble\\appdata\\local\\programs\\python\\python313\\lib\\site-packages (from matplotlib!=3.6.1,>=3.4->seaborn) (0.12.1)\n",
      "Requirement already satisfied: fonttools>=4.22.0 in c:\\users\\marble\\appdata\\local\\programs\\python\\python313\\lib\\site-packages (from matplotlib!=3.6.1,>=3.4->seaborn) (4.58.5)\n",
      "Requirement already satisfied: kiwisolver>=1.3.1 in c:\\users\\marble\\appdata\\local\\programs\\python\\python313\\lib\\site-packages (from matplotlib!=3.6.1,>=3.4->seaborn) (1.4.8)\n",
      "Requirement already satisfied: packaging>=20.0 in c:\\users\\marble\\appdata\\roaming\\python\\python313\\site-packages (from matplotlib!=3.6.1,>=3.4->seaborn) (25.0)\n",
      "Requirement already satisfied: pillow>=8 in c:\\users\\marble\\appdata\\local\\programs\\python\\python313\\lib\\site-packages (from matplotlib!=3.6.1,>=3.4->seaborn) (11.3.0)\n",
      "Requirement already satisfied: pyparsing>=2.3.1 in c:\\users\\marble\\appdata\\local\\programs\\python\\python313\\lib\\site-packages (from matplotlib!=3.6.1,>=3.4->seaborn) (3.2.3)\n",
      "Requirement already satisfied: python-dateutil>=2.7 in c:\\users\\marble\\appdata\\roaming\\python\\python313\\site-packages (from matplotlib!=3.6.1,>=3.4->seaborn) (2.9.0.post0)\n",
      "Requirement already satisfied: pytz>=2020.1 in c:\\users\\marble\\appdata\\local\\programs\\python\\python313\\lib\\site-packages (from pandas>=1.2->seaborn) (2025.2)\n",
      "Requirement already satisfied: tzdata>=2022.7 in c:\\users\\marble\\appdata\\local\\programs\\python\\python313\\lib\\site-packages (from pandas>=1.2->seaborn) (2025.2)\n",
      "Requirement already satisfied: six>=1.5 in c:\\users\\marble\\appdata\\roaming\\python\\python313\\site-packages (from python-dateutil>=2.7->matplotlib!=3.6.1,>=3.4->seaborn) (1.17.0)\n",
      "Note: you may need to restart the kernel to use updated packages.\n",
      "Requirement already satisfied: rapidfuzz in c:\\users\\marble\\appdata\\local\\programs\\python\\python313\\lib\\site-packages (3.13.0)\n",
      "Note: you may need to restart the kernel to use updated packages.\n",
      "Requirement already satisfied: scikit-learn in c:\\users\\marble\\appdata\\local\\programs\\python\\python313\\lib\\site-packages (1.7.0)\n",
      "Requirement already satisfied: numpy>=1.22.0 in c:\\users\\marble\\appdata\\local\\programs\\python\\python313\\lib\\site-packages (from scikit-learn) (2.3.1)\n",
      "Requirement already satisfied: scipy>=1.8.0 in c:\\users\\marble\\appdata\\local\\programs\\python\\python313\\lib\\site-packages (from scikit-learn) (1.16.0)\n",
      "Requirement already satisfied: joblib>=1.2.0 in c:\\users\\marble\\appdata\\local\\programs\\python\\python313\\lib\\site-packages (from scikit-learn) (1.5.1)\n",
      "Requirement already satisfied: threadpoolctl>=3.1.0 in c:\\users\\marble\\appdata\\local\\programs\\python\\python313\\lib\\site-packages (from scikit-learn) (3.6.0)\n",
      "Note: you may need to restart the kernel to use updated packages.\n"
     ]
    }
   ],
   "source": [
    "%pip install openpyxl\n",
    "%pip install scipy\n",
    "%pip install seaborn\n",
    "%pip install rapidfuzz\n",
    "%pip install scikit-learn\n",
    "\n",
    "import numpy as np\n",
    "import pandas as pd\n",
    "import matplotlib.pyplot as plt\n",
    "import seaborn as sns\n",
    "from scipy.stats import pearsonr\n",
    "from scipy.stats import ttest_ind\n",
    "from rapidfuzz import process, fuzz\n",
    "from sklearn.preprocessing import StandardScaler\n",
    "from sklearn.preprocessing import OneHotEncoder\n",
    "from sklearn.preprocessing import MinMaxScaler\n",
    "from kmeans import KMeans\n",
    "from sklearn.decomposition import PCA\n",
    "import matplotlib.pyplot as plt"
   ]
  },
  {
   "cell_type": "markdown",
   "id": "e697f317",
   "metadata": {},
   "source": [
    "# Data Description ℹ️✨\n",
    "\n",
    "The [Coffee Bean Sales Dataset](https://www.kaggle.com/datasets/saadharoon27/coffee-bean-sales-raw-dataset/data) provides comprehensive insights of certain coffee bean orders from 2019-2022. It contains detailed information on coffee orders, customer profiles and product details. The dataset is divided into three worksheets, providing specific information about orders, customers and products. The orders worksheet reflects the coffee transactions made by customers. The customers worksheet contains specific details on the customers. Lastly, the products worksheet details each coffee product.\n"
   ]
  },
  {
   "cell_type": "markdown",
   "id": "ddbf49a7",
   "metadata": {},
   "source": [
    "### Data Collection\n",
    "\n",
    "The dataset was acquired from [Kaggle](https://www.kaggle.com) which houses datasets that may be from open sources, web scraping, or simulations. It is not outwardly stated how the coffee bean sales dataset was gathered, but it can be assumed that it was artificially generated for educational purposes due to the lack of details and metadata surrounding the orders.\n"
   ]
  },
  {
   "cell_type": "markdown",
   "id": "8f7a6890",
   "metadata": {},
   "source": [
    "### Potential Implications\n",
    "\n",
    "As the data was collected through unknown sources, there are potential implications on how information was recorded. The lack of standardization across dataset fields may lead to discrepancies, inconsistencies, or misleading conclusions during data analysis. Additionally, the lack of metadata challenges to determine the scope of the dataset—increasing the risk of sampling bias. It also imposes constraints in preprocessing since the dataset was provided in a pre-cleaned format; hence, further restricting the accuracy and relevance of the insights that will be generated.\n"
   ]
  },
  {
   "cell_type": "markdown",
   "id": "1981d246",
   "metadata": {},
   "source": [
    "### Dataset Overview (Structure and Attributes)\n",
    "\n",
    "The dataset is divided into three worksheets, which are the following:\n",
    "\n",
    "📃 **Orders:** Consists of **1,000 observations** and **9 variables**, where each observation represents an order. The attributes of which include:\n",
    "\n",
    "| **Attribute**   | **Description**                                  |\n",
    "| --------------- | ------------------------------------------------ |\n",
    "| **Order ID**    | A unique identifier for each order               |\n",
    "| **Order Date**  | The date the order was placed                    |\n",
    "| **Customer ID** | A reference to the customer who placed the order |\n",
    "| **Product ID**  | A reference to the product ordered               |\n",
    "| **Quantity**    | The number of units ordered                      |\n",
    "\n",
    "🧑 **Customers:** Consists of **1,000 observations** and **9 variables**, where each observation represents a distinct customer. The attributes of which include:\n",
    "\n",
    "| **Attribute**      | **Description**                                            |\n",
    "| ------------------ | ---------------------------------------------------------- |\n",
    "| **Customer ID**    | A unique identifier for each customer                      |\n",
    "| **Customer Name**  | The full name of the customer                              |\n",
    "| **Email Address**  | Contact email of the customer                              |\n",
    "| **Phone Number**   | Customer’s phone contact                                   |\n",
    "| **Address Line 1** | Primary street address of the customer                     |\n",
    "| **City**           | City of the customer’s address                             |\n",
    "| **Country**        | Country of residence                                       |\n",
    "| **Postcode**       | Postal/ZIP code of the customer’s address                  |\n",
    "| **Loyalty Card**   | Indicates whether the customer has a loyalty card (Yes/No) |\n",
    "\n",
    "☕ **Products:** Consists of **48 observations** and **7 variables**, where each observation represents a unique coffee product. The attributes of which include:\n",
    "\n",
    "| **Attribute**      | **Description**                                      |\n",
    "| ------------------ | ---------------------------------------------------- |\n",
    "| **Product ID**     | A unique identifier for each product                 |\n",
    "| **Coffee Type**    | The blend or type of coffee (e.g., Arabica, Robusta) |\n",
    "| **Roast Type**     | The level of roast (e.g., light, medium, dark)       |\n",
    "| **Size**           | Packaging size of the product                        |\n",
    "| **Unit Price**     | Retail price per unit                                |\n",
    "| **Price per 100g** | Standardized pricing for comparison                  |\n",
    "| **Profit**         | Profitability of each product                        |\n"
   ]
  },
  {
   "cell_type": "markdown",
   "id": "95fc7aa1",
   "metadata": {},
   "source": [
    "# Reading the Dataset 📝\n",
    "\n",
    "Let's load in the dataset!\n"
   ]
  },
  {
   "cell_type": "code",
   "execution_count": 2,
   "id": "eef40947",
   "metadata": {},
   "outputs": [],
   "source": [
    "# Reading the Excel file\n",
    "file_path = 'Coffee Bean Dataset.xlsx'\n",
    "\n",
    "# Loading each worksheet into a separate DataFrame\n",
    "orders = pd.read_excel(file_path, sheet_name = 'orders')\n",
    "customers = pd.read_excel(file_path, sheet_name = 'customers')\n",
    "products = pd.read_excel(file_path, sheet_name = 'products')"
   ]
  },
  {
   "cell_type": "markdown",
   "id": "a60be8cd",
   "metadata": {},
   "source": [
    "We should take a peek into the three worksheets to confirm our loading worked... 👀\n"
   ]
  },
  {
   "cell_type": "code",
   "execution_count": 3,
   "id": "caaaaf6f",
   "metadata": {},
   "outputs": [
    {
     "data": {
      "text/html": [
       "<div>\n",
       "<style scoped>\n",
       "    .dataframe tbody tr th:only-of-type {\n",
       "        vertical-align: middle;\n",
       "    }\n",
       "\n",
       "    .dataframe tbody tr th {\n",
       "        vertical-align: top;\n",
       "    }\n",
       "\n",
       "    .dataframe thead th {\n",
       "        text-align: right;\n",
       "    }\n",
       "</style>\n",
       "<table border=\"1\" class=\"dataframe\">\n",
       "  <thead>\n",
       "    <tr style=\"text-align: right;\">\n",
       "      <th></th>\n",
       "      <th>Order ID</th>\n",
       "      <th>Order Date</th>\n",
       "      <th>Customer ID</th>\n",
       "      <th>Product ID</th>\n",
       "      <th>Quantity</th>\n",
       "      <th>Customer Name</th>\n",
       "      <th>Email</th>\n",
       "      <th>Country</th>\n",
       "      <th>Coffee Type</th>\n",
       "      <th>Roast Type</th>\n",
       "      <th>Size</th>\n",
       "      <th>Unit Price</th>\n",
       "      <th>Sales</th>\n",
       "    </tr>\n",
       "  </thead>\n",
       "  <tbody>\n",
       "    <tr>\n",
       "      <th>0</th>\n",
       "      <td>QEV-37451-860</td>\n",
       "      <td>2019-09-05</td>\n",
       "      <td>17670-51384-MA</td>\n",
       "      <td>R-M-1</td>\n",
       "      <td>2</td>\n",
       "      <td>NaN</td>\n",
       "      <td>NaN</td>\n",
       "      <td>NaN</td>\n",
       "      <td>NaN</td>\n",
       "      <td>NaN</td>\n",
       "      <td>NaN</td>\n",
       "      <td>NaN</td>\n",
       "      <td>NaN</td>\n",
       "    </tr>\n",
       "    <tr>\n",
       "      <th>1</th>\n",
       "      <td>QEV-37451-860</td>\n",
       "      <td>2019-09-05</td>\n",
       "      <td>17670-51384-MA</td>\n",
       "      <td>E-M-0.5</td>\n",
       "      <td>5</td>\n",
       "      <td>NaN</td>\n",
       "      <td>NaN</td>\n",
       "      <td>NaN</td>\n",
       "      <td>NaN</td>\n",
       "      <td>NaN</td>\n",
       "      <td>NaN</td>\n",
       "      <td>NaN</td>\n",
       "      <td>NaN</td>\n",
       "    </tr>\n",
       "    <tr>\n",
       "      <th>2</th>\n",
       "      <td>FAA-43335-268</td>\n",
       "      <td>2021-06-17</td>\n",
       "      <td>21125-22134-PX</td>\n",
       "      <td>A-L-1</td>\n",
       "      <td>1</td>\n",
       "      <td>NaN</td>\n",
       "      <td>NaN</td>\n",
       "      <td>NaN</td>\n",
       "      <td>NaN</td>\n",
       "      <td>NaN</td>\n",
       "      <td>NaN</td>\n",
       "      <td>NaN</td>\n",
       "      <td>NaN</td>\n",
       "    </tr>\n",
       "    <tr>\n",
       "      <th>3</th>\n",
       "      <td>KAC-83089-793</td>\n",
       "      <td>2021-07-15</td>\n",
       "      <td>23806-46781-OU</td>\n",
       "      <td>E-M-1</td>\n",
       "      <td>2</td>\n",
       "      <td>NaN</td>\n",
       "      <td>NaN</td>\n",
       "      <td>NaN</td>\n",
       "      <td>NaN</td>\n",
       "      <td>NaN</td>\n",
       "      <td>NaN</td>\n",
       "      <td>NaN</td>\n",
       "      <td>NaN</td>\n",
       "    </tr>\n",
       "    <tr>\n",
       "      <th>4</th>\n",
       "      <td>KAC-83089-793</td>\n",
       "      <td>2021-07-15</td>\n",
       "      <td>23806-46781-OU</td>\n",
       "      <td>R-L-2.5</td>\n",
       "      <td>2</td>\n",
       "      <td>NaN</td>\n",
       "      <td>NaN</td>\n",
       "      <td>NaN</td>\n",
       "      <td>NaN</td>\n",
       "      <td>NaN</td>\n",
       "      <td>NaN</td>\n",
       "      <td>NaN</td>\n",
       "      <td>NaN</td>\n",
       "    </tr>\n",
       "  </tbody>\n",
       "</table>\n",
       "</div>"
      ],
      "text/plain": [
       "        Order ID Order Date     Customer ID Product ID  Quantity  \\\n",
       "0  QEV-37451-860 2019-09-05  17670-51384-MA      R-M-1         2   \n",
       "1  QEV-37451-860 2019-09-05  17670-51384-MA    E-M-0.5         5   \n",
       "2  FAA-43335-268 2021-06-17  21125-22134-PX      A-L-1         1   \n",
       "3  KAC-83089-793 2021-07-15  23806-46781-OU      E-M-1         2   \n",
       "4  KAC-83089-793 2021-07-15  23806-46781-OU    R-L-2.5         2   \n",
       "\n",
       "   Customer Name  Email  Country  Coffee Type  Roast Type  Size  Unit Price  \\\n",
       "0            NaN    NaN      NaN          NaN         NaN   NaN         NaN   \n",
       "1            NaN    NaN      NaN          NaN         NaN   NaN         NaN   \n",
       "2            NaN    NaN      NaN          NaN         NaN   NaN         NaN   \n",
       "3            NaN    NaN      NaN          NaN         NaN   NaN         NaN   \n",
       "4            NaN    NaN      NaN          NaN         NaN   NaN         NaN   \n",
       "\n",
       "   Sales  \n",
       "0    NaN  \n",
       "1    NaN  \n",
       "2    NaN  \n",
       "3    NaN  \n",
       "4    NaN  "
      ]
     },
     "execution_count": 3,
     "metadata": {},
     "output_type": "execute_result"
    }
   ],
   "source": [
    "orders.head()"
   ]
  },
  {
   "cell_type": "code",
   "execution_count": 4,
   "id": "60b247b9",
   "metadata": {},
   "outputs": [
    {
     "data": {
      "text/html": [
       "<div>\n",
       "<style scoped>\n",
       "    .dataframe tbody tr th:only-of-type {\n",
       "        vertical-align: middle;\n",
       "    }\n",
       "\n",
       "    .dataframe tbody tr th {\n",
       "        vertical-align: top;\n",
       "    }\n",
       "\n",
       "    .dataframe thead th {\n",
       "        text-align: right;\n",
       "    }\n",
       "</style>\n",
       "<table border=\"1\" class=\"dataframe\">\n",
       "  <thead>\n",
       "    <tr style=\"text-align: right;\">\n",
       "      <th></th>\n",
       "      <th>Customer ID</th>\n",
       "      <th>Customer Name</th>\n",
       "      <th>Email</th>\n",
       "      <th>Phone Number</th>\n",
       "      <th>Address Line 1</th>\n",
       "      <th>City</th>\n",
       "      <th>Country</th>\n",
       "      <th>Postcode</th>\n",
       "      <th>Loyalty Card</th>\n",
       "    </tr>\n",
       "  </thead>\n",
       "  <tbody>\n",
       "    <tr>\n",
       "      <th>0</th>\n",
       "      <td>17670-51384-MA</td>\n",
       "      <td>Aloisia Allner</td>\n",
       "      <td>aallner0@lulu.com</td>\n",
       "      <td>+1 (862) 817-0124</td>\n",
       "      <td>57999 Pepper Wood Alley</td>\n",
       "      <td>Paterson</td>\n",
       "      <td>United States</td>\n",
       "      <td>7505</td>\n",
       "      <td>Yes</td>\n",
       "    </tr>\n",
       "    <tr>\n",
       "      <th>1</th>\n",
       "      <td>73342-18763-UW</td>\n",
       "      <td>Piotr Bote</td>\n",
       "      <td>pbote1@yelp.com</td>\n",
       "      <td>+353 (913) 396-4653</td>\n",
       "      <td>2112 Ridgeway Hill</td>\n",
       "      <td>Crumlin</td>\n",
       "      <td>Ireland</td>\n",
       "      <td>D6W</td>\n",
       "      <td>No</td>\n",
       "    </tr>\n",
       "    <tr>\n",
       "      <th>2</th>\n",
       "      <td>21125-22134-PX</td>\n",
       "      <td>Jami Redholes</td>\n",
       "      <td>jredholes2@tmall.com</td>\n",
       "      <td>+1 (210) 986-6806</td>\n",
       "      <td>5214 Bartillon Park</td>\n",
       "      <td>San Antonio</td>\n",
       "      <td>United States</td>\n",
       "      <td>78205</td>\n",
       "      <td>Yes</td>\n",
       "    </tr>\n",
       "    <tr>\n",
       "      <th>3</th>\n",
       "      <td>71253-00052-RN</td>\n",
       "      <td>Dene Azema</td>\n",
       "      <td>dazema3@facebook.com</td>\n",
       "      <td>+1 (217) 418-0714</td>\n",
       "      <td>27 Maywood Place</td>\n",
       "      <td>Springfield</td>\n",
       "      <td>United States</td>\n",
       "      <td>62711</td>\n",
       "      <td>Yes</td>\n",
       "    </tr>\n",
       "    <tr>\n",
       "      <th>4</th>\n",
       "      <td>23806-46781-OU</td>\n",
       "      <td>Christoffer O' Shea</td>\n",
       "      <td>NaN</td>\n",
       "      <td>+353 (698) 362-9201</td>\n",
       "      <td>38980 Manitowish Junction</td>\n",
       "      <td>Cill Airne</td>\n",
       "      <td>Ireland</td>\n",
       "      <td>N41</td>\n",
       "      <td>No</td>\n",
       "    </tr>\n",
       "  </tbody>\n",
       "</table>\n",
       "</div>"
      ],
      "text/plain": [
       "      Customer ID        Customer Name                 Email  \\\n",
       "0  17670-51384-MA       Aloisia Allner     aallner0@lulu.com   \n",
       "1  73342-18763-UW           Piotr Bote       pbote1@yelp.com   \n",
       "2  21125-22134-PX        Jami Redholes  jredholes2@tmall.com   \n",
       "3  71253-00052-RN           Dene Azema  dazema3@facebook.com   \n",
       "4  23806-46781-OU  Christoffer O' Shea                   NaN   \n",
       "\n",
       "          Phone Number             Address Line 1         City        Country  \\\n",
       "0    +1 (862) 817-0124    57999 Pepper Wood Alley     Paterson  United States   \n",
       "1  +353 (913) 396-4653         2112 Ridgeway Hill      Crumlin        Ireland   \n",
       "2    +1 (210) 986-6806        5214 Bartillon Park  San Antonio  United States   \n",
       "3    +1 (217) 418-0714           27 Maywood Place  Springfield  United States   \n",
       "4  +353 (698) 362-9201  38980 Manitowish Junction   Cill Airne        Ireland   \n",
       "\n",
       "  Postcode Loyalty Card  \n",
       "0     7505          Yes  \n",
       "1      D6W           No  \n",
       "2    78205          Yes  \n",
       "3    62711          Yes  \n",
       "4      N41           No  "
      ]
     },
     "execution_count": 4,
     "metadata": {},
     "output_type": "execute_result"
    }
   ],
   "source": [
    "customers.head()"
   ]
  },
  {
   "cell_type": "code",
   "execution_count": 5,
   "id": "dbb36ed8",
   "metadata": {},
   "outputs": [
    {
     "data": {
      "text/html": [
       "<div>\n",
       "<style scoped>\n",
       "    .dataframe tbody tr th:only-of-type {\n",
       "        vertical-align: middle;\n",
       "    }\n",
       "\n",
       "    .dataframe tbody tr th {\n",
       "        vertical-align: top;\n",
       "    }\n",
       "\n",
       "    .dataframe thead th {\n",
       "        text-align: right;\n",
       "    }\n",
       "</style>\n",
       "<table border=\"1\" class=\"dataframe\">\n",
       "  <thead>\n",
       "    <tr style=\"text-align: right;\">\n",
       "      <th></th>\n",
       "      <th>Product ID</th>\n",
       "      <th>Coffee Type</th>\n",
       "      <th>Roast Type</th>\n",
       "      <th>Size</th>\n",
       "      <th>Unit Price</th>\n",
       "      <th>Price per 100g</th>\n",
       "      <th>Profit</th>\n",
       "    </tr>\n",
       "  </thead>\n",
       "  <tbody>\n",
       "    <tr>\n",
       "      <th>0</th>\n",
       "      <td>A-L-0.2</td>\n",
       "      <td>Ara</td>\n",
       "      <td>L</td>\n",
       "      <td>0.2</td>\n",
       "      <td>3.885</td>\n",
       "      <td>1.9425</td>\n",
       "      <td>0.34965</td>\n",
       "    </tr>\n",
       "    <tr>\n",
       "      <th>1</th>\n",
       "      <td>A-L-0.5</td>\n",
       "      <td>Ara</td>\n",
       "      <td>L</td>\n",
       "      <td>0.5</td>\n",
       "      <td>7.770</td>\n",
       "      <td>1.5540</td>\n",
       "      <td>0.69930</td>\n",
       "    </tr>\n",
       "    <tr>\n",
       "      <th>2</th>\n",
       "      <td>A-L-1</td>\n",
       "      <td>Ara</td>\n",
       "      <td>L</td>\n",
       "      <td>1.0</td>\n",
       "      <td>12.950</td>\n",
       "      <td>1.2950</td>\n",
       "      <td>1.16550</td>\n",
       "    </tr>\n",
       "    <tr>\n",
       "      <th>3</th>\n",
       "      <td>A-L-2.5</td>\n",
       "      <td>Ara</td>\n",
       "      <td>L</td>\n",
       "      <td>2.5</td>\n",
       "      <td>29.785</td>\n",
       "      <td>1.1914</td>\n",
       "      <td>2.68065</td>\n",
       "    </tr>\n",
       "    <tr>\n",
       "      <th>4</th>\n",
       "      <td>A-M-0.2</td>\n",
       "      <td>Ara</td>\n",
       "      <td>M</td>\n",
       "      <td>0.2</td>\n",
       "      <td>3.375</td>\n",
       "      <td>1.6875</td>\n",
       "      <td>0.30375</td>\n",
       "    </tr>\n",
       "  </tbody>\n",
       "</table>\n",
       "</div>"
      ],
      "text/plain": [
       "  Product ID Coffee Type Roast Type  Size  Unit Price  Price per 100g   Profit\n",
       "0    A-L-0.2         Ara          L   0.2       3.885          1.9425  0.34965\n",
       "1    A-L-0.5         Ara          L   0.5       7.770          1.5540  0.69930\n",
       "2      A-L-1         Ara          L   1.0      12.950          1.2950  1.16550\n",
       "3    A-L-2.5         Ara          L   2.5      29.785          1.1914  2.68065\n",
       "4    A-M-0.2         Ara          M   0.2       3.375          1.6875  0.30375"
      ]
     },
     "execution_count": 5,
     "metadata": {},
     "output_type": "execute_result"
    }
   ],
   "source": [
    "products.head()"
   ]
  },
  {
   "cell_type": "markdown",
   "id": "e09a449d",
   "metadata": {},
   "source": [
    "Eureka! The Coffee Bean Dataset has loaded into our Notebook.\n"
   ]
  },
  {
   "cell_type": "markdown",
   "id": "164d3aa6",
   "metadata": {},
   "source": [
    "But each worksheet only gives us partial information about the data... So, let's join the worksheets together in order to gain more insights! 🔍\n"
   ]
  },
  {
   "cell_type": "code",
   "execution_count": 6,
   "id": "1cdd17b8",
   "metadata": {},
   "outputs": [],
   "source": [
    "# Merging Orders with Customers on 'Customer ID'\n",
    "orders_customers = pd.merge(orders, customers, on = 'Customer ID', how = 'left')\n",
    "\n",
    "# Merging the result with Products on 'Product ID'\n",
    "coffee_df = pd.merge(orders_customers, products, on = 'Product ID', how = 'left')"
   ]
  },
  {
   "cell_type": "markdown",
   "id": "b3e6dc56",
   "metadata": {},
   "source": [
    "Let's take another peek but now into the merged dataset.\n"
   ]
  },
  {
   "cell_type": "code",
   "execution_count": 7,
   "id": "3bfae213",
   "metadata": {},
   "outputs": [
    {
     "name": "stdout",
     "output_type": "stream",
     "text": [
      "<class 'pandas.core.frame.DataFrame'>\n",
      "RangeIndex: 1000 entries, 0 to 999\n",
      "Data columns (total 27 columns):\n",
      " #   Column           Non-Null Count  Dtype         \n",
      "---  ------           --------------  -----         \n",
      " 0   Order ID         1000 non-null   object        \n",
      " 1   Order Date       1000 non-null   datetime64[ns]\n",
      " 2   Customer ID      1000 non-null   object        \n",
      " 3   Product ID       1000 non-null   object        \n",
      " 4   Quantity         1000 non-null   int64         \n",
      " 5   Customer Name_x  0 non-null      float64       \n",
      " 6   Email_x          0 non-null      float64       \n",
      " 7   Country_x        0 non-null      float64       \n",
      " 8   Coffee Type_x    0 non-null      float64       \n",
      " 9   Roast Type_x     0 non-null      float64       \n",
      " 10  Size_x           0 non-null      float64       \n",
      " 11  Unit Price_x     0 non-null      float64       \n",
      " 12  Sales            0 non-null      float64       \n",
      " 13  Customer Name_y  1000 non-null   object        \n",
      " 14  Email_y          794 non-null    object        \n",
      " 15  Phone Number     865 non-null    object        \n",
      " 16  Address Line 1   1000 non-null   object        \n",
      " 17  City             1000 non-null   object        \n",
      " 18  Country_y        1000 non-null   object        \n",
      " 19  Postcode         1000 non-null   object        \n",
      " 20  Loyalty Card     1000 non-null   object        \n",
      " 21  Coffee Type_y    1000 non-null   object        \n",
      " 22  Roast Type_y     1000 non-null   object        \n",
      " 23  Size_y           1000 non-null   float64       \n",
      " 24  Unit Price_y     1000 non-null   float64       \n",
      " 25  Price per 100g   1000 non-null   float64       \n",
      " 26  Profit           1000 non-null   float64       \n",
      "dtypes: datetime64[ns](1), float64(12), int64(1), object(13)\n",
      "memory usage: 211.1+ KB\n"
     ]
    }
   ],
   "source": [
    "coffee_df.info()"
   ]
  },
  {
   "cell_type": "markdown",
   "id": "f33faddc",
   "metadata": {},
   "source": [
    "We're all set! We can now proceed to cleaning the dataset. 🫧\n"
   ]
  },
  {
   "cell_type": "markdown",
   "id": "0bec60b5",
   "metadata": {},
   "source": [
    "# Data Cleaning 🧹✨\n",
    "\n",
    "Before performing analysis, it is essential to clean the dataset so we ensure accuracy and reliability of results. We'll be handling variables and values with **multiple representations**, **incorrect datatypes**, **missing data**, **duplicate data**, **inconsistent formatting**, and **outliers**.\n"
   ]
  },
  {
   "cell_type": "markdown",
   "id": "3bf7674e",
   "metadata": {},
   "source": [
    "Let's look at the dataset and its variables again!\n"
   ]
  },
  {
   "cell_type": "code",
   "execution_count": 8,
   "id": "49830000",
   "metadata": {},
   "outputs": [
    {
     "name": "stdout",
     "output_type": "stream",
     "text": [
      "<class 'pandas.core.frame.DataFrame'>\n",
      "RangeIndex: 1000 entries, 0 to 999\n",
      "Data columns (total 27 columns):\n",
      " #   Column           Non-Null Count  Dtype         \n",
      "---  ------           --------------  -----         \n",
      " 0   Order ID         1000 non-null   object        \n",
      " 1   Order Date       1000 non-null   datetime64[ns]\n",
      " 2   Customer ID      1000 non-null   object        \n",
      " 3   Product ID       1000 non-null   object        \n",
      " 4   Quantity         1000 non-null   int64         \n",
      " 5   Customer Name_x  0 non-null      float64       \n",
      " 6   Email_x          0 non-null      float64       \n",
      " 7   Country_x        0 non-null      float64       \n",
      " 8   Coffee Type_x    0 non-null      float64       \n",
      " 9   Roast Type_x     0 non-null      float64       \n",
      " 10  Size_x           0 non-null      float64       \n",
      " 11  Unit Price_x     0 non-null      float64       \n",
      " 12  Sales            0 non-null      float64       \n",
      " 13  Customer Name_y  1000 non-null   object        \n",
      " 14  Email_y          794 non-null    object        \n",
      " 15  Phone Number     865 non-null    object        \n",
      " 16  Address Line 1   1000 non-null   object        \n",
      " 17  City             1000 non-null   object        \n",
      " 18  Country_y        1000 non-null   object        \n",
      " 19  Postcode         1000 non-null   object        \n",
      " 20  Loyalty Card     1000 non-null   object        \n",
      " 21  Coffee Type_y    1000 non-null   object        \n",
      " 22  Roast Type_y     1000 non-null   object        \n",
      " 23  Size_y           1000 non-null   float64       \n",
      " 24  Unit Price_y     1000 non-null   float64       \n",
      " 25  Price per 100g   1000 non-null   float64       \n",
      " 26  Profit           1000 non-null   float64       \n",
      "dtypes: datetime64[ns](1), float64(12), int64(1), object(13)\n",
      "memory usage: 211.1+ KB\n"
     ]
    }
   ],
   "source": [
    "coffee_df.info()"
   ]
  },
  {
   "cell_type": "markdown",
   "id": "ef19247f",
   "metadata": {},
   "source": [
    "There's a lot of redundant variables we don't need as a result of merging. We can drop those. Goodbye! 👋\n"
   ]
  },
  {
   "cell_type": "code",
   "execution_count": 9,
   "id": "29c301cf",
   "metadata": {},
   "outputs": [
    {
     "data": {
      "text/html": [
       "<div>\n",
       "<style scoped>\n",
       "    .dataframe tbody tr th:only-of-type {\n",
       "        vertical-align: middle;\n",
       "    }\n",
       "\n",
       "    .dataframe tbody tr th {\n",
       "        vertical-align: top;\n",
       "    }\n",
       "\n",
       "    .dataframe thead th {\n",
       "        text-align: right;\n",
       "    }\n",
       "</style>\n",
       "<table border=\"1\" class=\"dataframe\">\n",
       "  <thead>\n",
       "    <tr style=\"text-align: right;\">\n",
       "      <th></th>\n",
       "      <th>Order ID</th>\n",
       "      <th>Order Date</th>\n",
       "      <th>Customer ID</th>\n",
       "      <th>Product ID</th>\n",
       "      <th>Quantity</th>\n",
       "      <th>Customer Name</th>\n",
       "      <th>Email</th>\n",
       "      <th>Phone Number</th>\n",
       "      <th>Address Line 1</th>\n",
       "      <th>City</th>\n",
       "      <th>Country</th>\n",
       "      <th>Postcode</th>\n",
       "      <th>Loyalty Card</th>\n",
       "      <th>Coffee Type</th>\n",
       "      <th>Roast Type</th>\n",
       "      <th>Size</th>\n",
       "      <th>Unit Price</th>\n",
       "      <th>Price per 100g</th>\n",
       "      <th>Profit</th>\n",
       "    </tr>\n",
       "  </thead>\n",
       "  <tbody>\n",
       "    <tr>\n",
       "      <th>0</th>\n",
       "      <td>QEV-37451-860</td>\n",
       "      <td>2019-09-05</td>\n",
       "      <td>17670-51384-MA</td>\n",
       "      <td>R-M-1</td>\n",
       "      <td>2</td>\n",
       "      <td>Aloisia Allner</td>\n",
       "      <td>aallner0@lulu.com</td>\n",
       "      <td>+1 (862) 817-0124</td>\n",
       "      <td>57999 Pepper Wood Alley</td>\n",
       "      <td>Paterson</td>\n",
       "      <td>United States</td>\n",
       "      <td>7505</td>\n",
       "      <td>Yes</td>\n",
       "      <td>Rob</td>\n",
       "      <td>M</td>\n",
       "      <td>1.0</td>\n",
       "      <td>9.950</td>\n",
       "      <td>0.9950</td>\n",
       "      <td>0.5970</td>\n",
       "    </tr>\n",
       "    <tr>\n",
       "      <th>1</th>\n",
       "      <td>QEV-37451-860</td>\n",
       "      <td>2019-09-05</td>\n",
       "      <td>17670-51384-MA</td>\n",
       "      <td>E-M-0.5</td>\n",
       "      <td>5</td>\n",
       "      <td>Aloisia Allner</td>\n",
       "      <td>aallner0@lulu.com</td>\n",
       "      <td>+1 (862) 817-0124</td>\n",
       "      <td>57999 Pepper Wood Alley</td>\n",
       "      <td>Paterson</td>\n",
       "      <td>United States</td>\n",
       "      <td>7505</td>\n",
       "      <td>Yes</td>\n",
       "      <td>Exc</td>\n",
       "      <td>M</td>\n",
       "      <td>0.5</td>\n",
       "      <td>8.250</td>\n",
       "      <td>1.6500</td>\n",
       "      <td>0.9075</td>\n",
       "    </tr>\n",
       "    <tr>\n",
       "      <th>2</th>\n",
       "      <td>FAA-43335-268</td>\n",
       "      <td>2021-06-17</td>\n",
       "      <td>21125-22134-PX</td>\n",
       "      <td>A-L-1</td>\n",
       "      <td>1</td>\n",
       "      <td>Jami Redholes</td>\n",
       "      <td>jredholes2@tmall.com</td>\n",
       "      <td>+1 (210) 986-6806</td>\n",
       "      <td>5214 Bartillon Park</td>\n",
       "      <td>San Antonio</td>\n",
       "      <td>United States</td>\n",
       "      <td>78205</td>\n",
       "      <td>Yes</td>\n",
       "      <td>Ara</td>\n",
       "      <td>L</td>\n",
       "      <td>1.0</td>\n",
       "      <td>12.950</td>\n",
       "      <td>1.2950</td>\n",
       "      <td>1.1655</td>\n",
       "    </tr>\n",
       "    <tr>\n",
       "      <th>3</th>\n",
       "      <td>KAC-83089-793</td>\n",
       "      <td>2021-07-15</td>\n",
       "      <td>23806-46781-OU</td>\n",
       "      <td>E-M-1</td>\n",
       "      <td>2</td>\n",
       "      <td>Christoffer O' Shea</td>\n",
       "      <td>NaN</td>\n",
       "      <td>+353 (698) 362-9201</td>\n",
       "      <td>38980 Manitowish Junction</td>\n",
       "      <td>Cill Airne</td>\n",
       "      <td>Ireland</td>\n",
       "      <td>N41</td>\n",
       "      <td>No</td>\n",
       "      <td>Exc</td>\n",
       "      <td>M</td>\n",
       "      <td>1.0</td>\n",
       "      <td>13.750</td>\n",
       "      <td>1.3750</td>\n",
       "      <td>1.5125</td>\n",
       "    </tr>\n",
       "    <tr>\n",
       "      <th>4</th>\n",
       "      <td>KAC-83089-793</td>\n",
       "      <td>2021-07-15</td>\n",
       "      <td>23806-46781-OU</td>\n",
       "      <td>R-L-2.5</td>\n",
       "      <td>2</td>\n",
       "      <td>Christoffer O' Shea</td>\n",
       "      <td>NaN</td>\n",
       "      <td>+353 (698) 362-9201</td>\n",
       "      <td>38980 Manitowish Junction</td>\n",
       "      <td>Cill Airne</td>\n",
       "      <td>Ireland</td>\n",
       "      <td>N41</td>\n",
       "      <td>No</td>\n",
       "      <td>Rob</td>\n",
       "      <td>L</td>\n",
       "      <td>2.5</td>\n",
       "      <td>27.485</td>\n",
       "      <td>1.0994</td>\n",
       "      <td>1.6491</td>\n",
       "    </tr>\n",
       "  </tbody>\n",
       "</table>\n",
       "</div>"
      ],
      "text/plain": [
       "        Order ID Order Date     Customer ID Product ID  Quantity  \\\n",
       "0  QEV-37451-860 2019-09-05  17670-51384-MA      R-M-1         2   \n",
       "1  QEV-37451-860 2019-09-05  17670-51384-MA    E-M-0.5         5   \n",
       "2  FAA-43335-268 2021-06-17  21125-22134-PX      A-L-1         1   \n",
       "3  KAC-83089-793 2021-07-15  23806-46781-OU      E-M-1         2   \n",
       "4  KAC-83089-793 2021-07-15  23806-46781-OU    R-L-2.5         2   \n",
       "\n",
       "         Customer Name                 Email         Phone Number  \\\n",
       "0       Aloisia Allner     aallner0@lulu.com    +1 (862) 817-0124   \n",
       "1       Aloisia Allner     aallner0@lulu.com    +1 (862) 817-0124   \n",
       "2        Jami Redholes  jredholes2@tmall.com    +1 (210) 986-6806   \n",
       "3  Christoffer O' Shea                   NaN  +353 (698) 362-9201   \n",
       "4  Christoffer O' Shea                   NaN  +353 (698) 362-9201   \n",
       "\n",
       "              Address Line 1         City        Country Postcode  \\\n",
       "0    57999 Pepper Wood Alley     Paterson  United States     7505   \n",
       "1    57999 Pepper Wood Alley     Paterson  United States     7505   \n",
       "2        5214 Bartillon Park  San Antonio  United States    78205   \n",
       "3  38980 Manitowish Junction   Cill Airne        Ireland      N41   \n",
       "4  38980 Manitowish Junction   Cill Airne        Ireland      N41   \n",
       "\n",
       "  Loyalty Card Coffee Type Roast Type  Size  Unit Price  Price per 100g  \\\n",
       "0          Yes         Rob          M   1.0       9.950          0.9950   \n",
       "1          Yes         Exc          M   0.5       8.250          1.6500   \n",
       "2          Yes         Ara          L   1.0      12.950          1.2950   \n",
       "3           No         Exc          M   1.0      13.750          1.3750   \n",
       "4           No         Rob          L   2.5      27.485          1.0994   \n",
       "\n",
       "   Profit  \n",
       "0  0.5970  \n",
       "1  0.9075  \n",
       "2  1.1655  \n",
       "3  1.5125  \n",
       "4  1.6491  "
      ]
     },
     "execution_count": 9,
     "metadata": {},
     "output_type": "execute_result"
    }
   ],
   "source": [
    "# Dropping the useless columns\n",
    "columns_to_drop = [\n",
    "    'Customer Name_x', \n",
    "    'Email_x', \n",
    "    'Country_x', \n",
    "    'Coffee Type_x', \n",
    "    'Roast Type_x', \n",
    "    'Size_x', \n",
    "    'Unit Price_x', \n",
    "    'Sales']\n",
    "clean_coffee_df = coffee_df.drop(columns = columns_to_drop)\n",
    "\n",
    "# Renaming remaining columns for clarity\n",
    "clean_coffee_df = clean_coffee_df.rename(columns = {\n",
    "    'Customer Name_y': 'Customer Name',\n",
    "    'Email_y': 'Email',\n",
    "    'Country_y': 'Country',\n",
    "    'Coffee Type_y': 'Coffee Type',\n",
    "    'Roast Type_y': 'Roast Type',\n",
    "    'Size_y': 'Size',\n",
    "    'Unit Price_y': 'Unit Price'\n",
    "})\n",
    "\n",
    "clean_coffee_df.head()"
   ]
  },
  {
   "cell_type": "markdown",
   "id": "b67347ea",
   "metadata": {},
   "source": [
    "Looking good so far! We can now proceed to the actual cleaning.\n"
   ]
  },
  {
   "cell_type": "markdown",
   "id": "81705efa",
   "metadata": {},
   "source": [
    "### Incorrect Datatypes\n"
   ]
  },
  {
   "cell_type": "markdown",
   "id": "f0a5a119",
   "metadata": {},
   "source": [
    "Incorrect Datatypes happen when the type of data stored in a column doesn’t match what it should be for correct analysis or operations.\n",
    "\n",
    "Strings shouldn't be stored as Floats! Dates shouldn't be stored as plain text... We might run into problems for computing.\n"
   ]
  },
  {
   "cell_type": "markdown",
   "id": "a8f35701",
   "metadata": {},
   "source": [
    "Here's code to generate table with their current datatypes:\n"
   ]
  },
  {
   "cell_type": "code",
   "execution_count": 10,
   "id": "2c03eddc",
   "metadata": {},
   "outputs": [
    {
     "name": "stdout",
     "output_type": "stream",
     "text": [
      "         Attribute            Type\n",
      "0         Order ID          object\n",
      "1       Order Date  datetime64[ns]\n",
      "2      Customer ID          object\n",
      "3       Product ID          object\n",
      "4         Quantity           int64\n",
      "5    Customer Name          object\n",
      "6            Email          object\n",
      "7     Phone Number          object\n",
      "8   Address Line 1          object\n",
      "9             City          object\n",
      "10         Country          object\n",
      "11        Postcode          object\n",
      "12    Loyalty Card          object\n",
      "13     Coffee Type          object\n",
      "14      Roast Type          object\n",
      "15            Size         float64\n",
      "16      Unit Price         float64\n",
      "17  Price per 100g         float64\n",
      "18          Profit         float64\n"
     ]
    }
   ],
   "source": [
    "# Preparing the table data\n",
    "data = []\n",
    "\n",
    "for column in clean_coffee_df.columns:\n",
    "    # Dropping NA to avoid errors when accessing the first element\n",
    "    first_value = clean_coffee_df[column].dropna().iloc[0] if not clean_coffee_df[column].dropna().empty else None\n",
    "    \n",
    "    data.append({\n",
    "        'Attribute': column,\n",
    "        'Type': str(clean_coffee_df[column].dtype)\n",
    "    })\n",
    "\n",
    "# Converting to DataFrame for display\n",
    "dtype_table = pd.DataFrame(data)\n",
    "print(dtype_table)"
   ]
  },
  {
   "cell_type": "markdown",
   "id": "195edb26",
   "metadata": {},
   "source": [
    "But it seems like some of the datatypes aren't specific enough. Let's look at the ones that stand out! 🧍\n"
   ]
  },
  {
   "cell_type": "markdown",
   "id": "7f6e8223",
   "metadata": {},
   "source": [
    "#### Order, Customer, & Product IDs\n"
   ]
  },
  {
   "cell_type": "markdown",
   "id": "771f2e81",
   "metadata": {},
   "source": [
    "Unique identifiers like the Order ID, Customer ID, and Product ID are stored as objects, specifically strings. No problems here!\n"
   ]
  },
  {
   "cell_type": "code",
   "execution_count": 11,
   "id": "61eb7d22",
   "metadata": {},
   "outputs": [
    {
     "name": "stdout",
     "output_type": "stream",
     "text": [
      "<class 'str'>\n",
      "<class 'str'>\n",
      "<class 'str'>\n"
     ]
    }
   ],
   "source": [
    "print(type(clean_coffee_df['Order ID'].iloc[0]))\n",
    "print(type(clean_coffee_df['Customer ID'].iloc[0]))\n",
    "print(type(clean_coffee_df['Product ID'].iloc[0]))"
   ]
  },
  {
   "cell_type": "markdown",
   "id": "fdd8fe60",
   "metadata": {},
   "source": [
    "#### Order Date\n"
   ]
  },
  {
   "cell_type": "markdown",
   "id": "865bf661",
   "metadata": {},
   "source": [
    "Order Dates are stored as objects, specifically a datetime. All good on this end!\n"
   ]
  },
  {
   "cell_type": "code",
   "execution_count": 12,
   "id": "48b60049",
   "metadata": {},
   "outputs": [
    {
     "name": "stdout",
     "output_type": "stream",
     "text": [
      "<class 'pandas._libs.tslibs.timestamps.Timestamp'>\n"
     ]
    }
   ],
   "source": [
    "print(type(clean_coffee_df['Order Date'].iloc[0]))"
   ]
  },
  {
   "cell_type": "markdown",
   "id": "e6ebe554",
   "metadata": {},
   "source": [
    "#### Customer Name, Email, Address Line 1, City, Country, and Phone Number\n"
   ]
  },
  {
   "cell_type": "markdown",
   "id": "d34ab19b",
   "metadata": {},
   "source": [
    "On that note, textual information like the Customer Name, Email, Address Line 1, City, Country, and Phone Number should be strings also.\n"
   ]
  },
  {
   "cell_type": "code",
   "execution_count": 13,
   "id": "a397a0fe",
   "metadata": {},
   "outputs": [
    {
     "name": "stdout",
     "output_type": "stream",
     "text": [
      "<class 'str'>\n",
      "<class 'str'>\n",
      "<class 'str'>\n",
      "<class 'str'>\n",
      "<class 'str'>\n",
      "<class 'str'>\n"
     ]
    }
   ],
   "source": [
    "print(type(clean_coffee_df['Customer Name'].iloc[0]))\n",
    "print(type(clean_coffee_df['Email'].iloc[0]))\n",
    "print(type(clean_coffee_df['Address Line 1'].iloc[0]))\n",
    "print(type(clean_coffee_df['City'].iloc[0]))\n",
    "print(type(clean_coffee_df['Country'].iloc[0]))\n",
    "print(type(clean_coffee_df['Phone Number'].iloc[0]))"
   ]
  },
  {
   "cell_type": "markdown",
   "id": "46dc27cc",
   "metadata": {},
   "source": [
    "#### Postcode\n"
   ]
  },
  {
   "cell_type": "markdown",
   "id": "bf9fdfdf",
   "metadata": {},
   "source": [
    "Oh no! All the other variables are correct but Postcodes are represented as ints, so let's fix that!\n"
   ]
  },
  {
   "cell_type": "code",
   "execution_count": 14,
   "id": "daeb5d2a",
   "metadata": {},
   "outputs": [],
   "source": [
    "clean_coffee_df['Postcode'] = clean_coffee_df['Postcode'].astype(str)"
   ]
  },
  {
   "cell_type": "code",
   "execution_count": 15,
   "id": "f02c50ac",
   "metadata": {},
   "outputs": [
    {
     "name": "stdout",
     "output_type": "stream",
     "text": [
      "<class 'str'>\n"
     ]
    }
   ],
   "source": [
    "print(type(clean_coffee_df['Postcode'].iloc[0]))"
   ]
  },
  {
   "cell_type": "markdown",
   "id": "17063011",
   "metadata": {},
   "source": [
    "#### Loyalty Card\n"
   ]
  },
  {
   "cell_type": "markdown",
   "id": "c2bf2c14",
   "metadata": {},
   "source": [
    "The Loyalty Card variable is filled with \"Yes\" and \"No\", but it would be much better to analyze boolean values. Would that be true or false?\n"
   ]
  },
  {
   "cell_type": "code",
   "execution_count": 16,
   "id": "9548bbc7",
   "metadata": {},
   "outputs": [],
   "source": [
    "clean_coffee_df['Loyalty Card'] = clean_coffee_df['Loyalty Card'].map({'Yes': True, 'No': False}).astype(bool)"
   ]
  },
  {
   "cell_type": "code",
   "execution_count": 17,
   "id": "d4830b41",
   "metadata": {},
   "outputs": [
    {
     "name": "stdout",
     "output_type": "stream",
     "text": [
      "<class 'numpy.bool'>\n"
     ]
    }
   ],
   "source": [
    "print(type(clean_coffee_df['Loyalty Card'].iloc[0]))"
   ]
  },
  {
   "cell_type": "markdown",
   "id": "5793ceca",
   "metadata": {},
   "source": [
    "#### Unit Price, Price per 100g, Profit, Size, and Quantity\n"
   ]
  },
  {
   "cell_type": "markdown",
   "id": "10b0cb83",
   "metadata": {},
   "source": [
    "Numerical information like Unit Price, Price per 100g, Profit, Size, and Quantity are already floats and int respectively. No need for corrections!\n"
   ]
  },
  {
   "cell_type": "code",
   "execution_count": 18,
   "id": "2eb97cd9",
   "metadata": {},
   "outputs": [
    {
     "name": "stdout",
     "output_type": "stream",
     "text": [
      "<class 'numpy.float64'>\n",
      "<class 'numpy.float64'>\n",
      "<class 'numpy.float64'>\n",
      "<class 'numpy.float64'>\n",
      "<class 'numpy.int64'>\n"
     ]
    }
   ],
   "source": [
    "print(type(clean_coffee_df['Unit Price'].iloc[0]))\n",
    "print(type(clean_coffee_df['Price per 100g'].iloc[0]))\n",
    "print(type(clean_coffee_df['Profit'].iloc[0]))\n",
    "print(type(clean_coffee_df['Size'].iloc[0]))\n",
    "print(type(clean_coffee_df['Quantity'].iloc[0]))"
   ]
  },
  {
   "cell_type": "markdown",
   "id": "4f955489",
   "metadata": {},
   "source": [
    "#### Coffee Type & Roast Type\n"
   ]
  },
  {
   "cell_type": "markdown",
   "id": "5c3358fa",
   "metadata": {},
   "source": [
    "Information that uses the same set of values can be identified into categories. For the Coffee Type, and Roast Type, we can convert them to the category datatype.\n"
   ]
  },
  {
   "cell_type": "code",
   "execution_count": 19,
   "id": "7607115b",
   "metadata": {},
   "outputs": [],
   "source": [
    "clean_coffee_df['Coffee Type'] = clean_coffee_df['Coffee Type'].astype('category')\n",
    "clean_coffee_df['Roast Type'] = clean_coffee_df['Roast Type'].astype('category')"
   ]
  },
  {
   "cell_type": "code",
   "execution_count": 20,
   "id": "f024db65",
   "metadata": {},
   "outputs": [
    {
     "name": "stdout",
     "output_type": "stream",
     "text": [
      "category\n",
      "category\n"
     ]
    }
   ],
   "source": [
    "print(clean_coffee_df['Coffee Type'].dtype)\n",
    "print(clean_coffee_df['Roast Type'].dtype)"
   ]
  },
  {
   "cell_type": "markdown",
   "id": "aa38d43e",
   "metadata": {},
   "source": [
    "#### Checking\n"
   ]
  },
  {
   "cell_type": "markdown",
   "id": "02e83273",
   "metadata": {},
   "source": [
    "Let's run the code to check all the datatypes again...\n"
   ]
  },
  {
   "cell_type": "code",
   "execution_count": 21,
   "id": "96cbc714",
   "metadata": {},
   "outputs": [
    {
     "name": "stdout",
     "output_type": "stream",
     "text": [
      "         Attribute     Pandas Type Python Type\n",
      "0         Order ID          object         str\n",
      "1       Order Date  datetime64[ns]   Timestamp\n",
      "2      Customer ID          object         str\n",
      "3       Product ID          object         str\n",
      "4         Quantity           int64       int64\n",
      "5    Customer Name          object         str\n",
      "6            Email          object         str\n",
      "7     Phone Number          object         str\n",
      "8   Address Line 1          object         str\n",
      "9             City          object         str\n",
      "10         Country          object         str\n",
      "11        Postcode          object         str\n",
      "12    Loyalty Card            bool        bool\n",
      "13     Coffee Type        category         str\n",
      "14      Roast Type        category         str\n",
      "15            Size         float64     float64\n",
      "16      Unit Price         float64     float64\n",
      "17  Price per 100g         float64     float64\n",
      "18          Profit         float64     float64\n"
     ]
    }
   ],
   "source": [
    "# Preparing the table data\n",
    "data = []\n",
    "\n",
    "for column in clean_coffee_df.columns:\n",
    "    # Drop NA to avoid errors when accessing the first element\n",
    "    first_value = clean_coffee_df[column].dropna().iloc[0] if not clean_coffee_df[column].dropna().empty else None\n",
    "    python_type = type(first_value).__name__ if first_value is not None else 'NoneType'\n",
    "    \n",
    "    data.append({\n",
    "        'Attribute': column,\n",
    "        'Pandas Type': str(clean_coffee_df[column].dtype),\n",
    "        'Python Type': python_type\n",
    "    })\n",
    "\n",
    "# Converting to DataFrame for display\n",
    "dtype_table = pd.DataFrame(data)\n",
    "print(dtype_table)\n"
   ]
  },
  {
   "cell_type": "markdown",
   "id": "927ae8ac",
   "metadata": {},
   "source": [
    "We're all set, the datatypes now fit the variables! Good job! 👏\n"
   ]
  },
  {
   "cell_type": "markdown",
   "id": "d6b7e0e3",
   "metadata": {},
   "source": [
    "### Multiple Representations\n"
   ]
  },
  {
   "cell_type": "markdown",
   "id": "f385e0d2",
   "metadata": {},
   "source": [
    "Some observations may have the same value but presented differently. That's what we call \"Multiple Representations\".\n",
    "\n",
    "Just as an example, there are observations in Country \"U.S.A\", \"United States of America\", and \"USA\". That's too many! We have make America consistent again! 🦅\n"
   ]
  },
  {
   "cell_type": "markdown",
   "id": "9b4a4ffc",
   "metadata": {},
   "source": [
    "Only the variables categorical in nature or text-based should be checked, namely the following:\n",
    "\n",
    "- Coffee Type\n",
    "- Roast Type\n",
    "- Country\n",
    "- City\n",
    "- Customer Name\n",
    "- Email\n",
    "- Loyalty Card\n"
   ]
  },
  {
   "cell_type": "markdown",
   "id": "223c3ca7",
   "metadata": {},
   "source": [
    "#### Coffee Type & Roast Type\n"
   ]
  },
  {
   "cell_type": "markdown",
   "id": "171de211",
   "metadata": {},
   "source": [
    "We can start with the categorical coffee bean variables since they're expected to be consistent all throughout.\n"
   ]
  },
  {
   "cell_type": "code",
   "execution_count": 22,
   "id": "00f4c507",
   "metadata": {},
   "outputs": [
    {
     "name": "stdout",
     "output_type": "stream",
     "text": [
      "['Rob', 'Exc', 'Ara', 'Lib']\n",
      "Categories (4, object): ['Ara', 'Exc', 'Lib', 'Rob']\n",
      "['M', 'L', 'D']\n",
      "Categories (3, object): ['D', 'L', 'M']\n"
     ]
    }
   ],
   "source": [
    "print(clean_coffee_df['Coffee Type'].unique())\n",
    "print(clean_coffee_df['Roast Type'].unique())"
   ]
  },
  {
   "cell_type": "markdown",
   "id": "40e067c9",
   "metadata": {},
   "source": [
    "There are 4 distinct objects for Coffee Type and there are no duplicates among the values found, same goes with the Roast Type with 3. So, we can conclude that there are no multiple representations.\n"
   ]
  },
  {
   "cell_type": "markdown",
   "id": "e7b78c0d",
   "metadata": {},
   "source": [
    "#### Country\n"
   ]
  },
  {
   "cell_type": "markdown",
   "id": "9c3511d6",
   "metadata": {},
   "source": [
    "Same logic goes for the Country variable.\n"
   ]
  },
  {
   "cell_type": "code",
   "execution_count": 23,
   "id": "e940dd65",
   "metadata": {},
   "outputs": [
    {
     "name": "stdout",
     "output_type": "stream",
     "text": [
      "['United States' 'Ireland' 'United Kingdom']\n",
      "3\n"
     ]
    }
   ],
   "source": [
    "print(clean_coffee_df['Country'].unique())\n",
    "print(clean_coffee_df['Country'].nunique())"
   ]
  },
  {
   "cell_type": "markdown",
   "id": "411658ca",
   "metadata": {},
   "source": [
    "#### City\n"
   ]
  },
  {
   "cell_type": "markdown",
   "id": "886a0d81",
   "metadata": {},
   "source": [
    "It seems like there are so many values in the City variable! Unlike previous variables, we can't manually inspect the list this long! ❌\n"
   ]
  },
  {
   "cell_type": "code",
   "execution_count": 24,
   "id": "3bfd14c7",
   "metadata": {},
   "outputs": [
    {
     "name": "stdout",
     "output_type": "stream",
     "text": [
      "375\n"
     ]
    }
   ],
   "source": [
    "print(clean_coffee_df['City'].nunique())"
   ]
  },
  {
   "cell_type": "code",
   "execution_count": 25,
   "id": "d9742917",
   "metadata": {},
   "outputs": [
    {
     "data": {
      "text/plain": [
       "City\n",
       "Washington       26\n",
       "New York City    17\n",
       "Oklahoma City    15\n",
       "Houston          15\n",
       "Birmingham       13\n",
       "                 ..\n",
       "Silver Spring     1\n",
       "Conroe            1\n",
       "Bundoran          1\n",
       "Daytona Beach     1\n",
       "Wirral            1\n",
       "Name: count, Length: 375, dtype: int64"
      ]
     },
     "execution_count": 25,
     "metadata": {},
     "output_type": "execute_result"
    }
   ],
   "source": [
    "clean_coffee_df['City'].value_counts()"
   ]
  },
  {
   "cell_type": "markdown",
   "id": "777979ae",
   "metadata": {},
   "source": [
    "Fuzzy matching can be used to find potential values that are represented differently. ✅\n"
   ]
  },
  {
   "cell_type": "code",
   "execution_count": 26,
   "id": "9a2e0106",
   "metadata": {},
   "outputs": [
    {
     "name": "stdout",
     "output_type": "stream",
     "text": [
      "scranton ↔ canton: 85.71428571428572\n",
      "charleston ↔ charlton: 88.88888888888889\n",
      "nashville ↔ asheville: 88.88888888888889\n",
      "canton ↔ scranton: 85.71428571428572\n",
      "eaton ↔ seaton: 90.9090909090909\n",
      "reston ↔ preston: 92.3076923076923\n",
      "charlton ↔ carlton: 93.33333333333333\n",
      "charlton ↔ charleston: 88.88888888888889\n",
      "charlton ↔ halton: 85.71428571428572\n",
      "asheville ↔ nashville: 88.88888888888889\n",
      "preston ↔ reston: 92.3076923076923\n",
      "seaton ↔ eaton: 90.9090909090909\n",
      "halton ↔ charlton: 85.71428571428572\n",
      "carlton ↔ charlton: 93.33333333333333\n",
      "salinas ↔ sallins: 85.71428571428572\n",
      "sallins ↔ salinas: 85.71428571428572\n"
     ]
    }
   ],
   "source": [
    "# Making City names lowercase to compare them without case-sensitivity\n",
    "cities = clean_coffee_df['City'].str.lower().unique()\n",
    "\n",
    "for city in cities:\n",
    "    matches = process.extract(city, cities, scorer = fuzz.ratio, limit = 5)\n",
    "    for match, score, _ in matches:\n",
    "        if city != match and score > 85:\n",
    "            print(f\"{city} ↔ {match}: {score}\")"
   ]
  },
  {
   "cell_type": "markdown",
   "id": "253ef91f",
   "metadata": {},
   "source": [
    "The code only returned City values with names spelled closely, but there's not one same value represented in multiple ways! So, all is well here!\n"
   ]
  },
  {
   "cell_type": "markdown",
   "id": "af47e493",
   "metadata": {},
   "source": [
    "#### Customer Name\n"
   ]
  },
  {
   "cell_type": "markdown",
   "id": "13ea6195",
   "metadata": {},
   "source": [
    "There are too many Customer Names too! 🧑‍🦰🧑‍🦱🧔\n"
   ]
  },
  {
   "cell_type": "markdown",
   "id": "d0b59b40",
   "metadata": {},
   "source": [
    "What we can do is make a DataFrame with the normalized names, then compare the original data with that.\n"
   ]
  },
  {
   "cell_type": "code",
   "execution_count": 27,
   "id": "ba1ef05f",
   "metadata": {},
   "outputs": [],
   "source": [
    "# Creating a temporary normalized version\n",
    "normalized_names = clean_coffee_df['Customer Name'].str.strip().str.title()\n",
    "\n",
    "# Grouping by normalized names then counting unique representations\n",
    "name_variations = clean_coffee_df.groupby(normalized_names)['Customer Name'].nunique()\n",
    "\n",
    "# Showing only names with multiple representations\n",
    "multiple_representations = name_variations[name_variations > 1]"
   ]
  },
  {
   "cell_type": "markdown",
   "id": "f30212cf",
   "metadata": {},
   "source": [
    "If anything appears in the block of code below, there are multiple variants of a name. If not, all Customer Names are represented in just one way.\n"
   ]
  },
  {
   "cell_type": "code",
   "execution_count": 28,
   "id": "a0ec0a48",
   "metadata": {},
   "outputs": [],
   "source": [
    "# Displaying the cleaned name and its variants if they exist\n",
    "for name in multiple_representations.index:\n",
    "    variants = clean_coffee_df.loc[normalized_names == name, 'Customer Name'].unique()\n",
    "    print(f\"{name} → {variants}\")"
   ]
  },
  {
   "cell_type": "markdown",
   "id": "e2d2007d",
   "metadata": {},
   "source": [
    "We can see that all Customer Names have no repeats with a different variation!\n"
   ]
  },
  {
   "cell_type": "markdown",
   "id": "000f738b",
   "metadata": {},
   "source": [
    "#### Email\n"
   ]
  },
  {
   "cell_type": "markdown",
   "id": "cda7cf43",
   "metadata": {},
   "source": [
    "Now we use fuzzy matching to look for emails typed differently.\n"
   ]
  },
  {
   "cell_type": "code",
   "execution_count": 29,
   "id": "cf221933",
   "metadata": {},
   "outputs": [
    {
     "name": "stdout",
     "output_type": "stream",
     "text": [
      "egrise2g@cargocollective.com ↔ dfrieseq@cargocollective.com: 85.71428571428572\n",
      "dfrieseq@cargocollective.com ↔ egrise2g@cargocollective.com: 85.71428571428572\n"
     ]
    }
   ],
   "source": [
    "# Making Email Addresses lowercase to compare them without case-sensitivity\n",
    "emails = clean_coffee_df['Email'].str.lower().unique()\n",
    "\n",
    "for email in emails:\n",
    "    matches = process.extract(email, emails, scorer = fuzz.ratio, limit = 5)\n",
    "    for match, score, _ in matches:\n",
    "        if email != match and score > 85:\n",
    "            print(f\"{email} ↔ {match}: {score}\")"
   ]
  },
  {
   "cell_type": "markdown",
   "id": "5ca87875",
   "metadata": {},
   "source": [
    "Seems like these are totally different emails, we can move on.\n"
   ]
  },
  {
   "cell_type": "markdown",
   "id": "c261a9af",
   "metadata": {},
   "source": [
    "#### Loyalty Card\n"
   ]
  },
  {
   "cell_type": "markdown",
   "id": "59e0c193",
   "metadata": {},
   "source": [
    "Lastly, we check if the Loyalty Card Ownership variable has any other values than \"True\" or \"False\".\n"
   ]
  },
  {
   "cell_type": "code",
   "execution_count": 30,
   "id": "8d1e5dfb",
   "metadata": {},
   "outputs": [
    {
     "name": "stdout",
     "output_type": "stream",
     "text": [
      "[ True False]\n"
     ]
    }
   ],
   "source": [
    "print(clean_coffee_df['Loyalty Card'].unique())"
   ]
  },
  {
   "cell_type": "markdown",
   "id": "057b0cdd",
   "metadata": {},
   "source": [
    "In terms of multiple representations, our dataset has been cleaned! Wahoo! ✨\n"
   ]
  },
  {
   "cell_type": "markdown",
   "id": "a7e84d2f",
   "metadata": {},
   "source": [
    "### Missing Data\n"
   ]
  },
  {
   "cell_type": "markdown",
   "id": "1cf4e4fa",
   "metadata": {},
   "source": [
    "Some variables may have unfilled values. The lack of values may make some algorithms and functions produce errors, sway bias, or make for inaccurate conclusions.\n",
    "\n",
    "We can't allow that to happen! Let's fill in the gaps! 🕳️🧑‍🦯\n"
   ]
  },
  {
   "cell_type": "markdown",
   "id": "312cdb34",
   "metadata": {},
   "source": [
    "Have this code snippet to check which variables have null values in their observations.\n"
   ]
  },
  {
   "cell_type": "code",
   "execution_count": 31,
   "id": "b089a1ff",
   "metadata": {},
   "outputs": [
    {
     "name": "stdout",
     "output_type": "stream",
     "text": [
      "Email           206\n",
      "Phone Number    135\n",
      "dtype: int64\n"
     ]
    }
   ],
   "source": [
    "# Showing the number of missing values per column\n",
    "missing_data = clean_coffee_df.isnull().sum()\n",
    "\n",
    "# Displaying only columns with missing data\n",
    "print(missing_data[missing_data > 0])"
   ]
  },
  {
   "cell_type": "markdown",
   "id": "051d46e0",
   "metadata": {},
   "source": [
    "The only variables with null values are the Phone Number and Email of the customers.\n"
   ]
  },
  {
   "cell_type": "markdown",
   "id": "6fcc0f3f",
   "metadata": {},
   "source": [
    "There are three approaches we can go with regarding these values:\n",
    "\n",
    "1. Dropping the columns. If they aren't be essential.\n",
    "2. Leaving them as is. If they won't be used.\n",
    "3. Replacing with \"Unknown\" or other null-indicating strings. If they might be used or might be filled up for later.\n"
   ]
  },
  {
   "cell_type": "markdown",
   "id": "ddc2dcec",
   "metadata": {},
   "source": [
    "This notebook will focus primarily on marketing and identifying trends.\n",
    "\n",
    "Let's just say the company which needs the data analyses uses the Email and Phone Numbers to send newsletters and text notifications for upcoming deals and product promotions. 📈📉\n"
   ]
  },
  {
   "cell_type": "markdown",
   "id": "eafdc956",
   "metadata": {},
   "source": [
    "This means we will need the contacts of the customers in the future, meaning we'll go with option 3 and replace the null values with \"Unknown\".\n"
   ]
  },
  {
   "cell_type": "code",
   "execution_count": 32,
   "id": "340d9c90",
   "metadata": {},
   "outputs": [],
   "source": [
    "# Replacing empty strings with NaN first\n",
    "clean_coffee_df['Phone Number'] = clean_coffee_df['Phone Number'].replace(r'^\\s*$', np.nan, regex=True)\n",
    "clean_coffee_df['Email'] = clean_coffee_df['Email'].replace(r'^\\s*$', np.nan, regex=True)\n",
    "\n",
    "# Replacing NaN values with unknown\n",
    "clean_coffee_df[['Phone Number', 'Email']] = clean_coffee_df[['Phone Number', 'Email']].fillna(\"Unknown\")"
   ]
  },
  {
   "cell_type": "code",
   "execution_count": 33,
   "id": "b2264436",
   "metadata": {},
   "outputs": [
    {
     "name": "stdout",
     "output_type": "stream",
     "text": [
      "Series([], dtype: int64)\n"
     ]
    }
   ],
   "source": [
    "# Showing the number of missing values per column\n",
    "missing_data = clean_coffee_df.isnull().sum()\n",
    "\n",
    "# Displaying only columns with missing data\n",
    "print(missing_data[missing_data > 0])"
   ]
  },
  {
   "cell_type": "markdown",
   "id": "20380ac8",
   "metadata": {},
   "source": [
    "That's all for the missing data! I hope we didn't miss anything. 😆\n"
   ]
  },
  {
   "cell_type": "markdown",
   "id": "fee77ca7",
   "metadata": {},
   "source": [
    "### Duplicate Data\n"
   ]
  },
  {
   "cell_type": "markdown",
   "id": "1ef4ae18",
   "metadata": {},
   "source": [
    "Data may have been recorded multiple times but have almost the exact same values.\n",
    "\n",
    "We have to look out for these since, again, they might skew our analysis and make it inaccurate.\n"
   ]
  },
  {
   "cell_type": "markdown",
   "id": "1f8fab10",
   "metadata": {},
   "source": [
    "Use the following code snippet to check whether there are duplicate observations for the Product and Order ID since these should not repeat. ✌️\n"
   ]
  },
  {
   "cell_type": "code",
   "execution_count": 34,
   "id": "59c37ef1",
   "metadata": {},
   "outputs": [
    {
     "name": "stdout",
     "output_type": "stream",
     "text": [
      "1\n",
      "2\n"
     ]
    }
   ],
   "source": [
    "print((clean_coffee_df.duplicated(subset = ['Order ID', 'Product ID'])).sum())\n",
    "print((clean_coffee_df.duplicated(subset = ['Customer Name', 'Product ID'])).sum())"
   ]
  },
  {
   "cell_type": "markdown",
   "id": "565c3370",
   "metadata": {},
   "source": [
    "It looks like there are duplicates, let's inspect them:\n"
   ]
  },
  {
   "cell_type": "code",
   "execution_count": 35,
   "id": "6c032239",
   "metadata": {},
   "outputs": [
    {
     "data": {
      "text/html": [
       "<div>\n",
       "<style scoped>\n",
       "    .dataframe tbody tr th:only-of-type {\n",
       "        vertical-align: middle;\n",
       "    }\n",
       "\n",
       "    .dataframe tbody tr th {\n",
       "        vertical-align: top;\n",
       "    }\n",
       "\n",
       "    .dataframe thead th {\n",
       "        text-align: right;\n",
       "    }\n",
       "</style>\n",
       "<table border=\"1\" class=\"dataframe\">\n",
       "  <thead>\n",
       "    <tr style=\"text-align: right;\">\n",
       "      <th></th>\n",
       "      <th>Order ID</th>\n",
       "      <th>Order Date</th>\n",
       "      <th>Customer ID</th>\n",
       "      <th>Product ID</th>\n",
       "      <th>Quantity</th>\n",
       "      <th>Customer Name</th>\n",
       "      <th>Email</th>\n",
       "      <th>Phone Number</th>\n",
       "      <th>Address Line 1</th>\n",
       "      <th>City</th>\n",
       "      <th>Country</th>\n",
       "      <th>Postcode</th>\n",
       "      <th>Loyalty Card</th>\n",
       "      <th>Coffee Type</th>\n",
       "      <th>Roast Type</th>\n",
       "      <th>Size</th>\n",
       "      <th>Unit Price</th>\n",
       "      <th>Price per 100g</th>\n",
       "      <th>Profit</th>\n",
       "    </tr>\n",
       "  </thead>\n",
       "  <tbody>\n",
       "    <tr>\n",
       "      <th>197</th>\n",
       "      <td>NOP-21394-646</td>\n",
       "      <td>2021-05-23</td>\n",
       "      <td>16982-35708-BZ</td>\n",
       "      <td>L-D-2.5</td>\n",
       "      <td>2</td>\n",
       "      <td>Nealson Cuttler</td>\n",
       "      <td>ncuttler5g@parallels.com</td>\n",
       "      <td>Unknown</td>\n",
       "      <td>1 Melvin Circle</td>\n",
       "      <td>Washington</td>\n",
       "      <td>United States</td>\n",
       "      <td>20535</td>\n",
       "      <td>False</td>\n",
       "      <td>Lib</td>\n",
       "      <td>D</td>\n",
       "      <td>2.5</td>\n",
       "      <td>29.785</td>\n",
       "      <td>1.1914</td>\n",
       "      <td>3.87205</td>\n",
       "    </tr>\n",
       "    <tr>\n",
       "      <th>198</th>\n",
       "      <td>NOP-21394-646</td>\n",
       "      <td>2021-05-23</td>\n",
       "      <td>16982-35708-BZ</td>\n",
       "      <td>L-D-2.5</td>\n",
       "      <td>3</td>\n",
       "      <td>Nealson Cuttler</td>\n",
       "      <td>ncuttler5g@parallels.com</td>\n",
       "      <td>Unknown</td>\n",
       "      <td>1 Melvin Circle</td>\n",
       "      <td>Washington</td>\n",
       "      <td>United States</td>\n",
       "      <td>20535</td>\n",
       "      <td>False</td>\n",
       "      <td>Lib</td>\n",
       "      <td>D</td>\n",
       "      <td>2.5</td>\n",
       "      <td>29.785</td>\n",
       "      <td>1.1914</td>\n",
       "      <td>3.87205</td>\n",
       "    </tr>\n",
       "  </tbody>\n",
       "</table>\n",
       "</div>"
      ],
      "text/plain": [
       "          Order ID Order Date     Customer ID Product ID  Quantity  \\\n",
       "197  NOP-21394-646 2021-05-23  16982-35708-BZ    L-D-2.5         2   \n",
       "198  NOP-21394-646 2021-05-23  16982-35708-BZ    L-D-2.5         3   \n",
       "\n",
       "       Customer Name                     Email Phone Number   Address Line 1  \\\n",
       "197  Nealson Cuttler  ncuttler5g@parallels.com      Unknown  1 Melvin Circle   \n",
       "198  Nealson Cuttler  ncuttler5g@parallels.com      Unknown  1 Melvin Circle   \n",
       "\n",
       "           City        Country Postcode  Loyalty Card Coffee Type Roast Type  \\\n",
       "197  Washington  United States    20535         False         Lib          D   \n",
       "198  Washington  United States    20535         False         Lib          D   \n",
       "\n",
       "     Size  Unit Price  Price per 100g   Profit  \n",
       "197   2.5      29.785          1.1914  3.87205  \n",
       "198   2.5      29.785          1.1914  3.87205  "
      ]
     },
     "execution_count": 35,
     "metadata": {},
     "output_type": "execute_result"
    }
   ],
   "source": [
    "clean_coffee_df.duplicated(subset = ['Order ID', 'Product ID']).sum()\n",
    "clean_coffee_df[clean_coffee_df.duplicated(subset=['Order ID', 'Product ID'], keep = False)]"
   ]
  },
  {
   "cell_type": "code",
   "execution_count": 36,
   "id": "6f27bcd2",
   "metadata": {},
   "outputs": [
    {
     "data": {
      "text/html": [
       "<div>\n",
       "<style scoped>\n",
       "    .dataframe tbody tr th:only-of-type {\n",
       "        vertical-align: middle;\n",
       "    }\n",
       "\n",
       "    .dataframe tbody tr th {\n",
       "        vertical-align: top;\n",
       "    }\n",
       "\n",
       "    .dataframe thead th {\n",
       "        text-align: right;\n",
       "    }\n",
       "</style>\n",
       "<table border=\"1\" class=\"dataframe\">\n",
       "  <thead>\n",
       "    <tr style=\"text-align: right;\">\n",
       "      <th></th>\n",
       "      <th>Order ID</th>\n",
       "      <th>Order Date</th>\n",
       "      <th>Customer ID</th>\n",
       "      <th>Product ID</th>\n",
       "      <th>Quantity</th>\n",
       "      <th>Customer Name</th>\n",
       "      <th>Email</th>\n",
       "      <th>Phone Number</th>\n",
       "      <th>Address Line 1</th>\n",
       "      <th>City</th>\n",
       "      <th>Country</th>\n",
       "      <th>Postcode</th>\n",
       "      <th>Loyalty Card</th>\n",
       "      <th>Coffee Type</th>\n",
       "      <th>Roast Type</th>\n",
       "      <th>Size</th>\n",
       "      <th>Unit Price</th>\n",
       "      <th>Price per 100g</th>\n",
       "      <th>Profit</th>\n",
       "    </tr>\n",
       "  </thead>\n",
       "  <tbody>\n",
       "    <tr>\n",
       "      <th>197</th>\n",
       "      <td>NOP-21394-646</td>\n",
       "      <td>2021-05-23</td>\n",
       "      <td>16982-35708-BZ</td>\n",
       "      <td>L-D-2.5</td>\n",
       "      <td>2</td>\n",
       "      <td>Nealson Cuttler</td>\n",
       "      <td>ncuttler5g@parallels.com</td>\n",
       "      <td>Unknown</td>\n",
       "      <td>1 Melvin Circle</td>\n",
       "      <td>Washington</td>\n",
       "      <td>United States</td>\n",
       "      <td>20535</td>\n",
       "      <td>False</td>\n",
       "      <td>Lib</td>\n",
       "      <td>D</td>\n",
       "      <td>2.5</td>\n",
       "      <td>29.785</td>\n",
       "      <td>1.1914</td>\n",
       "      <td>3.87205</td>\n",
       "    </tr>\n",
       "    <tr>\n",
       "      <th>198</th>\n",
       "      <td>NOP-21394-646</td>\n",
       "      <td>2021-05-23</td>\n",
       "      <td>16982-35708-BZ</td>\n",
       "      <td>L-D-2.5</td>\n",
       "      <td>3</td>\n",
       "      <td>Nealson Cuttler</td>\n",
       "      <td>ncuttler5g@parallels.com</td>\n",
       "      <td>Unknown</td>\n",
       "      <td>1 Melvin Circle</td>\n",
       "      <td>Washington</td>\n",
       "      <td>United States</td>\n",
       "      <td>20535</td>\n",
       "      <td>False</td>\n",
       "      <td>Lib</td>\n",
       "      <td>D</td>\n",
       "      <td>2.5</td>\n",
       "      <td>29.785</td>\n",
       "      <td>1.1914</td>\n",
       "      <td>3.87205</td>\n",
       "    </tr>\n",
       "    <tr>\n",
       "      <th>953</th>\n",
       "      <td>PJS-30996-485</td>\n",
       "      <td>2022-01-21</td>\n",
       "      <td>86579-92122-OC</td>\n",
       "      <td>A-L-0.2</td>\n",
       "      <td>1</td>\n",
       "      <td>Brenn Dundredge</td>\n",
       "      <td>Unknown</td>\n",
       "      <td>+1 (405) 369-5173</td>\n",
       "      <td>5 Morrow Street</td>\n",
       "      <td>Oklahoma City</td>\n",
       "      <td>United States</td>\n",
       "      <td>73129</td>\n",
       "      <td>True</td>\n",
       "      <td>Ara</td>\n",
       "      <td>L</td>\n",
       "      <td>0.2</td>\n",
       "      <td>3.885</td>\n",
       "      <td>1.9425</td>\n",
       "      <td>0.34965</td>\n",
       "    </tr>\n",
       "    <tr>\n",
       "      <th>958</th>\n",
       "      <td>NCH-55389-562</td>\n",
       "      <td>2019-04-27</td>\n",
       "      <td>86579-92122-OC</td>\n",
       "      <td>A-L-0.2</td>\n",
       "      <td>2</td>\n",
       "      <td>Brenn Dundredge</td>\n",
       "      <td>Unknown</td>\n",
       "      <td>+1 (405) 369-5173</td>\n",
       "      <td>5 Morrow Street</td>\n",
       "      <td>Oklahoma City</td>\n",
       "      <td>United States</td>\n",
       "      <td>73129</td>\n",
       "      <td>True</td>\n",
       "      <td>Ara</td>\n",
       "      <td>L</td>\n",
       "      <td>0.2</td>\n",
       "      <td>3.885</td>\n",
       "      <td>1.9425</td>\n",
       "      <td>0.34965</td>\n",
       "    </tr>\n",
       "  </tbody>\n",
       "</table>\n",
       "</div>"
      ],
      "text/plain": [
       "          Order ID Order Date     Customer ID Product ID  Quantity  \\\n",
       "197  NOP-21394-646 2021-05-23  16982-35708-BZ    L-D-2.5         2   \n",
       "198  NOP-21394-646 2021-05-23  16982-35708-BZ    L-D-2.5         3   \n",
       "953  PJS-30996-485 2022-01-21  86579-92122-OC    A-L-0.2         1   \n",
       "958  NCH-55389-562 2019-04-27  86579-92122-OC    A-L-0.2         2   \n",
       "\n",
       "       Customer Name                     Email       Phone Number  \\\n",
       "197  Nealson Cuttler  ncuttler5g@parallels.com            Unknown   \n",
       "198  Nealson Cuttler  ncuttler5g@parallels.com            Unknown   \n",
       "953  Brenn Dundredge                   Unknown  +1 (405) 369-5173   \n",
       "958  Brenn Dundredge                   Unknown  +1 (405) 369-5173   \n",
       "\n",
       "      Address Line 1           City        Country Postcode  Loyalty Card  \\\n",
       "197  1 Melvin Circle     Washington  United States    20535         False   \n",
       "198  1 Melvin Circle     Washington  United States    20535         False   \n",
       "953  5 Morrow Street  Oklahoma City  United States    73129          True   \n",
       "958  5 Morrow Street  Oklahoma City  United States    73129          True   \n",
       "\n",
       "    Coffee Type Roast Type  Size  Unit Price  Price per 100g   Profit  \n",
       "197         Lib          D   2.5      29.785          1.1914  3.87205  \n",
       "198         Lib          D   2.5      29.785          1.1914  3.87205  \n",
       "953         Ara          L   0.2       3.885          1.9425  0.34965  \n",
       "958         Ara          L   0.2       3.885          1.9425  0.34965  "
      ]
     },
     "execution_count": 36,
     "metadata": {},
     "output_type": "execute_result"
    }
   ],
   "source": [
    "clean_coffee_df.duplicated(subset = ['Customer Name', 'Product ID']).sum()\n",
    "clean_coffee_df[clean_coffee_df.duplicated(subset = ['Customer Name', 'Product ID'], keep=False)]"
   ]
  },
  {
   "cell_type": "markdown",
   "id": "b42f2fd4",
   "metadata": {},
   "source": [
    "It seems like the first Customer was genuinely duplicated, while the second just ordered in different times.\n",
    "\n",
    "We'll handle the first only.\n"
   ]
  },
  {
   "cell_type": "markdown",
   "id": "d7aa3e30",
   "metadata": {},
   "source": [
    "We can aggregate their two orders into just one.\n"
   ]
  },
  {
   "cell_type": "code",
   "execution_count": 37,
   "id": "1efb8aec",
   "metadata": {},
   "outputs": [],
   "source": [
    "clean_coffee_df = clean_coffee_df.groupby(['Order ID', 'Product ID'], as_index = False).agg({\n",
    "    'Quantity': 'sum',\n",
    "    'Profit': 'sum',\n",
    "    'Customer ID': 'first',\n",
    "    'Customer Name': 'first',\n",
    "    'Email': 'first',\n",
    "    'Phone Number': 'first',\n",
    "    'Address Line 1': 'first',\n",
    "    'City': 'first',\n",
    "    'Country': 'first',\n",
    "    'Postcode': 'first',\n",
    "    'Loyalty Card': 'first',\n",
    "    'Coffee Type': 'first',\n",
    "    'Roast Type': 'first',\n",
    "    'Size': 'first',\n",
    "    'Unit Price': 'first',\n",
    "    'Price per 100g': 'first',\n",
    "    'Order Date': 'first'\n",
    "})"
   ]
  },
  {
   "cell_type": "markdown",
   "id": "23de2bb8",
   "metadata": {},
   "source": [
    "Let's check again if the duplicate is still there!\n"
   ]
  },
  {
   "cell_type": "code",
   "execution_count": 38,
   "id": "414cb034",
   "metadata": {},
   "outputs": [
    {
     "data": {
      "text/html": [
       "<div>\n",
       "<style scoped>\n",
       "    .dataframe tbody tr th:only-of-type {\n",
       "        vertical-align: middle;\n",
       "    }\n",
       "\n",
       "    .dataframe tbody tr th {\n",
       "        vertical-align: top;\n",
       "    }\n",
       "\n",
       "    .dataframe thead th {\n",
       "        text-align: right;\n",
       "    }\n",
       "</style>\n",
       "<table border=\"1\" class=\"dataframe\">\n",
       "  <thead>\n",
       "    <tr style=\"text-align: right;\">\n",
       "      <th></th>\n",
       "      <th>Order ID</th>\n",
       "      <th>Product ID</th>\n",
       "      <th>Quantity</th>\n",
       "      <th>Profit</th>\n",
       "      <th>Customer ID</th>\n",
       "      <th>Customer Name</th>\n",
       "      <th>Email</th>\n",
       "      <th>Phone Number</th>\n",
       "      <th>Address Line 1</th>\n",
       "      <th>City</th>\n",
       "      <th>Country</th>\n",
       "      <th>Postcode</th>\n",
       "      <th>Loyalty Card</th>\n",
       "      <th>Coffee Type</th>\n",
       "      <th>Roast Type</th>\n",
       "      <th>Size</th>\n",
       "      <th>Unit Price</th>\n",
       "      <th>Price per 100g</th>\n",
       "      <th>Order Date</th>\n",
       "    </tr>\n",
       "  </thead>\n",
       "  <tbody>\n",
       "  </tbody>\n",
       "</table>\n",
       "</div>"
      ],
      "text/plain": [
       "Empty DataFrame\n",
       "Columns: [Order ID, Product ID, Quantity, Profit, Customer ID, Customer Name, Email, Phone Number, Address Line 1, City, Country, Postcode, Loyalty Card, Coffee Type, Roast Type, Size, Unit Price, Price per 100g, Order Date]\n",
       "Index: []"
      ]
     },
     "execution_count": 38,
     "metadata": {},
     "output_type": "execute_result"
    }
   ],
   "source": [
    "duplicates = clean_coffee_df.duplicated(subset = ['Order ID', 'Product ID'], keep = False)\n",
    "clean_coffee_df[duplicates].sort_values(by = ['Order ID', 'Product ID'])"
   ]
  },
  {
   "cell_type": "markdown",
   "id": "4456405a",
   "metadata": {},
   "source": [
    "No more duplicates! 🤵🤵\n"
   ]
  },
  {
   "cell_type": "markdown",
   "id": "350e6aa6",
   "metadata": {},
   "source": [
    "### Inconsistent Formatting\n"
   ]
  },
  {
   "cell_type": "markdown",
   "id": "2119669f",
   "metadata": {},
   "source": [
    "Sometimes, values entered manually can be formatted differently. We need to make sure that strings and categorical data have the same cases, spelling, formats, and no extra spaces.\n"
   ]
  },
  {
   "cell_type": "markdown",
   "id": "71d11b73",
   "metadata": {},
   "source": [
    "Namely the following variables should be formatted:\n",
    "\n",
    "- Order ID\n",
    "- Customer ID\n",
    "- Product ID\n",
    "- Coffee Type\n",
    "- Roast Type\n",
    "- City\n",
    "- Country\n",
    "- Customer Name\n",
    "- Email\n",
    "- Phone Number\n",
    "- Address Line 1\n",
    "- Postcode\n"
   ]
  },
  {
   "cell_type": "markdown",
   "id": "baf2ae32",
   "metadata": {},
   "source": [
    "Here's code for removing spaces:\n"
   ]
  },
  {
   "cell_type": "code",
   "execution_count": 39,
   "id": "18de2278",
   "metadata": {},
   "outputs": [],
   "source": [
    "# Removing from objects\n",
    "for col in clean_coffee_df.select_dtypes(include = 'object').columns:\n",
    "    clean_coffee_df[col] = clean_coffee_df[col].str.strip()\n",
    "\n",
    "# Removing from IDs\n",
    "for col in ['Order ID', 'Customer ID', 'Product ID', 'Phone Number', 'Address Line 1']:\n",
    "    clean_coffee_df[col] = clean_coffee_df[col].str.strip()\n",
    "\n",
    "# Removing fromPostcodes\n",
    "clean_coffee_df['Postcode'] = clean_coffee_df['Postcode'].str.replace(r'\\s+', '', regex = True)"
   ]
  },
  {
   "cell_type": "markdown",
   "id": "a6dd2824",
   "metadata": {},
   "source": [
    "Here's code for converting to Title Case and lowercase respectively:\n"
   ]
  },
  {
   "cell_type": "code",
   "execution_count": 40,
   "id": "0f0887ba",
   "metadata": {},
   "outputs": [],
   "source": [
    "# Title Case\n",
    "clean_coffee_df['Customer Name'] = clean_coffee_df['Customer Name'].str.title()\n",
    "clean_coffee_df['City'] = clean_coffee_df['City'].str.title()\n",
    "clean_coffee_df['Country'] = clean_coffee_df['Country'].str.title()\n",
    "clean_coffee_df['Coffee Type'] = clean_coffee_df['Coffee Type'].str.title()\n",
    "clean_coffee_df['Roast Type'] = clean_coffee_df['Roast Type'].str.title()\n",
    "\n",
    "# lowercase\n",
    "clean_coffee_df['Email'] = np.where(clean_coffee_df['Email'] == 'Unknown', 'Unknown', clean_coffee_df['Email'].str.lower())"
   ]
  },
  {
   "cell_type": "markdown",
   "id": "4558f814",
   "metadata": {},
   "source": [
    "And lastly, here's the code for formatting Phone Numbers to be consistent:\n"
   ]
  },
  {
   "cell_type": "code",
   "execution_count": 41,
   "id": "a0790340",
   "metadata": {},
   "outputs": [
    {
     "name": "stdout",
     "output_type": "stream",
     "text": [
      "          Phone Number\n",
      "0    +1 (828) 464-2678\n",
      "1    +1 (505) 523-8113\n",
      "2  +353 (479) 865-9222\n",
      "3    +1 (562) 331-4713\n",
      "4    +1 (281) 416-9557\n"
     ]
    }
   ],
   "source": [
    "import re\n",
    "\n",
    "def format_phone_number(phone):\n",
    "    # Removing all non-digit characters except + at start\n",
    "    phone = re.sub(r'[^\\d+]', '', phone)\n",
    "\n",
    "    # If no country code, default to +1 (adjust if you have better rules)\n",
    "    if not phone.startswith('+'):\n",
    "        phone = '+1' + phone\n",
    "\n",
    "    # Extracting parts of Phone Numer +<countrycode> <area_code> <local_number>\n",
    "    match = re.match(r'(\\+\\d{1,3})(\\d{3})(\\d{3})(\\d{4})', phone)\n",
    "    if match:\n",
    "        return f\"{match.group(1)} ({match.group(2)}) {match.group(3)}-{match.group(4)}\"\n",
    "    else:\n",
    "        return phone\n",
    "\n",
    "# Applying to DataFrame\n",
    "clean_coffee_df['Phone Number'] = clean_coffee_df['Phone Number'].apply(format_phone_number)\n",
    "\n",
    "# Printing\n",
    "print(clean_coffee_df[['Phone Number']].head())\n"
   ]
  },
  {
   "cell_type": "markdown",
   "id": "6ad0c8f6",
   "metadata": {},
   "source": [
    "We've now formatted the variables to be consistent! ✏️\n"
   ]
  },
  {
   "cell_type": "markdown",
   "id": "6b63a340",
   "metadata": {},
   "source": [
    "### Outliers\n"
   ]
  },
  {
   "cell_type": "markdown",
   "id": "bc6f4e79",
   "metadata": {},
   "source": [
    "Identifying values which are abnormally different from other observations, it can be unusually small or large. Data like these can make data analysis inaccurate if left unchecked.\n",
    "\n",
    "Being different is a good thing, but for data analysis it's not. 🙅‍♂️\n"
   ]
  },
  {
   "cell_type": "markdown",
   "id": "79c2ef1d",
   "metadata": {},
   "source": [
    "The variables that should be considered for outliers in the dataset are the numerical ones, such as:\n",
    "\n",
    "- Quantity\n",
    "- Size\n",
    "- Unit Price\n",
    "- Price per 100g\n",
    "- Profit\n"
   ]
  },
  {
   "cell_type": "markdown",
   "id": "0182e567",
   "metadata": {},
   "source": [
    "#### Quantity\n"
   ]
  },
  {
   "cell_type": "markdown",
   "id": "a843dddb",
   "metadata": {},
   "source": [
    "We'll use boxplots to check for Quantity outliers! The blue box represents the majority of the values, and dots would appear beyond the vertical lines if there were any outliers.\n"
   ]
  },
  {
   "cell_type": "markdown",
   "id": "a6545ee5",
   "metadata": {},
   "source": [
    "Run the code bellow to check for any outliers in Quantity of orders.\n"
   ]
  },
  {
   "cell_type": "code",
   "execution_count": 42,
   "id": "5db4efee",
   "metadata": {},
   "outputs": [
    {
     "data": {
      "image/png": "[encoded data removed]",
      "text/plain": [
       "<Figure size 800x400 with 1 Axes>"
      ]
     },
     "metadata": {},
     "output_type": "display_data"
    }
   ],
   "source": [
    "for col in ['Quantity']:\n",
    "    plt.figure(figsize = (8, 4))\n",
    "    sns.boxplot(x = clean_coffee_df[col])\n",
    "    plt.title(f'Boxplot of {col}')\n",
    "    plt.show()"
   ]
  },
  {
   "cell_type": "markdown",
   "id": "8872826d",
   "metadata": {},
   "source": [
    "There are no outliers in the Quantity of orders!\n"
   ]
  },
  {
   "cell_type": "markdown",
   "id": "c5f2c288",
   "metadata": {},
   "source": [
    "#### Size\n"
   ]
  },
  {
   "cell_type": "markdown",
   "id": "d744f080",
   "metadata": {},
   "source": [
    "The Size of the coffee bean is categorical in nature, it doesn't matter if there are outliers.\n"
   ]
  },
  {
   "cell_type": "code",
   "execution_count": 43,
   "id": "cf881820",
   "metadata": {},
   "outputs": [
    {
     "name": "stdout",
     "output_type": "stream",
     "text": [
      "[np.float64(0.2), np.float64(0.5), np.float64(1.0), np.float64(2.5)]\n"
     ]
    }
   ],
   "source": [
    "sizes = clean_coffee_df['Size'].unique()\n",
    "print(sorted(sizes))"
   ]
  },
  {
   "cell_type": "markdown",
   "id": "78952c9e",
   "metadata": {},
   "source": [
    "Moving on... ☕\n"
   ]
  },
  {
   "cell_type": "markdown",
   "id": "01d96ffb",
   "metadata": {},
   "source": [
    "#### Unit Price, Price per 100g, and Profit\n"
   ]
  },
  {
   "cell_type": "markdown",
   "id": "12cdb49b",
   "metadata": {},
   "source": [
    "There is a limited number of coffee beans, and it would greatly benefit us to not miss insights from any of them.\n",
    "\n",
    "We shouldn't get rid of any price or profit outliers because some coffee beans are just naturally expensive.\n"
   ]
  },
  {
   "cell_type": "markdown",
   "id": "6a7fd88b",
   "metadata": {},
   "source": [
    "Let's use boxplots again.\n"
   ]
  },
  {
   "cell_type": "code",
   "execution_count": 44,
   "id": "cbed5d53",
   "metadata": {},
   "outputs": [
    {
     "data": {
      "image/png": "[encoded data removed]",
      "text/plain": [
       "<Figure size 800x400 with 1 Axes>"
      ]
     },
     "metadata": {},
     "output_type": "display_data"
    },
    {
     "data": {
      "image/png": "[encoded data removed]",
      "text/plain": [
       "<Figure size 800x400 with 1 Axes>"
      ]
     },
     "metadata": {},
     "output_type": "display_data"
    },
    {
     "data": {
      "image/png": "[encoded data removed]",
      "text/plain": [
       "<Figure size 800x400 with 1 Axes>"
      ]
     },
     "metadata": {},
     "output_type": "display_data"
    }
   ],
   "source": [
    "for col in ['Unit Price', 'Price per 100g', 'Profit']:\n",
    "    plt.figure(figsize = (8, 4))\n",
    "    sns.boxplot(x = clean_coffee_df[col])\n",
    "    plt.title(f'Boxplot of {col}')\n",
    "    plt.show()"
   ]
  },
  {
   "cell_type": "markdown",
   "id": "a2e68b0c",
   "metadata": {},
   "source": [
    "It doesn't seem like there are any genuine mistakes. All good here!\n"
   ]
  },
  {
   "cell_type": "markdown",
   "id": "9e3131fc",
   "metadata": {},
   "source": [
    "### Others\n"
   ]
  },
  {
   "cell_type": "markdown",
   "id": "6b5348c1",
   "metadata": {},
   "source": [
    "For marketing purposes, we might benefit from extracting the following variables from existing ones:\n",
    "\n",
    "- First Name (from Customer Name)\n",
    "- Last Name (from Customer Name)\n",
    "- Unit (from Address Line 1)\n",
    "- Street (from Address Line 1)\n"
   ]
  },
  {
   "cell_type": "markdown",
   "id": "3cab769e",
   "metadata": {},
   "source": [
    "#### First and Last Name\n"
   ]
  },
  {
   "cell_type": "markdown",
   "id": "77cd89fc",
   "metadata": {},
   "source": [
    "First names can be used to personalize newsletters and emails. Having last names also makes sorting and filtering much easier.\n",
    "\n",
    "Given that all the names are made in first name + last name format, it is much better to do so. Otherwise, inconsistent formatting would make this much harder.\n"
   ]
  },
  {
   "cell_type": "markdown",
   "id": "0b0f52db",
   "metadata": {},
   "source": [
    "Go ahead and run the block of code below to split the Customer Name into the First Name and Last Name variables.\n"
   ]
  },
  {
   "cell_type": "code",
   "execution_count": 45,
   "id": "d42d3a8e",
   "metadata": {},
   "outputs": [
    {
     "data": {
      "text/html": [
       "<div>\n",
       "<style scoped>\n",
       "    .dataframe tbody tr th:only-of-type {\n",
       "        vertical-align: middle;\n",
       "    }\n",
       "\n",
       "    .dataframe tbody tr th {\n",
       "        vertical-align: top;\n",
       "    }\n",
       "\n",
       "    .dataframe thead th {\n",
       "        text-align: right;\n",
       "    }\n",
       "</style>\n",
       "<table border=\"1\" class=\"dataframe\">\n",
       "  <thead>\n",
       "    <tr style=\"text-align: right;\">\n",
       "      <th></th>\n",
       "      <th>Order ID</th>\n",
       "      <th>Product ID</th>\n",
       "      <th>Quantity</th>\n",
       "      <th>Profit</th>\n",
       "      <th>Customer ID</th>\n",
       "      <th>First Name</th>\n",
       "      <th>Last Name</th>\n",
       "      <th>Email</th>\n",
       "      <th>Phone Number</th>\n",
       "      <th>Address Line 1</th>\n",
       "      <th>City</th>\n",
       "      <th>Country</th>\n",
       "      <th>Postcode</th>\n",
       "      <th>Loyalty Card</th>\n",
       "      <th>Coffee Type</th>\n",
       "      <th>Roast Type</th>\n",
       "      <th>Size</th>\n",
       "      <th>Unit Price</th>\n",
       "      <th>Price per 100g</th>\n",
       "      <th>Order Date</th>\n",
       "    </tr>\n",
       "  </thead>\n",
       "  <tbody>\n",
       "    <tr>\n",
       "      <th>0</th>\n",
       "      <td>AAQ-13644-699</td>\n",
       "      <td>R-D-1</td>\n",
       "      <td>4</td>\n",
       "      <td>0.53700</td>\n",
       "      <td>46296-42617-OQ</td>\n",
       "      <td>Fernando</td>\n",
       "      <td>Sulman</td>\n",
       "      <td>fsulmanl0@washington.edu</td>\n",
       "      <td>+1 (828) 464-2678</td>\n",
       "      <td>45 Village Terrace</td>\n",
       "      <td>Asheville</td>\n",
       "      <td>United States</td>\n",
       "      <td>28805</td>\n",
       "      <td>True</td>\n",
       "      <td>Rob</td>\n",
       "      <td>D</td>\n",
       "      <td>1.0</td>\n",
       "      <td>8.950</td>\n",
       "      <td>0.895</td>\n",
       "      <td>2022-06-03</td>\n",
       "    </tr>\n",
       "    <tr>\n",
       "      <th>1</th>\n",
       "      <td>ABK-08091-531</td>\n",
       "      <td>L-L-1</td>\n",
       "      <td>3</td>\n",
       "      <td>2.06050</td>\n",
       "      <td>53864-36201-FG</td>\n",
       "      <td>Tess</td>\n",
       "      <td>Benediktovich</td>\n",
       "      <td>tbenediktovichmv@ebay.com</td>\n",
       "      <td>+1 (505) 523-8113</td>\n",
       "      <td>1068 Sutherland Plaza</td>\n",
       "      <td>Albuquerque</td>\n",
       "      <td>United States</td>\n",
       "      <td>87140</td>\n",
       "      <td>True</td>\n",
       "      <td>Lib</td>\n",
       "      <td>L</td>\n",
       "      <td>1.0</td>\n",
       "      <td>15.850</td>\n",
       "      <td>1.585</td>\n",
       "      <td>2020-10-30</td>\n",
       "    </tr>\n",
       "    <tr>\n",
       "      <th>2</th>\n",
       "      <td>ABO-29054-365</td>\n",
       "      <td>A-M-0.5</td>\n",
       "      <td>6</td>\n",
       "      <td>0.60750</td>\n",
       "      <td>00256-19905-YG</td>\n",
       "      <td>Stanislaus</td>\n",
       "      <td>Valsler</td>\n",
       "      <td>Unknown</td>\n",
       "      <td>+353 (479) 865-9222</td>\n",
       "      <td>95 Southridge Alley</td>\n",
       "      <td>Castlebridge</td>\n",
       "      <td>Ireland</td>\n",
       "      <td>R14</td>\n",
       "      <td>False</td>\n",
       "      <td>Ara</td>\n",
       "      <td>M</td>\n",
       "      <td>0.5</td>\n",
       "      <td>6.750</td>\n",
       "      <td>1.350</td>\n",
       "      <td>2019-01-19</td>\n",
       "    </tr>\n",
       "    <tr>\n",
       "      <th>3</th>\n",
       "      <td>ACY-56225-839</td>\n",
       "      <td>A-M-2.5</td>\n",
       "      <td>3</td>\n",
       "      <td>2.32875</td>\n",
       "      <td>47386-50743-FG</td>\n",
       "      <td>Kynthia</td>\n",
       "      <td>Berick</td>\n",
       "      <td>Unknown</td>\n",
       "      <td>+1 (562) 331-4713</td>\n",
       "      <td>1678 Armistice Alley</td>\n",
       "      <td>San Francisco</td>\n",
       "      <td>United States</td>\n",
       "      <td>94110</td>\n",
       "      <td>True</td>\n",
       "      <td>Ara</td>\n",
       "      <td>M</td>\n",
       "      <td>2.5</td>\n",
       "      <td>25.875</td>\n",
       "      <td>1.035</td>\n",
       "      <td>2021-01-28</td>\n",
       "    </tr>\n",
       "    <tr>\n",
       "      <th>4</th>\n",
       "      <td>ADP-04506-084</td>\n",
       "      <td>E-M-2.5</td>\n",
       "      <td>6</td>\n",
       "      <td>3.47875</td>\n",
       "      <td>61809-87758-LJ</td>\n",
       "      <td>Hatty</td>\n",
       "      <td>Dovydenas</td>\n",
       "      <td>Unknown</td>\n",
       "      <td>+1 (281) 416-9557</td>\n",
       "      <td>227 Huxley Hill</td>\n",
       "      <td>Amarillo</td>\n",
       "      <td>United States</td>\n",
       "      <td>79176</td>\n",
       "      <td>True</td>\n",
       "      <td>Exc</td>\n",
       "      <td>M</td>\n",
       "      <td>2.5</td>\n",
       "      <td>31.625</td>\n",
       "      <td>1.265</td>\n",
       "      <td>2021-07-24</td>\n",
       "    </tr>\n",
       "  </tbody>\n",
       "</table>\n",
       "</div>"
      ],
      "text/plain": [
       "        Order ID Product ID  Quantity   Profit     Customer ID  First Name  \\\n",
       "0  AAQ-13644-699      R-D-1         4  0.53700  46296-42617-OQ    Fernando   \n",
       "1  ABK-08091-531      L-L-1         3  2.06050  53864-36201-FG        Tess   \n",
       "2  ABO-29054-365    A-M-0.5         6  0.60750  00256-19905-YG  Stanislaus   \n",
       "3  ACY-56225-839    A-M-2.5         3  2.32875  47386-50743-FG     Kynthia   \n",
       "4  ADP-04506-084    E-M-2.5         6  3.47875  61809-87758-LJ       Hatty   \n",
       "\n",
       "       Last Name                      Email         Phone Number  \\\n",
       "0         Sulman   fsulmanl0@washington.edu    +1 (828) 464-2678   \n",
       "1  Benediktovich  tbenediktovichmv@ebay.com    +1 (505) 523-8113   \n",
       "2        Valsler                    Unknown  +353 (479) 865-9222   \n",
       "3         Berick                    Unknown    +1 (562) 331-4713   \n",
       "4      Dovydenas                    Unknown    +1 (281) 416-9557   \n",
       "\n",
       "          Address Line 1           City        Country Postcode  Loyalty Card  \\\n",
       "0     45 Village Terrace      Asheville  United States    28805          True   \n",
       "1  1068 Sutherland Plaza    Albuquerque  United States    87140          True   \n",
       "2    95 Southridge Alley   Castlebridge        Ireland      R14         False   \n",
       "3   1678 Armistice Alley  San Francisco  United States    94110          True   \n",
       "4        227 Huxley Hill       Amarillo  United States    79176          True   \n",
       "\n",
       "  Coffee Type Roast Type  Size  Unit Price  Price per 100g Order Date  \n",
       "0         Rob          D   1.0       8.950           0.895 2022-06-03  \n",
       "1         Lib          L   1.0      15.850           1.585 2020-10-30  \n",
       "2         Ara          M   0.5       6.750           1.350 2019-01-19  \n",
       "3         Ara          M   2.5      25.875           1.035 2021-01-28  \n",
       "4         Exc          M   2.5      31.625           1.265 2021-07-24  "
      ]
     },
     "execution_count": 45,
     "metadata": {},
     "output_type": "execute_result"
    }
   ],
   "source": [
    "# Splitting First and Last Names\n",
    "split_names = clean_coffee_df['Customer Name'].str.strip().str.split(' ', n = 1, expand = True)\n",
    "split_names.columns = ['First Name', 'Last Name']\n",
    "\n",
    "# Dropping the original Customer Name column\n",
    "clean_coffee_df = clean_coffee_df.drop(columns = ['Customer Name'])\n",
    "\n",
    "# Inserting the First and Last Names column where Customer Name was\n",
    "columns = list(clean_coffee_df.columns)\n",
    "insert_loc = columns.index('Email')\n",
    "clean_coffee_df.insert(insert_loc, 'First Name', split_names['First Name'])\n",
    "clean_coffee_df.insert(insert_loc + 1, 'Last Name', split_names['Last Name'])\n",
    "\n",
    "clean_coffee_df.head()"
   ]
  },
  {
   "cell_type": "markdown",
   "id": "76ed9684",
   "metadata": {},
   "source": [
    "#### House Number and Street Name\n"
   ]
  },
  {
   "cell_type": "markdown",
   "id": "e7fd72fb",
   "metadata": {},
   "source": [
    "Separating House Numbers and Street Name would make it much easier to filter, sort, and group customers based on their location which would help with location-specific promotions.\n"
   ]
  },
  {
   "cell_type": "markdown",
   "id": "025fc3a1",
   "metadata": {},
   "source": [
    "Like last time, run the block of code below in order to split the Adress Line 1 into the House Number and Street Name.\n"
   ]
  },
  {
   "cell_type": "code",
   "execution_count": 46,
   "id": "87b961a6",
   "metadata": {},
   "outputs": [
    {
     "data": {
      "text/html": [
       "<div>\n",
       "<style scoped>\n",
       "    .dataframe tbody tr th:only-of-type {\n",
       "        vertical-align: middle;\n",
       "    }\n",
       "\n",
       "    .dataframe tbody tr th {\n",
       "        vertical-align: top;\n",
       "    }\n",
       "\n",
       "    .dataframe thead th {\n",
       "        text-align: right;\n",
       "    }\n",
       "</style>\n",
       "<table border=\"1\" class=\"dataframe\">\n",
       "  <thead>\n",
       "    <tr style=\"text-align: right;\">\n",
       "      <th></th>\n",
       "      <th>Order ID</th>\n",
       "      <th>Product ID</th>\n",
       "      <th>Quantity</th>\n",
       "      <th>Profit</th>\n",
       "      <th>Customer ID</th>\n",
       "      <th>First Name</th>\n",
       "      <th>Last Name</th>\n",
       "      <th>Email</th>\n",
       "      <th>Phone Number</th>\n",
       "      <th>House Number</th>\n",
       "      <th>...</th>\n",
       "      <th>City</th>\n",
       "      <th>Country</th>\n",
       "      <th>Postcode</th>\n",
       "      <th>Loyalty Card</th>\n",
       "      <th>Coffee Type</th>\n",
       "      <th>Roast Type</th>\n",
       "      <th>Size</th>\n",
       "      <th>Unit Price</th>\n",
       "      <th>Price per 100g</th>\n",
       "      <th>Order Date</th>\n",
       "    </tr>\n",
       "  </thead>\n",
       "  <tbody>\n",
       "    <tr>\n",
       "      <th>0</th>\n",
       "      <td>AAQ-13644-699</td>\n",
       "      <td>R-D-1</td>\n",
       "      <td>4</td>\n",
       "      <td>0.53700</td>\n",
       "      <td>46296-42617-OQ</td>\n",
       "      <td>Fernando</td>\n",
       "      <td>Sulman</td>\n",
       "      <td>fsulmanl0@washington.edu</td>\n",
       "      <td>+1 (828) 464-2678</td>\n",
       "      <td>45</td>\n",
       "      <td>...</td>\n",
       "      <td>Asheville</td>\n",
       "      <td>United States</td>\n",
       "      <td>28805</td>\n",
       "      <td>True</td>\n",
       "      <td>Rob</td>\n",
       "      <td>D</td>\n",
       "      <td>1.0</td>\n",
       "      <td>8.950</td>\n",
       "      <td>0.895</td>\n",
       "      <td>2022-06-03</td>\n",
       "    </tr>\n",
       "    <tr>\n",
       "      <th>1</th>\n",
       "      <td>ABK-08091-531</td>\n",
       "      <td>L-L-1</td>\n",
       "      <td>3</td>\n",
       "      <td>2.06050</td>\n",
       "      <td>53864-36201-FG</td>\n",
       "      <td>Tess</td>\n",
       "      <td>Benediktovich</td>\n",
       "      <td>tbenediktovichmv@ebay.com</td>\n",
       "      <td>+1 (505) 523-8113</td>\n",
       "      <td>1068</td>\n",
       "      <td>...</td>\n",
       "      <td>Albuquerque</td>\n",
       "      <td>United States</td>\n",
       "      <td>87140</td>\n",
       "      <td>True</td>\n",
       "      <td>Lib</td>\n",
       "      <td>L</td>\n",
       "      <td>1.0</td>\n",
       "      <td>15.850</td>\n",
       "      <td>1.585</td>\n",
       "      <td>2020-10-30</td>\n",
       "    </tr>\n",
       "    <tr>\n",
       "      <th>2</th>\n",
       "      <td>ABO-29054-365</td>\n",
       "      <td>A-M-0.5</td>\n",
       "      <td>6</td>\n",
       "      <td>0.60750</td>\n",
       "      <td>00256-19905-YG</td>\n",
       "      <td>Stanislaus</td>\n",
       "      <td>Valsler</td>\n",
       "      <td>Unknown</td>\n",
       "      <td>+353 (479) 865-9222</td>\n",
       "      <td>95</td>\n",
       "      <td>...</td>\n",
       "      <td>Castlebridge</td>\n",
       "      <td>Ireland</td>\n",
       "      <td>R14</td>\n",
       "      <td>False</td>\n",
       "      <td>Ara</td>\n",
       "      <td>M</td>\n",
       "      <td>0.5</td>\n",
       "      <td>6.750</td>\n",
       "      <td>1.350</td>\n",
       "      <td>2019-01-19</td>\n",
       "    </tr>\n",
       "    <tr>\n",
       "      <th>3</th>\n",
       "      <td>ACY-56225-839</td>\n",
       "      <td>A-M-2.5</td>\n",
       "      <td>3</td>\n",
       "      <td>2.32875</td>\n",
       "      <td>47386-50743-FG</td>\n",
       "      <td>Kynthia</td>\n",
       "      <td>Berick</td>\n",
       "      <td>Unknown</td>\n",
       "      <td>+1 (562) 331-4713</td>\n",
       "      <td>1678</td>\n",
       "      <td>...</td>\n",
       "      <td>San Francisco</td>\n",
       "      <td>United States</td>\n",
       "      <td>94110</td>\n",
       "      <td>True</td>\n",
       "      <td>Ara</td>\n",
       "      <td>M</td>\n",
       "      <td>2.5</td>\n",
       "      <td>25.875</td>\n",
       "      <td>1.035</td>\n",
       "      <td>2021-01-28</td>\n",
       "    </tr>\n",
       "    <tr>\n",
       "      <th>4</th>\n",
       "      <td>ADP-04506-084</td>\n",
       "      <td>E-M-2.5</td>\n",
       "      <td>6</td>\n",
       "      <td>3.47875</td>\n",
       "      <td>61809-87758-LJ</td>\n",
       "      <td>Hatty</td>\n",
       "      <td>Dovydenas</td>\n",
       "      <td>Unknown</td>\n",
       "      <td>+1 (281) 416-9557</td>\n",
       "      <td>227</td>\n",
       "      <td>...</td>\n",
       "      <td>Amarillo</td>\n",
       "      <td>United States</td>\n",
       "      <td>79176</td>\n",
       "      <td>True</td>\n",
       "      <td>Exc</td>\n",
       "      <td>M</td>\n",
       "      <td>2.5</td>\n",
       "      <td>31.625</td>\n",
       "      <td>1.265</td>\n",
       "      <td>2021-07-24</td>\n",
       "    </tr>\n",
       "  </tbody>\n",
       "</table>\n",
       "<p>5 rows × 21 columns</p>\n",
       "</div>"
      ],
      "text/plain": [
       "        Order ID Product ID  Quantity   Profit     Customer ID  First Name  \\\n",
       "0  AAQ-13644-699      R-D-1         4  0.53700  46296-42617-OQ    Fernando   \n",
       "1  ABK-08091-531      L-L-1         3  2.06050  53864-36201-FG        Tess   \n",
       "2  ABO-29054-365    A-M-0.5         6  0.60750  00256-19905-YG  Stanislaus   \n",
       "3  ACY-56225-839    A-M-2.5         3  2.32875  47386-50743-FG     Kynthia   \n",
       "4  ADP-04506-084    E-M-2.5         6  3.47875  61809-87758-LJ       Hatty   \n",
       "\n",
       "       Last Name                      Email         Phone Number House Number  \\\n",
       "0         Sulman   fsulmanl0@washington.edu    +1 (828) 464-2678           45   \n",
       "1  Benediktovich  tbenediktovichmv@ebay.com    +1 (505) 523-8113         1068   \n",
       "2        Valsler                    Unknown  +353 (479) 865-9222           95   \n",
       "3         Berick                    Unknown    +1 (562) 331-4713         1678   \n",
       "4      Dovydenas                    Unknown    +1 (281) 416-9557          227   \n",
       "\n",
       "   ...           City        Country Postcode Loyalty Card  Coffee Type  \\\n",
       "0  ...      Asheville  United States    28805         True          Rob   \n",
       "1  ...    Albuquerque  United States    87140         True          Lib   \n",
       "2  ...   Castlebridge        Ireland      R14        False          Ara   \n",
       "3  ...  San Francisco  United States    94110         True          Ara   \n",
       "4  ...       Amarillo  United States    79176         True          Exc   \n",
       "\n",
       "  Roast Type Size  Unit Price  Price per 100g  Order Date  \n",
       "0          D  1.0       8.950           0.895  2022-06-03  \n",
       "1          L  1.0      15.850           1.585  2020-10-30  \n",
       "2          M  0.5       6.750           1.350  2019-01-19  \n",
       "3          M  2.5      25.875           1.035  2021-01-28  \n",
       "4          M  2.5      31.625           1.265  2021-07-24  \n",
       "\n",
       "[5 rows x 21 columns]"
      ]
     },
     "execution_count": 46,
     "metadata": {},
     "output_type": "execute_result"
    }
   ],
   "source": [
    "# Splitting House Number and Street Name\n",
    "address_split = clean_coffee_df['Address Line 1'].str.extract(r'^\\s*(\\d+)\\s+(.*)$')\n",
    "address_split.columns = ['House Number', 'Street Name']\n",
    "\n",
    "# Dropping the original Address Line 1 column\n",
    "clean_coffee_df = clean_coffee_df.drop(columns=['Address Line 1'])\n",
    "\n",
    "# Inserting the House Number and Street Name columns where Address Line 1 was\n",
    "columns = list(clean_coffee_df.columns)\n",
    "insert_loc = columns.index('City')\n",
    "clean_coffee_df.insert(insert_loc, 'House Number', address_split['House Number'].fillna(''))\n",
    "clean_coffee_df.insert(insert_loc + 1, 'Street Name', address_split['Street Name'].fillna(''))\n",
    "\n",
    "clean_coffee_df.head()\n"
   ]
  },
  {
   "cell_type": "markdown",
   "id": "880d9c2d",
   "metadata": {},
   "source": [
    "And just in case, let's check whether any columns were formatted weirdly and resulted in unknown values.\n"
   ]
  },
  {
   "cell_type": "code",
   "execution_count": 47,
   "id": "68d8ad94",
   "metadata": {},
   "outputs": [
    {
     "data": {
      "text/plain": [
       "First Name      0\n",
       "Last Name       0\n",
       "House Number    0\n",
       "Street Name     0\n",
       "dtype: int64"
      ]
     },
     "execution_count": 47,
     "metadata": {},
     "output_type": "execute_result"
    }
   ],
   "source": [
    "clean_coffee_df[['First Name', 'Last Name', 'House Number', 'Street Name']].isna().sum()"
   ]
  },
  {
   "cell_type": "markdown",
   "id": "6d6c98c3",
   "metadata": {},
   "source": [
    "### The Cleaned Dataset\n"
   ]
  },
  {
   "cell_type": "markdown",
   "id": "e1b4b17e",
   "metadata": {},
   "source": [
    "Our dataset is now squeaky clean! We can now proceed with analysis!\n"
   ]
  },
  {
   "cell_type": "code",
   "execution_count": 48,
   "id": "d7da8d98",
   "metadata": {},
   "outputs": [
    {
     "data": {
      "text/html": [
       "<div>\n",
       "<style scoped>\n",
       "    .dataframe tbody tr th:only-of-type {\n",
       "        vertical-align: middle;\n",
       "    }\n",
       "\n",
       "    .dataframe tbody tr th {\n",
       "        vertical-align: top;\n",
       "    }\n",
       "\n",
       "    .dataframe thead th {\n",
       "        text-align: right;\n",
       "    }\n",
       "</style>\n",
       "<table border=\"1\" class=\"dataframe\">\n",
       "  <thead>\n",
       "    <tr style=\"text-align: right;\">\n",
       "      <th></th>\n",
       "      <th>Order ID</th>\n",
       "      <th>Product ID</th>\n",
       "      <th>Quantity</th>\n",
       "      <th>Profit</th>\n",
       "      <th>Customer ID</th>\n",
       "      <th>First Name</th>\n",
       "      <th>Last Name</th>\n",
       "      <th>Email</th>\n",
       "      <th>Phone Number</th>\n",
       "      <th>House Number</th>\n",
       "      <th>...</th>\n",
       "      <th>City</th>\n",
       "      <th>Country</th>\n",
       "      <th>Postcode</th>\n",
       "      <th>Loyalty Card</th>\n",
       "      <th>Coffee Type</th>\n",
       "      <th>Roast Type</th>\n",
       "      <th>Size</th>\n",
       "      <th>Unit Price</th>\n",
       "      <th>Price per 100g</th>\n",
       "      <th>Order Date</th>\n",
       "    </tr>\n",
       "  </thead>\n",
       "  <tbody>\n",
       "    <tr>\n",
       "      <th>0</th>\n",
       "      <td>AAQ-13644-699</td>\n",
       "      <td>R-D-1</td>\n",
       "      <td>4</td>\n",
       "      <td>0.53700</td>\n",
       "      <td>46296-42617-OQ</td>\n",
       "      <td>Fernando</td>\n",
       "      <td>Sulman</td>\n",
       "      <td>fsulmanl0@washington.edu</td>\n",
       "      <td>+1 (828) 464-2678</td>\n",
       "      <td>45</td>\n",
       "      <td>...</td>\n",
       "      <td>Asheville</td>\n",
       "      <td>United States</td>\n",
       "      <td>28805</td>\n",
       "      <td>True</td>\n",
       "      <td>Rob</td>\n",
       "      <td>D</td>\n",
       "      <td>1.0</td>\n",
       "      <td>8.950</td>\n",
       "      <td>0.8950</td>\n",
       "      <td>2022-06-03</td>\n",
       "    </tr>\n",
       "    <tr>\n",
       "      <th>1</th>\n",
       "      <td>ABK-08091-531</td>\n",
       "      <td>L-L-1</td>\n",
       "      <td>3</td>\n",
       "      <td>2.06050</td>\n",
       "      <td>53864-36201-FG</td>\n",
       "      <td>Tess</td>\n",
       "      <td>Benediktovich</td>\n",
       "      <td>tbenediktovichmv@ebay.com</td>\n",
       "      <td>+1 (505) 523-8113</td>\n",
       "      <td>1068</td>\n",
       "      <td>...</td>\n",
       "      <td>Albuquerque</td>\n",
       "      <td>United States</td>\n",
       "      <td>87140</td>\n",
       "      <td>True</td>\n",
       "      <td>Lib</td>\n",
       "      <td>L</td>\n",
       "      <td>1.0</td>\n",
       "      <td>15.850</td>\n",
       "      <td>1.5850</td>\n",
       "      <td>2020-10-30</td>\n",
       "    </tr>\n",
       "    <tr>\n",
       "      <th>2</th>\n",
       "      <td>ABO-29054-365</td>\n",
       "      <td>A-M-0.5</td>\n",
       "      <td>6</td>\n",
       "      <td>0.60750</td>\n",
       "      <td>00256-19905-YG</td>\n",
       "      <td>Stanislaus</td>\n",
       "      <td>Valsler</td>\n",
       "      <td>Unknown</td>\n",
       "      <td>+353 (479) 865-9222</td>\n",
       "      <td>95</td>\n",
       "      <td>...</td>\n",
       "      <td>Castlebridge</td>\n",
       "      <td>Ireland</td>\n",
       "      <td>R14</td>\n",
       "      <td>False</td>\n",
       "      <td>Ara</td>\n",
       "      <td>M</td>\n",
       "      <td>0.5</td>\n",
       "      <td>6.750</td>\n",
       "      <td>1.3500</td>\n",
       "      <td>2019-01-19</td>\n",
       "    </tr>\n",
       "    <tr>\n",
       "      <th>3</th>\n",
       "      <td>ACY-56225-839</td>\n",
       "      <td>A-M-2.5</td>\n",
       "      <td>3</td>\n",
       "      <td>2.32875</td>\n",
       "      <td>47386-50743-FG</td>\n",
       "      <td>Kynthia</td>\n",
       "      <td>Berick</td>\n",
       "      <td>Unknown</td>\n",
       "      <td>+1 (562) 331-4713</td>\n",
       "      <td>1678</td>\n",
       "      <td>...</td>\n",
       "      <td>San Francisco</td>\n",
       "      <td>United States</td>\n",
       "      <td>94110</td>\n",
       "      <td>True</td>\n",
       "      <td>Ara</td>\n",
       "      <td>M</td>\n",
       "      <td>2.5</td>\n",
       "      <td>25.875</td>\n",
       "      <td>1.0350</td>\n",
       "      <td>2021-01-28</td>\n",
       "    </tr>\n",
       "    <tr>\n",
       "      <th>4</th>\n",
       "      <td>ADP-04506-084</td>\n",
       "      <td>E-M-2.5</td>\n",
       "      <td>6</td>\n",
       "      <td>3.47875</td>\n",
       "      <td>61809-87758-LJ</td>\n",
       "      <td>Hatty</td>\n",
       "      <td>Dovydenas</td>\n",
       "      <td>Unknown</td>\n",
       "      <td>+1 (281) 416-9557</td>\n",
       "      <td>227</td>\n",
       "      <td>...</td>\n",
       "      <td>Amarillo</td>\n",
       "      <td>United States</td>\n",
       "      <td>79176</td>\n",
       "      <td>True</td>\n",
       "      <td>Exc</td>\n",
       "      <td>M</td>\n",
       "      <td>2.5</td>\n",
       "      <td>31.625</td>\n",
       "      <td>1.2650</td>\n",
       "      <td>2021-07-24</td>\n",
       "    </tr>\n",
       "    <tr>\n",
       "      <th>5</th>\n",
       "      <td>ADX-50674-975</td>\n",
       "      <td>A-M-2.5</td>\n",
       "      <td>4</td>\n",
       "      <td>2.32875</td>\n",
       "      <td>58916-61837-QH</td>\n",
       "      <td>Freda</td>\n",
       "      <td>Hollows</td>\n",
       "      <td>fhollowsc8@blogtalkradio.com</td>\n",
       "      <td>+1 (716) 632-6865</td>\n",
       "      <td>353</td>\n",
       "      <td>...</td>\n",
       "      <td>Buffalo</td>\n",
       "      <td>United States</td>\n",
       "      <td>14205</td>\n",
       "      <td>True</td>\n",
       "      <td>Ara</td>\n",
       "      <td>M</td>\n",
       "      <td>2.5</td>\n",
       "      <td>25.875</td>\n",
       "      <td>1.0350</td>\n",
       "      <td>2021-02-03</td>\n",
       "    </tr>\n",
       "    <tr>\n",
       "      <th>6</th>\n",
       "      <td>AEL-51169-725</td>\n",
       "      <td>L-M-0.2</td>\n",
       "      <td>6</td>\n",
       "      <td>0.56745</td>\n",
       "      <td>37430-29579-HD</td>\n",
       "      <td>Eveleen</td>\n",
       "      <td>Bletsor</td>\n",
       "      <td>ebletsor8l@vinaora.com</td>\n",
       "      <td>+1 (860) 182-4246</td>\n",
       "      <td>9076</td>\n",
       "      <td>...</td>\n",
       "      <td>West Hartford</td>\n",
       "      <td>United States</td>\n",
       "      <td>6127</td>\n",
       "      <td>True</td>\n",
       "      <td>Lib</td>\n",
       "      <td>M</td>\n",
       "      <td>0.2</td>\n",
       "      <td>4.365</td>\n",
       "      <td>2.1825</td>\n",
       "      <td>2020-02-03</td>\n",
       "    </tr>\n",
       "    <tr>\n",
       "      <th>7</th>\n",
       "      <td>AEZ-13242-456</td>\n",
       "      <td>R-M-0.5</td>\n",
       "      <td>5</td>\n",
       "      <td>0.35820</td>\n",
       "      <td>62494-09113-RP</td>\n",
       "      <td>Marguerite</td>\n",
       "      <td>Graves</td>\n",
       "      <td>Unknown</td>\n",
       "      <td>+1 (479) 204-9111</td>\n",
       "      <td>91413</td>\n",
       "      <td>...</td>\n",
       "      <td>Fort Smith</td>\n",
       "      <td>United States</td>\n",
       "      <td>72905</td>\n",
       "      <td>False</td>\n",
       "      <td>Rob</td>\n",
       "      <td>M</td>\n",
       "      <td>0.5</td>\n",
       "      <td>5.970</td>\n",
       "      <td>1.1940</td>\n",
       "      <td>2022-05-04</td>\n",
       "    </tr>\n",
       "    <tr>\n",
       "      <th>8</th>\n",
       "      <td>AGQ-06534-750</td>\n",
       "      <td>A-L-1</td>\n",
       "      <td>5</td>\n",
       "      <td>1.16550</td>\n",
       "      <td>52798-46508-HP</td>\n",
       "      <td>Kevan</td>\n",
       "      <td>Grinsted</td>\n",
       "      <td>kgrinstedj4@google.com.br</td>\n",
       "      <td>+353 (773) 225-6216</td>\n",
       "      <td>3</td>\n",
       "      <td>...</td>\n",
       "      <td>Tallaght</td>\n",
       "      <td>Ireland</td>\n",
       "      <td>D24</td>\n",
       "      <td>False</td>\n",
       "      <td>Ara</td>\n",
       "      <td>L</td>\n",
       "      <td>1.0</td>\n",
       "      <td>12.950</td>\n",
       "      <td>1.2950</td>\n",
       "      <td>2019-04-24</td>\n",
       "    </tr>\n",
       "    <tr>\n",
       "      <th>9</th>\n",
       "      <td>AHQ-40440-522</td>\n",
       "      <td>A-D-1</td>\n",
       "      <td>1</td>\n",
       "      <td>0.89550</td>\n",
       "      <td>83833-46106-ZC</td>\n",
       "      <td>Martie</td>\n",
       "      <td>Brimilcombe</td>\n",
       "      <td>mbrimilcombele@cnn.com</td>\n",
       "      <td>+1</td>\n",
       "      <td>2260</td>\n",
       "      <td>...</td>\n",
       "      <td>Springfield</td>\n",
       "      <td>United States</td>\n",
       "      <td>22156</td>\n",
       "      <td>False</td>\n",
       "      <td>Ara</td>\n",
       "      <td>D</td>\n",
       "      <td>1.0</td>\n",
       "      <td>9.950</td>\n",
       "      <td>0.9950</td>\n",
       "      <td>2020-09-18</td>\n",
       "    </tr>\n",
       "    <tr>\n",
       "      <th>10</th>\n",
       "      <td>AHV-66988-037</td>\n",
       "      <td>R-M-2.5</td>\n",
       "      <td>2</td>\n",
       "      <td>1.37310</td>\n",
       "      <td>12743-00952-KO</td>\n",
       "      <td>Christel</td>\n",
       "      <td>Speak</td>\n",
       "      <td>Unknown</td>\n",
       "      <td>+1 (678) 222-0967</td>\n",
       "      <td>8</td>\n",
       "      <td>...</td>\n",
       "      <td>Duluth</td>\n",
       "      <td>United States</td>\n",
       "      <td>30096</td>\n",
       "      <td>False</td>\n",
       "      <td>Rob</td>\n",
       "      <td>M</td>\n",
       "      <td>2.5</td>\n",
       "      <td>22.885</td>\n",
       "      <td>0.9154</td>\n",
       "      <td>2020-09-08</td>\n",
       "    </tr>\n",
       "    <tr>\n",
       "      <th>11</th>\n",
       "      <td>AHY-20324-088</td>\n",
       "      <td>L-L-0.2</td>\n",
       "      <td>2</td>\n",
       "      <td>0.61815</td>\n",
       "      <td>63499-24884-PP</td>\n",
       "      <td>Nicky</td>\n",
       "      <td>Ayris</td>\n",
       "      <td>nayrisix@t-online.de</td>\n",
       "      <td>+44 (627) 552-5656</td>\n",
       "      <td>7</td>\n",
       "      <td>...</td>\n",
       "      <td>Kinloch</td>\n",
       "      <td>United Kingdom</td>\n",
       "      <td>PH43</td>\n",
       "      <td>True</td>\n",
       "      <td>Lib</td>\n",
       "      <td>L</td>\n",
       "      <td>0.2</td>\n",
       "      <td>4.755</td>\n",
       "      <td>2.3775</td>\n",
       "      <td>2020-09-06</td>\n",
       "    </tr>\n",
       "    <tr>\n",
       "      <th>12</th>\n",
       "      <td>AIA-98989-755</td>\n",
       "      <td>R-M-0.2</td>\n",
       "      <td>1</td>\n",
       "      <td>0.17910</td>\n",
       "      <td>34704-83143-KS</td>\n",
       "      <td>Sacha</td>\n",
       "      <td>Bruun</td>\n",
       "      <td>sbruunjt@blogtalkradio.com</td>\n",
       "      <td>+1 (209) 784-1969</td>\n",
       "      <td>44</td>\n",
       "      <td>...</td>\n",
       "      <td>Stockton</td>\n",
       "      <td>United States</td>\n",
       "      <td>95210</td>\n",
       "      <td>False</td>\n",
       "      <td>Rob</td>\n",
       "      <td>M</td>\n",
       "      <td>0.2</td>\n",
       "      <td>2.985</td>\n",
       "      <td>1.4925</td>\n",
       "      <td>2020-05-09</td>\n",
       "    </tr>\n",
       "    <tr>\n",
       "      <th>13</th>\n",
       "      <td>AJL-52941-018</td>\n",
       "      <td>E-D-1</td>\n",
       "      <td>2</td>\n",
       "      <td>1.33650</td>\n",
       "      <td>55871-61935-MF</td>\n",
       "      <td>Lind</td>\n",
       "      <td>Conyers</td>\n",
       "      <td>lconyers2y@twitter.com</td>\n",
       "      <td>+1 (915) 476-5712</td>\n",
       "      <td>778</td>\n",
       "      <td>...</td>\n",
       "      <td>El Paso</td>\n",
       "      <td>United States</td>\n",
       "      <td>88514</td>\n",
       "      <td>False</td>\n",
       "      <td>Exc</td>\n",
       "      <td>D</td>\n",
       "      <td>1.0</td>\n",
       "      <td>12.150</td>\n",
       "      <td>1.2150</td>\n",
       "      <td>2020-05-05</td>\n",
       "    </tr>\n",
       "    <tr>\n",
       "      <th>14</th>\n",
       "      <td>AJV-18231-334</td>\n",
       "      <td>R-D-2.5</td>\n",
       "      <td>2</td>\n",
       "      <td>1.23510</td>\n",
       "      <td>23473-41001-CD</td>\n",
       "      <td>Agnes</td>\n",
       "      <td>Adamides</td>\n",
       "      <td>aadamidesco@bizjournals.com</td>\n",
       "      <td>+44 (131) 485-2183</td>\n",
       "      <td>6338</td>\n",
       "      <td>...</td>\n",
       "      <td>Liverpool</td>\n",
       "      <td>United Kingdom</td>\n",
       "      <td>L74</td>\n",
       "      <td>False</td>\n",
       "      <td>Rob</td>\n",
       "      <td>D</td>\n",
       "      <td>2.5</td>\n",
       "      <td>20.585</td>\n",
       "      <td>0.8234</td>\n",
       "      <td>2020-07-05</td>\n",
       "    </tr>\n",
       "    <tr>\n",
       "      <th>15</th>\n",
       "      <td>AKV-93064-769</td>\n",
       "      <td>L-D-0.5</td>\n",
       "      <td>1</td>\n",
       "      <td>1.01010</td>\n",
       "      <td>22305-40299-CY</td>\n",
       "      <td>Terry</td>\n",
       "      <td>Sheryn</td>\n",
       "      <td>tsheryn31@mtv.com</td>\n",
       "      <td>+1 (516) 826-3780</td>\n",
       "      <td>58147</td>\n",
       "      <td>...</td>\n",
       "      <td>Port Washington</td>\n",
       "      <td>United States</td>\n",
       "      <td>11054</td>\n",
       "      <td>True</td>\n",
       "      <td>Lib</td>\n",
       "      <td>D</td>\n",
       "      <td>0.5</td>\n",
       "      <td>7.770</td>\n",
       "      <td>1.5540</td>\n",
       "      <td>2019-12-12</td>\n",
       "    </tr>\n",
       "    <tr>\n",
       "      <th>16</th>\n",
       "      <td>ALA-62598-016</td>\n",
       "      <td>R-D-0.2</td>\n",
       "      <td>6</td>\n",
       "      <td>0.16110</td>\n",
       "      <td>57145-03803-ZL</td>\n",
       "      <td>Noak</td>\n",
       "      <td>Wyvill</td>\n",
       "      <td>nwyvill6b@naver.com</td>\n",
       "      <td>+44 (872) 383-2829</td>\n",
       "      <td>47</td>\n",
       "      <td>...</td>\n",
       "      <td>Edinburgh</td>\n",
       "      <td>United Kingdom</td>\n",
       "      <td>EH9</td>\n",
       "      <td>True</td>\n",
       "      <td>Rob</td>\n",
       "      <td>D</td>\n",
       "      <td>0.2</td>\n",
       "      <td>2.685</td>\n",
       "      <td>1.3425</td>\n",
       "      <td>2020-02-19</td>\n",
       "    </tr>\n",
       "    <tr>\n",
       "      <th>17</th>\n",
       "      <td>ALM-80762-974</td>\n",
       "      <td>A-L-0.5</td>\n",
       "      <td>3</td>\n",
       "      <td>0.69930</td>\n",
       "      <td>84045-66771-SL</td>\n",
       "      <td>Charlean</td>\n",
       "      <td>Keave</td>\n",
       "      <td>ckeaver1@ucoz.com</td>\n",
       "      <td>+1 (850) 410-9647</td>\n",
       "      <td>08019</td>\n",
       "      <td>...</td>\n",
       "      <td>Pensacola</td>\n",
       "      <td>United States</td>\n",
       "      <td>32575</td>\n",
       "      <td>False</td>\n",
       "      <td>Ara</td>\n",
       "      <td>L</td>\n",
       "      <td>0.5</td>\n",
       "      <td>7.770</td>\n",
       "      <td>1.5540</td>\n",
       "      <td>2020-03-23</td>\n",
       "    </tr>\n",
       "    <tr>\n",
       "      <th>18</th>\n",
       "      <td>ALP-37623-536</td>\n",
       "      <td>L-L-1</td>\n",
       "      <td>6</td>\n",
       "      <td>2.06050</td>\n",
       "      <td>24689-69376-XX</td>\n",
       "      <td>Charmane</td>\n",
       "      <td>Denys</td>\n",
       "      <td>cdenysi1@is.gd</td>\n",
       "      <td>+44 (341) 297-2539</td>\n",
       "      <td>480</td>\n",
       "      <td>...</td>\n",
       "      <td>Carlton</td>\n",
       "      <td>United Kingdom</td>\n",
       "      <td>DL8</td>\n",
       "      <td>False</td>\n",
       "      <td>Lib</td>\n",
       "      <td>L</td>\n",
       "      <td>1.0</td>\n",
       "      <td>15.850</td>\n",
       "      <td>1.5850</td>\n",
       "      <td>2020-07-03</td>\n",
       "    </tr>\n",
       "    <tr>\n",
       "      <th>19</th>\n",
       "      <td>ALR-62963-723</td>\n",
       "      <td>R-D-0.2</td>\n",
       "      <td>3</td>\n",
       "      <td>0.16110</td>\n",
       "      <td>80463-43913-WZ</td>\n",
       "      <td>Malynda</td>\n",
       "      <td>Purbrick</td>\n",
       "      <td>Unknown</td>\n",
       "      <td>+353 (160) 183-4278</td>\n",
       "      <td>9233</td>\n",
       "      <td>...</td>\n",
       "      <td>Balally</td>\n",
       "      <td>Ireland</td>\n",
       "      <td>D04</td>\n",
       "      <td>True</td>\n",
       "      <td>Rob</td>\n",
       "      <td>D</td>\n",
       "      <td>0.2</td>\n",
       "      <td>2.685</td>\n",
       "      <td>1.3425</td>\n",
       "      <td>2020-06-21</td>\n",
       "    </tr>\n",
       "  </tbody>\n",
       "</table>\n",
       "<p>20 rows × 21 columns</p>\n",
       "</div>"
      ],
      "text/plain": [
       "         Order ID Product ID  Quantity   Profit     Customer ID  First Name  \\\n",
       "0   AAQ-13644-699      R-D-1         4  0.53700  46296-42617-OQ    Fernando   \n",
       "1   ABK-08091-531      L-L-1         3  2.06050  53864-36201-FG        Tess   \n",
       "2   ABO-29054-365    A-M-0.5         6  0.60750  00256-19905-YG  Stanislaus   \n",
       "3   ACY-56225-839    A-M-2.5         3  2.32875  47386-50743-FG     Kynthia   \n",
       "4   ADP-04506-084    E-M-2.5         6  3.47875  61809-87758-LJ       Hatty   \n",
       "5   ADX-50674-975    A-M-2.5         4  2.32875  58916-61837-QH       Freda   \n",
       "6   AEL-51169-725    L-M-0.2         6  0.56745  37430-29579-HD     Eveleen   \n",
       "7   AEZ-13242-456    R-M-0.5         5  0.35820  62494-09113-RP  Marguerite   \n",
       "8   AGQ-06534-750      A-L-1         5  1.16550  52798-46508-HP       Kevan   \n",
       "9   AHQ-40440-522      A-D-1         1  0.89550  83833-46106-ZC      Martie   \n",
       "10  AHV-66988-037    R-M-2.5         2  1.37310  12743-00952-KO    Christel   \n",
       "11  AHY-20324-088    L-L-0.2         2  0.61815  63499-24884-PP       Nicky   \n",
       "12  AIA-98989-755    R-M-0.2         1  0.17910  34704-83143-KS       Sacha   \n",
       "13  AJL-52941-018      E-D-1         2  1.33650  55871-61935-MF        Lind   \n",
       "14  AJV-18231-334    R-D-2.5         2  1.23510  23473-41001-CD       Agnes   \n",
       "15  AKV-93064-769    L-D-0.5         1  1.01010  22305-40299-CY       Terry   \n",
       "16  ALA-62598-016    R-D-0.2         6  0.16110  57145-03803-ZL        Noak   \n",
       "17  ALM-80762-974    A-L-0.5         3  0.69930  84045-66771-SL    Charlean   \n",
       "18  ALP-37623-536      L-L-1         6  2.06050  24689-69376-XX    Charmane   \n",
       "19  ALR-62963-723    R-D-0.2         3  0.16110  80463-43913-WZ     Malynda   \n",
       "\n",
       "        Last Name                         Email         Phone Number  \\\n",
       "0          Sulman      fsulmanl0@washington.edu    +1 (828) 464-2678   \n",
       "1   Benediktovich     tbenediktovichmv@ebay.com    +1 (505) 523-8113   \n",
       "2         Valsler                       Unknown  +353 (479) 865-9222   \n",
       "3          Berick                       Unknown    +1 (562) 331-4713   \n",
       "4       Dovydenas                       Unknown    +1 (281) 416-9557   \n",
       "5         Hollows  fhollowsc8@blogtalkradio.com    +1 (716) 632-6865   \n",
       "6         Bletsor        ebletsor8l@vinaora.com    +1 (860) 182-4246   \n",
       "7          Graves                       Unknown    +1 (479) 204-9111   \n",
       "8        Grinsted     kgrinstedj4@google.com.br  +353 (773) 225-6216   \n",
       "9     Brimilcombe        mbrimilcombele@cnn.com                   +1   \n",
       "10          Speak                       Unknown    +1 (678) 222-0967   \n",
       "11          Ayris          nayrisix@t-online.de   +44 (627) 552-5656   \n",
       "12          Bruun    sbruunjt@blogtalkradio.com    +1 (209) 784-1969   \n",
       "13        Conyers        lconyers2y@twitter.com    +1 (915) 476-5712   \n",
       "14       Adamides   aadamidesco@bizjournals.com   +44 (131) 485-2183   \n",
       "15         Sheryn             tsheryn31@mtv.com    +1 (516) 826-3780   \n",
       "16         Wyvill           nwyvill6b@naver.com   +44 (872) 383-2829   \n",
       "17          Keave             ckeaver1@ucoz.com    +1 (850) 410-9647   \n",
       "18          Denys                cdenysi1@is.gd   +44 (341) 297-2539   \n",
       "19       Purbrick                       Unknown  +353 (160) 183-4278   \n",
       "\n",
       "   House Number  ...             City         Country Postcode Loyalty Card  \\\n",
       "0            45  ...        Asheville   United States    28805         True   \n",
       "1          1068  ...      Albuquerque   United States    87140         True   \n",
       "2            95  ...     Castlebridge         Ireland      R14        False   \n",
       "3          1678  ...    San Francisco   United States    94110         True   \n",
       "4           227  ...         Amarillo   United States    79176         True   \n",
       "5           353  ...          Buffalo   United States    14205         True   \n",
       "6          9076  ...    West Hartford   United States     6127         True   \n",
       "7         91413  ...       Fort Smith   United States    72905        False   \n",
       "8             3  ...         Tallaght         Ireland      D24        False   \n",
       "9          2260  ...      Springfield   United States    22156        False   \n",
       "10            8  ...           Duluth   United States    30096        False   \n",
       "11            7  ...          Kinloch  United Kingdom     PH43         True   \n",
       "12           44  ...         Stockton   United States    95210        False   \n",
       "13          778  ...          El Paso   United States    88514        False   \n",
       "14         6338  ...        Liverpool  United Kingdom      L74        False   \n",
       "15        58147  ...  Port Washington   United States    11054         True   \n",
       "16           47  ...        Edinburgh  United Kingdom      EH9         True   \n",
       "17        08019  ...        Pensacola   United States    32575        False   \n",
       "18          480  ...          Carlton  United Kingdom      DL8        False   \n",
       "19         9233  ...          Balally         Ireland      D04         True   \n",
       "\n",
       "    Coffee Type Roast Type Size  Unit Price  Price per 100g  Order Date  \n",
       "0           Rob          D  1.0       8.950          0.8950  2022-06-03  \n",
       "1           Lib          L  1.0      15.850          1.5850  2020-10-30  \n",
       "2           Ara          M  0.5       6.750          1.3500  2019-01-19  \n",
       "3           Ara          M  2.5      25.875          1.0350  2021-01-28  \n",
       "4           Exc          M  2.5      31.625          1.2650  2021-07-24  \n",
       "5           Ara          M  2.5      25.875          1.0350  2021-02-03  \n",
       "6           Lib          M  0.2       4.365          2.1825  2020-02-03  \n",
       "7           Rob          M  0.5       5.970          1.1940  2022-05-04  \n",
       "8           Ara          L  1.0      12.950          1.2950  2019-04-24  \n",
       "9           Ara          D  1.0       9.950          0.9950  2020-09-18  \n",
       "10          Rob          M  2.5      22.885          0.9154  2020-09-08  \n",
       "11          Lib          L  0.2       4.755          2.3775  2020-09-06  \n",
       "12          Rob          M  0.2       2.985          1.4925  2020-05-09  \n",
       "13          Exc          D  1.0      12.150          1.2150  2020-05-05  \n",
       "14          Rob          D  2.5      20.585          0.8234  2020-07-05  \n",
       "15          Lib          D  0.5       7.770          1.5540  2019-12-12  \n",
       "16          Rob          D  0.2       2.685          1.3425  2020-02-19  \n",
       "17          Ara          L  0.5       7.770          1.5540  2020-03-23  \n",
       "18          Lib          L  1.0      15.850          1.5850  2020-07-03  \n",
       "19          Rob          D  0.2       2.685          1.3425  2020-06-21  \n",
       "\n",
       "[20 rows x 21 columns]"
      ]
     },
     "execution_count": 48,
     "metadata": {},
     "output_type": "execute_result"
    }
   ],
   "source": [
    "clean_coffee_df.head(20)"
   ]
  },
  {
   "cell_type": "markdown",
   "id": "98bee757",
   "metadata": {},
   "source": [
    "Always remember that data cleaning depends specifically on the context and use of the dataset. It can heavily affect and sway the results of analysis, so we must do it carefully as needed. 📌\n"
   ]
  },
  {
   "cell_type": "markdown",
   "id": "a2439fc6",
   "metadata": {},
   "source": [
    "# Target Research Question 🔬✨\n",
    "\n",
    "#### _`\"How can we optimize business strategies by understanding the factors that affect sales?\"`_\n",
    "\n",
    "In order to provide scope, purpose, and clarity, the above question will serve as the main foundation of data analysis upon the Coffee Bean Sale Dataset. It will guide in identifying patterns, relationships, and key insights that can inform business decision-making to hopefully draw insights on the coffee bean industry.\n"
   ]
  },
  {
   "cell_type": "markdown",
   "id": "01fba408",
   "metadata": {},
   "source": [
    "# Exploratory Data Analysis 🔍✨\n",
    "\n",
    "Now that the dataset has been cleaned, we can start exploring it to better understand its structure, contents, and patterns.\n"
   ]
  },
  {
   "cell_type": "markdown",
   "id": "46d42d84",
   "metadata": {},
   "source": [
    "People tend to prefer certain flavors of coffee depending on the season like how Pumpkin Spice Lattes take over Autumn. By knowing which coffee beans and roasts are most profitable, we can make smarter decisions about stocks and promotions. This begs the question...\n",
    "\n",
    "### _`\"Which coffee bean and roast type is the most profitable per season?\"`_ ⛅📈✨\n"
   ]
  },
  {
   "cell_type": "markdown",
   "id": "9beee6c2",
   "metadata": {},
   "source": [
    "To answer this question, the variables of interest are:\n",
    "\n",
    "- **`Order Date`**: the date a order was placed\n",
    "- **`Coffee Type`**: the blend or type of coffee (e.g., Arabica, Robusta, Liberica, Excelsa)\n",
    "- **`Roast Type`**: the level of roast (e.g., light, medium, dark)\n",
    "- **`Profit`**: the amount of profit from a sale\n",
    "- **`Quantity`**: the number of units ordered\n"
   ]
  },
  {
   "cell_type": "markdown",
   "id": "ce6b098f",
   "metadata": {},
   "source": [
    "#### **Seasons**\n"
   ]
  },
  {
   "cell_type": "markdown",
   "id": "cd04fcf6",
   "metadata": {},
   "source": [
    "Since the customers from the dataset are mostly from the the United States of America, we will be using the seasons from that country. The seasons are specifically **winter**, **spring**, **summer** and **fall** and they will be derived from the `Order Date`.\n"
   ]
  },
  {
   "cell_type": "code",
   "execution_count": 49,
   "id": "4fdca73d",
   "metadata": {},
   "outputs": [
    {
     "data": {
      "text/html": [
       "<div>\n",
       "<style scoped>\n",
       "    .dataframe tbody tr th:only-of-type {\n",
       "        vertical-align: middle;\n",
       "    }\n",
       "\n",
       "    .dataframe tbody tr th {\n",
       "        vertical-align: top;\n",
       "    }\n",
       "\n",
       "    .dataframe thead th {\n",
       "        text-align: right;\n",
       "    }\n",
       "</style>\n",
       "<table border=\"1\" class=\"dataframe\">\n",
       "  <thead>\n",
       "    <tr style=\"text-align: right;\">\n",
       "      <th></th>\n",
       "      <th>Order Date</th>\n",
       "      <th>Season</th>\n",
       "    </tr>\n",
       "  </thead>\n",
       "  <tbody>\n",
       "    <tr>\n",
       "      <th>0</th>\n",
       "      <td>2022-06-03</td>\n",
       "      <td>Summer</td>\n",
       "    </tr>\n",
       "    <tr>\n",
       "      <th>1</th>\n",
       "      <td>2020-10-30</td>\n",
       "      <td>Fall</td>\n",
       "    </tr>\n",
       "    <tr>\n",
       "      <th>2</th>\n",
       "      <td>2019-01-19</td>\n",
       "      <td>Winter</td>\n",
       "    </tr>\n",
       "    <tr>\n",
       "      <th>3</th>\n",
       "      <td>2021-01-28</td>\n",
       "      <td>Winter</td>\n",
       "    </tr>\n",
       "    <tr>\n",
       "      <th>4</th>\n",
       "      <td>2021-07-24</td>\n",
       "      <td>Summer</td>\n",
       "    </tr>\n",
       "  </tbody>\n",
       "</table>\n",
       "</div>"
      ],
      "text/plain": [
       "  Order Date  Season\n",
       "0 2022-06-03  Summer\n",
       "1 2020-10-30    Fall\n",
       "2 2019-01-19  Winter\n",
       "3 2021-01-28  Winter\n",
       "4 2021-07-24  Summer"
      ]
     },
     "execution_count": 49,
     "metadata": {},
     "output_type": "execute_result"
    }
   ],
   "source": [
    "# Assigning the seasons based on the month\n",
    "def get_season(date) :\n",
    "    month = date.month\n",
    "    if month in [3, 4, 5] : return 'Spring'\n",
    "    elif month in [6, 7, 8] : return 'Summer'\n",
    "    elif month in [9, 10, 11] : return 'Fall'\n",
    "    else: return 'Winter'\n",
    "\n",
    "clean_coffee_df['Season'] = clean_coffee_df['Order Date'].apply(get_season)\n",
    "clean_coffee_df[['Order Date', 'Season']].head()"
   ]
  },
  {
   "cell_type": "markdown",
   "id": "2b58fde4",
   "metadata": {},
   "source": [
    "#### **Total Quantity Sold For Each Coffee Type per Season**\n"
   ]
  },
  {
   "cell_type": "markdown",
   "id": "e3833a41",
   "metadata": {},
   "source": [
    "In order to understand the seasonal demands per coffee type (e.g., Arabica, Robusta), we will compute the total quantity sold for each coffee type per season. This will help us identify the coffee type that is most preferred during each season.\n"
   ]
  },
  {
   "cell_type": "code",
   "execution_count": 50,
   "id": "929c2b08",
   "metadata": {},
   "outputs": [
    {
     "name": "stdout",
     "output_type": "stream",
     "text": [
      "Total Quantity Sold For Each Coffee Type per Season:\n",
      "\n",
      "    Season Coffee Type  Quantity\n",
      "0     Fall         Ara       233\n",
      "2     Fall         Lib       222\n",
      "3     Fall         Rob       191\n",
      "1     Fall         Exc       163\n",
      "7   Spring         Rob       254\n",
      "5   Spring         Exc       250\n",
      "6   Spring         Lib       234\n",
      "4   Spring         Ara       233\n",
      "8   Summer         Ara       247\n",
      "11  Summer         Rob       247\n",
      "9   Summer         Exc       227\n",
      "10  Summer         Lib       151\n",
      "14  Winter         Lib       247\n",
      "12  Winter         Ara       234\n",
      "13  Winter         Exc       232\n",
      "15  Winter         Rob       186\n"
     ]
    }
   ],
   "source": [
    "# Grouping by season and coffee type and summing up the quantity\n",
    "coffee_total_quantity = clean_coffee_df.groupby(['Season', 'Coffee Type'])['Quantity'].sum().reset_index()\n",
    "\n",
    "# Sorting the seasons in ascending order and quantity in descending order\n",
    "coffee_total_quantity = coffee_total_quantity.sort_values(['Season', 'Quantity'], ascending=[True, False])\n",
    "\n",
    "print(\"Total Quantity Sold For Each Coffee Type per Season:\\n\")\n",
    "print(coffee_total_quantity)"
   ]
  },
  {
   "cell_type": "markdown",
   "id": "bff2fb81",
   "metadata": {},
   "source": [
    "During the **Fall** and **Summer**, the most sold coffee type for both seasons is **Arabica**, with a quantity of **233** and **247** units sold, respectively. During the **Spring**, the most sold coffee type is **Robusta**, with a quantity of **254** units sold. Lastly, during the **Winter**, the most sold coffee type is **Liberica**, with a quantity of **247** units sold.\n"
   ]
  },
  {
   "cell_type": "markdown",
   "id": "9e8305e6",
   "metadata": {},
   "source": [
    "#### **Total Quantity Sold For Each Roast Type per Season**\n"
   ]
  },
  {
   "cell_type": "markdown",
   "id": "f8233035",
   "metadata": {},
   "source": [
    "In order to understand the seasonal demands per roast type (e.g., light, medium, dark), we will compute the total quantity sold for each roast type per season. This will help us identify the roast type that is most preferred during each season.\n"
   ]
  },
  {
   "cell_type": "code",
   "execution_count": 51,
   "id": "0da863c4",
   "metadata": {},
   "outputs": [
    {
     "name": "stdout",
     "output_type": "stream",
     "text": [
      "Total Quantity Sold For Each Roast Type per Season:\n",
      "\n",
      "    Season Roast Type  Quantity\n",
      "2     Fall          M       309\n",
      "0     Fall          D       250\n",
      "1     Fall          L       250\n",
      "4   Spring          L       364\n",
      "5   Spring          M       328\n",
      "3   Spring          D       279\n",
      "6   Summer          D       311\n",
      "7   Summer          L       301\n",
      "8   Summer          M       260\n",
      "9   Winter          D       316\n",
      "10  Winter          L       315\n",
      "11  Winter          M       268\n"
     ]
    }
   ],
   "source": [
    "# Grouping by season and roast type and summing up the quantity\n",
    "roast_total_quantity = clean_coffee_df.groupby(['Season', 'Roast Type'])['Quantity'].sum().reset_index()\n",
    "\n",
    "# Sorting the seasons in ascending order and quantity in descending order\n",
    "roast_total_quantity = roast_total_quantity.sort_values(['Season', 'Quantity'], ascending=[True, False])\n",
    "\n",
    "print(\"Total Quantity Sold For Each Roast Type per Season:\\n\")\n",
    "print(roast_total_quantity)"
   ]
  },
  {
   "cell_type": "markdown",
   "id": "4fff5c01",
   "metadata": {},
   "source": [
    "During the **Winter** and **Summer**, the most sold roast type for both seasons is **dark**, with a quantity of **316** and **311** units sold, respectively. During the **Fall**, the most sold roast type is **medium**, with a quantity of **309** units sold. Lastly, during the **Spring**, the most sold roast type is **light**, with a quantity of **364** units sold.\n"
   ]
  },
  {
   "cell_type": "markdown",
   "id": "92255def",
   "metadata": {},
   "source": [
    "#### **Top Quantity Sold For Each Coffee and Roast Type Combination per Season**\n"
   ]
  },
  {
   "cell_type": "markdown",
   "id": "ec2394b3",
   "metadata": {},
   "source": [
    "In order to be a step closer to identifying what coffee and roast type is the most profitable per season, we will compute for the most quantity sold coffee and roast type combination per season. This will help us compare which coffee and roast type combination is the most sold and the most profitable during each season.\n"
   ]
  },
  {
   "cell_type": "code",
   "execution_count": 52,
   "id": "78dfe93e",
   "metadata": {},
   "outputs": [
    {
     "name": "stdout",
     "output_type": "stream",
     "text": [
      "Top Quantity Sold for Each Coffee and Roast Type per Season:\n",
      "\n",
      "   Season Coffee Type Roast Type  Quantity\n",
      "0    Fall         Ara          M        98\n",
      "1  Spring         Exc          L       106\n",
      "2  Summer         Rob          D       110\n",
      "3  Winter         Ara          M        98\n"
     ]
    }
   ],
   "source": [
    "# Grouping by season, coffee type, and roast type and summing up the quantity\n",
    "combination_quantity = clean_coffee_df.groupby(['Season', 'Coffee Type', 'Roast Type'])['Quantity'].sum().reset_index()\n",
    "\n",
    "# Sorting and retrieving the top selling combination per season\n",
    "top_combination_quantity = combination_quantity.sort_values(['Season', 'Quantity'], ascending=[True, False]) \\\n",
    "                                   .groupby('Season').first().reset_index()\n",
    "\n",
    "print(\"Top Quantity Sold for Each Coffee and Roast Type per Season:\\n\")\n",
    "print(top_combination_quantity)"
   ]
  },
  {
   "cell_type": "markdown",
   "id": "7d1270e7",
   "metadata": {},
   "source": [
    "During both the **Fall** and **Winter**, the most sold combination is **Arabica Medium Roast**, both having a quantity of **98** units sold. During the **Spring**, the most sold combination is **Excelsa Light Roast**, with a quantity of **106** units sold. During the **Summer**, the most sold combination is **Robusta Dark Roast**, with a quantity of **110** units sold.\n"
   ]
  },
  {
   "cell_type": "markdown",
   "id": "757aca8c",
   "metadata": {},
   "source": [
    "#### **Most Profitable Coffee and Roast Type per Season**\n"
   ]
  },
  {
   "cell_type": "markdown",
   "id": "912e1657",
   "metadata": {},
   "source": [
    "In order to answer our main EDA question of determining which coffee bean and roast type is the most profitable per season is, we will get the total profit of each season, coffee and roast type group and retreieve the combinations with the highest total profit.\n"
   ]
  },
  {
   "cell_type": "code",
   "execution_count": 53,
   "id": "592de241",
   "metadata": {},
   "outputs": [
    {
     "name": "stdout",
     "output_type": "stream",
     "text": [
      "   Season Coffee Type Roast Type  Total Profit\n",
      "0    Fall         Lib          D      168.6867\n",
      "1  Spring         Lib          L      202.3411\n",
      "2  Summer         Exc          M      167.8875\n",
      "3  Winter         Lib          D      158.2490\n"
     ]
    }
   ],
   "source": [
    "# Getting the total profit by multiplying quantity and profit\n",
    "clean_coffee_df['Total Profit'] = clean_coffee_df['Quantity'] * clean_coffee_df['Profit']\n",
    "\n",
    "# Grouping by season, coffee type, and roast type and then summing up the total profit for each group\n",
    "combination_season_profit = clean_coffee_df.groupby(['Season', 'Coffee Type', 'Roast Type'])['Total Profit'].sum().reset_index()\n",
    "\n",
    "# the coffee and roast type combination with the highest total profit appears first\n",
    "top_combination_per_season = combination_season_profit.sort_values(['Season', 'Total Profit'], ascending=[True, False]).groupby('Season').first().reset_index()\n",
    "\n",
    "print(top_combination_per_season)"
   ]
  },
  {
   "cell_type": "markdown",
   "id": "6cfbc1ee",
   "metadata": {},
   "source": [
    "The most profitable coffee and roast type combination during the **Fall** is **Liberica Dark Roast** in contrast to **Arabica Medium Roast** having the most quantity sold. The most profitable combination during **Spring** is **Liberica Light Roast** in contrast to **Excelsa Light Roast** having the most quantity sold. The most profitable combination during **Summer** is **Excelsa Medium Roast** in contrast to **Robusta Dark Roast** having the most quantity sold. Lastly, the most profitable combination during **Winter** is **Liberica Dark Roast** in contrast to **Arabica Medium Roast** having the most quantity sold.\n"
   ]
  },
  {
   "cell_type": "markdown",
   "id": "ec0c605a",
   "metadata": {},
   "source": [
    "#### **Which season has the highest overall coffee sales profit?**\n"
   ]
  },
  {
   "cell_type": "markdown",
   "id": "a31e7c2b",
   "metadata": {},
   "source": [
    "Identifying the season with the highest overall coffee sales profit will help us understand which season generates the most coffee sales. By analyzing seasonal trends, businesses can better anticipate coffee demand and maximize profitability.\n"
   ]
  },
  {
   "cell_type": "code",
   "execution_count": 54,
   "id": "deac87e8",
   "metadata": {},
   "outputs": [
    {
     "name": "stdout",
     "output_type": "stream",
     "text": [
      "Total Profit per Season:\n",
      "Spring: $1272.05\n",
      "Fall: $1103.51\n",
      "Winter: $1096.77\n",
      "Summer: $1067.24\n",
      "\n",
      "Season with the highest profit: Spring\n"
     ]
    }
   ],
   "source": [
    "# Grouping by season and summing up total profit\n",
    "season_profit = clean_coffee_df.groupby('Season')['Total Profit'].sum()\n",
    "\n",
    "# Sorting the profit per season in descending order\n",
    "season_profit_sorted = season_profit.sort_values(ascending=False)\n",
    "\n",
    "print(\"Total Profit per Season:\")\n",
    "for season, profit in season_profit_sorted.items():\n",
    "    print(f\"{season}: ${'{:.2f}'.format(profit)}\")\n",
    "\n",
    "top_season = season_profit_sorted.idxmax()\n",
    "\n",
    "print(f\"\\nSeason with the highest profit: {top_season}\")"
   ]
  },
  {
   "cell_type": "markdown",
   "id": "29fea01e",
   "metadata": {},
   "source": [
    "The season that gives the highest overall coffee sales profit is **Spring** with a total profit of **$1,272.05**. The season with the least overall coffee sales profit is **Summer**.\n"
   ]
  },
  {
   "cell_type": "markdown",
   "id": "1b1dac29",
   "metadata": {},
   "source": [
    "#### **Visualization**\n"
   ]
  },
  {
   "cell_type": "code",
   "execution_count": 55,
   "id": "77f9f25a",
   "metadata": {},
   "outputs": [
    {
     "data": {
      "image/png": "[encoded data removed]",
      "text/plain": [
       "<Figure size 1200x600 with 1 Axes>"
      ]
     },
     "metadata": {},
     "output_type": "display_data"
    }
   ],
   "source": [
    "# Grouping by season, coffee and roast type to get total profit\n",
    "profit_per_combo = clean_coffee_df.groupby(['Season', 'Coffee Type', 'Roast Type'])['Total Profit'].sum().reset_index()\n",
    "\n",
    "# Creating a column for combining coffee and roast type\n",
    "profit_per_combo['CoffeeRoast'] = profit_per_combo['Coffee Type'].astype(str) + ' - ' + profit_per_combo['Roast Type'].astype(str)\n",
    "\n",
    "pivot_df = profit_per_combo.pivot(index='Season', columns='CoffeeRoast', values='Total Profit')\n",
    "\n",
    "pivot_df.plot(kind='line', marker='o', figsize=(12, 6))\n",
    "plt.title(\"Seasonal Profit by Coffee and Roast Type\")\n",
    "plt.xlabel(\"Season\")\n",
    "plt.ylabel(\"Total Profit ($)\")\n",
    "plt.grid(True)\n",
    "plt.legend(title=\"Coffee - Roast Type\", bbox_to_anchor=(1.05, 1), loc='upper left')\n",
    "plt.tight_layout()\n",
    "plt.show()"
   ]
  },
  {
   "cell_type": "markdown",
   "id": "dd7e3b0e",
   "metadata": {},
   "source": [
    "**Figure 1. Line Chart of Seasonal Profits by Coffee and Roast Type**\n"
   ]
  },
  {
   "cell_type": "markdown",
   "id": "6ae3cc6f",
   "metadata": {},
   "source": [
    "The line chart shows the total profit made by each coffee and roast type combination on the y-axis. The four seasons are shown on the y-axis and a legend for each combination is shown on the upper right part of the figure.\n",
    "\n",
    "The figure reflects the profitability of each coffee and roast type per season and as seen, **Spring** is the season that gives the combination (**Liberica Light Roast**) with the highest total profit.\n"
   ]
  },
  {
   "cell_type": "markdown",
   "id": "1ccd6210",
   "metadata": {},
   "source": [
    "#### Conclusion\n",
    "\n",
    "Based on the analysis of seasonal coffee bean sales, Spring turns out to be the most profitable season by a strong margin with Liberica Light Roast beans having the most profit.\n",
    "\n",
    "This suggests that there's an opportunity to further capitalize upon the demand for Liberica Light Roast sales during spring. Leveraging on this via promotional campaigns, social media posts and advertisements could potentially boost these sales further. 💰\n"
   ]
  },
  {
   "cell_type": "markdown",
   "id": "b3e6d572",
   "metadata": {},
   "source": [
    "### _`\"How does loyalty card ownership influence customer purchasing behavior?\"`_ 🧑💳✨\n"
   ]
  },
  {
   "cell_type": "markdown",
   "id": "2f9e2259",
   "metadata": {},
   "source": [
    "This analysis explores whether loyalty card ownership has an influence on customer purchasing behavior. Specifically, we investigate whether there is a statistically significant difference in the number of coffee bean units ordered by customers who have a loyalty card compared to those who do not.\n"
   ]
  },
  {
   "cell_type": "markdown",
   "id": "c8b6a394",
   "metadata": {},
   "source": [
    "To do this, we focus on two variables:\n",
    "\n",
    "- **`Loyalty Card`**: From the `customers` dataset, indicating whether a customer has a loyalty card (True or False).\n",
    "- **`Quantity`**: From the `orders` dataset, representing how many units of coffee beans were ordered.\n"
   ]
  },
  {
   "cell_type": "markdown",
   "id": "18b30c7f",
   "metadata": {},
   "source": [
    "#### **Group by Ownership**\n",
    "\n",
    "We then divide the dataset into two groups based on loyalty card status:\n",
    "\n",
    "- `owners`: Customers who have a loyalty card (Loyalty Card == True)\n",
    "- `non_owners`: Customers who do not have a loyalty card (Loyalty Card == False)\n"
   ]
  },
  {
   "cell_type": "code",
   "execution_count": 56,
   "id": "0fe4b07e",
   "metadata": {},
   "outputs": [
    {
     "data": {
      "text/html": [
       "<div>\n",
       "<style scoped>\n",
       "    .dataframe tbody tr th:only-of-type {\n",
       "        vertical-align: middle;\n",
       "    }\n",
       "\n",
       "    .dataframe tbody tr th {\n",
       "        vertical-align: top;\n",
       "    }\n",
       "\n",
       "    .dataframe thead th {\n",
       "        text-align: right;\n",
       "    }\n",
       "</style>\n",
       "<table border=\"1\" class=\"dataframe\">\n",
       "  <thead>\n",
       "    <tr style=\"text-align: right;\">\n",
       "      <th></th>\n",
       "      <th>Loyalty Card Owners</th>\n",
       "      <th>Non-Owners</th>\n",
       "    </tr>\n",
       "  </thead>\n",
       "  <tbody>\n",
       "    <tr>\n",
       "      <th>0</th>\n",
       "      <td>4.0</td>\n",
       "      <td>6</td>\n",
       "    </tr>\n",
       "    <tr>\n",
       "      <th>1</th>\n",
       "      <td>3.0</td>\n",
       "      <td>5</td>\n",
       "    </tr>\n",
       "    <tr>\n",
       "      <th>2</th>\n",
       "      <td>3.0</td>\n",
       "      <td>5</td>\n",
       "    </tr>\n",
       "    <tr>\n",
       "      <th>3</th>\n",
       "      <td>6.0</td>\n",
       "      <td>1</td>\n",
       "    </tr>\n",
       "    <tr>\n",
       "      <th>4</th>\n",
       "      <td>4.0</td>\n",
       "      <td>2</td>\n",
       "    </tr>\n",
       "    <tr>\n",
       "      <th>...</th>\n",
       "      <td>...</td>\n",
       "      <td>...</td>\n",
       "    </tr>\n",
       "    <tr>\n",
       "      <th>515</th>\n",
       "      <td>NaN</td>\n",
       "      <td>6</td>\n",
       "    </tr>\n",
       "    <tr>\n",
       "      <th>516</th>\n",
       "      <td>NaN</td>\n",
       "      <td>2</td>\n",
       "    </tr>\n",
       "    <tr>\n",
       "      <th>517</th>\n",
       "      <td>NaN</td>\n",
       "      <td>3</td>\n",
       "    </tr>\n",
       "    <tr>\n",
       "      <th>518</th>\n",
       "      <td>NaN</td>\n",
       "      <td>5</td>\n",
       "    </tr>\n",
       "    <tr>\n",
       "      <th>519</th>\n",
       "      <td>NaN</td>\n",
       "      <td>4</td>\n",
       "    </tr>\n",
       "  </tbody>\n",
       "</table>\n",
       "<p>520 rows × 2 columns</p>\n",
       "</div>"
      ],
      "text/plain": [
       "     Loyalty Card Owners  Non-Owners\n",
       "0                    4.0           6\n",
       "1                    3.0           5\n",
       "2                    3.0           5\n",
       "3                    6.0           1\n",
       "4                    4.0           2\n",
       "..                   ...         ...\n",
       "515                  NaN           6\n",
       "516                  NaN           2\n",
       "517                  NaN           3\n",
       "518                  NaN           5\n",
       "519                  NaN           4\n",
       "\n",
       "[520 rows x 2 columns]"
      ]
     },
     "execution_count": 56,
     "metadata": {},
     "output_type": "execute_result"
    }
   ],
   "source": [
    "owners = clean_coffee_df[clean_coffee_df['Loyalty Card'] == True]['Quantity']\n",
    "non_owners = clean_coffee_df[clean_coffee_df['Loyalty Card'] == False]['Quantity']\n",
    "\n",
    "ownership_table = pd.DataFrame({\n",
    "    'Loyalty Card Owners': owners.reset_index(drop = True),\n",
    "    'Non-Owners': non_owners.reset_index(drop = True)\n",
    "})\n",
    "\n",
    "ownership_table"
   ]
  },
  {
   "cell_type": "markdown",
   "id": "81c665d4",
   "metadata": {},
   "source": [
    "To assess the relationship, we use an **Independent Samples T-test**, which allows us to compare the means of two groups and determine whether any observed difference is statistically significant.\n"
   ]
  },
  {
   "cell_type": "markdown",
   "id": "815f09ca",
   "metadata": {},
   "source": [
    "Before conducting the test, we define our hypotheses:\n"
   ]
  },
  {
   "cell_type": "markdown",
   "id": "48cb4f68",
   "metadata": {},
   "source": [
    "#### **Hypothesis Testing (T-test)**\n",
    "\n",
    "**Null Hypothesis (H₀)**: Loyalty card ownership does not influence purchasing behavior.\n",
    "\n",
    "**Alternative Hypothesis (Hₐ)**: Loyalty card ownership does influence purchasing behavior.\n",
    "\n",
    "We will use an independent samples T-test to determine if the difference in purchasing behavior between loyalty card owners and non-owners is statistically significant based on the T-statistic and p-value.\n"
   ]
  },
  {
   "cell_type": "code",
   "execution_count": 57,
   "id": "3c5f638e",
   "metadata": {},
   "outputs": [
    {
     "name": "stdout",
     "output_type": "stream",
     "text": [
      "Owners Mean Quantity (True): 3.48\n",
      "Non-Owners Mean Quantity (False): 3.63\n",
      "T-statistic: -1.4161\n",
      "P-value: 0.1571\n"
     ]
    }
   ],
   "source": [
    "t_stat, p_value = ttest_ind(owners, non_owners, equal_var=False)\n",
    "\n",
    "print(f\"Owners Mean Quantity (True): {owners.mean():.2f}\")\n",
    "print(f\"Non-Owners Mean Quantity (False): {non_owners.mean():.2f}\")\n",
    "print(f\"T-statistic: {t_stat:.4f}\")\n",
    "print(f\"P-value: {p_value:.4f}\")"
   ]
  },
  {
   "cell_type": "markdown",
   "id": "c5049887",
   "metadata": {},
   "source": [
    "The average quantity ordered by **loyalty card owners** is **3.48**, while **non-owners** order an average of **3.63**.\n",
    "\n",
    "The **T-statistic** is **-1.4161**, and the **p-value** is **0.1571**, which is greater than **0.05**. This means the result is **not statistically significant**.\n",
    "\n",
    "Therefore, we **fail to reject the null hypothesis**.\n"
   ]
  },
  {
   "cell_type": "markdown",
   "id": "e52cf362",
   "metadata": {},
   "source": [
    "#### **Dot Plot**\n",
    "\n",
    "The dot plot below further illustrates this relationship.\n"
   ]
  },
  {
   "cell_type": "code",
   "execution_count": 58,
   "id": "227472b7",
   "metadata": {},
   "outputs": [
    {
     "data": {
      "image/png": "[encoded data removed]",
      "text/plain": [
       "<Figure size 800x600 with 1 Axes>"
      ]
     },
     "metadata": {},
     "output_type": "display_data"
    }
   ],
   "source": [
    "plt.figure(figsize = (8, 6))\n",
    "sns.stripplot(\n",
    "    data = clean_coffee_df,\n",
    "    x = 'Loyalty Card',\n",
    "    y = 'Quantity',\n",
    "    hue = 'Loyalty Card',       \n",
    "    legend = False,             \n",
    "    jitter = 0.3,\n",
    "    size = 6,\n",
    "    marker = 'o',\n",
    "    edgecolor = 'auto',\n",
    "    linewidth = 0.5,\n",
    "    palette = 'Set2'\n",
    ")\n",
    "\n",
    "plt.title('Quantity Ordered by Loyalty Card Ownership')\n",
    "plt.xlabel('Loyalty Card')\n",
    "plt.ylabel('Quantity Ordered')\n",
    "plt.grid(True, axis = 'y', linestyle = '--', alpha = 0.4)\n",
    "\n",
    "plt.tight_layout()\n",
    "plt.show()"
   ]
  },
  {
   "cell_type": "markdown",
   "id": "23f6e891",
   "metadata": {},
   "source": [
    "**Figure 2. Dot Plot of Quantity of Orders based on Loyalty Card Ownership**\n",
    "\n",
    "The dot plot shows the distribution of coffee bean quantities ordered by customers, grouped by loyalty card ownership. Each dot represents a single transaction, with the quantity ordered on the y-axis and the loyalty card status on the x-axis.\n",
    "\n",
    "As seen in the figure, loyalty card owners and non-owners display similar ordering patterns. This diagram aligns with the t-test results, which show no significant difference in mean quantity ordered between the groups (t = -1.4161, p = 0.1571).\n"
   ]
  },
  {
   "cell_type": "markdown",
   "id": "d9d6d855",
   "metadata": {},
   "source": [
    "There is no statistically significant evidence that loyalty card ownership influences the quantity of coffee beans ordered.\n"
   ]
  },
  {
   "cell_type": "markdown",
   "id": "c9dd44d7",
   "metadata": {},
   "source": [
    "While our initial analysis suggests that loyalty card ownership does not significantly affect overall purchasing behavior, it does not directly answer whether those with loyalty cards tend to order larger quantities of coffee beans. A customer may still purchase larger quantites in order.\n",
    "\n",
    "To further investigate this, we now ask:\n"
   ]
  },
  {
   "cell_type": "markdown",
   "id": "87971261",
   "metadata": {},
   "source": [
    "**Do loyalty card owners order in larger quantities of coffee beans compared to non-owners?**\n"
   ]
  },
  {
   "cell_type": "markdown",
   "id": "b8c4ada5",
   "metadata": {},
   "source": [
    "To answer this question, we use the same variables from the previous analysis:\n",
    "\n",
    "- **`Loyalty Card`**: From the `customers` dataset, indicating whether a customer has a loyalty card (True or False).\n",
    "- **`Quantity`**: From the `orders` dataset, representing how many units of coffee beans were ordered.\n"
   ]
  },
  {
   "cell_type": "markdown",
   "id": "b24ebd19",
   "metadata": {},
   "source": [
    "We will also use the same groupings from the initial analysis:\n",
    "\n",
    "- `owners`: Customers who have a loyalty card (Loyalty Card == True)\n",
    "- `non_owners`: Customers who do not have a loyalty card (Loyalty Card == False)\n"
   ]
  },
  {
   "cell_type": "markdown",
   "id": "654a490a",
   "metadata": {},
   "source": [
    "To investigate this, we will conduct a **One-tailed Independent Samples T-test** to determine if loyalty card owners purchase in larger amounts compared to non-owners.\n"
   ]
  },
  {
   "cell_type": "markdown",
   "id": "c582ee84",
   "metadata": {},
   "source": [
    "Before conducting the test, we define our hypotheses:\n"
   ]
  },
  {
   "cell_type": "markdown",
   "id": "4d97bba6",
   "metadata": {},
   "source": [
    "**Null Hypothesis (H₀)**: Loyalty card owners do not order in larger quantities than non-owners (μ₁ ≤ μ₂).\n",
    "\n",
    "**Alternative Hypothesis (Hₐ)**: Loyalty card owners order in larger quantities than non-owners (μ₁ > μ₂).\n",
    "\n",
    "We will use a One-tailed Independent Samples T-test to determine if loyalty card owners order significantly more coffee beans than non-owners, based on the T-statistic and p-value.\n"
   ]
  },
  {
   "cell_type": "code",
   "execution_count": 59,
   "id": "713ffdd3",
   "metadata": {},
   "outputs": [
    {
     "name": "stdout",
     "output_type": "stream",
     "text": [
      "Owners Mean Quantity (True): 3.48\n",
      "Non-Owners Mean Quantity (False): 3.63\n",
      "T-statistic: -1.4161\n",
      "One-tailed P-value: 0.0785\n"
     ]
    }
   ],
   "source": [
    "t_stat, p_value_two_tailed = ttest_ind(owners, non_owners, equal_var=False)\n",
    "p_value_one_tailed = p_value_two_tailed / 2\n",
    "\n",
    "print(f\"Owners Mean Quantity (True): {owners.mean():.2f}\")\n",
    "print(f\"Non-Owners Mean Quantity (False): {non_owners.mean():.2f}\")\n",
    "print(f\"T-statistic: {t_stat:.4f}\")\n",
    "print(f\"One-tailed P-value: {p_value_one_tailed:.4f}\")"
   ]
  },
  {
   "cell_type": "markdown",
   "id": "361e23f6",
   "metadata": {},
   "source": [
    "The **One-tailed p-value** is **0.0785**, which is greater than **0.05**. This means the result is **not statistically significant**.\n",
    "\n",
    "Therefore, we **fail to reject the null hypothesis**.\n"
   ]
  },
  {
   "cell_type": "markdown",
   "id": "fdbc4ae2",
   "metadata": {},
   "source": [
    "This relationship is also shown in the bar plot below.\n"
   ]
  },
  {
   "cell_type": "code",
   "execution_count": 60,
   "id": "c1e37a16",
   "metadata": {},
   "outputs": [
    {
     "data": {
      "image/png": "[encoded data removed]",
      "text/plain": [
       "<Figure size 800x600 with 1 Axes>"
      ]
     },
     "metadata": {},
     "output_type": "display_data"
    }
   ],
   "source": [
    "plt.figure(figsize = (8, 6))\n",
    "sns.barplot(\n",
    "    data = clean_coffee_df,\n",
    "    x = 'Loyalty Card',\n",
    "    y = 'Quantity',\n",
    "    hue = 'Loyalty Card',   \n",
    "    palette = 'Set2',\n",
    "    legend = False          \n",
    ")\n",
    "plt.title(\"Average Quantity Ordered by Loyalty Card Ownership\")\n",
    "plt.xlabel(\"Loyalty Card\")\n",
    "plt.ylabel(\"Mean Quantity Ordered\")\n",
    "plt.grid(True, axis = 'y', linestyle = '--', alpha = 0.4)\n",
    "plt.tight_layout()\n",
    "plt.show()"
   ]
  },
  {
   "cell_type": "markdown",
   "id": "60d659a1",
   "metadata": {},
   "source": [
    "**Figure 3. Bar Chart of Average Quantities Ordered based on Loyalty Card Ownership**\n",
    "\n",
    "The bar plot displays the average quantity of coffee beans ordered by customers, grouped by loyalty card ownership. Each bar represents the mean quantity ordered for each group.\n",
    "\n",
    "As shown above, loyalty card owners do not appear to order larger quantities than non-owners. It supports the one-tailed t-test result, which found no significant evidence to support the claim that loyalty card owners order in greater quantities (t = -1.4161, one-tailed p = 0.0785).\n"
   ]
  },
  {
   "cell_type": "markdown",
   "id": "48f8b444",
   "metadata": {},
   "source": [
    "There is insufficient evidence to conclude that loyalty card owners order in larger quantities of coffee beans compared to non-owners.\n"
   ]
  },
  {
   "cell_type": "markdown",
   "id": "dec2bafe",
   "metadata": {},
   "source": [
    "#### Conclusion\n",
    "\n",
    "The analysis neither shows that loyalty card ownership influences the quantity of coffee beans bought nor does it mean loyalty card owners buy more compared to those without.\n",
    "\n",
    "The loyalty card program may not be effectively encouraging customers to purchase more coffee beans. It needs to be reassessed. Making promos such as \"Buy X, get Y% off of your next order\" or even offering larger-sized packages for loyalty card owners might be able to drive more sales and loyal customers. 📈📈📈\n"
   ]
  },
  {
   "cell_type": "markdown",
   "id": "648df10e",
   "metadata": {},
   "source": [
    "### _`\"Do the coffee products with higher unit prices generate more profit?\"`_ ☕💰✨\n"
   ]
  },
  {
   "cell_type": "markdown",
   "id": "d8f18ce8",
   "metadata": {},
   "source": [
    "In this analysis, we aim to determine whether there is a statistical relationship between the **unit price** of coffee products and their **total profit**. Specifically, we want to know if products with higher prices tend to generate more profit.\n"
   ]
  },
  {
   "cell_type": "markdown",
   "id": "d1559daf",
   "metadata": {},
   "source": [
    "To answer this question, we focus on the following variables from the `products` dataset:\n",
    "\n",
    "- **`Unit Price`**: The retail price per unit of each coffee product.\n",
    "- **`Profit`**: The total profit associated with each product.\n"
   ]
  },
  {
   "cell_type": "markdown",
   "id": "f2fc01ae",
   "metadata": {},
   "source": [
    "To assess this, we will use the **Pearson correlation coefficient**, which measures the strength and direction of a linear relationship between two continuous variables.\n"
   ]
  },
  {
   "cell_type": "markdown",
   "id": "0efe9c9f",
   "metadata": {},
   "source": [
    "Before conducting the test, we define our hypotheses:\n"
   ]
  },
  {
   "cell_type": "markdown",
   "id": "eceac123",
   "metadata": {},
   "source": [
    "**Null Hypothesis (H₀)**: There is no linear correlation between unit price and profit.  \n",
    "**Alternative Hypothesis (Hₐ)**: There is a significant linear correlation between unit price and profit.\n",
    "\n",
    "We will calculate the Pearson correlation coefficient and interpret both the correlation value and the associated p-value to determine if the result is statistically significant.\n"
   ]
  },
  {
   "cell_type": "code",
   "execution_count": 61,
   "id": "7db216f6",
   "metadata": {},
   "outputs": [
    {
     "name": "stdout",
     "output_type": "stream",
     "text": [
      "Pearson correlation: 0.939\n",
      "P-value: 0.0000\n"
     ]
    }
   ],
   "source": [
    "corr, p_value = pearsonr(products['Unit Price'], products['Profit'])\n",
    "\n",
    "print(f\"Pearson correlation: {corr:.3f}\")\n",
    "print(f\"P-value: {p_value:.4f}\")"
   ]
  },
  {
   "cell_type": "markdown",
   "id": "e8bd8b64",
   "metadata": {},
   "source": [
    "The Pearson correlation coefficient between **Unit Price** and **Profit** is **0.939**, indicating a **very strong positive linear relationship**.\n",
    "\n",
    "Additionally, the **p-value is less than 0.05** (p = 0.0000), which means the result is **statistically significant**. Therefore, we **reject the null hypothesis**.\n"
   ]
  },
  {
   "cell_type": "markdown",
   "id": "e443c70a",
   "metadata": {},
   "source": [
    "The following scatterplot further illustrates this relationship.\n"
   ]
  },
  {
   "cell_type": "code",
   "execution_count": 62,
   "id": "8dccadad",
   "metadata": {},
   "outputs": [
    {
     "data": {
      "image/png": "[encoded data removed]",
      "text/plain": [
       "<Figure size 800x600 with 1 Axes>"
      ]
     },
     "metadata": {},
     "output_type": "display_data"
    }
   ],
   "source": [
    "plt.figure(figsize=(8, 6))\n",
    "sns.regplot(data=products, x='Unit Price', y='Profit', color='teal', line_kws={\"color\": \"red\"})\n",
    "\n",
    "plt.title('Scatterplot of Unit Price vs Profit')\n",
    "plt.xlabel('Unit Price')\n",
    "plt.ylabel('Profit')\n",
    "plt.grid(True)\n",
    "plt.tight_layout()\n",
    "plt.show()"
   ]
  },
  {
   "cell_type": "markdown",
   "id": "bbd72863",
   "metadata": {},
   "source": [
    "**Figure 4. Scatterplot of Unit Price and Profit**  \n",
    "The scatterplot displays the relationship between **Unit Price** and **Profit** for each coffee product in the dataset. Each teal point represents a product, with its unit price on the x-axis and the corresponding profit on the y-axis.\n",
    "\n",
    "The red regression line illustrates the overall linear trend. As shown, products with higher unit prices tend to generate higher profits, confirming the positive relationship observed in the Pearson correlation analysis (r = 0.939, p < 0.001).\n"
   ]
  },
  {
   "cell_type": "markdown",
   "id": "d6bdb975",
   "metadata": {},
   "source": [
    "There exists a statistically significant linear correlation between unit price and profit among coffee products.\n"
   ]
  },
  {
   "cell_type": "markdown",
   "id": "534c108b",
   "metadata": {},
   "source": [
    "While our initial analysis shows a strong positive correlation between unit price and profit, this does not account for how well each product actually sells. High-priced items may yield high per-unit profits, but low sales volumes could limit their total profitability. To explore this further, we now ask:\n"
   ]
  },
  {
   "cell_type": "markdown",
   "id": "69059526",
   "metadata": {},
   "source": [
    "**Do sales volumes influence total profit for higher-priced coffee products?**\n"
   ]
  },
  {
   "cell_type": "markdown",
   "id": "3f16e2bf",
   "metadata": {},
   "source": [
    "To answer this question, we focus on the following variables:\n",
    "\n",
    "- From the `products` dataset:\n",
    "  - **Unit Price**: The retail price per unit of each coffee product.\n",
    "  - **Profit**: The total profit associated with each product.\n",
    "- From the `orders` dataset:\n",
    "  - **Quantity**: The number of units ordered per product.\n"
   ]
  },
  {
   "cell_type": "markdown",
   "id": "996af4a5",
   "metadata": {},
   "source": [
    "This analysis will help determine whether limited demand for expensive products affects their overall contribution to profit.\n"
   ]
  },
  {
   "cell_type": "markdown",
   "id": "ff0bc265",
   "metadata": {},
   "source": [
    "Before conducting the test, we define our hypotheses:\n"
   ]
  },
  {
   "cell_type": "markdown",
   "id": "24bf8271",
   "metadata": {},
   "source": [
    "**Null Hypothesis (H₀)**: There is no significant linear correlation between sales volume (Quantity) and total profit for higher-priced coffee products.  \n",
    "**Alternative Hypothesis (Hₐ)**: There is a significant linear correlation between sales volume (Quantity) and total profit for higher-priced coffee products.\n",
    "\n",
    "We will calculate the Pearson correlation coefficient and evaluate the associated p-value. This will allow us to determine both the strength of the linear relationship and whether the result is statistically significant at the conventional 0.05 significance level.\n"
   ]
  },
  {
   "cell_type": "markdown",
   "id": "35ee9974",
   "metadata": {},
   "source": [
    "We will use `clean_coffee_df`, a merged and cleaned dataset combining product and order details needed to compute total profit per product.\n"
   ]
  },
  {
   "cell_type": "markdown",
   "id": "d144dc13",
   "metadata": {},
   "source": [
    "#### **Group by Product**\n",
    "\n",
    "We group the merged data by each product to calculate:\n",
    "\n",
    "- Total quantity sold\n",
    "- Per-unit profit and unit price (from `products`)\n",
    "- Total profit = Quantity × Profit\n"
   ]
  },
  {
   "cell_type": "code",
   "execution_count": 63,
   "id": "f1c48f5c",
   "metadata": {},
   "outputs": [
    {
     "data": {
      "text/html": [
       "<div>\n",
       "<style scoped>\n",
       "    .dataframe tbody tr th:only-of-type {\n",
       "        vertical-align: middle;\n",
       "    }\n",
       "\n",
       "    .dataframe tbody tr th {\n",
       "        vertical-align: top;\n",
       "    }\n",
       "\n",
       "    .dataframe thead th {\n",
       "        text-align: right;\n",
       "    }\n",
       "</style>\n",
       "<table border=\"1\" class=\"dataframe\">\n",
       "  <thead>\n",
       "    <tr style=\"text-align: right;\">\n",
       "      <th></th>\n",
       "      <th>Product ID</th>\n",
       "      <th>Coffee Type</th>\n",
       "      <th>Roast Type</th>\n",
       "      <th>Quantity</th>\n",
       "      <th>Profit</th>\n",
       "      <th>Unit Price</th>\n",
       "      <th>Total Profit</th>\n",
       "    </tr>\n",
       "  </thead>\n",
       "  <tbody>\n",
       "    <tr>\n",
       "      <th>0</th>\n",
       "      <td>A-D-0.2</td>\n",
       "      <td>Ara</td>\n",
       "      <td>D</td>\n",
       "      <td>97</td>\n",
       "      <td>0.26865</td>\n",
       "      <td>2.985</td>\n",
       "      <td>26.05905</td>\n",
       "    </tr>\n",
       "    <tr>\n",
       "      <th>1</th>\n",
       "      <td>A-D-0.5</td>\n",
       "      <td>Ara</td>\n",
       "      <td>D</td>\n",
       "      <td>89</td>\n",
       "      <td>0.53730</td>\n",
       "      <td>5.970</td>\n",
       "      <td>47.81970</td>\n",
       "    </tr>\n",
       "    <tr>\n",
       "      <th>2</th>\n",
       "      <td>A-D-1</td>\n",
       "      <td>Ara</td>\n",
       "      <td>D</td>\n",
       "      <td>49</td>\n",
       "      <td>0.89550</td>\n",
       "      <td>9.950</td>\n",
       "      <td>43.87950</td>\n",
       "    </tr>\n",
       "    <tr>\n",
       "      <th>3</th>\n",
       "      <td>A-D-2.5</td>\n",
       "      <td>Ara</td>\n",
       "      <td>D</td>\n",
       "      <td>76</td>\n",
       "      <td>2.05965</td>\n",
       "      <td>22.885</td>\n",
       "      <td>156.53340</td>\n",
       "    </tr>\n",
       "    <tr>\n",
       "      <th>4</th>\n",
       "      <td>A-L-0.2</td>\n",
       "      <td>Ara</td>\n",
       "      <td>L</td>\n",
       "      <td>50</td>\n",
       "      <td>0.34965</td>\n",
       "      <td>3.885</td>\n",
       "      <td>17.48250</td>\n",
       "    </tr>\n",
       "  </tbody>\n",
       "</table>\n",
       "</div>"
      ],
      "text/plain": [
       "  Product ID Coffee Type Roast Type  Quantity   Profit  Unit Price  \\\n",
       "0    A-D-0.2         Ara          D        97  0.26865       2.985   \n",
       "1    A-D-0.5         Ara          D        89  0.53730       5.970   \n",
       "2      A-D-1         Ara          D        49  0.89550       9.950   \n",
       "3    A-D-2.5         Ara          D        76  2.05965      22.885   \n",
       "4    A-L-0.2         Ara          L        50  0.34965       3.885   \n",
       "\n",
       "   Total Profit  \n",
       "0      26.05905  \n",
       "1      47.81970  \n",
       "2      43.87950  \n",
       "3     156.53340  \n",
       "4      17.48250  "
      ]
     },
     "execution_count": 63,
     "metadata": {},
     "output_type": "execute_result"
    }
   ],
   "source": [
    "grouped = clean_coffee_df.groupby(['Product ID', 'Coffee Type', 'Roast Type']) \\\n",
    "    .agg({\n",
    "        'Quantity': 'sum',\n",
    "        'Profit': 'first',\n",
    "        'Unit Price': 'first'\n",
    "    }).reset_index()\n",
    "\n",
    "grouped['Total Profit'] = grouped['Quantity'] * grouped['Profit']\n",
    "grouped.head()"
   ]
  },
  {
   "cell_type": "markdown",
   "id": "9a5f98c9",
   "metadata": {},
   "source": [
    "#### **Focus on High-Priced Products**\n",
    "\n",
    "We define \"high-priced\" as products whose unit price falls in the top 25% of all products.\n"
   ]
  },
  {
   "cell_type": "code",
   "execution_count": 64,
   "id": "15ac93ef",
   "metadata": {},
   "outputs": [
    {
     "data": {
      "text/html": [
       "<div>\n",
       "<style scoped>\n",
       "    .dataframe tbody tr th:only-of-type {\n",
       "        vertical-align: middle;\n",
       "    }\n",
       "\n",
       "    .dataframe tbody tr th {\n",
       "        vertical-align: top;\n",
       "    }\n",
       "\n",
       "    .dataframe thead th {\n",
       "        text-align: right;\n",
       "    }\n",
       "</style>\n",
       "<table border=\"1\" class=\"dataframe\">\n",
       "  <thead>\n",
       "    <tr style=\"text-align: right;\">\n",
       "      <th></th>\n",
       "      <th>Product ID</th>\n",
       "      <th>Coffee Type</th>\n",
       "      <th>Roast Type</th>\n",
       "      <th>Quantity</th>\n",
       "      <th>Profit</th>\n",
       "      <th>Unit Price</th>\n",
       "      <th>Total Profit</th>\n",
       "    </tr>\n",
       "  </thead>\n",
       "  <tbody>\n",
       "    <tr>\n",
       "      <th>3</th>\n",
       "      <td>A-D-2.5</td>\n",
       "      <td>Ara</td>\n",
       "      <td>D</td>\n",
       "      <td>76</td>\n",
       "      <td>2.05965</td>\n",
       "      <td>22.885</td>\n",
       "      <td>156.53340</td>\n",
       "    </tr>\n",
       "    <tr>\n",
       "      <th>7</th>\n",
       "      <td>A-L-2.5</td>\n",
       "      <td>Ara</td>\n",
       "      <td>L</td>\n",
       "      <td>86</td>\n",
       "      <td>2.68065</td>\n",
       "      <td>29.785</td>\n",
       "      <td>230.53590</td>\n",
       "    </tr>\n",
       "    <tr>\n",
       "      <th>11</th>\n",
       "      <td>A-M-2.5</td>\n",
       "      <td>Ara</td>\n",
       "      <td>M</td>\n",
       "      <td>97</td>\n",
       "      <td>2.32875</td>\n",
       "      <td>25.875</td>\n",
       "      <td>225.88875</td>\n",
       "    </tr>\n",
       "    <tr>\n",
       "      <th>15</th>\n",
       "      <td>E-D-2.5</td>\n",
       "      <td>Exc</td>\n",
       "      <td>D</td>\n",
       "      <td>66</td>\n",
       "      <td>3.07395</td>\n",
       "      <td>27.945</td>\n",
       "      <td>202.88070</td>\n",
       "    </tr>\n",
       "    <tr>\n",
       "      <th>19</th>\n",
       "      <td>E-L-2.5</td>\n",
       "      <td>Exc</td>\n",
       "      <td>L</td>\n",
       "      <td>72</td>\n",
       "      <td>3.75705</td>\n",
       "      <td>34.155</td>\n",
       "      <td>270.50760</td>\n",
       "    </tr>\n",
       "  </tbody>\n",
       "</table>\n",
       "</div>"
      ],
      "text/plain": [
       "   Product ID Coffee Type Roast Type  Quantity   Profit  Unit Price  \\\n",
       "3     A-D-2.5         Ara          D        76  2.05965      22.885   \n",
       "7     A-L-2.5         Ara          L        86  2.68065      29.785   \n",
       "11    A-M-2.5         Ara          M        97  2.32875      25.875   \n",
       "15    E-D-2.5         Exc          D        66  3.07395      27.945   \n",
       "19    E-L-2.5         Exc          L        72  3.75705      34.155   \n",
       "\n",
       "    Total Profit  \n",
       "3      156.53340  \n",
       "7      230.53590  \n",
       "11     225.88875  \n",
       "15     202.88070  \n",
       "19     270.50760  "
      ]
     },
     "execution_count": 64,
     "metadata": {},
     "output_type": "execute_result"
    }
   ],
   "source": [
    "q3_price = grouped['Unit Price'].quantile(0.75)\n",
    "high_priced = grouped[grouped['Unit Price'] >= q3_price]\n",
    "high_priced.head()"
   ]
  },
  {
   "cell_type": "markdown",
   "id": "005ffedd",
   "metadata": {},
   "source": [
    "#### **Correlation Analysis**\n",
    "\n",
    "We calculate the Pearson correlation coefficient to assess the linear relationship between **quantity sold** and **total profit** for high-priced products.\n"
   ]
  },
  {
   "cell_type": "code",
   "execution_count": 65,
   "id": "f023ec57",
   "metadata": {},
   "outputs": [
    {
     "name": "stdout",
     "output_type": "stream",
     "text": [
      "Pearson correlation: 0.301\n",
      "P-value: 0.3418\n"
     ]
    }
   ],
   "source": [
    "corr, pval = pearsonr(high_priced['Quantity'], high_priced['Total Profit'])\n",
    "\n",
    "print(f\"Pearson correlation: {corr:.3f}\")\n",
    "print(f\"P-value: {pval:.4f}\")"
   ]
  },
  {
   "cell_type": "markdown",
   "id": "1fe12d57",
   "metadata": {},
   "source": [
    "The Pearson correlation coefficient between **Quantity** and **Total Profit** for higher-priced products is **0.301**, indicating a **weak positive linear relationship**.\n",
    "\n",
    "However, the **p-value is greater than 0.05** (p = 0.3418), so the result is **not statistically significant**. Therefore, we **fail to reject the null hypothesis**.\n"
   ]
  },
  {
   "cell_type": "markdown",
   "id": "02a2c941",
   "metadata": {},
   "source": [
    "#### **Visualization**\n",
    "\n",
    "To visually support the correlation result, we generate a scatterplot with a regression line showing how quantity sold relates to total profit for high-priced products.\n"
   ]
  },
  {
   "cell_type": "code",
   "execution_count": 66,
   "id": "45fc1ec9",
   "metadata": {},
   "outputs": [
    {
     "data": {
      "image/png": "[encoded data removed]",
      "text/plain": [
       "<Figure size 800x600 with 1 Axes>"
      ]
     },
     "metadata": {},
     "output_type": "display_data"
    }
   ],
   "source": [
    "plt.figure(figsize=(8, 6))\n",
    "sns.regplot(\n",
    "    data=high_priced,\n",
    "    x='Quantity',\n",
    "    y='Total Profit',\n",
    "    color='teal',\n",
    "    line_kws={\"color\": \"red\"}\n",
    ")\n",
    "\n",
    "plt.title('Quantity Sold vs Total Profit (High-Priced Products)')\n",
    "plt.xlabel('Total Quantity Sold')\n",
    "plt.ylabel('Total Profit')\n",
    "plt.grid(True)\n",
    "plt.tight_layout()\n",
    "plt.show()"
   ]
  },
  {
   "cell_type": "markdown",
   "id": "2137d12d",
   "metadata": {},
   "source": [
    "**Figure 5. Scatterplot based on Quantity Sold and Total Profit**  \n",
    "The scatterplot illustrates the relationship between **quantity sold** and **total profit** for high-priced coffee products. Each teal point represents a product, where the x-axis shows the total number of units sold and the y-axis displays the corresponding total profit.\n",
    "\n",
    "The red regression line represents the overall linear trend based on Pearson correlation analysis. While there is a slight upward trend, the distribution of points appears scattered, and no strong linear relationship is visually evident.\n",
    "\n",
    "This aligns with the earlier statistical result (r = 0.301, p = 0.3418), suggesting that the correlation between sales volume and total profit among high-priced items is weak and not statistically significant. This indicates that simply pricing products higher does not guarantee greater overall profit if the products do not sell in large volumes.\n"
   ]
  },
  {
   "cell_type": "markdown",
   "id": "72a9c419",
   "metadata": {},
   "source": [
    "There is no statistically significant linear correlation between sales volume and total profit for high-priced coffee products.\n"
   ]
  },
  {
   "cell_type": "markdown",
   "id": "66eff4b5",
   "metadata": {},
   "source": [
    "#### Conclusion\n",
    "\n",
    "The analysis shows that coffee bean products with higher unit prices do generate more profit. On another note, sales volume and total profit for higher-priced coffee bean products do not have a meaningful relationship.\n",
    "\n",
    "This indicates that pricing strategy plays a key role in in driving profitability of the coffee bean products. But selling more of higher-priced coffee bean products does not mean it'll lead to higher profits. Efforts should be focused more on promoting the premium, higher-priced coffee bean products in order to instead of aiming to increase sales volume.\n"
   ]
  },
  {
   "cell_type": "markdown",
   "id": "90c0e061",
   "metadata": {},
   "source": [
    "# Data Mining ⛏️✨\n"
   ]
  },
  {
   "cell_type": "markdown",
   "id": "554a2ab6",
   "metadata": {},
   "source": []
  },
  {
   "cell_type": "markdown",
   "id": "6022ae70",
   "metadata": {},
   "source": [
    "## Preprocessing\n"
   ]
  },
  {
   "cell_type": "markdown",
   "id": "bcdfef78",
   "metadata": {},
   "source": [
    "### Feature Engineering\n",
    "\n",
    "**Feature engineering** is the process of **transforming raw data into more meaningful and useful pieces of information**, known as features. These features help machine learning models better understand patterns and make accurate predictions. Beyond that, feature engineering also involves improving the overall quality of data. It simplifies complex datasets by removing noise, fills in missing values, handles outliers, and ensures consistency in formatting. These steps make the data cleaner and more reliable for training accurate machine learning models.\n",
    "\n",
    "**Do we need it? ✅**\n",
    "\n",
    "Since we are **performing data mining tasks such as customer segmentation and clustering**, feature engineering is necessary. Our dataset includes both numerical and categorical data, and we need to transform this into a form that machine learning models (e.g., K-Means) can understand."
   ]
  },
  {
   "cell_type": "markdown",
   "id": "5dc6350c",
   "metadata": {},
   "source": [
    "We'll also create new features to better capture patterns in customer behavior and bean characteristics."
   ]
  },
  {
   "cell_type": "code",
   "execution_count": 67,
   "id": "a4e9f30f",
   "metadata": {},
   "outputs": [],
   "source": [
    "# Total amount spent per order\n",
    "clean_coffee_df['Total Price'] = clean_coffee_df['Unit Price'] * clean_coffee_df['Quantity']\n",
    "\n",
    "# Purchase frequency per customer\n",
    "purchase_freq = clean_coffee_df.groupby('Customer ID').size().reset_index(name='purchase_frequency')\n",
    "\n",
    "# Total spending per customer\n",
    "total_spent = clean_coffee_df.groupby('Customer ID')['Total Price'].sum().reset_index(name='total_spent')\n",
    "\n",
    "# Average spending per order per customer\n",
    "average_spent = clean_coffee_df.groupby('Customer ID')['Total Price'].mean().reset_index(name='average_spent')"
   ]
  },
  {
   "cell_type": "code",
   "execution_count": 68,
   "id": "7057b88d",
   "metadata": {},
   "outputs": [],
   "source": [
    "# Preferred coffee type (most frequently ordered)\n",
    "coffee_pref = clean_coffee_df.groupby(['Customer ID', 'Coffee Type']).size().reset_index(name='count')\n",
    "coffee_pref = coffee_pref.sort_values(['Customer ID', 'count'], ascending=[True, False])\n",
    "preferred_coffee = coffee_pref.drop_duplicates('Customer ID')[['Customer ID', 'Coffee Type']]\n",
    "preferred_coffee.rename(columns={'Coffee Type': 'preferred_coffee_type'}, inplace=True)"
   ]
  },
  {
   "cell_type": "code",
   "execution_count": 69,
   "id": "a684d534",
   "metadata": {},
   "outputs": [],
   "source": [
    "# Combine all engineered features into one dataframe\n",
    "features = purchase_freq.merge(total_spent, on='Customer ID')\n",
    "features = features.merge(average_spent, on='Customer ID')\n",
    "features = features.merge(preferred_coffee, on='Customer ID')"
   ]
  },
  {
   "cell_type": "markdown",
   "id": "df518b80",
   "metadata": {},
   "source": [
    "Now that we have merged and cleaned the dataset, we can begin preparing it for data mining through feature engineering. We created new features that summarize each customer's buying behavior:"
   ]
  },
  {
   "cell_type": "markdown",
   "id": "5af4dd59",
   "metadata": {},
   "source": [
    "**Purchase frequency**: how often each customer places an order\n",
    "\n",
    "**Total spending**: total amount each customer has spent\n",
    "\n",
    "**Average spending**: average amount spent per order\n",
    "\n",
    "**Preferred coffee type**: the most frequently ordered bean per customer"
   ]
  },
  {
   "cell_type": "markdown",
   "id": "858bb46b",
   "metadata": {},
   "source": [
    "These features give us a clearer picture of how customers behave and will be useful for clustering later on using K-Means. \n",
    "\n",
    "Let’s take a look at the resulting table to explore these new features:"
   ]
  },
  {
   "cell_type": "code",
   "execution_count": 70,
   "id": "ac114ccb",
   "metadata": {},
   "outputs": [
    {
     "data": {
      "text/html": [
       "<div>\n",
       "<style scoped>\n",
       "    .dataframe tbody tr th:only-of-type {\n",
       "        vertical-align: middle;\n",
       "    }\n",
       "\n",
       "    .dataframe tbody tr th {\n",
       "        vertical-align: top;\n",
       "    }\n",
       "\n",
       "    .dataframe thead th {\n",
       "        text-align: right;\n",
       "    }\n",
       "</style>\n",
       "<table border=\"1\" class=\"dataframe\">\n",
       "  <thead>\n",
       "    <tr style=\"text-align: right;\">\n",
       "      <th></th>\n",
       "      <th>Customer ID</th>\n",
       "      <th>purchase_frequency</th>\n",
       "      <th>total_spent</th>\n",
       "      <th>average_spent</th>\n",
       "      <th>preferred_coffee_type</th>\n",
       "    </tr>\n",
       "  </thead>\n",
       "  <tbody>\n",
       "    <tr>\n",
       "      <th>0</th>\n",
       "      <td>00246-15080-LE</td>\n",
       "      <td>1</td>\n",
       "      <td>178.710</td>\n",
       "      <td>178.710</td>\n",
       "      <td>Lib</td>\n",
       "    </tr>\n",
       "    <tr>\n",
       "      <th>1</th>\n",
       "      <td>00256-19905-YG</td>\n",
       "      <td>1</td>\n",
       "      <td>40.500</td>\n",
       "      <td>40.500</td>\n",
       "      <td>Ara</td>\n",
       "    </tr>\n",
       "    <tr>\n",
       "      <th>2</th>\n",
       "      <td>00445-42781-KX</td>\n",
       "      <td>4</td>\n",
       "      <td>163.720</td>\n",
       "      <td>40.930</td>\n",
       "      <td>Ara</td>\n",
       "    </tr>\n",
       "    <tr>\n",
       "      <th>3</th>\n",
       "      <td>00539-42510-RY</td>\n",
       "      <td>1</td>\n",
       "      <td>148.925</td>\n",
       "      <td>148.925</td>\n",
       "      <td>Lib</td>\n",
       "    </tr>\n",
       "    <tr>\n",
       "      <th>4</th>\n",
       "      <td>00852-54571-WP</td>\n",
       "      <td>1</td>\n",
       "      <td>8.250</td>\n",
       "      <td>8.250</td>\n",
       "      <td>Exc</td>\n",
       "    </tr>\n",
       "  </tbody>\n",
       "</table>\n",
       "</div>"
      ],
      "text/plain": [
       "      Customer ID  purchase_frequency  total_spent  average_spent  \\\n",
       "0  00246-15080-LE                   1      178.710        178.710   \n",
       "1  00256-19905-YG                   1       40.500         40.500   \n",
       "2  00445-42781-KX                   4      163.720         40.930   \n",
       "3  00539-42510-RY                   1      148.925        148.925   \n",
       "4  00852-54571-WP                   1        8.250          8.250   \n",
       "\n",
       "  preferred_coffee_type  \n",
       "0                   Lib  \n",
       "1                   Ara  \n",
       "2                   Ara  \n",
       "3                   Lib  \n",
       "4                   Exc  "
      ]
     },
     "execution_count": 70,
     "metadata": {},
     "output_type": "execute_result"
    }
   ],
   "source": [
    "features.head()"
   ]
  },
  {
   "cell_type": "markdown",
   "id": "c6c4a2df",
   "metadata": {},
   "source": [
    "### Binning\n",
    "\n",
    "**Binning** is a preprocessing technique used for **grouping data together** into a series of categories. Categorical data are grouped using values that are related to each other and numerical data are grouped using different value ranges.\n",
    "\n",
    "**Do we need it? ❎**\n",
    "\n",
    "We do not need to preprocess our data using Binning because it would **reduce the accuracy of our model**. This is because clustering using K-Means uses Euclidean distance and thus, needs an exact value. Using ranges of values when computing for the Euclidean distance is not possible. "
   ]
  },
  {
   "cell_type": "markdown",
   "id": "2c12c084",
   "metadata": {},
   "source": [
    "### Log Transformation\n",
    "\n",
    "**Log Transformation** is a preprocessing technique used for **normalizing highly skewed data**. When applying this technique to every data point, the effect of extreme values are reduced while still preserving the order. The log function is applied to every data point to transform their values. \n",
    "\n",
    "\n",
    "**Do we need it? ✅**\n",
    "\n",
    "We need to preprocess our data using Log Transformation in order to **check if the average amount spent by customers is right skewed**. This is because customer spending is typically right skewed and if our customer average spending distribution is right skewed, we will be using **log1p()** to apply log transformation."
   ]
  },
  {
   "cell_type": "markdown",
   "id": "28781647",
   "metadata": {},
   "source": [
    "First, let's check the skewness of the average spending distribution for customers:"
   ]
  },
  {
   "cell_type": "code",
   "execution_count": 71,
   "id": "f8e90e08",
   "metadata": {},
   "outputs": [
    {
     "data": {
      "image/png": "[encoded data removed]",
      "text/plain": [
       "<Figure size 640x480 with 1 Axes>"
      ]
     },
     "metadata": {},
     "output_type": "display_data"
    }
   ],
   "source": [
    "# Checking skewness before before log transformation\n",
    "sns.histplot(features['average_spent'], kde=True)\n",
    "plt.title(\"Original: Average Spending Distribution\")\n",
    "plt.show()"
   ]
  },
  {
   "cell_type": "markdown",
   "id": "5f6faf03",
   "metadata": {},
   "source": [
    "As we can see, the average spending distribution is right skewed and with that, we will now be applying log transformation in order to have a more symmetric distribution:"
   ]
  },
  {
   "cell_type": "code",
   "execution_count": 72,
   "id": "3985656a",
   "metadata": {},
   "outputs": [
    {
     "data": {
      "image/png": "[encoded data removed]",
      "text/plain": [
       "<Figure size 640x480 with 1 Axes>"
      ]
     },
     "metadata": {},
     "output_type": "display_data"
    }
   ],
   "source": [
    "# Applying log1p to handle 0 values safely\n",
    "features['log_avg_spent'] = np.log1p(features['average_spent'])\n",
    "features['log_total_spent'] = np.log1p(features['total_spent'])\n",
    "\n",
    "sns.histplot(np.log1p(features['average_spent']), kde=True)\n",
    "plt.title(\"Log-Transformed: Average Spending Distribution\")\n",
    "plt.show()"
   ]
  },
  {
   "cell_type": "markdown",
   "id": "7f370a36",
   "metadata": {},
   "source": [
    "As expected, the log transformation makes the distribution more symmetric, making it suitable for clustering. Good job! 👏\n"
   ]
  },
  {
   "cell_type": "markdown",
   "id": "a88ac186",
   "metadata": {},
   "source": [
    "### Conversion To One-Hot Encoding\n",
    "\n",
    "**One-Hot Encoding** is a preprocessing technique used for **converting categorical values into a binary representation (0s and 1s)**. The variables are represented using a column wherein the value is 1 if it is true and 0 otherwise. Since some machine learning algorithms like K-Means (in our case) require different data representation, we will be using conversion to one-hot encoding. \n",
    "\n",
    "**Do we need it? ✅**\n",
    "\n",
    "We need to preprocess our data using Conversion To One-Hot Encoding because our dataset contains categorical data. Specifically for data mining wherein we will be clustering using the preferred bean types of customer, it is important to convert it since the **bean types are categorical data**."
   ]
  },
  {
   "cell_type": "markdown",
   "id": "032f4069",
   "metadata": {},
   "source": [
    "We will now be transforming the **preferred_coffee_type** column and the resulting binary matrix will then be converted to a DataFrame and merged back into our main dataset:"
   ]
  },
  {
   "cell_type": "code",
   "execution_count": 73,
   "id": "678115e3",
   "metadata": {},
   "outputs": [],
   "source": [
    "# Initializing the OneHotEncoder\n",
    "encoder = OneHotEncoder(sparse_output=False)\n",
    "\n",
    "# Fitting the encoder on the 'preferred_coffee_type' column and transforming it into one-hot encoded values\n",
    "encoded_coffee = encoder.fit_transform(features[['preferred_coffee_type']])\n",
    "\n",
    "# Converting the encoded result into a DataFrame and appending one-hot encoded data to features\n",
    "encoded_df = pd.DataFrame(encoded_coffee, columns=encoder.get_feature_names_out(['preferred_coffee_type']))\n",
    "features_encoded = features.drop(columns='preferred_coffee_type').join(encoded_df)"
   ]
  },
  {
   "cell_type": "markdown",
   "id": "171cfe00",
   "metadata": {},
   "source": [
    "This process ensures that the model does not assume any ordinal relationship between categories. In our case, coffee types like \"Arabica\", \"Robusta\", \"Excelsa\" and \"Liberica\" have no inherent ranking and One-Hot Encoding preserves this state.\n",
    "\n",
    "Let’s take a look at the resulting table to explore these new features:"
   ]
  },
  {
   "cell_type": "code",
   "execution_count": 74,
   "id": "a08784e0",
   "metadata": {},
   "outputs": [
    {
     "data": {
      "text/html": [
       "<div>\n",
       "<style scoped>\n",
       "    .dataframe tbody tr th:only-of-type {\n",
       "        vertical-align: middle;\n",
       "    }\n",
       "\n",
       "    .dataframe tbody tr th {\n",
       "        vertical-align: top;\n",
       "    }\n",
       "\n",
       "    .dataframe thead th {\n",
       "        text-align: right;\n",
       "    }\n",
       "</style>\n",
       "<table border=\"1\" class=\"dataframe\">\n",
       "  <thead>\n",
       "    <tr style=\"text-align: right;\">\n",
       "      <th></th>\n",
       "      <th>Customer ID</th>\n",
       "      <th>purchase_frequency</th>\n",
       "      <th>total_spent</th>\n",
       "      <th>average_spent</th>\n",
       "      <th>log_avg_spent</th>\n",
       "      <th>log_total_spent</th>\n",
       "      <th>preferred_coffee_type_Ara</th>\n",
       "      <th>preferred_coffee_type_Exc</th>\n",
       "      <th>preferred_coffee_type_Lib</th>\n",
       "      <th>preferred_coffee_type_Rob</th>\n",
       "    </tr>\n",
       "  </thead>\n",
       "  <tbody>\n",
       "    <tr>\n",
       "      <th>0</th>\n",
       "      <td>00246-15080-LE</td>\n",
       "      <td>1</td>\n",
       "      <td>178.710</td>\n",
       "      <td>178.710</td>\n",
       "      <td>5.191344</td>\n",
       "      <td>5.191344</td>\n",
       "      <td>0.0</td>\n",
       "      <td>0.0</td>\n",
       "      <td>1.0</td>\n",
       "      <td>0.0</td>\n",
       "    </tr>\n",
       "    <tr>\n",
       "      <th>1</th>\n",
       "      <td>00256-19905-YG</td>\n",
       "      <td>1</td>\n",
       "      <td>40.500</td>\n",
       "      <td>40.500</td>\n",
       "      <td>3.725693</td>\n",
       "      <td>3.725693</td>\n",
       "      <td>1.0</td>\n",
       "      <td>0.0</td>\n",
       "      <td>0.0</td>\n",
       "      <td>0.0</td>\n",
       "    </tr>\n",
       "    <tr>\n",
       "      <th>2</th>\n",
       "      <td>00445-42781-KX</td>\n",
       "      <td>4</td>\n",
       "      <td>163.720</td>\n",
       "      <td>40.930</td>\n",
       "      <td>3.736002</td>\n",
       "      <td>5.104247</td>\n",
       "      <td>1.0</td>\n",
       "      <td>0.0</td>\n",
       "      <td>0.0</td>\n",
       "      <td>0.0</td>\n",
       "    </tr>\n",
       "    <tr>\n",
       "      <th>3</th>\n",
       "      <td>00539-42510-RY</td>\n",
       "      <td>1</td>\n",
       "      <td>148.925</td>\n",
       "      <td>148.925</td>\n",
       "      <td>5.010135</td>\n",
       "      <td>5.010135</td>\n",
       "      <td>0.0</td>\n",
       "      <td>0.0</td>\n",
       "      <td>1.0</td>\n",
       "      <td>0.0</td>\n",
       "    </tr>\n",
       "    <tr>\n",
       "      <th>4</th>\n",
       "      <td>00852-54571-WP</td>\n",
       "      <td>1</td>\n",
       "      <td>8.250</td>\n",
       "      <td>8.250</td>\n",
       "      <td>2.224624</td>\n",
       "      <td>2.224624</td>\n",
       "      <td>0.0</td>\n",
       "      <td>1.0</td>\n",
       "      <td>0.0</td>\n",
       "      <td>0.0</td>\n",
       "    </tr>\n",
       "  </tbody>\n",
       "</table>\n",
       "</div>"
      ],
      "text/plain": [
       "      Customer ID  purchase_frequency  total_spent  average_spent  \\\n",
       "0  00246-15080-LE                   1      178.710        178.710   \n",
       "1  00256-19905-YG                   1       40.500         40.500   \n",
       "2  00445-42781-KX                   4      163.720         40.930   \n",
       "3  00539-42510-RY                   1      148.925        148.925   \n",
       "4  00852-54571-WP                   1        8.250          8.250   \n",
       "\n",
       "   log_avg_spent  log_total_spent  preferred_coffee_type_Ara  \\\n",
       "0       5.191344         5.191344                        0.0   \n",
       "1       3.725693         3.725693                        1.0   \n",
       "2       3.736002         5.104247                        1.0   \n",
       "3       5.010135         5.010135                        0.0   \n",
       "4       2.224624         2.224624                        0.0   \n",
       "\n",
       "   preferred_coffee_type_Exc  preferred_coffee_type_Lib  \\\n",
       "0                        0.0                        1.0   \n",
       "1                        0.0                        0.0   \n",
       "2                        0.0                        0.0   \n",
       "3                        0.0                        1.0   \n",
       "4                        1.0                        0.0   \n",
       "\n",
       "   preferred_coffee_type_Rob  \n",
       "0                        0.0  \n",
       "1                        0.0  \n",
       "2                        0.0  \n",
       "3                        0.0  \n",
       "4                        0.0  "
      ]
     },
     "execution_count": 74,
     "metadata": {},
     "output_type": "execute_result"
    }
   ],
   "source": [
    "features_encoded.head()"
   ]
  },
  {
   "cell_type": "markdown",
   "id": "6e74133f",
   "metadata": {},
   "source": [
    "The table now includes additional binary columns that represent each possible coffee type namely:\n",
    "\n",
    "* preferred_coffee_type_Ara\n",
    "* preferred_coffee_type_Exc\n",
    "* preferred_coffee_type_Lib\n",
    "* preferred_coffee_type_Rob\n",
    "\n",
    "Each row has a value of 1 in the column corresponding to the customer's most frequently ordered coffee type and 0 in the others.\n"
   ]
  },
  {
   "cell_type": "markdown",
   "id": "6c71e16b",
   "metadata": {},
   "source": [
    "### Standardization\n",
    "\n",
    "**Standardization** is a preprocessing technique used for **rescaling numerical data so that it can have a mean of 0 and a standard deviation of 1**. This process is also **less susceptible to outliers** compared to normalization. This process helps prevent features with larger scales from dominating and ensures that all variables contribute equally to the clustering model.\n",
    "\n",
    "**Formula**\n",
    "$$\\frac{x - \\mu}{\\sigma}$$\n",
    "\n",
    "where:\n",
    "* **x** is the original value\n",
    "* **μ** is the mean\n",
    "* **σ** is the standard deviation\n",
    "\n",
    "**Do we need it? ✅**\n",
    "\n",
    "We need to preprocess our data using Standardization because **K-Means is sensitive to the scale of features**. If we don’t scale the data, variables with larger numerical ranges (like total spending) will dominate the distance calculation used in K-Means. Thus, it is important for us rescale our data using standardization.\n"
   ]
  },
  {
   "cell_type": "markdown",
   "id": "ab947705",
   "metadata": {},
   "source": [
    "To apply the standardization technique for preprocessing, we will be using the **StandardScaler()** function:"
   ]
  },
  {
   "cell_type": "code",
   "execution_count": 75,
   "id": "85588d47",
   "metadata": {},
   "outputs": [],
   "source": [
    "# Initializing the scaler and specifying columns to be standardized\n",
    "scaler_std = StandardScaler()\n",
    "standardized_columns = ['purchase_frequency', 'total_spent', 'average_spent']\n",
    "\n",
    "# Creating a copy of the encoded features and applying standardization\n",
    "features_standardized = features_encoded.copy()\n",
    "features_standardized[standardized_columns] = scaler_std.fit_transform(features_standardized[standardized_columns])"
   ]
  },
  {
   "cell_type": "markdown",
   "id": "f8e8c9e9",
   "metadata": {},
   "source": [
    "Let’s take a look at the resulting table to explore the standardized features:"
   ]
  },
  {
   "cell_type": "code",
   "execution_count": 76,
   "id": "aaea8a7b",
   "metadata": {},
   "outputs": [
    {
     "data": {
      "text/html": [
       "<div>\n",
       "<style scoped>\n",
       "    .dataframe tbody tr th:only-of-type {\n",
       "        vertical-align: middle;\n",
       "    }\n",
       "\n",
       "    .dataframe tbody tr th {\n",
       "        vertical-align: top;\n",
       "    }\n",
       "\n",
       "    .dataframe thead th {\n",
       "        text-align: right;\n",
       "    }\n",
       "</style>\n",
       "<table border=\"1\" class=\"dataframe\">\n",
       "  <thead>\n",
       "    <tr style=\"text-align: right;\">\n",
       "      <th></th>\n",
       "      <th>Customer ID</th>\n",
       "      <th>purchase_frequency</th>\n",
       "      <th>total_spent</th>\n",
       "      <th>average_spent</th>\n",
       "      <th>log_avg_spent</th>\n",
       "      <th>log_total_spent</th>\n",
       "      <th>preferred_coffee_type_Ara</th>\n",
       "      <th>preferred_coffee_type_Exc</th>\n",
       "      <th>preferred_coffee_type_Lib</th>\n",
       "      <th>preferred_coffee_type_Rob</th>\n",
       "    </tr>\n",
       "  </thead>\n",
       "  <tbody>\n",
       "    <tr>\n",
       "      <th>0</th>\n",
       "      <td>00246-15080-LE</td>\n",
       "      <td>-0.204397</td>\n",
       "      <td>2.675400</td>\n",
       "      <td>3.188306</td>\n",
       "      <td>5.191344</td>\n",
       "      <td>5.191344</td>\n",
       "      <td>0.0</td>\n",
       "      <td>0.0</td>\n",
       "      <td>1.0</td>\n",
       "      <td>0.0</td>\n",
       "    </tr>\n",
       "    <tr>\n",
       "      <th>1</th>\n",
       "      <td>00256-19905-YG</td>\n",
       "      <td>-0.204397</td>\n",
       "      <td>-0.184916</td>\n",
       "      <td>-0.117169</td>\n",
       "      <td>3.725693</td>\n",
       "      <td>3.725693</td>\n",
       "      <td>1.0</td>\n",
       "      <td>0.0</td>\n",
       "      <td>0.0</td>\n",
       "      <td>0.0</td>\n",
       "    </tr>\n",
       "    <tr>\n",
       "      <th>2</th>\n",
       "      <td>00445-42781-KX</td>\n",
       "      <td>6.305417</td>\n",
       "      <td>2.365175</td>\n",
       "      <td>-0.106885</td>\n",
       "      <td>3.736002</td>\n",
       "      <td>5.104247</td>\n",
       "      <td>1.0</td>\n",
       "      <td>0.0</td>\n",
       "      <td>0.0</td>\n",
       "      <td>0.0</td>\n",
       "    </tr>\n",
       "    <tr>\n",
       "      <th>3</th>\n",
       "      <td>00539-42510-RY</td>\n",
       "      <td>-0.204397</td>\n",
       "      <td>2.058986</td>\n",
       "      <td>2.475958</td>\n",
       "      <td>5.010135</td>\n",
       "      <td>5.010135</td>\n",
       "      <td>0.0</td>\n",
       "      <td>0.0</td>\n",
       "      <td>1.0</td>\n",
       "      <td>0.0</td>\n",
       "    </tr>\n",
       "    <tr>\n",
       "      <th>4</th>\n",
       "      <td>00852-54571-WP</td>\n",
       "      <td>-0.204397</td>\n",
       "      <td>-0.852344</td>\n",
       "      <td>-0.888470</td>\n",
       "      <td>2.224624</td>\n",
       "      <td>2.224624</td>\n",
       "      <td>0.0</td>\n",
       "      <td>1.0</td>\n",
       "      <td>0.0</td>\n",
       "      <td>0.0</td>\n",
       "    </tr>\n",
       "  </tbody>\n",
       "</table>\n",
       "</div>"
      ],
      "text/plain": [
       "      Customer ID  purchase_frequency  total_spent  average_spent  \\\n",
       "0  00246-15080-LE           -0.204397     2.675400       3.188306   \n",
       "1  00256-19905-YG           -0.204397    -0.184916      -0.117169   \n",
       "2  00445-42781-KX            6.305417     2.365175      -0.106885   \n",
       "3  00539-42510-RY           -0.204397     2.058986       2.475958   \n",
       "4  00852-54571-WP           -0.204397    -0.852344      -0.888470   \n",
       "\n",
       "   log_avg_spent  log_total_spent  preferred_coffee_type_Ara  \\\n",
       "0       5.191344         5.191344                        0.0   \n",
       "1       3.725693         3.725693                        1.0   \n",
       "2       3.736002         5.104247                        1.0   \n",
       "3       5.010135         5.010135                        0.0   \n",
       "4       2.224624         2.224624                        0.0   \n",
       "\n",
       "   preferred_coffee_type_Exc  preferred_coffee_type_Lib  \\\n",
       "0                        0.0                        1.0   \n",
       "1                        0.0                        0.0   \n",
       "2                        0.0                        0.0   \n",
       "3                        0.0                        1.0   \n",
       "4                        1.0                        0.0   \n",
       "\n",
       "   preferred_coffee_type_Rob  \n",
       "0                        0.0  \n",
       "1                        0.0  \n",
       "2                        0.0  \n",
       "3                        0.0  \n",
       "4                        0.0  "
      ]
     },
     "execution_count": 76,
     "metadata": {},
     "output_type": "execute_result"
    }
   ],
   "source": [
    "features_standardized.head()"
   ]
  },
  {
   "cell_type": "markdown",
   "id": "357a4557",
   "metadata": {},
   "source": [
    "The table now shows the standardized values of the features:\n",
    "* purchase_frequency\n",
    "* total_spent\n",
    "* average_spent\n",
    "\n",
    "This ensures that no feature overpowers or dominates the distance calculation due to scale. Thus, making the K-Means clustering for our data mining process more balanced and accurate."
   ]
  },
  {
   "cell_type": "markdown",
   "id": "f32e3217",
   "metadata": {},
   "source": [
    "### Normalization\n",
    "\n",
    "**Normalization** is a preprocessing technique used for **rescaling numerical data so that its features is in a range of 0 to 1**. This process helps prevent features with larger scales from overpowering others and ensure that the data can be of equal contribution to our model. However, this process is **more susceptible to outliers** compared to standardization.\n",
    "\n",
    "**Formula**\n",
    "$$\\frac{X - X_{\\text{min}}}{X_{\\text{max}} - X_{\\text{min}}}$$\n",
    "\n",
    "**Do we need it? ❎**\n",
    "\n",
    "We do not need to preprocess our data using Normalization because we have already used Standardization for rescaling. \n",
    "Only one of the two is necessary and Standardization is generally more appropriate for K-Means clustering as it is less susceptible to outliers.\n"
   ]
  },
  {
   "cell_type": "markdown",
   "id": "44a7a09b",
   "metadata": {},
   "source": [
    "In order to show how normalization would look like, we will be using the **MinMaxScaler()** function:"
   ]
  },
  {
   "cell_type": "code",
   "execution_count": 77,
   "id": "cec20336",
   "metadata": {},
   "outputs": [],
   "source": [
    "# Initializing the scaler\n",
    "scaler_norm = MinMaxScaler()\n",
    "\n",
    "# Creating a copy of the encoded features and applying normalization\n",
    "features_normalized = features_encoded.copy()\n",
    "features_normalized[standardized_columns] = scaler_norm.fit_transform(features_normalized[standardized_columns])"
   ]
  },
  {
   "cell_type": "markdown",
   "id": "5de0da41",
   "metadata": {},
   "source": [
    "Let’s take a look at the resulting table to explore the normalized features and understand why we opted not to do this:"
   ]
  },
  {
   "cell_type": "code",
   "execution_count": 78,
   "id": "ee1df119",
   "metadata": {},
   "outputs": [
    {
     "data": {
      "text/html": [
       "<div>\n",
       "<style scoped>\n",
       "    .dataframe tbody tr th:only-of-type {\n",
       "        vertical-align: middle;\n",
       "    }\n",
       "\n",
       "    .dataframe tbody tr th {\n",
       "        vertical-align: top;\n",
       "    }\n",
       "\n",
       "    .dataframe thead th {\n",
       "        text-align: right;\n",
       "    }\n",
       "</style>\n",
       "<table border=\"1\" class=\"dataframe\">\n",
       "  <thead>\n",
       "    <tr style=\"text-align: right;\">\n",
       "      <th></th>\n",
       "      <th>Customer ID</th>\n",
       "      <th>purchase_frequency</th>\n",
       "      <th>total_spent</th>\n",
       "      <th>average_spent</th>\n",
       "      <th>log_avg_spent</th>\n",
       "      <th>log_total_spent</th>\n",
       "      <th>preferred_coffee_type_Ara</th>\n",
       "      <th>preferred_coffee_type_Exc</th>\n",
       "      <th>preferred_coffee_type_Lib</th>\n",
       "      <th>preferred_coffee_type_Rob</th>\n",
       "    </tr>\n",
       "  </thead>\n",
       "  <tbody>\n",
       "    <tr>\n",
       "      <th>0</th>\n",
       "      <td>00246-15080-LE</td>\n",
       "      <td>0.0</td>\n",
       "      <td>0.559903</td>\n",
       "      <td>0.814761</td>\n",
       "      <td>5.191344</td>\n",
       "      <td>5.191344</td>\n",
       "      <td>0.0</td>\n",
       "      <td>0.0</td>\n",
       "      <td>1.0</td>\n",
       "      <td>0.0</td>\n",
       "    </tr>\n",
       "    <tr>\n",
       "      <th>1</th>\n",
       "      <td>00256-19905-YG</td>\n",
       "      <td>0.0</td>\n",
       "      <td>0.120282</td>\n",
       "      <td>0.175033</td>\n",
       "      <td>3.725693</td>\n",
       "      <td>3.725693</td>\n",
       "      <td>1.0</td>\n",
       "      <td>0.0</td>\n",
       "      <td>0.0</td>\n",
       "      <td>0.0</td>\n",
       "    </tr>\n",
       "    <tr>\n",
       "      <th>2</th>\n",
       "      <td>00445-42781-KX</td>\n",
       "      <td>0.5</td>\n",
       "      <td>0.512222</td>\n",
       "      <td>0.177023</td>\n",
       "      <td>3.736002</td>\n",
       "      <td>5.104247</td>\n",
       "      <td>1.0</td>\n",
       "      <td>0.0</td>\n",
       "      <td>0.0</td>\n",
       "      <td>0.0</td>\n",
       "    </tr>\n",
       "    <tr>\n",
       "      <th>3</th>\n",
       "      <td>00539-42510-RY</td>\n",
       "      <td>0.0</td>\n",
       "      <td>0.465162</td>\n",
       "      <td>0.676896</td>\n",
       "      <td>5.010135</td>\n",
       "      <td>5.010135</td>\n",
       "      <td>0.0</td>\n",
       "      <td>0.0</td>\n",
       "      <td>1.0</td>\n",
       "      <td>0.0</td>\n",
       "    </tr>\n",
       "    <tr>\n",
       "      <th>4</th>\n",
       "      <td>00852-54571-WP</td>\n",
       "      <td>0.0</td>\n",
       "      <td>0.017701</td>\n",
       "      <td>0.025759</td>\n",
       "      <td>2.224624</td>\n",
       "      <td>2.224624</td>\n",
       "      <td>0.0</td>\n",
       "      <td>1.0</td>\n",
       "      <td>0.0</td>\n",
       "      <td>0.0</td>\n",
       "    </tr>\n",
       "  </tbody>\n",
       "</table>\n",
       "</div>"
      ],
      "text/plain": [
       "      Customer ID  purchase_frequency  total_spent  average_spent  \\\n",
       "0  00246-15080-LE                 0.0     0.559903       0.814761   \n",
       "1  00256-19905-YG                 0.0     0.120282       0.175033   \n",
       "2  00445-42781-KX                 0.5     0.512222       0.177023   \n",
       "3  00539-42510-RY                 0.0     0.465162       0.676896   \n",
       "4  00852-54571-WP                 0.0     0.017701       0.025759   \n",
       "\n",
       "   log_avg_spent  log_total_spent  preferred_coffee_type_Ara  \\\n",
       "0       5.191344         5.191344                        0.0   \n",
       "1       3.725693         3.725693                        1.0   \n",
       "2       3.736002         5.104247                        1.0   \n",
       "3       5.010135         5.010135                        0.0   \n",
       "4       2.224624         2.224624                        0.0   \n",
       "\n",
       "   preferred_coffee_type_Exc  preferred_coffee_type_Lib  \\\n",
       "0                        0.0                        1.0   \n",
       "1                        0.0                        0.0   \n",
       "2                        0.0                        0.0   \n",
       "3                        0.0                        1.0   \n",
       "4                        1.0                        0.0   \n",
       "\n",
       "   preferred_coffee_type_Rob  \n",
       "0                        0.0  \n",
       "1                        0.0  \n",
       "2                        0.0  \n",
       "3                        0.0  \n",
       "4                        0.0  "
      ]
     },
     "execution_count": 78,
     "metadata": {},
     "output_type": "execute_result"
    }
   ],
   "source": [
    "features_normalized.head()"
   ]
  },
  {
   "cell_type": "markdown",
   "id": "32c8cf3d",
   "metadata": {},
   "source": [
    "The resulting table now contains normalized values for the features. As observed in the table, all rescaled values lie between 0 and 1. However, for our K-Means clustering, **Standardization** is preferred over Normalization because:\n",
    "\n",
    "* It centers data around 0, making it ideal for algorithms like the K-Means algorithm that we'll be using, which depends on Euclidean distances\n",
    "* It is less influenced by outliers, making it more stable in our data scenarios like for customer spending, where extreme values are common.\n"
   ]
  },
  {
   "cell_type": "markdown",
   "id": "c1cd9111",
   "metadata": {},
   "source": [
    "### Interpolation\n",
    "\n",
    "**Interpolation** is a preprocessing technique used for **estimating unknown or missing values using a range of known data points**. This process helps in handling missing values in a dataset by making predictions using existing data. Dropping rows due to missing values can also be avoided using this technique.\n",
    "\n",
    "**Do we need it? ❎**\n",
    "\n",
    "We do not need to preprocess our data using Interpolation because we have already done data cleaning wherein missing values have already been handled.\n"
   ]
  },
  {
   "cell_type": "markdown",
   "id": "72bb63ec",
   "metadata": {},
   "source": [
    "### Truncation\n",
    "\n",
    "**Truncation** is a data preprocessing technique that involves **cutting off or removing a portion of the data**. This is typically done to achieve specific goals, such as conforming to predetermined limits or reducing the overall complexity of the dataset. This process is commonly used in text data or natural language processing (NLP). It limits the number of tokens in a sentence or document to ensure uniform input sizes for models like GPT. It can also apply to numerical data, where it involves removing decimals or cutting off values beyond a certain limit.\n",
    "\n",
    "**Do we need it? ❎**\n",
    "\n",
    "In general, truncation is used to avoid feeding excessively long or irrelevant data into models and to reduce noise or outliers in datasets. However, as previously mentioned, in our case, while there are outliers present, not all of them are problematic and many are essential to our research. Because of this, we have decided not to apply truncation to our dataset, **in order to retain all valuable insights**, especially those related to naturally expensive or unique coffee beans."
   ]
  },
  {
   "cell_type": "markdown",
   "id": "a40224bf",
   "metadata": {},
   "source": [
    "## Data Mining Proper\n"
   ]
  },
  {
   "cell_type": "markdown",
   "id": "5f36d765",
   "metadata": {},
   "source": [
    "Now that we have prepared meaningful features from our cleaned dataset, we’re ready to begin the data mining phase.🥳"
   ]
  },
  {
   "cell_type": "markdown",
   "id": "db4d390a",
   "metadata": {},
   "source": [
    "Since our data includes customer behaviors like how often they buy, how much they spend, and what coffee they prefer, this is a great opportunity to explore deeper trends. Our main question is:"
   ]
  },
  {
   "cell_type": "markdown",
   "id": "0683e27f",
   "metadata": {},
   "source": [
    "### _`\"Can we identify distinct customer segments based on their buying behavior, such as purchase frequency, average spending, and preferred coffee types using K-Means clustering?\"`_ 🔍📊☕"
   ]
  },
  {
   "cell_type": "markdown",
   "id": "b2bb6f9a",
   "metadata": {},
   "source": [
    "Before we perform clustering, we first drop the Customer ID column. This is a non-numeric identifier that doesn't contribute to the actual grouping process."
   ]
  },
  {
   "cell_type": "code",
   "execution_count": 79,
   "id": "465e32ac",
   "metadata": {},
   "outputs": [],
   "source": [
    "data_mining = features_standardized.drop(columns=['Customer ID'])"
   ]
  },
  {
   "cell_type": "markdown",
   "id": "e23b97af",
   "metadata": {},
   "source": [
    "Let us see the dataset that we will be using."
   ]
  },
  {
   "cell_type": "code",
   "execution_count": 80,
   "id": "3f9c8e86",
   "metadata": {},
   "outputs": [
    {
     "data": {
      "text/html": [
       "<div>\n",
       "<style scoped>\n",
       "    .dataframe tbody tr th:only-of-type {\n",
       "        vertical-align: middle;\n",
       "    }\n",
       "\n",
       "    .dataframe tbody tr th {\n",
       "        vertical-align: top;\n",
       "    }\n",
       "\n",
       "    .dataframe thead th {\n",
       "        text-align: right;\n",
       "    }\n",
       "</style>\n",
       "<table border=\"1\" class=\"dataframe\">\n",
       "  <thead>\n",
       "    <tr style=\"text-align: right;\">\n",
       "      <th></th>\n",
       "      <th>purchase_frequency</th>\n",
       "      <th>total_spent</th>\n",
       "      <th>average_spent</th>\n",
       "      <th>log_avg_spent</th>\n",
       "      <th>log_total_spent</th>\n",
       "      <th>preferred_coffee_type_Ara</th>\n",
       "      <th>preferred_coffee_type_Exc</th>\n",
       "      <th>preferred_coffee_type_Lib</th>\n",
       "      <th>preferred_coffee_type_Rob</th>\n",
       "    </tr>\n",
       "  </thead>\n",
       "  <tbody>\n",
       "    <tr>\n",
       "      <th>0</th>\n",
       "      <td>-0.204397</td>\n",
       "      <td>2.675400</td>\n",
       "      <td>3.188306</td>\n",
       "      <td>5.191344</td>\n",
       "      <td>5.191344</td>\n",
       "      <td>0.0</td>\n",
       "      <td>0.0</td>\n",
       "      <td>1.0</td>\n",
       "      <td>0.0</td>\n",
       "    </tr>\n",
       "    <tr>\n",
       "      <th>1</th>\n",
       "      <td>-0.204397</td>\n",
       "      <td>-0.184916</td>\n",
       "      <td>-0.117169</td>\n",
       "      <td>3.725693</td>\n",
       "      <td>3.725693</td>\n",
       "      <td>1.0</td>\n",
       "      <td>0.0</td>\n",
       "      <td>0.0</td>\n",
       "      <td>0.0</td>\n",
       "    </tr>\n",
       "    <tr>\n",
       "      <th>2</th>\n",
       "      <td>6.305417</td>\n",
       "      <td>2.365175</td>\n",
       "      <td>-0.106885</td>\n",
       "      <td>3.736002</td>\n",
       "      <td>5.104247</td>\n",
       "      <td>1.0</td>\n",
       "      <td>0.0</td>\n",
       "      <td>0.0</td>\n",
       "      <td>0.0</td>\n",
       "    </tr>\n",
       "    <tr>\n",
       "      <th>3</th>\n",
       "      <td>-0.204397</td>\n",
       "      <td>2.058986</td>\n",
       "      <td>2.475958</td>\n",
       "      <td>5.010135</td>\n",
       "      <td>5.010135</td>\n",
       "      <td>0.0</td>\n",
       "      <td>0.0</td>\n",
       "      <td>1.0</td>\n",
       "      <td>0.0</td>\n",
       "    </tr>\n",
       "    <tr>\n",
       "      <th>4</th>\n",
       "      <td>-0.204397</td>\n",
       "      <td>-0.852344</td>\n",
       "      <td>-0.888470</td>\n",
       "      <td>2.224624</td>\n",
       "      <td>2.224624</td>\n",
       "      <td>0.0</td>\n",
       "      <td>1.0</td>\n",
       "      <td>0.0</td>\n",
       "      <td>0.0</td>\n",
       "    </tr>\n",
       "  </tbody>\n",
       "</table>\n",
       "</div>"
      ],
      "text/plain": [
       "   purchase_frequency  total_spent  average_spent  log_avg_spent  \\\n",
       "0           -0.204397     2.675400       3.188306       5.191344   \n",
       "1           -0.204397    -0.184916      -0.117169       3.725693   \n",
       "2            6.305417     2.365175      -0.106885       3.736002   \n",
       "3           -0.204397     2.058986       2.475958       5.010135   \n",
       "4           -0.204397    -0.852344      -0.888470       2.224624   \n",
       "\n",
       "   log_total_spent  preferred_coffee_type_Ara  preferred_coffee_type_Exc  \\\n",
       "0         5.191344                        0.0                        0.0   \n",
       "1         3.725693                        1.0                        0.0   \n",
       "2         5.104247                        1.0                        0.0   \n",
       "3         5.010135                        0.0                        0.0   \n",
       "4         2.224624                        0.0                        1.0   \n",
       "\n",
       "   preferred_coffee_type_Lib  preferred_coffee_type_Rob  \n",
       "0                        1.0                        0.0  \n",
       "1                        0.0                        0.0  \n",
       "2                        0.0                        0.0  \n",
       "3                        1.0                        0.0  \n",
       "4                        0.0                        0.0  "
      ]
     },
     "execution_count": 80,
     "metadata": {},
     "output_type": "execute_result"
    }
   ],
   "source": [
    "data_mining.head()"
   ]
  },
  {
   "cell_type": "markdown",
   "id": "ed603060",
   "metadata": {},
   "source": [
    "We need to find how many customer segments exist. The most common method is the **Elbow Method**. This involves running K-Means for a range of values of K and plotting the sum of squared distances (inertia). The \"elbow point\" in the plot suggests a good value for K."
   ]
  },
  {
   "cell_type": "code",
   "execution_count": 81,
   "id": "f6df72dd",
   "metadata": {},
   "outputs": [
    {
     "name": "stderr",
     "output_type": "stream",
     "text": [
      "c:\\Users\\marble\\Downloads\\CSMODEL MP\\kmeans.py:60: FutureWarning: The behavior of DataFrame concatenation with empty or all-NA entries is deprecated. In a future version, this will no longer exclude empty or all-NA columns when determining the result dtypes. To retain the old behavior, exclude the relevant entries before the concat operation.\n",
      "  self.centroids = pd.concat([self.centroids, point], ignore_index=True)\n",
      "c:\\Users\\marble\\Downloads\\CSMODEL MP\\kmeans.py:60: FutureWarning: The behavior of DataFrame concatenation with empty or all-NA entries is deprecated. In a future version, this will no longer exclude empty or all-NA columns when determining the result dtypes. To retain the old behavior, exclude the relevant entries before the concat operation.\n",
      "  self.centroids = pd.concat([self.centroids, point], ignore_index=True)\n",
      "c:\\Users\\marble\\Downloads\\CSMODEL MP\\kmeans.py:60: FutureWarning: The behavior of DataFrame concatenation with empty or all-NA entries is deprecated. In a future version, this will no longer exclude empty or all-NA columns when determining the result dtypes. To retain the old behavior, exclude the relevant entries before the concat operation.\n",
      "  self.centroids = pd.concat([self.centroids, point], ignore_index=True)\n"
     ]
    },
    {
     "name": "stdout",
     "output_type": "stream",
     "text": [
      "Iteration 1\n",
      "Iteration 2\n",
      "Done clustering!\n",
      "Iteration 1\n",
      "Iteration 2\n",
      "Iteration 3\n",
      "Iteration 4\n",
      "Iteration 5\n",
      "Done clustering!\n",
      "Iteration 1\n",
      "Iteration 2\n",
      "Iteration 3\n",
      "Iteration 4\n",
      "Iteration 5\n",
      "Iteration 6\n",
      "Iteration 7\n",
      "Iteration 8\n",
      "Iteration 9\n",
      "Iteration 10\n",
      "Iteration 11\n",
      "Iteration 12\n",
      "Done clustering!\n",
      "Iteration 1\n",
      "Iteration 2\n",
      "Iteration 3\n",
      "Iteration 4\n",
      "Iteration 5\n",
      "Iteration 6\n",
      "Iteration 7\n",
      "Iteration 8\n",
      "Iteration 9\n",
      "Iteration 10\n",
      "Iteration 11\n",
      "Iteration 12\n",
      "Done clustering!\n",
      "Iteration 1\n",
      "Iteration 2\n"
     ]
    },
    {
     "name": "stderr",
     "output_type": "stream",
     "text": [
      "c:\\Users\\marble\\Downloads\\CSMODEL MP\\kmeans.py:60: FutureWarning: The behavior of DataFrame concatenation with empty or all-NA entries is deprecated. In a future version, this will no longer exclude empty or all-NA columns when determining the result dtypes. To retain the old behavior, exclude the relevant entries before the concat operation.\n",
      "  self.centroids = pd.concat([self.centroids, point], ignore_index=True)\n",
      "c:\\Users\\marble\\Downloads\\CSMODEL MP\\kmeans.py:60: FutureWarning: The behavior of DataFrame concatenation with empty or all-NA entries is deprecated. In a future version, this will no longer exclude empty or all-NA columns when determining the result dtypes. To retain the old behavior, exclude the relevant entries before the concat operation.\n",
      "  self.centroids = pd.concat([self.centroids, point], ignore_index=True)\n"
     ]
    },
    {
     "name": "stdout",
     "output_type": "stream",
     "text": [
      "Iteration 3\n",
      "Iteration 4\n",
      "Iteration 5\n",
      "Iteration 6\n",
      "Iteration 7\n",
      "Iteration 8\n",
      "Iteration 9\n",
      "Iteration 10\n",
      "Done clustering!\n",
      "Iteration 1\n",
      "Iteration 2\n",
      "Iteration 3\n",
      "Iteration 4\n",
      "Iteration 5\n",
      "Iteration 6\n"
     ]
    },
    {
     "name": "stderr",
     "output_type": "stream",
     "text": [
      "c:\\Users\\marble\\Downloads\\CSMODEL MP\\kmeans.py:60: FutureWarning: The behavior of DataFrame concatenation with empty or all-NA entries is deprecated. In a future version, this will no longer exclude empty or all-NA columns when determining the result dtypes. To retain the old behavior, exclude the relevant entries before the concat operation.\n",
      "  self.centroids = pd.concat([self.centroids, point], ignore_index=True)\n",
      "c:\\Users\\marble\\Downloads\\CSMODEL MP\\kmeans.py:60: FutureWarning: The behavior of DataFrame concatenation with empty or all-NA entries is deprecated. In a future version, this will no longer exclude empty or all-NA columns when determining the result dtypes. To retain the old behavior, exclude the relevant entries before the concat operation.\n",
      "  self.centroids = pd.concat([self.centroids, point], ignore_index=True)\n"
     ]
    },
    {
     "name": "stdout",
     "output_type": "stream",
     "text": [
      "Iteration 7\n",
      "Iteration 8\n",
      "Iteration 9\n",
      "Iteration 10\n",
      "Done clustering!\n",
      "Iteration 1\n",
      "Iteration 2\n",
      "Iteration 3\n",
      "Iteration 4\n",
      "Iteration 5\n",
      "Iteration 6\n",
      "Iteration 7\n",
      "Iteration 8\n",
      "Iteration 9\n",
      "Done clustering!\n"
     ]
    },
    {
     "name": "stderr",
     "output_type": "stream",
     "text": [
      "c:\\Users\\marble\\Downloads\\CSMODEL MP\\kmeans.py:60: FutureWarning: The behavior of DataFrame concatenation with empty or all-NA entries is deprecated. In a future version, this will no longer exclude empty or all-NA columns when determining the result dtypes. To retain the old behavior, exclude the relevant entries before the concat operation.\n",
      "  self.centroids = pd.concat([self.centroids, point], ignore_index=True)\n"
     ]
    },
    {
     "name": "stdout",
     "output_type": "stream",
     "text": [
      "Iteration 1\n",
      "Iteration 2\n",
      "Iteration 3\n",
      "Iteration 4\n",
      "Iteration 5\n",
      "Iteration 6\n",
      "Iteration 7\n",
      "Iteration 8\n",
      "Iteration 9\n",
      "Done clustering!\n"
     ]
    },
    {
     "name": "stderr",
     "output_type": "stream",
     "text": [
      "c:\\Users\\marble\\Downloads\\CSMODEL MP\\kmeans.py:60: FutureWarning: The behavior of DataFrame concatenation with empty or all-NA entries is deprecated. In a future version, this will no longer exclude empty or all-NA columns when determining the result dtypes. To retain the old behavior, exclude the relevant entries before the concat operation.\n",
      "  self.centroids = pd.concat([self.centroids, point], ignore_index=True)\n"
     ]
    },
    {
     "name": "stdout",
     "output_type": "stream",
     "text": [
      "Iteration 1\n",
      "Iteration 2\n",
      "Iteration 3\n",
      "Iteration 4\n",
      "Iteration 5\n",
      "Iteration 6\n",
      "Iteration 7\n",
      "Done clustering!\n"
     ]
    },
    {
     "name": "stderr",
     "output_type": "stream",
     "text": [
      "c:\\Users\\marble\\Downloads\\CSMODEL MP\\kmeans.py:60: FutureWarning: The behavior of DataFrame concatenation with empty or all-NA entries is deprecated. In a future version, this will no longer exclude empty or all-NA columns when determining the result dtypes. To retain the old behavior, exclude the relevant entries before the concat operation.\n",
      "  self.centroids = pd.concat([self.centroids, point], ignore_index=True)\n"
     ]
    },
    {
     "name": "stdout",
     "output_type": "stream",
     "text": [
      "Iteration 1\n",
      "Iteration 2\n",
      "Iteration 3\n",
      "Iteration 4\n",
      "Iteration 5\n",
      "Iteration 6\n",
      "Iteration 7\n",
      "Done clustering!\n"
     ]
    },
    {
     "data": {
      "image/png": "[encoded data removed]",
      "text/plain": [
       "<Figure size 640x480 with 1 Axes>"
      ]
     },
     "metadata": {},
     "output_type": "display_data"
    }
   ],
   "source": [
    "inertia = []\n",
    "K_range = range(1, 11)\n",
    "\n",
    "for k in K_range:\n",
    "    model = KMeans(k=k, start_var=0, end_var=data_mining.shape[1], num_observations=data_mining.shape[0], data=data_mining)\n",
    "    model.initialize_centroids(data_mining)\n",
    "    model.train(data_mining, iters=100)\n",
    "    # Compute total within-cluster sum of squared distances (inertia)\n",
    "    sliced_data = data_mining.iloc[:, model.start_var:model.end_var]\n",
    "    total_dist = 0\n",
    "    for i in range(model.k):\n",
    "        cluster_points = sliced_data[model.group_observations(data_mining) == i]\n",
    "        centroid = model.centroids.iloc[i]\n",
    "        total_dist += ((cluster_points - centroid) ** 2).sum().sum()\n",
    "    inertia.append(total_dist)\n",
    "\n",
    "# Plot the Elbow\n",
    "import matplotlib.pyplot as plt\n",
    "plt.plot(K_range, inertia, marker='o')\n",
    "plt.xlabel('Number of Clusters (K)')\n",
    "plt.ylabel('Inertia (Within-Cluster SSE)')\n",
    "plt.title('Elbow Method for Optimal K')\n",
    "plt.grid(True)\n",
    "plt.show()\n"
   ]
  },
  {
   "cell_type": "markdown",
   "id": "82c2af37",
   "metadata": {},
   "source": [
    "Once you identify the elbow (let’s say k = 3 looks good), you can run KMeans with that value:"
   ]
  },
  {
   "cell_type": "code",
   "execution_count": 82,
   "id": "66cd720e",
   "metadata": {},
   "outputs": [
    {
     "name": "stdout",
     "output_type": "stream",
     "text": [
      "Iteration 1\n",
      "Iteration 2\n",
      "Iteration 3\n",
      "Iteration 4\n",
      "Iteration 5\n",
      "Iteration 6\n",
      "Iteration 7\n",
      "Iteration 8\n",
      "Iteration 9\n",
      "Iteration 10\n",
      "Iteration 11\n",
      "Iteration 12\n",
      "Done clustering!\n"
     ]
    },
    {
     "name": "stderr",
     "output_type": "stream",
     "text": [
      "c:\\Users\\marble\\Downloads\\CSMODEL MP\\kmeans.py:60: FutureWarning: The behavior of DataFrame concatenation with empty or all-NA entries is deprecated. In a future version, this will no longer exclude empty or all-NA columns when determining the result dtypes. To retain the old behavior, exclude the relevant entries before the concat operation.\n",
      "  self.centroids = pd.concat([self.centroids, point], ignore_index=True)\n"
     ]
    }
   ],
   "source": [
    "optimal_k = 3\n",
    "kmeans_model = KMeans(k=optimal_k, start_var=0, end_var=data_mining.shape[1], num_observations=data_mining.shape[0], data=data_mining)\n",
    "kmeans_model.initialize_centroids(data_mining)\n",
    "clusters = kmeans_model.train(data_mining, iters=100)\n"
   ]
  },
  {
   "cell_type": "markdown",
   "id": "5e165bab",
   "metadata": {},
   "source": [
    "After that, reattach the cluster labels like this:"
   ]
  },
  {
   "cell_type": "code",
   "execution_count": 83,
   "id": "94096db4",
   "metadata": {},
   "outputs": [
    {
     "data": {
      "text/html": [
       "<div>\n",
       "<style scoped>\n",
       "    .dataframe tbody tr th:only-of-type {\n",
       "        vertical-align: middle;\n",
       "    }\n",
       "\n",
       "    .dataframe tbody tr th {\n",
       "        vertical-align: top;\n",
       "    }\n",
       "\n",
       "    .dataframe thead th {\n",
       "        text-align: right;\n",
       "    }\n",
       "</style>\n",
       "<table border=\"1\" class=\"dataframe\">\n",
       "  <thead>\n",
       "    <tr style=\"text-align: right;\">\n",
       "      <th></th>\n",
       "      <th>Customer ID</th>\n",
       "      <th>purchase_frequency</th>\n",
       "      <th>total_spent</th>\n",
       "      <th>average_spent</th>\n",
       "      <th>log_avg_spent</th>\n",
       "      <th>log_total_spent</th>\n",
       "      <th>preferred_coffee_type_Ara</th>\n",
       "      <th>preferred_coffee_type_Exc</th>\n",
       "      <th>preferred_coffee_type_Lib</th>\n",
       "      <th>preferred_coffee_type_Rob</th>\n",
       "      <th>Cluster</th>\n",
       "    </tr>\n",
       "  </thead>\n",
       "  <tbody>\n",
       "    <tr>\n",
       "      <th>0</th>\n",
       "      <td>00246-15080-LE</td>\n",
       "      <td>-0.204397</td>\n",
       "      <td>2.675400</td>\n",
       "      <td>3.188306</td>\n",
       "      <td>5.191344</td>\n",
       "      <td>5.191344</td>\n",
       "      <td>0.0</td>\n",
       "      <td>0.0</td>\n",
       "      <td>1.0</td>\n",
       "      <td>0.0</td>\n",
       "      <td>2</td>\n",
       "    </tr>\n",
       "    <tr>\n",
       "      <th>1</th>\n",
       "      <td>00256-19905-YG</td>\n",
       "      <td>-0.204397</td>\n",
       "      <td>-0.184916</td>\n",
       "      <td>-0.117169</td>\n",
       "      <td>3.725693</td>\n",
       "      <td>3.725693</td>\n",
       "      <td>1.0</td>\n",
       "      <td>0.0</td>\n",
       "      <td>0.0</td>\n",
       "      <td>0.0</td>\n",
       "      <td>0</td>\n",
       "    </tr>\n",
       "    <tr>\n",
       "      <th>2</th>\n",
       "      <td>00445-42781-KX</td>\n",
       "      <td>6.305417</td>\n",
       "      <td>2.365175</td>\n",
       "      <td>-0.106885</td>\n",
       "      <td>3.736002</td>\n",
       "      <td>5.104247</td>\n",
       "      <td>1.0</td>\n",
       "      <td>0.0</td>\n",
       "      <td>0.0</td>\n",
       "      <td>0.0</td>\n",
       "      <td>1</td>\n",
       "    </tr>\n",
       "    <tr>\n",
       "      <th>3</th>\n",
       "      <td>00539-42510-RY</td>\n",
       "      <td>-0.204397</td>\n",
       "      <td>2.058986</td>\n",
       "      <td>2.475958</td>\n",
       "      <td>5.010135</td>\n",
       "      <td>5.010135</td>\n",
       "      <td>0.0</td>\n",
       "      <td>0.0</td>\n",
       "      <td>1.0</td>\n",
       "      <td>0.0</td>\n",
       "      <td>2</td>\n",
       "    </tr>\n",
       "    <tr>\n",
       "      <th>4</th>\n",
       "      <td>00852-54571-WP</td>\n",
       "      <td>-0.204397</td>\n",
       "      <td>-0.852344</td>\n",
       "      <td>-0.888470</td>\n",
       "      <td>2.224624</td>\n",
       "      <td>2.224624</td>\n",
       "      <td>0.0</td>\n",
       "      <td>1.0</td>\n",
       "      <td>0.0</td>\n",
       "      <td>0.0</td>\n",
       "      <td>0</td>\n",
       "    </tr>\n",
       "  </tbody>\n",
       "</table>\n",
       "</div>"
      ],
      "text/plain": [
       "      Customer ID  purchase_frequency  total_spent  average_spent  \\\n",
       "0  00246-15080-LE           -0.204397     2.675400       3.188306   \n",
       "1  00256-19905-YG           -0.204397    -0.184916      -0.117169   \n",
       "2  00445-42781-KX            6.305417     2.365175      -0.106885   \n",
       "3  00539-42510-RY           -0.204397     2.058986       2.475958   \n",
       "4  00852-54571-WP           -0.204397    -0.852344      -0.888470   \n",
       "\n",
       "   log_avg_spent  log_total_spent  preferred_coffee_type_Ara  \\\n",
       "0       5.191344         5.191344                        0.0   \n",
       "1       3.725693         3.725693                        1.0   \n",
       "2       3.736002         5.104247                        1.0   \n",
       "3       5.010135         5.010135                        0.0   \n",
       "4       2.224624         2.224624                        0.0   \n",
       "\n",
       "   preferred_coffee_type_Exc  preferred_coffee_type_Lib  \\\n",
       "0                        0.0                        1.0   \n",
       "1                        0.0                        0.0   \n",
       "2                        0.0                        0.0   \n",
       "3                        0.0                        1.0   \n",
       "4                        1.0                        0.0   \n",
       "\n",
       "   preferred_coffee_type_Rob  Cluster  \n",
       "0                        0.0        2  \n",
       "1                        0.0        0  \n",
       "2                        0.0        1  \n",
       "3                        0.0        2  \n",
       "4                        0.0        0  "
      ]
     },
     "execution_count": 83,
     "metadata": {},
     "output_type": "execute_result"
    }
   ],
   "source": [
    "features_standardized['Cluster'] = clusters\n",
    "features_standardized.head()"
   ]
  },
  {
   "cell_type": "markdown",
   "id": "b55cf2eb",
   "metadata": {},
   "source": [
    "This way, features_standardized will contain everything🤩 — including Customer ID, engineered features, and now the Cluster assignment."
   ]
  },
  {
   "cell_type": "markdown",
   "id": "d6ed099a",
   "metadata": {},
   "source": [
    "We can now visualize the clusters and their centroids using a 2D plot!😀"
   ]
  },
  {
   "cell_type": "markdown",
   "id": "3e2045b4",
   "metadata": {},
   "source": [
    "Since our data has multiple features, we will use PCA (Principal Component Analysis) to reduce the dimensions to 2 for easy plotting."
   ]
  },
  {
   "cell_type": "code",
   "execution_count": 85,
   "id": "ad8f8ad8",
   "metadata": {},
   "outputs": [
    {
     "data": {
      "image/png": "[encoded data removed]",
      "text/plain": [
       "<Figure size 1000x600 with 1 Axes>"
      ]
     },
     "metadata": {},
     "output_type": "display_data"
    }
   ],
   "source": [
    "# Step 1: Reduce data to 2D using PCA\n",
    "pca = PCA(n_components=2)\n",
    "X_pca = pca.fit_transform(data_mining)\n",
    "\n",
    "# Step 2: Create a DataFrame for plotting\n",
    "pca_df = pd.DataFrame(X_pca, columns=['PC1', 'PC2'])\n",
    "pca_df['Cluster'] = clusters\n",
    "\n",
    "# Step 3: Also transform centroids to 2D using the same PCA model\n",
    "centroids_2d = pca.transform(kmeans_model.centroids)\n",
    "\n",
    "# Step 4: Plot\n",
    "plt.figure(figsize=(10, 6))\n",
    "colors = ['#1f77b4', '#ff7f0e', '#2ca02c', '#d62728', '#9467bd']\n",
    "\n",
    "for cluster_id in range(kmeans_model.k):\n",
    "    cluster_points = pca_df[pca_df['Cluster'] == cluster_id]\n",
    "    plt.scatter(cluster_points['PC1'], cluster_points['PC2'], label=f'Cluster {cluster_id}', alpha=0.6, s=50, color=colors[cluster_id])\n",
    "\n",
    "# Plot centroids\n",
    "plt.scatter(centroids_2d[:, 0], centroids_2d[:, 1], c='black', s=200, marker='X', label='Centroids')\n",
    "\n",
    "plt.title('Customer Segments (K-Means Clustering)')\n",
    "plt.xlabel('Principal Component 1')\n",
    "plt.ylabel('Principal Component 2')\n",
    "plt.legend()\n",
    "plt.grid(True)\n",
    "plt.show()"
   ]
  },
  {
   "cell_type": "markdown",
   "id": "9ad21a14",
   "metadata": {},
   "source": [
    "Each point on the scatter plot represents a customer, colored by the cluster they belong to. The black X markers indicate the centroids, or the center of each group, as computed by the K-Means algorithm."
   ]
  },
  {
   "cell_type": "markdown",
   "id": "ae9857dd",
   "metadata": {},
   "source": [
    "From the visualization, we can observe that customers naturally form distinct groups based on their buying behavior. This suggests that K-Means clustering was effective in identifying meaningful customer segments. These clusters can potentially inform targeted marketing strategies, personalized promotions, or better inventory planning — ultimately helping the business cater to different customer needs more effectively."
   ]
  },
  {
   "cell_type": "markdown",
   "id": "fe62cd00",
   "metadata": {},
   "source": [
    "# Key Insights and Conclusion 🔬✨\n"
   ]
  },
  {
   "cell_type": "markdown",
   "id": "e871fc6c",
   "metadata": {},
   "source": []
  }
 ],
 "metadata": {
  "kernelspec": {
   "display_name": "Python 3",
   "language": "python",
   "name": "python3"
  },
  "language_info": {
   "codemirror_mode": {
    "name": "ipython",
    "version": 3
   },
   "file_extension": ".py",
   "mimetype": "text/x-python",
   "name": "python",
   "nbconvert_exporter": "python",
   "pygments_lexer": "ipython3",
   "version": "3.13.5"
  }
 },
 "nbformat": 4,
 "nbformat_minor": 5
}
