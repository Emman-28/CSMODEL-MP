{
 "cells": [
  {
   "cell_type": "markdown",
   "id": "de097fbe",
   "metadata": {},
   "source": [
    "# CSMODEL Machine Project (Phase 1) ☕✨\n",
    "This Jupyter Notebook was made in compliance with the requirements set by the course Statistical Modelling and Simulation (CSMODEL). \n",
    "\n",
    "This machine project was prepared by the following students from section S16:\n",
    "- Filipino, Eunice Marble R.\n",
    "- Lazaro, Heisel Janine C.\n",
    "- Punsalan, Emmanuel Gerald G.\n",
    "- Wee, Justine Erika D.\n"
   ]
  },
  {
   "cell_type": "markdown",
   "id": "7bb6eb79",
   "metadata": {},
   "source": [
    "# Import Libraries ⬇️\n",
    "\n",
    "The following libraries are imported to provide essential functionalities for data processing, analysis, and visualization throughout this project:"
   ]
  },
  {
   "cell_type": "code",
   "execution_count": 14,
   "id": "f500af11",
   "metadata": {},
   "outputs": [
    {
     "name": "stdout",
     "output_type": "stream",
     "text": [
      "Requirement already satisfied: openpyxl in ./.venv/lib/python3.13/site-packages (3.1.5)\n",
      "Requirement already satisfied: et-xmlfile in ./.venv/lib/python3.13/site-packages (from openpyxl) (2.0.0)\n",
      "Note: you may need to restart the kernel to use updated packages.\n",
      "Requirement already satisfied: scipy in ./.venv/lib/python3.13/site-packages (1.15.3)\n",
      "Requirement already satisfied: numpy<2.5,>=1.23.5 in ./.venv/lib/python3.13/site-packages (from scipy) (2.3.0)\n",
      "Note: you may need to restart the kernel to use updated packages.\n",
      "Requirement already satisfied: seaborn in ./.venv/lib/python3.13/site-packages (0.13.2)\n",
      "Requirement already satisfied: numpy!=1.24.0,>=1.20 in ./.venv/lib/python3.13/site-packages (from seaborn) (2.3.0)\n",
      "Requirement already satisfied: pandas>=1.2 in ./.venv/lib/python3.13/site-packages (from seaborn) (2.3.0)\n",
      "Requirement already satisfied: matplotlib!=3.6.1,>=3.4 in ./.venv/lib/python3.13/site-packages (from seaborn) (3.10.3)\n",
      "Requirement already satisfied: contourpy>=1.0.1 in ./.venv/lib/python3.13/site-packages (from matplotlib!=3.6.1,>=3.4->seaborn) (1.3.2)\n",
      "Requirement already satisfied: cycler>=0.10 in ./.venv/lib/python3.13/site-packages (from matplotlib!=3.6.1,>=3.4->seaborn) (0.12.1)\n",
      "Requirement already satisfied: fonttools>=4.22.0 in ./.venv/lib/python3.13/site-packages (from matplotlib!=3.6.1,>=3.4->seaborn) (4.58.4)\n",
      "Requirement already satisfied: kiwisolver>=1.3.1 in ./.venv/lib/python3.13/site-packages (from matplotlib!=3.6.1,>=3.4->seaborn) (1.4.8)\n",
      "Requirement already satisfied: packaging>=20.0 in ./.venv/lib/python3.13/site-packages (from matplotlib!=3.6.1,>=3.4->seaborn) (25.0)\n",
      "Requirement already satisfied: pillow>=8 in ./.venv/lib/python3.13/site-packages (from matplotlib!=3.6.1,>=3.4->seaborn) (11.2.1)\n",
      "Requirement already satisfied: pyparsing>=2.3.1 in ./.venv/lib/python3.13/site-packages (from matplotlib!=3.6.1,>=3.4->seaborn) (3.2.3)\n",
      "Requirement already satisfied: python-dateutil>=2.7 in ./.venv/lib/python3.13/site-packages (from matplotlib!=3.6.1,>=3.4->seaborn) (2.9.0.post0)\n",
      "Requirement already satisfied: pytz>=2020.1 in ./.venv/lib/python3.13/site-packages (from pandas>=1.2->seaborn) (2025.2)\n",
      "Requirement already satisfied: tzdata>=2022.7 in ./.venv/lib/python3.13/site-packages (from pandas>=1.2->seaborn) (2025.2)\n",
      "Requirement already satisfied: six>=1.5 in ./.venv/lib/python3.13/site-packages (from python-dateutil>=2.7->matplotlib!=3.6.1,>=3.4->seaborn) (1.17.0)\n",
      "Note: you may need to restart the kernel to use updated packages.\n"
     ]
    }
   ],
   "source": [
    "%pip install openpyxl\n",
    "%pip install scipy\n",
    "%pip install seaborn\n",
    "\n",
    "import numpy as np\n",
    "import pandas as pd\n",
    "import matplotlib.pyplot as plt\n",
    "import seaborn as sns\n",
    "from scipy.stats import ttest_ind"
   ]
  },
  {
   "cell_type": "markdown",
   "id": "e697f317",
   "metadata": {},
   "source": [
    "# Data Description ℹ️✨\n",
    "The [Coffee Bean Sales Dataset](https://www.kaggle.com/datasets/saadharoon27/coffee-bean-sales-raw-dataset/data) provides comprehensive insights into the coffee industry. It contains detailed information on coffee orders, customer profiles and product details. The dataset is divided into three worksheets, providing specific information about orders, customers and products. The orders worksheet reflects the coffee transactions made by customers. The customers worksheet contains specific details on the customers. Lastly, the products worksheet details each coffee product."
   ]
  },
  {
   "cell_type": "markdown",
   "id": "ddbf49a7",
   "metadata": {},
   "source": [
    "### How the data was collected\n",
    "\n",
    "The dataset was acquired from [Kaggle](https://www.kaggle.com) which houses datasets that may be from open sources, web scraping, or simulations. It is not outwardly stated how the coffee bean sales dataset was gathered, but it can be assumed that it was artificially generated for educational purposes due to the lack of details and metadata surrounding the orders."
   ]
  },
  {
   "cell_type": "markdown",
   "id": "8f7a6890",
   "metadata": {},
   "source": [
    "### Potential Implications\n",
    "\n",
    "As the data was collected through unknown sources, there are potential implications on how information was recorded. The lack of standardization across dataset fields may lead to discrepancies, inconsistencies, or misleading conclusions during data analysis. Additionally, the lack of metadata challenges to determine the scope of the dataset—increasing the risk of sampling bias. It also imposes constraints in preprocessing since the dataset was provided in a pre-cleaned format; hence, further restricting the accuracy and relevance of the insights that will be generated."
   ]
  },
  {
   "cell_type": "markdown",
   "id": "1981d246",
   "metadata": {},
   "source": [
    "### Dataset Overview (Structure and Attributes)\n",
    "\n",
    "The dataset is divided into three worksheets, which are the following:\n",
    "\n",
    "**Orders:** Consists of **1,000 observations** and **9 variables**, where each observation represents an order. The attributes of which include:\n",
    "\n",
    "| **Attribute** | **Description**                              |\n",
    "|---------------|----------------------------------------------|\n",
    "| **Order ID**  | A unique identifier for each order           |\n",
    "| **Order Date**| The date the order was placed                |\n",
    "| **Customer ID** | A reference to the customer who placed the order |\n",
    "| **Product ID** | A reference to the product ordered          |\n",
    "| **Quantity**  | The number of units ordered                  |\n",
    "\n",
    "**Customers:** Consists of **1,000 observations** and **9 variables**, where each observation represents a distinct customer. The attributes of which include:\n",
    "\n",
    "| **Attribute**     | **Description**                        |\n",
    "|-------------------|----------------------------------------|\n",
    "| **Customer ID**   | A unique identifier for each customer  |\n",
    "| **Customer Name** | The full name of the customer          |\n",
    "| **Email Address** | Contact email of the customer          |\n",
    "| **Phone Number**  | Customer’s phone contact               |\n",
    "| **Address Line 1**  | Primary street address of the customer |\n",
    "| **City**            | City of the customer’s address         |\n",
    "| **Country**         | Country of residence                   |\n",
    "| **Postcode**        | Postal/ZIP code of the customer’s address |\n",
    "| **Loyalty Card**    | Indicates whether the customer has a loyalty card (Yes/No) |\n",
    "\n",
    "**Products:** Consists of **48 observations** and **7 variables**, where each observation represents a unique coffee product. The attributes of which include:\n",
    "\n",
    "| **Attribute**     | **Description**                                     |\n",
    "|-------------------|--------------------------------------------------- |\n",
    "| **Product ID**    | A unique identifier for each product                |\n",
    "| **Coffee Type**   | The blend or type of coffee (e.g., Arabica, Robusta)|\n",
    "| **Roast Type**    | The level of roast (e.g., light, medium, dark)      |\n",
    "| **Size**          | Packaging size of the product                      |\n",
    "| **Unit Price**    | Retail price per unit                              |\n",
    "| **Price per 100g**| Standardized pricing for comparison                |\n",
    "| **Profit**        | Profitability of each product                      |"
   ]
  },
  {
   "cell_type": "markdown",
   "id": "95fc7aa1",
   "metadata": {},
   "source": [
    "# Reading the Dataset 📝\n",
    "\n",
    "With all that in mind, let's load in the dataset!"
   ]
  },
  {
   "cell_type": "code",
   "execution_count": 15,
   "id": "eef40947",
   "metadata": {},
   "outputs": [],
   "source": [
    "# Reading the Excel file\n",
    "file_path = 'Coffee Bean Dataset.xlsx'\n",
    "\n",
    "# Loading each worksheet into a separate DataFrame\n",
    "orders = pd.read_excel(file_path, sheet_name = 'orders')\n",
    "customers = pd.read_excel(file_path, sheet_name = 'customers')\n",
    "products = pd.read_excel(file_path, sheet_name = 'products')"
   ]
  },
  {
   "cell_type": "markdown",
   "id": "a60be8cd",
   "metadata": {},
   "source": [
    "We should take a peek into the three worksheets to confirm our loading worked..."
   ]
  },
  {
   "cell_type": "code",
   "execution_count": 16,
   "id": "caaaaf6f",
   "metadata": {},
   "outputs": [
    {
     "data": {
      "text/html": [
       "<div>\n",
       "<style scoped>\n",
       "    .dataframe tbody tr th:only-of-type {\n",
       "        vertical-align: middle;\n",
       "    }\n",
       "\n",
       "    .dataframe tbody tr th {\n",
       "        vertical-align: top;\n",
       "    }\n",
       "\n",
       "    .dataframe thead th {\n",
       "        text-align: right;\n",
       "    }\n",
       "</style>\n",
       "<table border=\"1\" class=\"dataframe\">\n",
       "  <thead>\n",
       "    <tr style=\"text-align: right;\">\n",
       "      <th></th>\n",
       "      <th>Order ID</th>\n",
       "      <th>Order Date</th>\n",
       "      <th>Customer ID</th>\n",
       "      <th>Product ID</th>\n",
       "      <th>Quantity</th>\n",
       "      <th>Customer Name</th>\n",
       "      <th>Email</th>\n",
       "      <th>Country</th>\n",
       "      <th>Coffee Type</th>\n",
       "      <th>Roast Type</th>\n",
       "      <th>Size</th>\n",
       "      <th>Unit Price</th>\n",
       "      <th>Sales</th>\n",
       "    </tr>\n",
       "  </thead>\n",
       "  <tbody>\n",
       "    <tr>\n",
       "      <th>0</th>\n",
       "      <td>QEV-37451-860</td>\n",
       "      <td>2019-09-05</td>\n",
       "      <td>17670-51384-MA</td>\n",
       "      <td>R-M-1</td>\n",
       "      <td>2</td>\n",
       "      <td>NaN</td>\n",
       "      <td>NaN</td>\n",
       "      <td>NaN</td>\n",
       "      <td>NaN</td>\n",
       "      <td>NaN</td>\n",
       "      <td>NaN</td>\n",
       "      <td>NaN</td>\n",
       "      <td>NaN</td>\n",
       "    </tr>\n",
       "    <tr>\n",
       "      <th>1</th>\n",
       "      <td>QEV-37451-860</td>\n",
       "      <td>2019-09-05</td>\n",
       "      <td>17670-51384-MA</td>\n",
       "      <td>E-M-0.5</td>\n",
       "      <td>5</td>\n",
       "      <td>NaN</td>\n",
       "      <td>NaN</td>\n",
       "      <td>NaN</td>\n",
       "      <td>NaN</td>\n",
       "      <td>NaN</td>\n",
       "      <td>NaN</td>\n",
       "      <td>NaN</td>\n",
       "      <td>NaN</td>\n",
       "    </tr>\n",
       "    <tr>\n",
       "      <th>2</th>\n",
       "      <td>FAA-43335-268</td>\n",
       "      <td>2021-06-17</td>\n",
       "      <td>21125-22134-PX</td>\n",
       "      <td>A-L-1</td>\n",
       "      <td>1</td>\n",
       "      <td>NaN</td>\n",
       "      <td>NaN</td>\n",
       "      <td>NaN</td>\n",
       "      <td>NaN</td>\n",
       "      <td>NaN</td>\n",
       "      <td>NaN</td>\n",
       "      <td>NaN</td>\n",
       "      <td>NaN</td>\n",
       "    </tr>\n",
       "    <tr>\n",
       "      <th>3</th>\n",
       "      <td>KAC-83089-793</td>\n",
       "      <td>2021-07-15</td>\n",
       "      <td>23806-46781-OU</td>\n",
       "      <td>E-M-1</td>\n",
       "      <td>2</td>\n",
       "      <td>NaN</td>\n",
       "      <td>NaN</td>\n",
       "      <td>NaN</td>\n",
       "      <td>NaN</td>\n",
       "      <td>NaN</td>\n",
       "      <td>NaN</td>\n",
       "      <td>NaN</td>\n",
       "      <td>NaN</td>\n",
       "    </tr>\n",
       "    <tr>\n",
       "      <th>4</th>\n",
       "      <td>KAC-83089-793</td>\n",
       "      <td>2021-07-15</td>\n",
       "      <td>23806-46781-OU</td>\n",
       "      <td>R-L-2.5</td>\n",
       "      <td>2</td>\n",
       "      <td>NaN</td>\n",
       "      <td>NaN</td>\n",
       "      <td>NaN</td>\n",
       "      <td>NaN</td>\n",
       "      <td>NaN</td>\n",
       "      <td>NaN</td>\n",
       "      <td>NaN</td>\n",
       "      <td>NaN</td>\n",
       "    </tr>\n",
       "  </tbody>\n",
       "</table>\n",
       "</div>"
      ],
      "text/plain": [
       "        Order ID Order Date     Customer ID Product ID  Quantity  \\\n",
       "0  QEV-37451-860 2019-09-05  17670-51384-MA      R-M-1         2   \n",
       "1  QEV-37451-860 2019-09-05  17670-51384-MA    E-M-0.5         5   \n",
       "2  FAA-43335-268 2021-06-17  21125-22134-PX      A-L-1         1   \n",
       "3  KAC-83089-793 2021-07-15  23806-46781-OU      E-M-1         2   \n",
       "4  KAC-83089-793 2021-07-15  23806-46781-OU    R-L-2.5         2   \n",
       "\n",
       "   Customer Name  Email  Country  Coffee Type  Roast Type  Size  Unit Price  \\\n",
       "0            NaN    NaN      NaN          NaN         NaN   NaN         NaN   \n",
       "1            NaN    NaN      NaN          NaN         NaN   NaN         NaN   \n",
       "2            NaN    NaN      NaN          NaN         NaN   NaN         NaN   \n",
       "3            NaN    NaN      NaN          NaN         NaN   NaN         NaN   \n",
       "4            NaN    NaN      NaN          NaN         NaN   NaN         NaN   \n",
       "\n",
       "   Sales  \n",
       "0    NaN  \n",
       "1    NaN  \n",
       "2    NaN  \n",
       "3    NaN  \n",
       "4    NaN  "
      ]
     },
     "execution_count": 16,
     "metadata": {},
     "output_type": "execute_result"
    }
   ],
   "source": [
    "orders.head()"
   ]
  },
  {
   "cell_type": "code",
   "execution_count": 17,
   "id": "60b247b9",
   "metadata": {},
   "outputs": [
    {
     "data": {
      "text/html": [
       "<div>\n",
       "<style scoped>\n",
       "    .dataframe tbody tr th:only-of-type {\n",
       "        vertical-align: middle;\n",
       "    }\n",
       "\n",
       "    .dataframe tbody tr th {\n",
       "        vertical-align: top;\n",
       "    }\n",
       "\n",
       "    .dataframe thead th {\n",
       "        text-align: right;\n",
       "    }\n",
       "</style>\n",
       "<table border=\"1\" class=\"dataframe\">\n",
       "  <thead>\n",
       "    <tr style=\"text-align: right;\">\n",
       "      <th></th>\n",
       "      <th>Customer ID</th>\n",
       "      <th>Customer Name</th>\n",
       "      <th>Email</th>\n",
       "      <th>Phone Number</th>\n",
       "      <th>Address Line 1</th>\n",
       "      <th>City</th>\n",
       "      <th>Country</th>\n",
       "      <th>Postcode</th>\n",
       "      <th>Loyalty Card</th>\n",
       "    </tr>\n",
       "  </thead>\n",
       "  <tbody>\n",
       "    <tr>\n",
       "      <th>0</th>\n",
       "      <td>17670-51384-MA</td>\n",
       "      <td>Aloisia Allner</td>\n",
       "      <td>aallner0@lulu.com</td>\n",
       "      <td>+1 (862) 817-0124</td>\n",
       "      <td>57999 Pepper Wood Alley</td>\n",
       "      <td>Paterson</td>\n",
       "      <td>United States</td>\n",
       "      <td>7505</td>\n",
       "      <td>Yes</td>\n",
       "    </tr>\n",
       "    <tr>\n",
       "      <th>1</th>\n",
       "      <td>73342-18763-UW</td>\n",
       "      <td>Piotr Bote</td>\n",
       "      <td>pbote1@yelp.com</td>\n",
       "      <td>+353 (913) 396-4653</td>\n",
       "      <td>2112 Ridgeway Hill</td>\n",
       "      <td>Crumlin</td>\n",
       "      <td>Ireland</td>\n",
       "      <td>D6W</td>\n",
       "      <td>No</td>\n",
       "    </tr>\n",
       "    <tr>\n",
       "      <th>2</th>\n",
       "      <td>21125-22134-PX</td>\n",
       "      <td>Jami Redholes</td>\n",
       "      <td>jredholes2@tmall.com</td>\n",
       "      <td>+1 (210) 986-6806</td>\n",
       "      <td>5214 Bartillon Park</td>\n",
       "      <td>San Antonio</td>\n",
       "      <td>United States</td>\n",
       "      <td>78205</td>\n",
       "      <td>Yes</td>\n",
       "    </tr>\n",
       "    <tr>\n",
       "      <th>3</th>\n",
       "      <td>71253-00052-RN</td>\n",
       "      <td>Dene Azema</td>\n",
       "      <td>dazema3@facebook.com</td>\n",
       "      <td>+1 (217) 418-0714</td>\n",
       "      <td>27 Maywood Place</td>\n",
       "      <td>Springfield</td>\n",
       "      <td>United States</td>\n",
       "      <td>62711</td>\n",
       "      <td>Yes</td>\n",
       "    </tr>\n",
       "    <tr>\n",
       "      <th>4</th>\n",
       "      <td>23806-46781-OU</td>\n",
       "      <td>Christoffer O' Shea</td>\n",
       "      <td>NaN</td>\n",
       "      <td>+353 (698) 362-9201</td>\n",
       "      <td>38980 Manitowish Junction</td>\n",
       "      <td>Cill Airne</td>\n",
       "      <td>Ireland</td>\n",
       "      <td>N41</td>\n",
       "      <td>No</td>\n",
       "    </tr>\n",
       "  </tbody>\n",
       "</table>\n",
       "</div>"
      ],
      "text/plain": [
       "      Customer ID        Customer Name                 Email  \\\n",
       "0  17670-51384-MA       Aloisia Allner     aallner0@lulu.com   \n",
       "1  73342-18763-UW           Piotr Bote       pbote1@yelp.com   \n",
       "2  21125-22134-PX        Jami Redholes  jredholes2@tmall.com   \n",
       "3  71253-00052-RN           Dene Azema  dazema3@facebook.com   \n",
       "4  23806-46781-OU  Christoffer O' Shea                   NaN   \n",
       "\n",
       "          Phone Number             Address Line 1         City        Country  \\\n",
       "0    +1 (862) 817-0124    57999 Pepper Wood Alley     Paterson  United States   \n",
       "1  +353 (913) 396-4653         2112 Ridgeway Hill      Crumlin        Ireland   \n",
       "2    +1 (210) 986-6806        5214 Bartillon Park  San Antonio  United States   \n",
       "3    +1 (217) 418-0714           27 Maywood Place  Springfield  United States   \n",
       "4  +353 (698) 362-9201  38980 Manitowish Junction   Cill Airne        Ireland   \n",
       "\n",
       "  Postcode Loyalty Card  \n",
       "0     7505          Yes  \n",
       "1      D6W           No  \n",
       "2    78205          Yes  \n",
       "3    62711          Yes  \n",
       "4      N41           No  "
      ]
     },
     "execution_count": 17,
     "metadata": {},
     "output_type": "execute_result"
    }
   ],
   "source": [
    "customers.head()"
   ]
  },
  {
   "cell_type": "code",
   "execution_count": 18,
   "id": "dbb36ed8",
   "metadata": {},
   "outputs": [
    {
     "data": {
      "text/html": [
       "<div>\n",
       "<style scoped>\n",
       "    .dataframe tbody tr th:only-of-type {\n",
       "        vertical-align: middle;\n",
       "    }\n",
       "\n",
       "    .dataframe tbody tr th {\n",
       "        vertical-align: top;\n",
       "    }\n",
       "\n",
       "    .dataframe thead th {\n",
       "        text-align: right;\n",
       "    }\n",
       "</style>\n",
       "<table border=\"1\" class=\"dataframe\">\n",
       "  <thead>\n",
       "    <tr style=\"text-align: right;\">\n",
       "      <th></th>\n",
       "      <th>Product ID</th>\n",
       "      <th>Coffee Type</th>\n",
       "      <th>Roast Type</th>\n",
       "      <th>Size</th>\n",
       "      <th>Unit Price</th>\n",
       "      <th>Price per 100g</th>\n",
       "      <th>Profit</th>\n",
       "    </tr>\n",
       "  </thead>\n",
       "  <tbody>\n",
       "    <tr>\n",
       "      <th>0</th>\n",
       "      <td>A-L-0.2</td>\n",
       "      <td>Ara</td>\n",
       "      <td>L</td>\n",
       "      <td>0.2</td>\n",
       "      <td>3.885</td>\n",
       "      <td>1.9425</td>\n",
       "      <td>0.34965</td>\n",
       "    </tr>\n",
       "    <tr>\n",
       "      <th>1</th>\n",
       "      <td>A-L-0.5</td>\n",
       "      <td>Ara</td>\n",
       "      <td>L</td>\n",
       "      <td>0.5</td>\n",
       "      <td>7.770</td>\n",
       "      <td>1.5540</td>\n",
       "      <td>0.69930</td>\n",
       "    </tr>\n",
       "    <tr>\n",
       "      <th>2</th>\n",
       "      <td>A-L-1</td>\n",
       "      <td>Ara</td>\n",
       "      <td>L</td>\n",
       "      <td>1.0</td>\n",
       "      <td>12.950</td>\n",
       "      <td>1.2950</td>\n",
       "      <td>1.16550</td>\n",
       "    </tr>\n",
       "    <tr>\n",
       "      <th>3</th>\n",
       "      <td>A-L-2.5</td>\n",
       "      <td>Ara</td>\n",
       "      <td>L</td>\n",
       "      <td>2.5</td>\n",
       "      <td>29.785</td>\n",
       "      <td>1.1914</td>\n",
       "      <td>2.68065</td>\n",
       "    </tr>\n",
       "    <tr>\n",
       "      <th>4</th>\n",
       "      <td>A-M-0.2</td>\n",
       "      <td>Ara</td>\n",
       "      <td>M</td>\n",
       "      <td>0.2</td>\n",
       "      <td>3.375</td>\n",
       "      <td>1.6875</td>\n",
       "      <td>0.30375</td>\n",
       "    </tr>\n",
       "  </tbody>\n",
       "</table>\n",
       "</div>"
      ],
      "text/plain": [
       "  Product ID Coffee Type Roast Type  Size  Unit Price  Price per 100g   Profit\n",
       "0    A-L-0.2         Ara          L   0.2       3.885          1.9425  0.34965\n",
       "1    A-L-0.5         Ara          L   0.5       7.770          1.5540  0.69930\n",
       "2      A-L-1         Ara          L   1.0      12.950          1.2950  1.16550\n",
       "3    A-L-2.5         Ara          L   2.5      29.785          1.1914  2.68065\n",
       "4    A-M-0.2         Ara          M   0.2       3.375          1.6875  0.30375"
      ]
     },
     "execution_count": 18,
     "metadata": {},
     "output_type": "execute_result"
    }
   ],
   "source": [
    "products.head()"
   ]
  },
  {
   "cell_type": "markdown",
   "id": "e09a449d",
   "metadata": {},
   "source": [
    "Eureka! The Coffee Bean Dataset has loaded into our Notebook."
   ]
  },
  {
   "cell_type": "markdown",
   "id": "164d3aa6",
   "metadata": {},
   "source": [
    "But each worksheet only gives us partial information about the data... So, let's join the worksheets together to gain more insights!"
   ]
  },
  {
   "cell_type": "code",
   "execution_count": 19,
   "id": "1cdd17b8",
   "metadata": {},
   "outputs": [],
   "source": [
    "# Merging Orders with Customers on 'Customer ID'\n",
    "orders_customers = pd.merge(orders, customers, on = 'Customer ID', how = 'left')\n",
    "\n",
    "# Merging the result with Products on 'Product ID'\n",
    "coffee_df = pd.merge(orders_customers, products, on = 'Product ID', how = 'left')"
   ]
  },
  {
   "cell_type": "markdown",
   "id": "b3e6dc56",
   "metadata": {},
   "source": [
    "Let's take another peek but now into the merged dataset."
   ]
  },
  {
   "cell_type": "code",
   "execution_count": 20,
   "id": "3bfae213",
   "metadata": {},
   "outputs": [
    {
     "data": {
      "text/html": [
       "<div>\n",
       "<style scoped>\n",
       "    .dataframe tbody tr th:only-of-type {\n",
       "        vertical-align: middle;\n",
       "    }\n",
       "\n",
       "    .dataframe tbody tr th {\n",
       "        vertical-align: top;\n",
       "    }\n",
       "\n",
       "    .dataframe thead th {\n",
       "        text-align: right;\n",
       "    }\n",
       "</style>\n",
       "<table border=\"1\" class=\"dataframe\">\n",
       "  <thead>\n",
       "    <tr style=\"text-align: right;\">\n",
       "      <th></th>\n",
       "      <th>Order ID</th>\n",
       "      <th>Order Date</th>\n",
       "      <th>Customer ID</th>\n",
       "      <th>Product ID</th>\n",
       "      <th>Quantity</th>\n",
       "      <th>Customer Name_x</th>\n",
       "      <th>Email_x</th>\n",
       "      <th>Country_x</th>\n",
       "      <th>Coffee Type_x</th>\n",
       "      <th>Roast Type_x</th>\n",
       "      <th>...</th>\n",
       "      <th>City</th>\n",
       "      <th>Country_y</th>\n",
       "      <th>Postcode</th>\n",
       "      <th>Loyalty Card</th>\n",
       "      <th>Coffee Type_y</th>\n",
       "      <th>Roast Type_y</th>\n",
       "      <th>Size_y</th>\n",
       "      <th>Unit Price_y</th>\n",
       "      <th>Price per 100g</th>\n",
       "      <th>Profit</th>\n",
       "    </tr>\n",
       "  </thead>\n",
       "  <tbody>\n",
       "    <tr>\n",
       "      <th>0</th>\n",
       "      <td>QEV-37451-860</td>\n",
       "      <td>2019-09-05</td>\n",
       "      <td>17670-51384-MA</td>\n",
       "      <td>R-M-1</td>\n",
       "      <td>2</td>\n",
       "      <td>NaN</td>\n",
       "      <td>NaN</td>\n",
       "      <td>NaN</td>\n",
       "      <td>NaN</td>\n",
       "      <td>NaN</td>\n",
       "      <td>...</td>\n",
       "      <td>Paterson</td>\n",
       "      <td>United States</td>\n",
       "      <td>7505</td>\n",
       "      <td>Yes</td>\n",
       "      <td>Rob</td>\n",
       "      <td>M</td>\n",
       "      <td>1.0</td>\n",
       "      <td>9.950</td>\n",
       "      <td>0.9950</td>\n",
       "      <td>0.5970</td>\n",
       "    </tr>\n",
       "    <tr>\n",
       "      <th>1</th>\n",
       "      <td>QEV-37451-860</td>\n",
       "      <td>2019-09-05</td>\n",
       "      <td>17670-51384-MA</td>\n",
       "      <td>E-M-0.5</td>\n",
       "      <td>5</td>\n",
       "      <td>NaN</td>\n",
       "      <td>NaN</td>\n",
       "      <td>NaN</td>\n",
       "      <td>NaN</td>\n",
       "      <td>NaN</td>\n",
       "      <td>...</td>\n",
       "      <td>Paterson</td>\n",
       "      <td>United States</td>\n",
       "      <td>7505</td>\n",
       "      <td>Yes</td>\n",
       "      <td>Exc</td>\n",
       "      <td>M</td>\n",
       "      <td>0.5</td>\n",
       "      <td>8.250</td>\n",
       "      <td>1.6500</td>\n",
       "      <td>0.9075</td>\n",
       "    </tr>\n",
       "    <tr>\n",
       "      <th>2</th>\n",
       "      <td>FAA-43335-268</td>\n",
       "      <td>2021-06-17</td>\n",
       "      <td>21125-22134-PX</td>\n",
       "      <td>A-L-1</td>\n",
       "      <td>1</td>\n",
       "      <td>NaN</td>\n",
       "      <td>NaN</td>\n",
       "      <td>NaN</td>\n",
       "      <td>NaN</td>\n",
       "      <td>NaN</td>\n",
       "      <td>...</td>\n",
       "      <td>San Antonio</td>\n",
       "      <td>United States</td>\n",
       "      <td>78205</td>\n",
       "      <td>Yes</td>\n",
       "      <td>Ara</td>\n",
       "      <td>L</td>\n",
       "      <td>1.0</td>\n",
       "      <td>12.950</td>\n",
       "      <td>1.2950</td>\n",
       "      <td>1.1655</td>\n",
       "    </tr>\n",
       "    <tr>\n",
       "      <th>3</th>\n",
       "      <td>KAC-83089-793</td>\n",
       "      <td>2021-07-15</td>\n",
       "      <td>23806-46781-OU</td>\n",
       "      <td>E-M-1</td>\n",
       "      <td>2</td>\n",
       "      <td>NaN</td>\n",
       "      <td>NaN</td>\n",
       "      <td>NaN</td>\n",
       "      <td>NaN</td>\n",
       "      <td>NaN</td>\n",
       "      <td>...</td>\n",
       "      <td>Cill Airne</td>\n",
       "      <td>Ireland</td>\n",
       "      <td>N41</td>\n",
       "      <td>No</td>\n",
       "      <td>Exc</td>\n",
       "      <td>M</td>\n",
       "      <td>1.0</td>\n",
       "      <td>13.750</td>\n",
       "      <td>1.3750</td>\n",
       "      <td>1.5125</td>\n",
       "    </tr>\n",
       "    <tr>\n",
       "      <th>4</th>\n",
       "      <td>KAC-83089-793</td>\n",
       "      <td>2021-07-15</td>\n",
       "      <td>23806-46781-OU</td>\n",
       "      <td>R-L-2.5</td>\n",
       "      <td>2</td>\n",
       "      <td>NaN</td>\n",
       "      <td>NaN</td>\n",
       "      <td>NaN</td>\n",
       "      <td>NaN</td>\n",
       "      <td>NaN</td>\n",
       "      <td>...</td>\n",
       "      <td>Cill Airne</td>\n",
       "      <td>Ireland</td>\n",
       "      <td>N41</td>\n",
       "      <td>No</td>\n",
       "      <td>Rob</td>\n",
       "      <td>L</td>\n",
       "      <td>2.5</td>\n",
       "      <td>27.485</td>\n",
       "      <td>1.0994</td>\n",
       "      <td>1.6491</td>\n",
       "    </tr>\n",
       "  </tbody>\n",
       "</table>\n",
       "<p>5 rows × 27 columns</p>\n",
       "</div>"
      ],
      "text/plain": [
       "        Order ID Order Date     Customer ID Product ID  Quantity  \\\n",
       "0  QEV-37451-860 2019-09-05  17670-51384-MA      R-M-1         2   \n",
       "1  QEV-37451-860 2019-09-05  17670-51384-MA    E-M-0.5         5   \n",
       "2  FAA-43335-268 2021-06-17  21125-22134-PX      A-L-1         1   \n",
       "3  KAC-83089-793 2021-07-15  23806-46781-OU      E-M-1         2   \n",
       "4  KAC-83089-793 2021-07-15  23806-46781-OU    R-L-2.5         2   \n",
       "\n",
       "   Customer Name_x  Email_x  Country_x  Coffee Type_x  Roast Type_x  ...  \\\n",
       "0              NaN      NaN        NaN            NaN           NaN  ...   \n",
       "1              NaN      NaN        NaN            NaN           NaN  ...   \n",
       "2              NaN      NaN        NaN            NaN           NaN  ...   \n",
       "3              NaN      NaN        NaN            NaN           NaN  ...   \n",
       "4              NaN      NaN        NaN            NaN           NaN  ...   \n",
       "\n",
       "          City      Country_y  Postcode Loyalty Card Coffee Type_y  \\\n",
       "0     Paterson  United States      7505          Yes           Rob   \n",
       "1     Paterson  United States      7505          Yes           Exc   \n",
       "2  San Antonio  United States     78205          Yes           Ara   \n",
       "3   Cill Airne        Ireland       N41           No           Exc   \n",
       "4   Cill Airne        Ireland       N41           No           Rob   \n",
       "\n",
       "  Roast Type_y Size_y Unit Price_y Price per 100g  Profit  \n",
       "0            M    1.0        9.950         0.9950  0.5970  \n",
       "1            M    0.5        8.250         1.6500  0.9075  \n",
       "2            L    1.0       12.950         1.2950  1.1655  \n",
       "3            M    1.0       13.750         1.3750  1.5125  \n",
       "4            L    2.5       27.485         1.0994  1.6491  \n",
       "\n",
       "[5 rows x 27 columns]"
      ]
     },
     "execution_count": 20,
     "metadata": {},
     "output_type": "execute_result"
    }
   ],
   "source": [
    "coffee_df.head()"
   ]
  },
  {
   "cell_type": "markdown",
   "id": "f33faddc",
   "metadata": {},
   "source": [
    "We're all set! We can now proceed to cleaning the dataset."
   ]
  },
  {
   "cell_type": "markdown",
   "id": "0bec60b5",
   "metadata": {},
   "source": [
    "# Data Cleaning 🧹✨ \n",
    "\n",
    "Before performing analysis, it is essential to clean the dataset so we ensure accuracy and reliability of results. We'll be handling variables and values with **multiple representations**, **incorrect datatypes**, **missing data**, **duplicate data**, **inconsistent formatting**, and **outliers**."
   ]
  },
  {
   "cell_type": "markdown",
   "id": "d6b7e0e3",
   "metadata": {},
   "source": [
    "### Multiple Representations"
   ]
  },
  {
   "cell_type": "code",
   "execution_count": null,
   "id": "29c301cf",
   "metadata": {},
   "outputs": [],
   "source": []
  },
  {
   "cell_type": "markdown",
   "id": "81705efa",
   "metadata": {},
   "source": [
    "### Incorrect Datatypes"
   ]
  },
  {
   "cell_type": "code",
   "execution_count": null,
   "id": "a8e2d908",
   "metadata": {},
   "outputs": [],
   "source": []
  },
  {
   "cell_type": "markdown",
   "id": "a7e84d2f",
   "metadata": {},
   "source": [
    "### Missing Data"
   ]
  },
  {
   "cell_type": "code",
   "execution_count": 21,
   "id": "b089a1ff",
   "metadata": {},
   "outputs": [
    {
     "data": {
      "text/html": [
       "<div>\n",
       "<style scoped>\n",
       "    .dataframe tbody tr th:only-of-type {\n",
       "        vertical-align: middle;\n",
       "    }\n",
       "\n",
       "    .dataframe tbody tr th {\n",
       "        vertical-align: top;\n",
       "    }\n",
       "\n",
       "    .dataframe thead th {\n",
       "        text-align: right;\n",
       "    }\n",
       "</style>\n",
       "<table border=\"1\" class=\"dataframe\">\n",
       "  <thead>\n",
       "    <tr style=\"text-align: right;\">\n",
       "      <th></th>\n",
       "      <th>Order ID</th>\n",
       "      <th>Order Date</th>\n",
       "      <th>Customer ID</th>\n",
       "      <th>Product ID</th>\n",
       "      <th>Quantity</th>\n",
       "      <th>Customer Name_x</th>\n",
       "      <th>Email_x</th>\n",
       "      <th>Country_x</th>\n",
       "      <th>Coffee Type</th>\n",
       "      <th>Roast Type</th>\n",
       "      <th>...</th>\n",
       "      <th>Unit Price</th>\n",
       "      <th>Sales</th>\n",
       "      <th>Customer Name_y</th>\n",
       "      <th>Email_y</th>\n",
       "      <th>Phone Number</th>\n",
       "      <th>Address Line 1</th>\n",
       "      <th>City</th>\n",
       "      <th>Country_y</th>\n",
       "      <th>Postcode</th>\n",
       "      <th>Loyalty Card</th>\n",
       "    </tr>\n",
       "  </thead>\n",
       "  <tbody>\n",
       "    <tr>\n",
       "      <th>0</th>\n",
       "      <td>QEV-37451-860</td>\n",
       "      <td>2019-09-05</td>\n",
       "      <td>17670-51384-MA</td>\n",
       "      <td>R-M-1</td>\n",
       "      <td>2</td>\n",
       "      <td>NaN</td>\n",
       "      <td>NaN</td>\n",
       "      <td>NaN</td>\n",
       "      <td>NaN</td>\n",
       "      <td>NaN</td>\n",
       "      <td>...</td>\n",
       "      <td>NaN</td>\n",
       "      <td>NaN</td>\n",
       "      <td>Aloisia Allner</td>\n",
       "      <td>aallner0@lulu.com</td>\n",
       "      <td>+1 (862) 817-0124</td>\n",
       "      <td>57999 Pepper Wood Alley</td>\n",
       "      <td>Paterson</td>\n",
       "      <td>United States</td>\n",
       "      <td>7505</td>\n",
       "      <td>Yes</td>\n",
       "    </tr>\n",
       "    <tr>\n",
       "      <th>1</th>\n",
       "      <td>QEV-37451-860</td>\n",
       "      <td>2019-09-05</td>\n",
       "      <td>17670-51384-MA</td>\n",
       "      <td>E-M-0.5</td>\n",
       "      <td>5</td>\n",
       "      <td>NaN</td>\n",
       "      <td>NaN</td>\n",
       "      <td>NaN</td>\n",
       "      <td>NaN</td>\n",
       "      <td>NaN</td>\n",
       "      <td>...</td>\n",
       "      <td>NaN</td>\n",
       "      <td>NaN</td>\n",
       "      <td>Aloisia Allner</td>\n",
       "      <td>aallner0@lulu.com</td>\n",
       "      <td>+1 (862) 817-0124</td>\n",
       "      <td>57999 Pepper Wood Alley</td>\n",
       "      <td>Paterson</td>\n",
       "      <td>United States</td>\n",
       "      <td>7505</td>\n",
       "      <td>Yes</td>\n",
       "    </tr>\n",
       "    <tr>\n",
       "      <th>2</th>\n",
       "      <td>FAA-43335-268</td>\n",
       "      <td>2021-06-17</td>\n",
       "      <td>21125-22134-PX</td>\n",
       "      <td>A-L-1</td>\n",
       "      <td>1</td>\n",
       "      <td>NaN</td>\n",
       "      <td>NaN</td>\n",
       "      <td>NaN</td>\n",
       "      <td>NaN</td>\n",
       "      <td>NaN</td>\n",
       "      <td>...</td>\n",
       "      <td>NaN</td>\n",
       "      <td>NaN</td>\n",
       "      <td>Jami Redholes</td>\n",
       "      <td>jredholes2@tmall.com</td>\n",
       "      <td>+1 (210) 986-6806</td>\n",
       "      <td>5214 Bartillon Park</td>\n",
       "      <td>San Antonio</td>\n",
       "      <td>United States</td>\n",
       "      <td>78205</td>\n",
       "      <td>Yes</td>\n",
       "    </tr>\n",
       "    <tr>\n",
       "      <th>3</th>\n",
       "      <td>KAC-83089-793</td>\n",
       "      <td>2021-07-15</td>\n",
       "      <td>23806-46781-OU</td>\n",
       "      <td>E-M-1</td>\n",
       "      <td>2</td>\n",
       "      <td>NaN</td>\n",
       "      <td>NaN</td>\n",
       "      <td>NaN</td>\n",
       "      <td>NaN</td>\n",
       "      <td>NaN</td>\n",
       "      <td>...</td>\n",
       "      <td>NaN</td>\n",
       "      <td>NaN</td>\n",
       "      <td>Christoffer O' Shea</td>\n",
       "      <td>NaN</td>\n",
       "      <td>+353 (698) 362-9201</td>\n",
       "      <td>38980 Manitowish Junction</td>\n",
       "      <td>Cill Airne</td>\n",
       "      <td>Ireland</td>\n",
       "      <td>N41</td>\n",
       "      <td>No</td>\n",
       "    </tr>\n",
       "    <tr>\n",
       "      <th>4</th>\n",
       "      <td>KAC-83089-793</td>\n",
       "      <td>2021-07-15</td>\n",
       "      <td>23806-46781-OU</td>\n",
       "      <td>R-L-2.5</td>\n",
       "      <td>2</td>\n",
       "      <td>NaN</td>\n",
       "      <td>NaN</td>\n",
       "      <td>NaN</td>\n",
       "      <td>NaN</td>\n",
       "      <td>NaN</td>\n",
       "      <td>...</td>\n",
       "      <td>NaN</td>\n",
       "      <td>NaN</td>\n",
       "      <td>Christoffer O' Shea</td>\n",
       "      <td>NaN</td>\n",
       "      <td>+353 (698) 362-9201</td>\n",
       "      <td>38980 Manitowish Junction</td>\n",
       "      <td>Cill Airne</td>\n",
       "      <td>Ireland</td>\n",
       "      <td>N41</td>\n",
       "      <td>No</td>\n",
       "    </tr>\n",
       "  </tbody>\n",
       "</table>\n",
       "<p>5 rows × 21 columns</p>\n",
       "</div>"
      ],
      "text/plain": [
       "        Order ID Order Date     Customer ID Product ID  Quantity  \\\n",
       "0  QEV-37451-860 2019-09-05  17670-51384-MA      R-M-1         2   \n",
       "1  QEV-37451-860 2019-09-05  17670-51384-MA    E-M-0.5         5   \n",
       "2  FAA-43335-268 2021-06-17  21125-22134-PX      A-L-1         1   \n",
       "3  KAC-83089-793 2021-07-15  23806-46781-OU      E-M-1         2   \n",
       "4  KAC-83089-793 2021-07-15  23806-46781-OU    R-L-2.5         2   \n",
       "\n",
       "   Customer Name_x  Email_x  Country_x  Coffee Type  Roast Type  ...  \\\n",
       "0              NaN      NaN        NaN          NaN         NaN  ...   \n",
       "1              NaN      NaN        NaN          NaN         NaN  ...   \n",
       "2              NaN      NaN        NaN          NaN         NaN  ...   \n",
       "3              NaN      NaN        NaN          NaN         NaN  ...   \n",
       "4              NaN      NaN        NaN          NaN         NaN  ...   \n",
       "\n",
       "   Unit Price  Sales      Customer Name_y               Email_y  \\\n",
       "0         NaN    NaN       Aloisia Allner     aallner0@lulu.com   \n",
       "1         NaN    NaN       Aloisia Allner     aallner0@lulu.com   \n",
       "2         NaN    NaN        Jami Redholes  jredholes2@tmall.com   \n",
       "3         NaN    NaN  Christoffer O' Shea                   NaN   \n",
       "4         NaN    NaN  Christoffer O' Shea                   NaN   \n",
       "\n",
       "          Phone Number             Address Line 1         City      Country_y  \\\n",
       "0    +1 (862) 817-0124    57999 Pepper Wood Alley     Paterson  United States   \n",
       "1    +1 (862) 817-0124    57999 Pepper Wood Alley     Paterson  United States   \n",
       "2    +1 (210) 986-6806        5214 Bartillon Park  San Antonio  United States   \n",
       "3  +353 (698) 362-9201  38980 Manitowish Junction   Cill Airne        Ireland   \n",
       "4  +353 (698) 362-9201  38980 Manitowish Junction   Cill Airne        Ireland   \n",
       "\n",
       "  Postcode Loyalty Card  \n",
       "0     7505          Yes  \n",
       "1     7505          Yes  \n",
       "2    78205          Yes  \n",
       "3      N41           No  \n",
       "4      N41           No  \n",
       "\n",
       "[5 rows x 21 columns]"
      ]
     },
     "execution_count": 21,
     "metadata": {},
     "output_type": "execute_result"
    }
   ],
   "source": [
    "filtered_df = orders_customers[\n",
    "    (orders_customers['Loyalty Card'].isin(['Yes', 'No'])) &\n",
    "    (orders_customers['Quantity'].notnull())\n",
    "]\n",
    "filtered_df.head()"
   ]
  },
  {
   "cell_type": "markdown",
   "id": "fee77ca7",
   "metadata": {},
   "source": [
    "### Duplicate Data"
   ]
  },
  {
   "cell_type": "code",
   "execution_count": null,
   "id": "6c032239",
   "metadata": {},
   "outputs": [],
   "source": []
  },
  {
   "cell_type": "markdown",
   "id": "350e6aa6",
   "metadata": {},
   "source": [
    "### Inconsistent Formatting"
   ]
  },
  {
   "cell_type": "code",
   "execution_count": null,
   "id": "0f0887ba",
   "metadata": {},
   "outputs": [],
   "source": []
  },
  {
   "cell_type": "markdown",
   "id": "6b63a340",
   "metadata": {},
   "source": [
    "### Outliers"
   ]
  },
  {
   "cell_type": "code",
   "execution_count": null,
   "id": "5db4efee",
   "metadata": {},
   "outputs": [],
   "source": []
  },
  {
   "cell_type": "markdown",
   "id": "e1b4b17e",
   "metadata": {},
   "source": [
    "Our dataset is now squeaky clean! We can now proceed with analysis!"
   ]
  },
  {
   "cell_type": "markdown",
   "id": "a2439fc6",
   "metadata": {},
   "source": [
    "# Target Research Question 🔬✨\n",
    "\n",
    "#### _`\"How can we optimize business strategies by understanding the factors that affect sales?\"`_\n",
    "\n",
    "In order to provide scope, purpose, and clarity, the above question will serve as the main foundation of data analysis upon the Coffee Bean Sale Dataset. It will guide in identifying patterns, relationships, and key insights that can inform business decision-making to hopefully draw insights on the coffee bean industry."
   ]
  },
  {
   "cell_type": "markdown",
   "id": "01fba408",
   "metadata": {},
   "source": [
    "# Exploratory Data Analysis 🔍✨\n",
    "\n",
    "Now that the dataset has been cleaned, we can start exploring it to better understand its structure, contents, and patterns."
   ]
  },
  {
   "cell_type": "markdown",
   "id": "46d42d84",
   "metadata": {},
   "source": [
    "People tend to prefer certain flavors of coffee depending on the season like how Pumpkin Spice Lattes take over Autumn. By knowing which coffee beans and roasts are most profitable, we can make smarter decisions about stocks and promotions. This begs the question...\n",
    "\n",
    "#### _`\"Which coffee bean and roast type is the most profitable per season?\"`_ ⛅📈✨"
   ]
  },
  {
   "cell_type": "markdown",
   "id": "9beee6c2",
   "metadata": {},
   "source": [
    "// VISUALIZATION\n",
    "\n",
    "// What is the total quantity sold for each bean and roast type per season? (*for popularity trend per season)\n",
    "\n",
    "// Which season (e.g., winter, spring, summer, fall) has the highest overall coffee sales profit?"
   ]
  },
  {
   "cell_type": "markdown",
   "id": "b3e6d572",
   "metadata": {},
   "source": [
    "// INSERT TRANSITIONAL STATEMENT HERE\n",
    "\n",
    "#### _`\"How does loyalty card ownership influence customer purchasing behavior?\"`_ 🧑💳✨"
   ]
  },
  {
   "cell_type": "markdown",
   "id": "2f9e2259",
   "metadata": {},
   "source": [
    "This analysis explores whether loyalty card ownership has an influence on customer purchasing behavior.  Specifically, we investigate whether there is a statistically significant difference in the number of coffee bean units ordered by customers who have a loyalty card compared to those who do not."
   ]
  },
  {
   "cell_type": "markdown",
   "id": "c8b6a394",
   "metadata": {},
   "source": [
    "To do this, we focus on two variables:\n",
    "\n",
    "- **Loyalty Card**: From the `customers` dataset, indicating whether a customer has a loyalty card (Yes or No).\n",
    "- **Quantity**: From the `orders` dataset, representing how many units of coffee beans were ordered."
   ]
  },
  {
   "cell_type": "markdown",
   "id": "18b30c7f",
   "metadata": {},
   "source": [
    "We then divide the dataset into two groups based on loyalty card status:\n",
    "- `owners`: Customers who have a loyalty card (Loyalty Card == 'Yes')\n",
    "- `non_owners`: Customers who do not have a loyalty card (Loyalty Card == 'No')"
   ]
  },
  {
   "cell_type": "code",
   "execution_count": 22,
   "id": "0fe4b07e",
   "metadata": {},
   "outputs": [
    {
     "data": {
      "text/html": [
       "<div>\n",
       "<style scoped>\n",
       "    .dataframe tbody tr th:only-of-type {\n",
       "        vertical-align: middle;\n",
       "    }\n",
       "\n",
       "    .dataframe tbody tr th {\n",
       "        vertical-align: top;\n",
       "    }\n",
       "\n",
       "    .dataframe thead th {\n",
       "        text-align: right;\n",
       "    }\n",
       "</style>\n",
       "<table border=\"1\" class=\"dataframe\">\n",
       "  <thead>\n",
       "    <tr style=\"text-align: right;\">\n",
       "      <th></th>\n",
       "      <th>Loyalty Card Owners</th>\n",
       "      <th>Non-Owners</th>\n",
       "    </tr>\n",
       "  </thead>\n",
       "  <tbody>\n",
       "    <tr>\n",
       "      <th>0</th>\n",
       "      <td>2.0</td>\n",
       "      <td>2</td>\n",
       "    </tr>\n",
       "    <tr>\n",
       "      <th>1</th>\n",
       "      <td>5.0</td>\n",
       "      <td>2</td>\n",
       "    </tr>\n",
       "    <tr>\n",
       "      <th>2</th>\n",
       "      <td>1.0</td>\n",
       "      <td>3</td>\n",
       "    </tr>\n",
       "    <tr>\n",
       "      <th>3</th>\n",
       "      <td>3.0</td>\n",
       "      <td>3</td>\n",
       "    </tr>\n",
       "    <tr>\n",
       "      <th>4</th>\n",
       "      <td>1.0</td>\n",
       "      <td>1</td>\n",
       "    </tr>\n",
       "    <tr>\n",
       "      <th>...</th>\n",
       "      <td>...</td>\n",
       "      <td>...</td>\n",
       "    </tr>\n",
       "    <tr>\n",
       "      <th>516</th>\n",
       "      <td>NaN</td>\n",
       "      <td>3</td>\n",
       "    </tr>\n",
       "    <tr>\n",
       "      <th>517</th>\n",
       "      <td>NaN</td>\n",
       "      <td>1</td>\n",
       "    </tr>\n",
       "    <tr>\n",
       "      <th>518</th>\n",
       "      <td>NaN</td>\n",
       "      <td>5</td>\n",
       "    </tr>\n",
       "    <tr>\n",
       "      <th>519</th>\n",
       "      <td>NaN</td>\n",
       "      <td>4</td>\n",
       "    </tr>\n",
       "    <tr>\n",
       "      <th>520</th>\n",
       "      <td>NaN</td>\n",
       "      <td>1</td>\n",
       "    </tr>\n",
       "  </tbody>\n",
       "</table>\n",
       "<p>521 rows × 2 columns</p>\n",
       "</div>"
      ],
      "text/plain": [
       "     Loyalty Card Owners  Non-Owners\n",
       "0                    2.0           2\n",
       "1                    5.0           2\n",
       "2                    1.0           3\n",
       "3                    3.0           3\n",
       "4                    1.0           1\n",
       "..                   ...         ...\n",
       "516                  NaN           3\n",
       "517                  NaN           1\n",
       "518                  NaN           5\n",
       "519                  NaN           4\n",
       "520                  NaN           1\n",
       "\n",
       "[521 rows x 2 columns]"
      ]
     },
     "execution_count": 22,
     "metadata": {},
     "output_type": "execute_result"
    }
   ],
   "source": [
    "owners = filtered_df[filtered_df['Loyalty Card'] == 'Yes']['Quantity']\n",
    "non_owners = filtered_df[filtered_df['Loyalty Card'] == 'No']['Quantity']\n",
    "\n",
    "ownership_table = pd.DataFrame({\n",
    "    'Loyalty Card Owners': owners.reset_index(drop=True),\n",
    "    'Non-Owners': non_owners.reset_index(drop=True)\n",
    "})\n",
    "ownership_table"
   ]
  },
  {
   "cell_type": "markdown",
   "id": "81c665d4",
   "metadata": {},
   "source": [
    "To assess the relationship, we use an **Independent Samples T-test**, which allows us to compare the means of two groups and determine whether any observed difference is statistically significant."
   ]
  },
  {
   "cell_type": "markdown",
   "id": "815f09ca",
   "metadata": {},
   "source": [
    "Before conducting the test, we define our hypotheses:"
   ]
  },
  {
   "cell_type": "markdown",
   "id": "48cb4f68",
   "metadata": {},
   "source": [
    "**Null Hypothesis (H₀)**: Loyalty card ownership does not influence purchasing behavior.\n",
    "\n",
    "**Alternative Hypothesis (Hₐ)**: Loyalty card ownership does influence purchasing behavior.\n",
    "\n",
    "We will use an independent samples T-test to determine if the difference in purchasing behavior between loyalty card owners and non-owners is statistically significant based on the T-statistic and p-value."
   ]
  },
  {
   "cell_type": "code",
   "execution_count": 23,
   "id": "3c5f638e",
   "metadata": {},
   "outputs": [
    {
     "name": "stdout",
     "output_type": "stream",
     "text": [
      "Owners Mean Quantity (Yes): 3.48\n",
      "Non-Owners Mean Quantity (No): 3.62\n",
      "T-statistic: -1.3518\n",
      "P-value: 0.1768\n"
     ]
    }
   ],
   "source": [
    "t_stat, p_value = ttest_ind(owners, non_owners, equal_var=False)\n",
    "\n",
    "print(f\"Owners Mean Quantity (Yes): {owners.mean():.2f}\")\n",
    "print(f\"Non-Owners Mean Quantity (No): {non_owners.mean():.2f}\")\n",
    "print(f\"T-statistic: {t_stat:.4f}\")\n",
    "print(f\"P-value: {p_value:.4f}\")"
   ]
  },
  {
   "cell_type": "markdown",
   "id": "c5049887",
   "metadata": {},
   "source": [
    "The average quantity ordered by **loyalty card owners** is **3.48**, while **non-owners** order an average of **3.62**.\n",
    "\n",
    "The **T-statistic** is **-1.3518**, and the **p-value** is **0.1768**, which is greater than **0.05**. This means the result is **not statistically significant**. \n",
    "\n",
    "Therefore, we **fail to reject the null hypothesis**."
   ]
  },
  {
   "cell_type": "markdown",
   "id": "e52cf362",
   "metadata": {},
   "source": [
    "The dot plot below further illustrates this relationship."
   ]
  },
  {
   "cell_type": "code",
   "execution_count": 24,
   "id": "227472b7",
   "metadata": {},
   "outputs": [
    {
     "data": {
      "image/png": "[encoded data removed]",
      "text/plain": [
       "<Figure size 800x600 with 1 Axes>"
      ]
     },
     "metadata": {},
     "output_type": "display_data"
    }
   ],
   "source": [
    "plt.figure(figsize = (8, 6))\n",
    "sns.stripplot(\n",
    "    data = filtered_df,\n",
    "    x = 'Loyalty Card',\n",
    "    y = 'Quantity',\n",
    "    hue = 'Loyalty Card',       \n",
    "    legend = False,             \n",
    "    jitter = 0.3,\n",
    "    size = 6,\n",
    "    marker = 'o',\n",
    "    edgecolor = 'auto',\n",
    "    linewidth = 0.5,\n",
    "    palette = 'Set2'\n",
    ")\n",
    "\n",
    "plt.title('Quantity Ordered by Loyalty Card Ownership')\n",
    "plt.xlabel('Loyalty Card')\n",
    "plt.ylabel('Quantity Ordered')\n",
    "plt.grid(True, axis = 'y', linestyle = '--', alpha = 0.4)\n",
    "\n",
    "plt.tight_layout()\n",
    "plt.show()"
   ]
  },
  {
   "cell_type": "markdown",
   "id": "23f6e891",
   "metadata": {},
   "source": [
    "**Figure n.**\n",
    "\n",
    "The dot plot shows the distribution of coffee bean quantities ordered by customers, grouped by loyalty card ownership. Each dot represents a single transaction, with the quantity ordered on the y-axis and the loyalty card status on the x-axis.\n",
    "\n",
    "As seen in the figure, loyalty card owners and non-owners display similar ordering patterns. This diagram aligns with the t-test results, which show no significant difference in mean quantity ordered between the groups (t = -1.3518, p = 0.1768)."
   ]
  },
  {
   "cell_type": "markdown",
   "id": "d9d6d855",
   "metadata": {},
   "source": [
    "📌 **Conclusion**: There is no statistically significant evidence that loyalty card ownership influences the quantity of coffee beans ordered."
   ]
  },
  {
   "cell_type": "markdown",
   "id": "c9dd44d7",
   "metadata": {},
   "source": [
    "While our initial analysis suggests that loyalty card ownership does not significantly affect overall purchasing behavior,  it does not directly answer whether those with loyalty cards tend to order larger quantities of coffee beans. A customer may still purchase larger quantites in order.\n",
    "\n",
    "To further investigate this, we now ask:"
   ]
  },
  {
   "cell_type": "markdown",
   "id": "87971261",
   "metadata": {},
   "source": [
    "**Do loyalty card owners order in larger quantities of coffee beans compared to non-owners?**"
   ]
  },
  {
   "cell_type": "markdown",
   "id": "b8c4ada5",
   "metadata": {},
   "source": [
    "To answer this question, we use the same variables from the previous analysis:\n",
    "- **Loyalty Card**: From the `customers` dataset, indicating whether a customer has a loyalty card (Yes or No).\n",
    "- **Quantity**: From the `orders` dataset, representing how many units of coffee beans were ordered."
   ]
  },
  {
   "cell_type": "markdown",
   "id": "b24ebd19",
   "metadata": {},
   "source": [
    "We will also use the same groupings from the initial analysis:\n",
    "- `owners`: Customers who have a loyalty card (Loyalty Card == 'Yes')\n",
    "- `non_owners`: Customers who do not have a loyalty card (Loyalty Card == 'No')"
   ]
  },
  {
   "cell_type": "markdown",
   "id": "654a490a",
   "metadata": {},
   "source": [
    "To investigate this, we will conduct a **One-tailed Independent Samples T-test** to determine if loyalty card owners purchase in larger amounts compared to non-owners."
   ]
  },
  {
   "cell_type": "markdown",
   "id": "c582ee84",
   "metadata": {},
   "source": [
    "Before conducting the test, we define our hypotheses:"
   ]
  },
  {
   "cell_type": "markdown",
   "id": "4d97bba6",
   "metadata": {},
   "source": [
    "**Null Hypothesis (H₀)**: Loyalty card owners do not order in larger quantities than non-owners (μ₁ ≤ μ₂).\n",
    "\n",
    "**Alternative Hypothesis (Hₐ)**: Loyalty card owners order in larger quantities than non-owners (μ₁ > μ₂).\n",
    "\n",
    "We will use a One-tailed Independent Samples T-test to determine if loyalty card owners order significantly more coffee beans than non-owners, based on the T-statistic and p-value."
   ]
  },
  {
   "cell_type": "code",
   "execution_count": 25,
   "id": "713ffdd3",
   "metadata": {},
   "outputs": [
    {
     "name": "stdout",
     "output_type": "stream",
     "text": [
      "Owners Mean Quantity (Yes): 3.48\n",
      "Non-Owners Mean Quantity (No): 3.62\n",
      "T-statistic: -1.3518\n",
      "One-tailed P-value: 0.0884\n"
     ]
    }
   ],
   "source": [
    "t_stat, p_value_two_tailed = ttest_ind(owners, non_owners, equal_var=False)\n",
    "p_value_one_tailed = p_value_two_tailed / 2\n",
    "\n",
    "print(f\"Owners Mean Quantity (Yes): {owners.mean():.2f}\")\n",
    "print(f\"Non-Owners Mean Quantity (No): {non_owners.mean():.2f}\")\n",
    "print(f\"T-statistic: {t_stat:.4f}\")\n",
    "print(f\"One-tailed P-value: {p_value_one_tailed:.4f}\")"
   ]
  },
  {
   "cell_type": "markdown",
   "id": "361e23f6",
   "metadata": {},
   "source": [
    "Thhe **One-tailed p-value** is **0.0884**, which is greater than **0.05**. This means the result is **not statistically significant**. \n",
    "\n",
    "Therefore, we **fail to reject the null hypothesis**."
   ]
  },
  {
   "cell_type": "markdown",
   "id": "fdbc4ae2",
   "metadata": {},
   "source": [
    "This relationship is also shown in the bar plot below."
   ]
  },
  {
   "cell_type": "code",
   "execution_count": 26,
   "id": "c1e37a16",
   "metadata": {},
   "outputs": [
    {
     "data": {
      "image/png": "[encoded data removed]",
      "text/plain": [
       "<Figure size 800x600 with 1 Axes>"
      ]
     },
     "metadata": {},
     "output_type": "display_data"
    }
   ],
   "source": [
    "plt.figure(figsize = (8, 6))\n",
    "sns.barplot(\n",
    "    data = filtered_df,\n",
    "    x = 'Loyalty Card',\n",
    "    y = 'Quantity',\n",
    "    hue = 'Loyalty Card',   \n",
    "    palette = 'Set2',\n",
    "    legend = False          \n",
    ")\n",
    "plt.title(\"Average Quantity Ordered by Loyalty Card Ownership\")\n",
    "plt.xlabel(\"Loyalty Card\")\n",
    "plt.ylabel(\"Mean Quantity Ordered\")\n",
    "plt.grid(True, axis = 'y', linestyle = '--', alpha = 0.4)\n",
    "plt.tight_layout()\n",
    "plt.show()"
   ]
  },
  {
   "cell_type": "markdown",
   "id": "60d659a1",
   "metadata": {},
   "source": [
    "**Figure n.**\n",
    "\n",
    "The bar plot displays the average quantity of coffee beans ordered by customers, grouped by loyalty card ownership. Each bar represents the mean quantity ordered for each group.\n",
    "\n",
    "As shown above, loyalty card owners do not appear to order larger quantities than non-owners. It supports the one-tailed t-test result, which found no significant evidence to support the claim that loyalty card owners order in greater quantities (t = -1.3518, one-tailed p = 0.0884)."
   ]
  },
  {
   "cell_type": "markdown",
   "id": "48f8b444",
   "metadata": {},
   "source": [
    "📌 **Conclusion**: There is insufficient evidence to conclude that loyalty card owners order in larger quantities of coffee beans compared to non-owners."
   ]
  },
  {
   "cell_type": "markdown",
   "id": "064fd948",
   "metadata": {},
   "source": [
    "// T TEST\n",
    "\n",
    "// DOT PLOT\n",
    "\n",
    "// Do loyalty card owners order in bigger quantities of coffee beans compared to non-owners?"
   ]
  },
  {
   "cell_type": "markdown",
   "id": "648df10e",
   "metadata": {},
   "source": [
    "// INSERT TRANSITIONAL STATEMENT HERE\n",
    "\n",
    "#### _`\"Do the coffee products with higher unit prices generate more profit?\"`_ ☕💰✨"
   ]
  },
  {
   "cell_type": "markdown",
   "id": "14a6c5eb",
   "metadata": {},
   "source": [
    "// PEARSON CORRELATION\n",
    "\n",
    "// Which product types are priced higher but have negative or low profits? \n",
    "\n",
    "// Do sales volumes influence total profit for higher-priced products?"
   ]
  },
  {
   "cell_type": "markdown",
   "id": "ff6007c8",
   "metadata": {},
   "source": [
    "# Conclusion ✅\n",
    "\n",
    "// INSERT CONCLUSION HERE"
   ]
  }
 ],
 "metadata": {
  "kernelspec": {
   "display_name": ".venv",
   "language": "python",
   "name": "python3"
  },
  "language_info": {
   "codemirror_mode": {
    "name": "ipython",
    "version": 3
   },
   "file_extension": ".py",
   "mimetype": "text/x-python",
   "name": "python",
   "nbconvert_exporter": "python",
   "pygments_lexer": "ipython3",
   "version": "3.13.5"
  }
 },
 "nbformat": 4,
 "nbformat_minor": 5
}
