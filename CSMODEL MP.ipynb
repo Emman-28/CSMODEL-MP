{
 "cells": [
  {
   "cell_type": "markdown",
   "id": "de097fbe",
   "metadata": {},
   "source": [
    "# CSMODEL Machine Project (Phase 1) ☕✨\n",
    "This Jupyter Notebook was made in compliance with the requirements set by the course Statistical Modelling and Simulation (CSMODEL). \n",
    "\n",
    "This machine project was prepared by the following students from section S16:\n",
    "- Filipino, Eunice Marble R.\n",
    "- Lazaro, Heisel Janine C.\n",
    "- Punsalan, Emmanuel Gerald G.\n",
    "- Wee, Justine Erika D.\n"
   ]
  },
  {
   "cell_type": "markdown",
   "id": "7bb6eb79",
   "metadata": {},
   "source": [
    "# Import Libraries ⬇️\n",
    "\n",
    "The following libraries are imported to provide essential functionalities for data processing, analysis, and visualization throughout this project:"
   ]
  },
  {
   "cell_type": "code",
   "execution_count": 19,
   "id": "f500af11",
   "metadata": {},
   "outputs": [
    {
     "name": "stdout",
     "output_type": "stream",
     "text": [
      "Requirement already satisfied: openpyxl in c:\\users\\punsa\\appdata\\local\\programs\\python\\python312\\lib\\site-packages (3.1.5)\n",
      "Requirement already satisfied: et-xmlfile in c:\\users\\punsa\\appdata\\local\\programs\\python\\python312\\lib\\site-packages (from openpyxl) (2.0.0)\n",
      "Note: you may need to restart the kernel to use updated packages.\n"
     ]
    }
   ],
   "source": [
    "%pip install openpyxl\n",
    "\n",
    "import numpy as np\n",
    "import pandas as pd\n",
    "import matplotlib.pyplot as plt"
   ]
  },
  {
   "cell_type": "markdown",
   "id": "e697f317",
   "metadata": {},
   "source": [
    "# Data Description ℹ️✨\n",
    "The [Coffee Bean Sales Dataset](https://www.kaggle.com/datasets/saadharoon27/coffee-bean-sales-raw-dataset/data) provides comprehensive insights into the coffee industry. It contains detailed information on coffee orders, customer profiles and product details. The dataset is divided into three worksheets, providing specific information about orders, customers and products. The orders worksheet reflects the coffee transactions made by customers. The customers worksheet contains specific details on the customers. Lastly, the products worksheet details each coffee product."
   ]
  },
  {
   "cell_type": "markdown",
   "id": "ddbf49a7",
   "metadata": {},
   "source": [
    "### How the data was collected\n",
    "\n",
    "The dataset was acquired from [Kaggle](https://www.kaggle.com) which houses datasets that may be from open sources, web scraping, or simulations. It is not outwardly stated how the coffee bean sales dataset was gathered, but it can be assumed that it was artificially generated for educational purposes due to the lack of details and metadata surrounding the orders."
   ]
  },
  {
   "cell_type": "markdown",
   "id": "8f7a6890",
   "metadata": {},
   "source": [
    "### Potential Implications\n",
    "\n",
    "As the data was collected through unknown sources, there are potential implications on how information was recorded. The lack of standardization across dataset fields may lead to discrepancies, inconsistencies, or misleading conclusions during data analysis. Additionally, the lack of metadata challenges to determine the scope of the dataset—increasing the risk of sampling bias. It also imposes constraints in preprocessing since the dataset was provided in a pre-cleaned format; hence, further restricting the accuracy and relevance of the insights that will be generated."
   ]
  },
  {
   "cell_type": "markdown",
   "id": "1981d246",
   "metadata": {},
   "source": [
    "### Dataset Overview (Structure and Attributes)\n",
    "\n",
    "The dataset is divided into three worksheets, which are the following:\n",
    "\n",
    "**Orders:** Consists of **1,000 observations** and **9 variables**, where each observation represents an order. The attributes of which include:\n",
    "\n",
    "| **Attribute** | **Description**                              |\n",
    "|---------------|----------------------------------------------|\n",
    "| **Order ID**  | A unique identifier for each order           |\n",
    "| **Order Date**| The date the order was placed                |\n",
    "| **Customer ID** | A reference to the customer who placed the order |\n",
    "| **Product ID** | A reference to the product ordered          |\n",
    "| **Quantity**  | The number of units ordered                  |\n",
    "\n",
    "**Customers:** Consists of **1,000 observations** and **9 variables**, where each observation represents a distinct customer. The attributes of which include:\n",
    "\n",
    "| **Attribute**     | **Description**                        |\n",
    "|-------------------|----------------------------------------|\n",
    "| **Customer ID**   | A unique identifier for each customer  |\n",
    "| **Customer Name** | The full name of the customer          |\n",
    "| **Email Address** | Contact email of the customer          |\n",
    "| **Phone Number**  | Customer’s phone contact               |\n",
    "| **Address Line 1**  | Primary street address of the customer |\n",
    "| **City**            | City of the customer’s address         |\n",
    "| **Country**         | Country of residence                   |\n",
    "| **Postcode**        | Postal/ZIP code of the customer’s address |\n",
    "| **Loyalty Card**    | Indicates whether the customer has a loyalty card (Yes/No) |\n",
    "\n",
    "**Products:** Consists of **48 observations** and **7 variables**, where each observation represents a unique coffee product. The attributes of which include:\n",
    "\n",
    "| **Attribute**     | **Description**                                     |\n",
    "|-------------------|--------------------------------------------------- |\n",
    "| **Product ID**    | A unique identifier for each product                |\n",
    "| **Coffee Type**   | The blend or type of coffee (e.g., Arabica, Robusta)|\n",
    "| **Roast Type**    | The level of roast (e.g., light, medium, dark)      |\n",
    "| **Size**          | Packaging size of the product                      |\n",
    "| **Unit Price**    | Retail price per unit                              |\n",
    "| **Price per 100g**| Standardized pricing for comparison                |\n",
    "| **Profit**        | Profitability of each product                      |"
   ]
  },
  {
   "cell_type": "markdown",
   "id": "95fc7aa1",
   "metadata": {},
   "source": [
    "# Reading the Dataset 📝\n",
    "\n",
    "With all that in mind, let's load in the dataset!"
   ]
  },
  {
   "cell_type": "code",
   "execution_count": 20,
   "id": "eef40947",
   "metadata": {},
   "outputs": [],
   "source": [
    "# Reading the Excel file\n",
    "file_path = 'Coffee Bean Dataset.xlsx'\n",
    "\n",
    "# Loading each worksheet into a separate DataFrame\n",
    "orders = pd.read_excel(file_path, sheet_name = 'orders')\n",
    "customers = pd.read_excel(file_path, sheet_name = 'customers')\n",
    "products = pd.read_excel(file_path, sheet_name = 'products')"
   ]
  },
  {
   "cell_type": "markdown",
   "id": "a60be8cd",
   "metadata": {},
   "source": [
    "We should take a peek into the three worksheets to confirm our loading worked..."
   ]
  },
  {
   "cell_type": "code",
   "execution_count": 21,
   "id": "caaaaf6f",
   "metadata": {},
   "outputs": [
    {
     "data": {
      "text/html": [
       "<div>\n",
       "<style scoped>\n",
       "    .dataframe tbody tr th:only-of-type {\n",
       "        vertical-align: middle;\n",
       "    }\n",
       "\n",
       "    .dataframe tbody tr th {\n",
       "        vertical-align: top;\n",
       "    }\n",
       "\n",
       "    .dataframe thead th {\n",
       "        text-align: right;\n",
       "    }\n",
       "</style>\n",
       "<table border=\"1\" class=\"dataframe\">\n",
       "  <thead>\n",
       "    <tr style=\"text-align: right;\">\n",
       "      <th></th>\n",
       "      <th>Order ID</th>\n",
       "      <th>Order Date</th>\n",
       "      <th>Customer ID</th>\n",
       "      <th>Product ID</th>\n",
       "      <th>Quantity</th>\n",
       "      <th>Customer Name</th>\n",
       "      <th>Email</th>\n",
       "      <th>Country</th>\n",
       "      <th>Coffee Type</th>\n",
       "      <th>Roast Type</th>\n",
       "      <th>Size</th>\n",
       "      <th>Unit Price</th>\n",
       "      <th>Sales</th>\n",
       "    </tr>\n",
       "  </thead>\n",
       "  <tbody>\n",
       "    <tr>\n",
       "      <th>0</th>\n",
       "      <td>QEV-37451-860</td>\n",
       "      <td>2019-09-05</td>\n",
       "      <td>17670-51384-MA</td>\n",
       "      <td>R-M-1</td>\n",
       "      <td>2</td>\n",
       "      <td>NaN</td>\n",
       "      <td>NaN</td>\n",
       "      <td>NaN</td>\n",
       "      <td>NaN</td>\n",
       "      <td>NaN</td>\n",
       "      <td>NaN</td>\n",
       "      <td>NaN</td>\n",
       "      <td>NaN</td>\n",
       "    </tr>\n",
       "    <tr>\n",
       "      <th>1</th>\n",
       "      <td>QEV-37451-860</td>\n",
       "      <td>2019-09-05</td>\n",
       "      <td>17670-51384-MA</td>\n",
       "      <td>E-M-0.5</td>\n",
       "      <td>5</td>\n",
       "      <td>NaN</td>\n",
       "      <td>NaN</td>\n",
       "      <td>NaN</td>\n",
       "      <td>NaN</td>\n",
       "      <td>NaN</td>\n",
       "      <td>NaN</td>\n",
       "      <td>NaN</td>\n",
       "      <td>NaN</td>\n",
       "    </tr>\n",
       "    <tr>\n",
       "      <th>2</th>\n",
       "      <td>FAA-43335-268</td>\n",
       "      <td>2021-06-17</td>\n",
       "      <td>21125-22134-PX</td>\n",
       "      <td>A-L-1</td>\n",
       "      <td>1</td>\n",
       "      <td>NaN</td>\n",
       "      <td>NaN</td>\n",
       "      <td>NaN</td>\n",
       "      <td>NaN</td>\n",
       "      <td>NaN</td>\n",
       "      <td>NaN</td>\n",
       "      <td>NaN</td>\n",
       "      <td>NaN</td>\n",
       "    </tr>\n",
       "    <tr>\n",
       "      <th>3</th>\n",
       "      <td>KAC-83089-793</td>\n",
       "      <td>2021-07-15</td>\n",
       "      <td>23806-46781-OU</td>\n",
       "      <td>E-M-1</td>\n",
       "      <td>2</td>\n",
       "      <td>NaN</td>\n",
       "      <td>NaN</td>\n",
       "      <td>NaN</td>\n",
       "      <td>NaN</td>\n",
       "      <td>NaN</td>\n",
       "      <td>NaN</td>\n",
       "      <td>NaN</td>\n",
       "      <td>NaN</td>\n",
       "    </tr>\n",
       "    <tr>\n",
       "      <th>4</th>\n",
       "      <td>KAC-83089-793</td>\n",
       "      <td>2021-07-15</td>\n",
       "      <td>23806-46781-OU</td>\n",
       "      <td>R-L-2.5</td>\n",
       "      <td>2</td>\n",
       "      <td>NaN</td>\n",
       "      <td>NaN</td>\n",
       "      <td>NaN</td>\n",
       "      <td>NaN</td>\n",
       "      <td>NaN</td>\n",
       "      <td>NaN</td>\n",
       "      <td>NaN</td>\n",
       "      <td>NaN</td>\n",
       "    </tr>\n",
       "  </tbody>\n",
       "</table>\n",
       "</div>"
      ],
      "text/plain": [
       "        Order ID Order Date     Customer ID Product ID  Quantity  \\\n",
       "0  QEV-37451-860 2019-09-05  17670-51384-MA      R-M-1         2   \n",
       "1  QEV-37451-860 2019-09-05  17670-51384-MA    E-M-0.5         5   \n",
       "2  FAA-43335-268 2021-06-17  21125-22134-PX      A-L-1         1   \n",
       "3  KAC-83089-793 2021-07-15  23806-46781-OU      E-M-1         2   \n",
       "4  KAC-83089-793 2021-07-15  23806-46781-OU    R-L-2.5         2   \n",
       "\n",
       "   Customer Name  Email  Country  Coffee Type  Roast Type  Size  Unit Price  \\\n",
       "0            NaN    NaN      NaN          NaN         NaN   NaN         NaN   \n",
       "1            NaN    NaN      NaN          NaN         NaN   NaN         NaN   \n",
       "2            NaN    NaN      NaN          NaN         NaN   NaN         NaN   \n",
       "3            NaN    NaN      NaN          NaN         NaN   NaN         NaN   \n",
       "4            NaN    NaN      NaN          NaN         NaN   NaN         NaN   \n",
       "\n",
       "   Sales  \n",
       "0    NaN  \n",
       "1    NaN  \n",
       "2    NaN  \n",
       "3    NaN  \n",
       "4    NaN  "
      ]
     },
     "execution_count": 21,
     "metadata": {},
     "output_type": "execute_result"
    }
   ],
   "source": [
    "orders.head()"
   ]
  },
  {
   "cell_type": "code",
   "execution_count": 22,
   "id": "60b247b9",
   "metadata": {},
   "outputs": [
    {
     "data": {
      "text/html": [
       "<div>\n",
       "<style scoped>\n",
       "    .dataframe tbody tr th:only-of-type {\n",
       "        vertical-align: middle;\n",
       "    }\n",
       "\n",
       "    .dataframe tbody tr th {\n",
       "        vertical-align: top;\n",
       "    }\n",
       "\n",
       "    .dataframe thead th {\n",
       "        text-align: right;\n",
       "    }\n",
       "</style>\n",
       "<table border=\"1\" class=\"dataframe\">\n",
       "  <thead>\n",
       "    <tr style=\"text-align: right;\">\n",
       "      <th></th>\n",
       "      <th>Customer ID</th>\n",
       "      <th>Customer Name</th>\n",
       "      <th>Email</th>\n",
       "      <th>Phone Number</th>\n",
       "      <th>Address Line 1</th>\n",
       "      <th>City</th>\n",
       "      <th>Country</th>\n",
       "      <th>Postcode</th>\n",
       "      <th>Loyalty Card</th>\n",
       "    </tr>\n",
       "  </thead>\n",
       "  <tbody>\n",
       "    <tr>\n",
       "      <th>0</th>\n",
       "      <td>17670-51384-MA</td>\n",
       "      <td>Aloisia Allner</td>\n",
       "      <td>aallner0@lulu.com</td>\n",
       "      <td>+1 (862) 817-0124</td>\n",
       "      <td>57999 Pepper Wood Alley</td>\n",
       "      <td>Paterson</td>\n",
       "      <td>United States</td>\n",
       "      <td>7505</td>\n",
       "      <td>Yes</td>\n",
       "    </tr>\n",
       "    <tr>\n",
       "      <th>1</th>\n",
       "      <td>73342-18763-UW</td>\n",
       "      <td>Piotr Bote</td>\n",
       "      <td>pbote1@yelp.com</td>\n",
       "      <td>+353 (913) 396-4653</td>\n",
       "      <td>2112 Ridgeway Hill</td>\n",
       "      <td>Crumlin</td>\n",
       "      <td>Ireland</td>\n",
       "      <td>D6W</td>\n",
       "      <td>No</td>\n",
       "    </tr>\n",
       "    <tr>\n",
       "      <th>2</th>\n",
       "      <td>21125-22134-PX</td>\n",
       "      <td>Jami Redholes</td>\n",
       "      <td>jredholes2@tmall.com</td>\n",
       "      <td>+1 (210) 986-6806</td>\n",
       "      <td>5214 Bartillon Park</td>\n",
       "      <td>San Antonio</td>\n",
       "      <td>United States</td>\n",
       "      <td>78205</td>\n",
       "      <td>Yes</td>\n",
       "    </tr>\n",
       "    <tr>\n",
       "      <th>3</th>\n",
       "      <td>71253-00052-RN</td>\n",
       "      <td>Dene Azema</td>\n",
       "      <td>dazema3@facebook.com</td>\n",
       "      <td>+1 (217) 418-0714</td>\n",
       "      <td>27 Maywood Place</td>\n",
       "      <td>Springfield</td>\n",
       "      <td>United States</td>\n",
       "      <td>62711</td>\n",
       "      <td>Yes</td>\n",
       "    </tr>\n",
       "    <tr>\n",
       "      <th>4</th>\n",
       "      <td>23806-46781-OU</td>\n",
       "      <td>Christoffer O' Shea</td>\n",
       "      <td>NaN</td>\n",
       "      <td>+353 (698) 362-9201</td>\n",
       "      <td>38980 Manitowish Junction</td>\n",
       "      <td>Cill Airne</td>\n",
       "      <td>Ireland</td>\n",
       "      <td>N41</td>\n",
       "      <td>No</td>\n",
       "    </tr>\n",
       "  </tbody>\n",
       "</table>\n",
       "</div>"
      ],
      "text/plain": [
       "      Customer ID        Customer Name                 Email  \\\n",
       "0  17670-51384-MA       Aloisia Allner     aallner0@lulu.com   \n",
       "1  73342-18763-UW           Piotr Bote       pbote1@yelp.com   \n",
       "2  21125-22134-PX        Jami Redholes  jredholes2@tmall.com   \n",
       "3  71253-00052-RN           Dene Azema  dazema3@facebook.com   \n",
       "4  23806-46781-OU  Christoffer O' Shea                   NaN   \n",
       "\n",
       "          Phone Number             Address Line 1         City        Country  \\\n",
       "0    +1 (862) 817-0124    57999 Pepper Wood Alley     Paterson  United States   \n",
       "1  +353 (913) 396-4653         2112 Ridgeway Hill      Crumlin        Ireland   \n",
       "2    +1 (210) 986-6806        5214 Bartillon Park  San Antonio  United States   \n",
       "3    +1 (217) 418-0714           27 Maywood Place  Springfield  United States   \n",
       "4  +353 (698) 362-9201  38980 Manitowish Junction   Cill Airne        Ireland   \n",
       "\n",
       "  Postcode Loyalty Card  \n",
       "0     7505          Yes  \n",
       "1      D6W           No  \n",
       "2    78205          Yes  \n",
       "3    62711          Yes  \n",
       "4      N41           No  "
      ]
     },
     "execution_count": 22,
     "metadata": {},
     "output_type": "execute_result"
    }
   ],
   "source": [
    "customers.head()"
   ]
  },
  {
   "cell_type": "code",
   "execution_count": 23,
   "id": "dbb36ed8",
   "metadata": {},
   "outputs": [
    {
     "data": {
      "text/html": [
       "<div>\n",
       "<style scoped>\n",
       "    .dataframe tbody tr th:only-of-type {\n",
       "        vertical-align: middle;\n",
       "    }\n",
       "\n",
       "    .dataframe tbody tr th {\n",
       "        vertical-align: top;\n",
       "    }\n",
       "\n",
       "    .dataframe thead th {\n",
       "        text-align: right;\n",
       "    }\n",
       "</style>\n",
       "<table border=\"1\" class=\"dataframe\">\n",
       "  <thead>\n",
       "    <tr style=\"text-align: right;\">\n",
       "      <th></th>\n",
       "      <th>Product ID</th>\n",
       "      <th>Coffee Type</th>\n",
       "      <th>Roast Type</th>\n",
       "      <th>Size</th>\n",
       "      <th>Unit Price</th>\n",
       "      <th>Price per 100g</th>\n",
       "      <th>Profit</th>\n",
       "    </tr>\n",
       "  </thead>\n",
       "  <tbody>\n",
       "    <tr>\n",
       "      <th>0</th>\n",
       "      <td>A-L-0.2</td>\n",
       "      <td>Ara</td>\n",
       "      <td>L</td>\n",
       "      <td>0.2</td>\n",
       "      <td>3.885</td>\n",
       "      <td>1.9425</td>\n",
       "      <td>0.34965</td>\n",
       "    </tr>\n",
       "    <tr>\n",
       "      <th>1</th>\n",
       "      <td>A-L-0.5</td>\n",
       "      <td>Ara</td>\n",
       "      <td>L</td>\n",
       "      <td>0.5</td>\n",
       "      <td>7.770</td>\n",
       "      <td>1.5540</td>\n",
       "      <td>0.69930</td>\n",
       "    </tr>\n",
       "    <tr>\n",
       "      <th>2</th>\n",
       "      <td>A-L-1</td>\n",
       "      <td>Ara</td>\n",
       "      <td>L</td>\n",
       "      <td>1.0</td>\n",
       "      <td>12.950</td>\n",
       "      <td>1.2950</td>\n",
       "      <td>1.16550</td>\n",
       "    </tr>\n",
       "    <tr>\n",
       "      <th>3</th>\n",
       "      <td>A-L-2.5</td>\n",
       "      <td>Ara</td>\n",
       "      <td>L</td>\n",
       "      <td>2.5</td>\n",
       "      <td>29.785</td>\n",
       "      <td>1.1914</td>\n",
       "      <td>2.68065</td>\n",
       "    </tr>\n",
       "    <tr>\n",
       "      <th>4</th>\n",
       "      <td>A-M-0.2</td>\n",
       "      <td>Ara</td>\n",
       "      <td>M</td>\n",
       "      <td>0.2</td>\n",
       "      <td>3.375</td>\n",
       "      <td>1.6875</td>\n",
       "      <td>0.30375</td>\n",
       "    </tr>\n",
       "  </tbody>\n",
       "</table>\n",
       "</div>"
      ],
      "text/plain": [
       "  Product ID Coffee Type Roast Type  Size  Unit Price  Price per 100g   Profit\n",
       "0    A-L-0.2         Ara          L   0.2       3.885          1.9425  0.34965\n",
       "1    A-L-0.5         Ara          L   0.5       7.770          1.5540  0.69930\n",
       "2      A-L-1         Ara          L   1.0      12.950          1.2950  1.16550\n",
       "3    A-L-2.5         Ara          L   2.5      29.785          1.1914  2.68065\n",
       "4    A-M-0.2         Ara          M   0.2       3.375          1.6875  0.30375"
      ]
     },
     "execution_count": 23,
     "metadata": {},
     "output_type": "execute_result"
    }
   ],
   "source": [
    "products.head()"
   ]
  },
  {
   "cell_type": "markdown",
   "id": "e09a449d",
   "metadata": {},
   "source": [
    "Eureka! The Coffee Bean Dataset has loaded into our Notebook."
   ]
  },
  {
   "cell_type": "markdown",
   "id": "164d3aa6",
   "metadata": {},
   "source": [
    "But each worksheet only gives us partial information about the data... So, let's join the worksheets together to gain more insights!"
   ]
  },
  {
   "cell_type": "code",
   "execution_count": null,
   "id": "1cdd17b8",
   "metadata": {},
   "outputs": [],
   "source": [
    "# Merging Orders with Customers on 'Customer ID'\n",
    "orders_customers = pd.merge(orders, customers, on = 'Customer ID', how = 'left')\n",
    "\n",
    "# Merging the result with Products on 'Product ID'\n",
    "coffee_df = pd.merge(orders_customers, products, on = 'Product ID', how = 'left')"
   ]
  },
  {
   "cell_type": "markdown",
   "id": "b3e6dc56",
   "metadata": {},
   "source": [
    "Let's take another peek but now into the merged dataset."
   ]
  },
  {
   "cell_type": "code",
   "execution_count": 27,
   "id": "3bfae213",
   "metadata": {},
   "outputs": [
    {
     "data": {
      "text/html": [
       "<div>\n",
       "<style scoped>\n",
       "    .dataframe tbody tr th:only-of-type {\n",
       "        vertical-align: middle;\n",
       "    }\n",
       "\n",
       "    .dataframe tbody tr th {\n",
       "        vertical-align: top;\n",
       "    }\n",
       "\n",
       "    .dataframe thead th {\n",
       "        text-align: right;\n",
       "    }\n",
       "</style>\n",
       "<table border=\"1\" class=\"dataframe\">\n",
       "  <thead>\n",
       "    <tr style=\"text-align: right;\">\n",
       "      <th></th>\n",
       "      <th>Order ID</th>\n",
       "      <th>Order Date</th>\n",
       "      <th>Customer ID</th>\n",
       "      <th>Product ID</th>\n",
       "      <th>Quantity</th>\n",
       "      <th>Customer Name_x</th>\n",
       "      <th>Email_x</th>\n",
       "      <th>Country_x</th>\n",
       "      <th>Coffee Type_x</th>\n",
       "      <th>Roast Type_x</th>\n",
       "      <th>...</th>\n",
       "      <th>City</th>\n",
       "      <th>Country_y</th>\n",
       "      <th>Postcode</th>\n",
       "      <th>Loyalty Card</th>\n",
       "      <th>Coffee Type_y</th>\n",
       "      <th>Roast Type_y</th>\n",
       "      <th>Size_y</th>\n",
       "      <th>Unit Price_y</th>\n",
       "      <th>Price per 100g</th>\n",
       "      <th>Profit</th>\n",
       "    </tr>\n",
       "  </thead>\n",
       "  <tbody>\n",
       "    <tr>\n",
       "      <th>0</th>\n",
       "      <td>QEV-37451-860</td>\n",
       "      <td>2019-09-05</td>\n",
       "      <td>17670-51384-MA</td>\n",
       "      <td>R-M-1</td>\n",
       "      <td>2</td>\n",
       "      <td>NaN</td>\n",
       "      <td>NaN</td>\n",
       "      <td>NaN</td>\n",
       "      <td>NaN</td>\n",
       "      <td>NaN</td>\n",
       "      <td>...</td>\n",
       "      <td>Paterson</td>\n",
       "      <td>United States</td>\n",
       "      <td>7505</td>\n",
       "      <td>Yes</td>\n",
       "      <td>Rob</td>\n",
       "      <td>M</td>\n",
       "      <td>1.0</td>\n",
       "      <td>9.950</td>\n",
       "      <td>0.9950</td>\n",
       "      <td>0.5970</td>\n",
       "    </tr>\n",
       "    <tr>\n",
       "      <th>1</th>\n",
       "      <td>QEV-37451-860</td>\n",
       "      <td>2019-09-05</td>\n",
       "      <td>17670-51384-MA</td>\n",
       "      <td>E-M-0.5</td>\n",
       "      <td>5</td>\n",
       "      <td>NaN</td>\n",
       "      <td>NaN</td>\n",
       "      <td>NaN</td>\n",
       "      <td>NaN</td>\n",
       "      <td>NaN</td>\n",
       "      <td>...</td>\n",
       "      <td>Paterson</td>\n",
       "      <td>United States</td>\n",
       "      <td>7505</td>\n",
       "      <td>Yes</td>\n",
       "      <td>Exc</td>\n",
       "      <td>M</td>\n",
       "      <td>0.5</td>\n",
       "      <td>8.250</td>\n",
       "      <td>1.6500</td>\n",
       "      <td>0.9075</td>\n",
       "    </tr>\n",
       "    <tr>\n",
       "      <th>2</th>\n",
       "      <td>FAA-43335-268</td>\n",
       "      <td>2021-06-17</td>\n",
       "      <td>21125-22134-PX</td>\n",
       "      <td>A-L-1</td>\n",
       "      <td>1</td>\n",
       "      <td>NaN</td>\n",
       "      <td>NaN</td>\n",
       "      <td>NaN</td>\n",
       "      <td>NaN</td>\n",
       "      <td>NaN</td>\n",
       "      <td>...</td>\n",
       "      <td>San Antonio</td>\n",
       "      <td>United States</td>\n",
       "      <td>78205</td>\n",
       "      <td>Yes</td>\n",
       "      <td>Ara</td>\n",
       "      <td>L</td>\n",
       "      <td>1.0</td>\n",
       "      <td>12.950</td>\n",
       "      <td>1.2950</td>\n",
       "      <td>1.1655</td>\n",
       "    </tr>\n",
       "    <tr>\n",
       "      <th>3</th>\n",
       "      <td>KAC-83089-793</td>\n",
       "      <td>2021-07-15</td>\n",
       "      <td>23806-46781-OU</td>\n",
       "      <td>E-M-1</td>\n",
       "      <td>2</td>\n",
       "      <td>NaN</td>\n",
       "      <td>NaN</td>\n",
       "      <td>NaN</td>\n",
       "      <td>NaN</td>\n",
       "      <td>NaN</td>\n",
       "      <td>...</td>\n",
       "      <td>Cill Airne</td>\n",
       "      <td>Ireland</td>\n",
       "      <td>N41</td>\n",
       "      <td>No</td>\n",
       "      <td>Exc</td>\n",
       "      <td>M</td>\n",
       "      <td>1.0</td>\n",
       "      <td>13.750</td>\n",
       "      <td>1.3750</td>\n",
       "      <td>1.5125</td>\n",
       "    </tr>\n",
       "    <tr>\n",
       "      <th>4</th>\n",
       "      <td>KAC-83089-793</td>\n",
       "      <td>2021-07-15</td>\n",
       "      <td>23806-46781-OU</td>\n",
       "      <td>R-L-2.5</td>\n",
       "      <td>2</td>\n",
       "      <td>NaN</td>\n",
       "      <td>NaN</td>\n",
       "      <td>NaN</td>\n",
       "      <td>NaN</td>\n",
       "      <td>NaN</td>\n",
       "      <td>...</td>\n",
       "      <td>Cill Airne</td>\n",
       "      <td>Ireland</td>\n",
       "      <td>N41</td>\n",
       "      <td>No</td>\n",
       "      <td>Rob</td>\n",
       "      <td>L</td>\n",
       "      <td>2.5</td>\n",
       "      <td>27.485</td>\n",
       "      <td>1.0994</td>\n",
       "      <td>1.6491</td>\n",
       "    </tr>\n",
       "  </tbody>\n",
       "</table>\n",
       "<p>5 rows × 27 columns</p>\n",
       "</div>"
      ],
      "text/plain": [
       "        Order ID Order Date     Customer ID Product ID  Quantity  \\\n",
       "0  QEV-37451-860 2019-09-05  17670-51384-MA      R-M-1         2   \n",
       "1  QEV-37451-860 2019-09-05  17670-51384-MA    E-M-0.5         5   \n",
       "2  FAA-43335-268 2021-06-17  21125-22134-PX      A-L-1         1   \n",
       "3  KAC-83089-793 2021-07-15  23806-46781-OU      E-M-1         2   \n",
       "4  KAC-83089-793 2021-07-15  23806-46781-OU    R-L-2.5         2   \n",
       "\n",
       "   Customer Name_x  Email_x  Country_x  Coffee Type_x  Roast Type_x  ...  \\\n",
       "0              NaN      NaN        NaN            NaN           NaN  ...   \n",
       "1              NaN      NaN        NaN            NaN           NaN  ...   \n",
       "2              NaN      NaN        NaN            NaN           NaN  ...   \n",
       "3              NaN      NaN        NaN            NaN           NaN  ...   \n",
       "4              NaN      NaN        NaN            NaN           NaN  ...   \n",
       "\n",
       "          City      Country_y  Postcode Loyalty Card Coffee Type_y  \\\n",
       "0     Paterson  United States      7505          Yes           Rob   \n",
       "1     Paterson  United States      7505          Yes           Exc   \n",
       "2  San Antonio  United States     78205          Yes           Ara   \n",
       "3   Cill Airne        Ireland       N41           No           Exc   \n",
       "4   Cill Airne        Ireland       N41           No           Rob   \n",
       "\n",
       "  Roast Type_y Size_y Unit Price_y Price per 100g  Profit  \n",
       "0            M    1.0        9.950         0.9950  0.5970  \n",
       "1            M    0.5        8.250         1.6500  0.9075  \n",
       "2            L    1.0       12.950         1.2950  1.1655  \n",
       "3            M    1.0       13.750         1.3750  1.5125  \n",
       "4            L    2.5       27.485         1.0994  1.6491  \n",
       "\n",
       "[5 rows x 27 columns]"
      ]
     },
     "execution_count": 27,
     "metadata": {},
     "output_type": "execute_result"
    }
   ],
   "source": [
    "full_data.head()"
   ]
  },
  {
   "cell_type": "markdown",
   "id": "f33faddc",
   "metadata": {},
   "source": [
    "We're all set! We can now proceed to cleaning the dataset."
   ]
  },
  {
   "cell_type": "markdown",
   "id": "0bec60b5",
   "metadata": {},
   "source": [
    "# Data Cleaning 🧹✨ \n",
    "\n",
    "Before performing analysis, it is essential to clean the dataset so we ensure accuracy and reliability of results. We'll be handling variables and values with **multiple representations**, **incorrect datatypes**, **missing data**, **duplicate data**, **inconsistent formatting**, and **outliers**."
   ]
  },
  {
   "cell_type": "markdown",
   "id": "d6b7e0e3",
   "metadata": {},
   "source": [
    "### Multiple Representations"
   ]
  },
  {
   "cell_type": "code",
   "execution_count": null,
   "id": "29c301cf",
   "metadata": {},
   "outputs": [],
   "source": []
  },
  {
   "cell_type": "markdown",
   "id": "81705efa",
   "metadata": {},
   "source": [
    "### Incorrect Datatypes"
   ]
  },
  {
   "cell_type": "code",
   "execution_count": null,
   "id": "a8e2d908",
   "metadata": {},
   "outputs": [],
   "source": []
  },
  {
   "cell_type": "markdown",
   "id": "a7e84d2f",
   "metadata": {},
   "source": [
    "### Missing Data"
   ]
  },
  {
   "cell_type": "code",
   "execution_count": null,
   "id": "494d0c4d",
   "metadata": {},
   "outputs": [],
   "source": []
  },
  {
   "cell_type": "markdown",
   "id": "fee77ca7",
   "metadata": {},
   "source": [
    "### Duplicate Data"
   ]
  },
  {
   "cell_type": "code",
   "execution_count": null,
   "id": "6c032239",
   "metadata": {},
   "outputs": [],
   "source": []
  },
  {
   "cell_type": "markdown",
   "id": "350e6aa6",
   "metadata": {},
   "source": [
    "### Inconsistent Formatting"
   ]
  },
  {
   "cell_type": "code",
   "execution_count": null,
   "id": "0f0887ba",
   "metadata": {},
   "outputs": [],
   "source": []
  },
  {
   "cell_type": "markdown",
   "id": "6b63a340",
   "metadata": {},
   "source": [
    "### Outliers"
   ]
  },
  {
   "cell_type": "code",
   "execution_count": null,
   "id": "5db4efee",
   "metadata": {},
   "outputs": [],
   "source": []
  },
  {
   "cell_type": "markdown",
   "id": "e1b4b17e",
   "metadata": {},
   "source": [
    "Our dataset is now squeaky clean! We can now proceed with analysis!"
   ]
  },
  {
   "cell_type": "markdown",
   "id": "a2439fc6",
   "metadata": {},
   "source": [
    "# Target Research Question 🔬✨\n",
    "\n",
    "#### _`\"How can we optimize business strategies by understanding the factors that affect sales?\"`_\n",
    "\n",
    "In order to provide scope, purpose, and clarity, the above question will serve as the main foundation of data analysis upon the Coffee Bean Sale Dataset. It will guide in identifying patterns, relationships, and key insights that can inform business decision-making to hopefully draw insights on the coffee bean industry."
   ]
  },
  {
   "cell_type": "markdown",
   "id": "01fba408",
   "metadata": {},
   "source": [
    "# Exploratory Data Analysis 🔍✨\n",
    "\n",
    "Now that the dataset has been cleaned, we can start exploring it to better understand its structure, contents, and patterns."
   ]
  },
  {
   "cell_type": "markdown",
   "id": "46d42d84",
   "metadata": {},
   "source": [
    "People tend to prefer certain flavors of coffee depending on the season like how Pumpkin Spice Lattes take over Autumn. By knowing which coffee beans and roasts are most profitable, we can make smarter decisions about stocks and promotions. This begs the question...\n",
    "\n",
    "#### _`\"Which coffee bean and roast type is the most profitable per season?\"`_ ⛅📈✨"
   ]
  },
  {
   "cell_type": "markdown",
   "id": "9beee6c2",
   "metadata": {},
   "source": [
    "// VISUALIZATION\n",
    "\n",
    "// What is the total quantity sold for each bean and roast type per season? (*for popularity trend per season)\n",
    "\n",
    "// Which season (e.g., winter, spring, summer, fall) has the highest overall coffee sales profit?"
   ]
  },
  {
   "cell_type": "markdown",
   "id": "b3e6d572",
   "metadata": {},
   "source": [
    "// INSERT TRANSITIONAL STATEMENT HERE\n",
    "\n",
    "#### _`\"How does loyalty card ownership influence customer purchasing behavior?\"`_ 🧑💳✨"
   ]
  },
  {
   "cell_type": "markdown",
   "id": "064fd948",
   "metadata": {},
   "source": [
    "// T TEST\n",
    "\n",
    "// DOT PLOT\n",
    "\n",
    "// Do loyalty card owners order in bigger quantities of coffee beans compared to non-owners?"
   ]
  },
  {
   "cell_type": "markdown",
   "id": "648df10e",
   "metadata": {},
   "source": [
    "// INSERT TRANSITIONAL STATEMENT HERE\n",
    "\n",
    "#### _`\"Do the coffee products with higher unit prices generate more profit?\"`_ ☕💰✨"
   ]
  },
  {
   "cell_type": "markdown",
   "id": "14a6c5eb",
   "metadata": {},
   "source": [
    "// PEARSON CORRELATION\n",
    "\n",
    "// Which product types are priced higher but have negative or low profits? \n",
    "\n",
    "// Do sales volumes influence total profit for higher-priced products?"
   ]
  },
  {
   "cell_type": "markdown",
   "id": "ff6007c8",
   "metadata": {},
   "source": [
    "# Conclusion ✅\n",
    "\n",
    "// INSERT CONCLUSION HERE"
   ]
  }
 ],
 "metadata": {
  "kernelspec": {
   "display_name": "Python 3",
   "language": "python",
   "name": "python3"
  },
  "language_info": {
   "codemirror_mode": {
    "name": "ipython",
    "version": 3
   },
   "file_extension": ".py",
   "mimetype": "text/x-python",
   "name": "python",
   "nbconvert_exporter": "python",
   "pygments_lexer": "ipython3",
   "version": "3.12.6"
  }
 },
 "nbformat": 4,
 "nbformat_minor": 5
}
